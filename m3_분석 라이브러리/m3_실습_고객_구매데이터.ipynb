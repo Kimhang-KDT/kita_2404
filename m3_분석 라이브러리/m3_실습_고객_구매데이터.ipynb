{
  "nbformat": 4,
  "nbformat_minor": 0,
  "metadata": {
    "colab": {
      "provenance": []
    },
    "kernelspec": {
      "name": "python3",
      "display_name": "Python 3"
    },
    "language_info": {
      "name": "python"
    }
  },
  "cells": [
    {
      "cell_type": "markdown",
      "source": [
        "###  아래 가이드에 따라서 1000명의 고객 구매데이터를 생성하고 아래사항을 수행하세요(관측치 10000개)\n",
        "\n",
        "#### Q1. 고객 속성(id, 성별, 연령, 거주지역) 데이터와 거래 데이터를 통합한 데이터 프레임 df를 생성하세요."
      ],
      "metadata": {
        "id": "RKS7OxIf4Zu2"
      }
    },
    {
      "cell_type": "code",
      "execution_count": 3,
      "metadata": {
        "id": "0bu5m92x4Won"
      },
      "outputs": [],
      "source": [
        "import pandas as pd\n",
        "import numpy as np\n",
        "import random\n",
        "from datetime import datetime\n",
        "import time"
      ]
    },
    {
      "cell_type": "code",
      "source": [
        "# 고객 데이터프레임\n",
        "cusno = np.arange(1001,2001)\n",
        "gender = np.random.randint(0,2,size=1000)\n",
        "age = np.random.randint(10,81,size=1000)\n",
        "region = np.random.randint(1,11,size=1000)\n",
        "\n",
        "cus = pd.DataFrame({'cusno':cusno,'gender':gender,'age':age,'region':region})\n",
        "\n",
        "# 거래 데이터프레임\n",
        "trans_id = random.sample(list(range(10001,50000)), 10000)\n",
        "cusno = np.random.randint(1001,2001, size=10000)\n",
        "date = pd.date_range(start='2020-01-01', end='2021-12-31', periods=10000)\n",
        "day = date.day_name\n",
        "product_20 = np.random.choice([10,20,30], 10000) # 10:고가, 20:중가, 30:저가\n",
        "product_21 = np.random.choice([10,20,30], 10000)\n",
        "price_20 = np.random.uniform(1000,50000,10000)\n",
        "price_21 = np.random.uniform(1000,50000,10000)\n",
        "quantity_20 = np.random.randint(1,101, size=10000)\n",
        "quantity_21 = np.random.randint(1,101, size=10000)\n",
        "time_20 = np.random.randint(1,25, size=10000)\n",
        "time_21 = np.random.randint(1,25, size=10000)\n",
        "amount_20 = price_20 * quantity_21\n",
        "amount_21 = price_21 * quantity_21\n",
        "\n",
        "trans = pd.DataFrame({\n",
        "    'trans_id':trans_id, 'cusno':cusno, 'date':date, 'day':day(), 'product_20':product_20,\n",
        "    'product_21':product_21, 'price_20':price_20, 'price_21':price_21,\n",
        "    'quantity_20':quantity_20, 'quantity_21':quantity_21,\n",
        "    'time_20':time_20, 'time_21':time_21, 'amount_20':amount_20, 'amount_21':amount_21})\n",
        "\n",
        "# cus와 trans merge\n",
        "df = pd.merge(cus, trans, on='cusno', how='outer')"
      ],
      "metadata": {
        "id": "fDiGOYrJ6F3q"
      },
      "execution_count": 34,
      "outputs": []
    },
    {
      "cell_type": "markdown",
      "source": [
        "#### Q2. df를 수정하여 5가지 이상의 인사이트를 포함한 데이터 셋으로 변환하세요"
      ],
      "metadata": {
        "id": "y16zqKikHuDu"
      }
    },
    {
      "cell_type": "code",
      "source": [
        "# 인사이트 삽입\n",
        "# 무언가는 판매량이 늘었는데 무언가는 판매량이 줄었다.\n",
        "\n",
        "# pivot으로 판매성장률 등을 구할 수도 있다.\n",
        "# 상품별 변동률 산출 등\n"
      ],
      "metadata": {
        "id": "mAyAsUP-IEq-"
      },
      "execution_count": null,
      "outputs": []
    },
    {
      "cell_type": "markdown",
      "source": [
        "#### Q3. df 를 탐색적 분석을 통하여 인사이트를 도출하세요."
      ],
      "metadata": {
        "id": "7hG89-zoInbW"
      }
    }
  ]
}