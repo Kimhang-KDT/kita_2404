{
 "cells": [
  {
   "cell_type": "code",
   "execution_count": null,
   "metadata": {},
   "outputs": [],
   "source": []
  },
  {
   "cell_type": "markdown",
   "metadata": {},
   "source": [
    "## 웹 문서 구조 이해"
   ]
  },
  {
   "cell_type": "markdown",
   "metadata": {},
   "source": [
    "#### DOM (Document Object Model)\n",
    "\n",
    "- DOM은 HTML 문서의 구조를 트리 형태로 표현한 모델입니다. JavaScript와 같은 언어를 사용하여 DOM을 탐색하고 수정할 수 있습니다.\n",
    "- DOM 구조\n",
    "```\n",
    "<!DOCTYPE html>\n",
    "<html>\n",
    "<head>\n",
    "    <title>Example</title>\n",
    "</head>\n",
    "<body>\n",
    "    <h1>DOM Example</h1>\n",
    "    <p id=\"intro\">This is a simple DOM example.</p>\n",
    "</body>\n",
    "</html>\n",
    "```\n",
    "\n",
    "HTML 문서는 다음과 같은 DOM 트리로 표현\n",
    "```\n",
    "Document\n",
    "└── html\n",
    "    ├── head\n",
    "    │   ├── title\n",
    "    │   │   └── \"Example\"\n",
    "    └── body\n",
    "        ├── h1\n",
    "        │   └── \"DOM Example\"\n",
    "        └── p (id=\"intro\")\n",
    "            └── \"This is a simple DOM example.\"\n",
    "```"
   ]
  },
  {
   "cell_type": "markdown",
   "metadata": {},
   "source": [
    "#### HTML 태그\n",
    "\n",
    "```\n",
    "기본 구조 태그\n",
    "<!DOCTYPE html>: HTML 문서의 유형을 정의합니다. 최신 HTML5에서는 <!DOCTYPE html>을 사용합니다.\n",
    "<html>: HTML 문서의 루트 요소입니다. 모든 HTML 문서의 최상위 요소입니다.\n",
    "<head>: HTML 문서의 메타데이터를 포함합니다. 여기에는 문서 제목, 스타일 시트 링크, 스크립트 등이 포함됩니다.\n",
    "<title>: 웹 페이지의 제목을 정의합니다. 이 제목은 브라우저 탭에 표시됩니다.\n",
    "<meta>: 문서의 메타데이터를 정의합니다. 예를 들어, 문자 인코딩을 정의할 때 사용됩니다.\n",
    "<link>: 외부 리소스를 문서에 연결합니다. 주로 CSS 파일을 연결할 때 사용됩니다.\n",
    "<style>: 문서 내에 CSS 스타일을 정의합니다.\n",
    "<body>: 실제로 브라우저에 표시되는 콘텐츠를 포함합니다.\n",
    "```\n",
    "```\n",
    "콘텐츠 구조 태그\n",
    "<header>: 문서나 섹션의 헤더를 정의합니다.\n",
    "<nav>: 내비게이션 링크를 정의합니다.\n",
    "<section>: 문서의 섹션을 정의합니다.\n",
    "<article>: 독립적인 콘텐츠를 정의합니다.\n",
    "<aside>: 주요 콘텐츠 외의 추가적인 콘텐츠를 정의합니다.\n",
    "<footer>: 문서나 섹션의 푸터를 정의합니다.\n",
    "```\n",
    "```\n",
    "텍스트 관련 태그\n",
    "<h1> ~ <h6>: 제목을 정의합니다. <h1>은 가장 중요한 제목, <h6>은 가장 덜 중요한 제목입니다.\n",
    "<p>: 단락을 정의합니다.\n",
    "<a>: 하이퍼링크를 정의합니다. href 속성을 사용하여 링크 대상 URL을 지정합니다.\n",
    "<strong>: 중요한 텍스트를 정의합니다. 일반적으로 굵게 표시됩니다.\n",
    "<em>: 강조된 텍스트를 정의합니다. 일반적으로 기울임꼴로 표시됩니다.\n",
    "<br>: 줄 바꿈을 삽입합니다.\n",
    "<ul>: 순서 없는 목록을 정의합니다.\n",
    "<ol>: 순서 있는 목록을 정의합니다.\n",
    "<li>: 목록 항목을 정의합니다.\n",
    "```\n",
    "```\n",
    "멀티미디어 태그\n",
    "<img>: 이미지를 삽입합니다. src 속성을 사용하여 이미지 파일의 URL을 지정합니다.\n",
    "<audio>: 오디오 콘텐츠를 삽입합니다.\n",
    "<video>: 비디오 콘텐츠를 삽입합니다.\n",
    "<iframe>: 다른 HTML 페이지를 현재 페이지에 삽입합니다.\n",
    "```\n",
    "```\n",
    "테이블 태그\n",
    "<table>: 표를 정의합니다.\n",
    "<tr>: 표의 행을 정의합니다.\n",
    "<td>: 표의 셀을 정의합니다.\n",
    "<th>: 표의 헤더 셀을 정의합니다.\n",
    "<thead>: 표의 머리글 섹션을 정의합니다.\n",
    "<tbody>: 표의 본문 섹션을 정의합니다.\n",
    "<tfoot>: 표의 바닥글 섹션을 정의합니다.\n",
    "```\n",
    "```\n",
    "폼 태그\n",
    "<form>: 사용자 입력을 받는 폼을 정의합니다.\n",
    "<input>: 다양한 유형의 입력 필드를 정의합니다.\n",
    "<textarea>: 여러 줄의 텍스트 입력 필드를 정의합니다.\n",
    "<button>: 클릭 가능한 버튼을 정의합니다.\n",
    "<select>: 드롭다운 목록을 정의합니다.\n",
    "<option>: 드롭다운 목록의 항목을 정의합니다.\n",
    "```\n"
   ]
  },
  {
   "cell_type": "code",
   "execution_count": null,
   "metadata": {},
   "outputs": [],
   "source": [
    "from bs4 import BeautifulSoup\n",
    "import requests\n",
    "url = 'http://example.com'\n",
    "res = requests.get(url)\n",
    "soup = BeautifulSoup(res.text, 'html.parser')\n",
    "soup.find_all('html')"
   ]
  },
  {
   "cell_type": "code",
   "execution_count": 4,
   "metadata": {},
   "outputs": [
    {
     "name": "stdout",
     "output_type": "stream",
     "text": [
      "https://www.iana.org/domains/example\n"
     ]
    }
   ],
   "source": [
    "# 모든 a 태그 추출\n",
    "\n",
    "links = soup.find_all('a')\n",
    "for link in links:\n",
    "    print(link.get('href'))"
   ]
  },
  {
   "cell_type": "code",
   "execution_count": 6,
   "metadata": {},
   "outputs": [],
   "source": [
    "# 모든 div 태그 추출\n",
    "\n",
    "divs = soup.find_all('div')\n",
    "for div in divs:\n",
    "    print(div.text)"
   ]
  },
  {
   "cell_type": "code",
   "execution_count": 9,
   "metadata": {},
   "outputs": [
    {
     "name": "stdout",
     "output_type": "stream",
     "text": [
      "Example Domain\n"
     ]
    }
   ],
   "source": [
    "# 모든 h1 태그 추출\n",
    "\n",
    "h1s = soup.find_all('h1')\n",
    "for h in h1s:\n",
    "    print(h.text)"
   ]
  },
  {
   "cell_type": "code",
   "execution_count": 18,
   "metadata": {},
   "outputs": [
    {
     "name": "stdout",
     "output_type": "stream",
     "text": [
      "{'charset': 'utf-8'}\n",
      "{'http-equiv': 'Content-type', 'content': 'text/html; charset=utf-8'}\n",
      "{'name': 'viewport', 'content': 'width=device-width, initial-scale=1'}\n"
     ]
    }
   ],
   "source": [
    "mts = soup.find_all('meta')\n",
    "for mt in mts:\n",
    "    print(mt.attrs)"
   ]
  },
  {
   "cell_type": "markdown",
   "metadata": {},
   "source": [
    "#### HTML 속성\n",
    "- HTML 속성(Attribute)은 HTML 요소에 추가적인 정보를 제공하는 데 사용됩니다. \n",
    "- 속성은 시작 태그 내에 있으며, 이름-값 쌍으로 작성됩니다.<br>\n",
    "    ```<a href=\"https://example.com\" class=\"example-link\">Example</a>```\n",
    "- 각 속성은 요소의 특정 특성이나 동작을 정의합니다. \n",
    "    ```\n",
    "    - <a>: 앵커 태그로, 하이퍼링크를 만듭니다.\n",
    "    - href: 링크의 URL을 지정하는 속성입니다.\n",
    "    - class: CSS 클래스를 지정하는 속성입니다.\n",
    "    ```\n",
    "- 속성의 값은 일반적으로 따옴표로 감싸지만, 따옴표 없이 작성할 수도 있습니다.\n",
    "- HTML 속성의 기본 구조 :<br>\n",
    "    ```<a href=\"https://www.example.com\" target=\"_blank\">Example Link</a>```\n",
    "\n",
    "  여기서 a 태그는 두 개의 속성을 가집니다:\n",
    "    ```\n",
    "    href: 링크의 URL을 지정\n",
    "    target: 링크를 여는 방식 지정 (_blank는 새 탭에서 열기)\n",
    "    ```\n",
    "- 주요 HTML 속성\n",
    "\n",
    "    글로벌 속성 (Global Attributes): 거의 모든 HTML 요소에서 사용할 수 있는 속성들입니다.<br>    \n",
    "    ```<div id=\"header\" class=\"main-header\" style=\"color: blue;\" title=\"Header Section\">Welcome!</div>```\n",
    "    - id: 요소의 고유 식별자\n",
    "    - class: CSS 클래스 지정\n",
    "    - style: 인라인 CSS 스타일 지정\n",
    "    - title: 요소에 대한 추가 정보 제공 (마우스를 올렸을 때 표시)\n",
    "    - data-*: 페이지나 애플리케이션에 사용자 정의 데이터를 저장\n",
    "\n",
    "    폼 속성 (Form Attributes): 주로 폼 요소에서 사용되는 속성들입니다.\n",
    "    ```\n",
    "    <form action=\"/submit\" method=\"post\">\n",
    "      <input type=\"text\" name=\"username\" value=\"JohnDoe\" placeholder=\"Enter your username\">\n",
    "      <input type=\"submit\" value=\"Submit\"> # type=\"submit\": 이 입력 필드를 제출 버튼으로 정의\n",
    "    </form>\n",
    "    ```\n",
    "    - action: 폼 제출 시 데이터를 전송할 URL\n",
    "    - method: 폼 데이터 전송 방식 (GET, POST)\n",
    "    - name: 폼 요소의 이름\n",
    "    - value: 입력 요소의 초기 값\n",
    "    - placeholder: 입력 필드에 표시되는 힌트 텍스트\n",
    "\n",
    "    이미지 속성 (Image Attributes): 주로 이미지 요소에서 사용되는 속성들입니다.<br>\n",
    "    ```<img src=\"image.jpg\" alt=\"Example Image\" width=\"200\" height=\"100\">```\n",
    "    - src: 이미지 파일의 경로\n",
    "    - alt: 이미지가 표시되지 않을 때 대체 텍스트\n",
    "    - width와 height: 이미지의 크기 지정\n",
    "\n",
    "    링크 속성 (Link Attributes): 주로 앵커(a) 태그에서 사용되는 속성들입니다.<br>    \n",
    "    ```<a href=\"https://www.example.com\" target=\"_blank\" rel=\"noopener noreferrer\">Visit Example</a>```\n",
    "    - href: 링크의 URL\n",
    "    - target: 링크를 열 방법 (_blank, _self, _parent, _top)\n",
    "    - rel: 링크와 현재 문서 간의 관계\n",
    "\n",
    "    메타 데이터 속성 (Metadata Attributes): 주로 meta 태그에서 사용되는 속성들입니다.\n",
    "    ```\n",
    "    <meta name=\"description\" content=\"This is an example of a meta description.\">\n",
    "    <meta charset=\"UTF-8\">\n",
    "    ```\n",
    "    - name: 메타 데이터의 이름 (예: description, keywords)\n",
    "    - content: 메타 데이터의 내용\n",
    "    - charset: 문서의 문자 인코딩\n",
    "\n"
   ]
  },
  {
   "cell_type": "code",
   "execution_count": 1,
   "metadata": {},
   "outputs": [],
   "source": [
    "from bs4 import BeautifulSoup\n",
    "\n",
    "html_doc = \"\"\"\n",
    "<html><head><title>The Dormouse's story</title></head>\n",
    "<body>\n",
    "<p class=\"title\"><b>The Dormouse's story</b></p>\n",
    "<a href=\"http://example.com/elsie\" class=\"sister\" id=\"link1\">Elsie</a>\n",
    "<a href=\"http://example.com/lacie\" class=\"sister\" id=\"link2\">Lacie</a>\n",
    "<a href=\"http://example.com/tillie\" class=\"sister\" id=\"link3\">Tillie</a>\n",
    "</body></html>\n",
    "\"\"\"\n",
    "\n",
    "res = BeautifulSoup(html_doc, 'html.parser')"
   ]
  },
  {
   "cell_type": "code",
   "execution_count": 2,
   "metadata": {},
   "outputs": [
    {
     "name": "stdout",
     "output_type": "stream",
     "text": [
      "<p> 태그의 부모 태그: body\n",
      "<a> 태그의 부모 태그: body\n",
      "<p> 태그와 <a> 태그는 형제 태그인가요? 예\n"
     ]
    }
   ],
   "source": [
    "p_tag = res.find('p')\n",
    "a_tag = res.find('a')\n",
    "\n",
    "parent_of_p = p_tag.parent.name\n",
    "parent_of_a = a_tag.parent.name\n",
    "\n",
    "are_siblings = p_tag.find_next_sibling() == a_tag\n",
    "\n",
    "print(f\"<p> 태그의 부모 태그: {parent_of_p}\")\n",
    "print(f\"<a> 태그의 부모 태그: {parent_of_a}\")\n",
    "print(f\"<p> 태그와 <a> 태그는 형제 태그인가요? {'예' if are_siblings else '아니오'}\")"
   ]
  },
  {
   "cell_type": "code",
   "execution_count": 4,
   "metadata": {},
   "outputs": [
    {
     "name": "stdout",
     "output_type": "stream",
     "text": [
      "<b>The Dormouse's story</b>\n"
     ]
    }
   ],
   "source": [
    "# 자식 태그 확인\n",
    "p_tag = res.find('p', class_='title')\n",
    "\n",
    "# children_of_p = p_tag.findChildren()\n",
    "children_of_p = p_tag.children\n",
    "for child in children_of_p:\n",
    "    print(child)"
   ]
  },
  {
   "cell_type": "code",
   "execution_count": 5,
   "metadata": {},
   "outputs": [
    {
     "name": "stdout",
     "output_type": "stream",
     "text": [
      "http://example.com/elsie\n"
     ]
    }
   ],
   "source": [
    "print(res.find(id='link1')['href'])"
   ]
  },
  {
   "cell_type": "markdown",
   "metadata": {},
   "source": [
    "#### CSS 셀렉터\n",
    "\n",
    "CSS 셀렉터는 HTML 요소를 선택하기 위해 사용됩니다. 크롤링 시 특정 요소를 선택할 때 유용합니다. 예:\n",
    "```\n",
    "#id: 특정 id를 가진 요소를 선택합니다.\n",
    ".class: 특정 클래스를 가진 요소를 선택합니다.\n",
    "tagname: 특정 태그명을 가진 요소를 선택합니다.\n",
    "```\n",
    "```\n",
    "[ CSS 셀렉터의 주요 유형과 그 사용법]\n",
    "\n",
    "1. 기본 셀렉터\n",
    "    요소 셀렉터\n",
    "    문법: element\n",
    "    설명: 지정된 태그 이름의 모든 HTML 요소를 선택합니다.\n",
    "    예시: p { color: blue; }는 모든 <p> 요소의 텍스트 색상을 파란색으로 설정합니다.\n",
    "    클래스 셀렉터\n",
    "    문법: .class\n",
    "    설명: 특정 클래스 이름을 가진 모든 요소를 선택합니다.\n",
    "    예시: .highlight { background-color: yellow; }는 클래스가 \"highlight\"인 모든 요소의 배경색을 노란색으로 설정합니다.\n",
    "    ID 셀렉터\n",
    "    문법: #id\n",
    "    설명: 특정 ID를 가진 요소를 선택합니다. HTML 문서에서 ID는 고유해야 합니다.\n",
    "    예시: #header { font-size: 24px; }는 ID가 \"header\"인 요소의 글꼴 크기를 24px로 설정합니다.\n",
    "\n",
    "2. 속성 셀렉터\n",
    "    속성 존재 셀렉터\n",
    "    문법: [attribute]\n",
    "    설명: 특정 속성이 있는 모든 요소를 선택합니다.\n",
    "    예시: [title] { border: 1px solid black; }는 \"title\" 속성이 있는 모든 요소에 테두리를 추가합니다.\n",
    "    특정 속성 값 셀렉터\n",
    "    문법: [attribute=value]\n",
    "    설명: 지정된 속성이 특정 값을 가진 모든 요소를 선택합니다.\n",
    "    예시: [type=\"text\"] { color: green; }는 type 속성이 \"text\"인 모든 입력 요소의 텍스트 색상을 초록색으로 설정합니다.\n",
    "\n",
    "3. 결합 셀렉터\n",
    "    자손 셀렉터\n",
    "    문법: ancestor descendant\n",
    "    설명: 특정 요소의 자손인 모든 요소를 선택합니다.\n",
    "    예시: div p { margin: 10px; }는 <div> 요소의 자손인 모든 <p> 요소에 10px의 마진을 설정합니다.\n",
    "    자식 셀렉터\n",
    "    문법: parent > child\n",
    "    설명: 특정 요소의 직계 자식인 모든 요소를 선택합니다.\n",
    "    예시: ul > li { list-style-type: none; }는 <ul> 요소의 직계 자식인 모든 <li> 요소의 리스트 스타일을 제거합니다.\n",
    "    인접 형제 셀렉터\n",
    "    문법: element + adjacent\n",
    "    설명: 특정 요소의 바로 다음 형제 요소를 선택합니다.\n",
    "    예시: h1 + p { margin-top: 0; }는 <h1> 요소 바로 다음에 오는 <p> 요소의 위쪽 마진을 제거합니다.\n",
    "    일반 형제 셀렉터\n",
    "    문법: element ~ siblings\n",
    "    설명: 특정 요소 이후의 모든 형제 요소를 선택합니다.\n",
    "    예시: h2 ~ p { color: grey; }는 <h2> 요소 이후의 모든 <p> 요소의 텍스트 색상을 회색으로 설정합니다.\n",
    "\n",
    "4. 가상 클래스 셀렉터\n",
    "    동적 가상 클래스 셀렉터\n",
    "    문법: :pseudo-class\n",
    "    설명: 요소의 특정 상태를 선택합니다.\n",
    "    예시: a:hover { color: red; }는 링크에 마우스를 올렸을 때 텍스트 색상을 빨간색으로 변경합니다.\n",
    "    구조적 가상 클래스 셀렉터\n",
    "    문법: :nth-child(n)\n",
    "    설명: 부모 요소의 자식 중 특정 위치에 있는 요소를 선택합니다.\n",
    "    예시: li:nth-child(odd) { background-color: #f2f2f2; }는 홀수 번째 <li> 요소의 배경색을 회색으로 설정합니다.\n",
    "\n",
    "5. 가상 요소 셀렉터\n",
    "    문법: ::pseudo-element\n",
    "    설명: 요소의 일부를 선택합니다.\n",
    "    예시: p::first-line { font-weight: bold; }는 단락의 첫 번째 줄을 굵게 만듭니다.\n",
    "\n",
    "6. 속성값 서브스트링 매칭 셀렉터\n",
    "    시작 문자열 매칭 셀렉터\n",
    "    문법: [attribute^=value]\n",
    "    설명: 특정 속성 값이 지정된 문자열로 시작하는 요소를 선택합니다.\n",
    "    예시: [class^=\"btn\"] { background-color: blue; }는 클래스 이름이 \"btn\"으로 시작하는 모든 요소의 배경색을 파란색으로 설정합니다.\n",
    "    끝 문자열 매칭 셀렉터\n",
    "    문법: [attribute$=value]\n",
    "    설명: 특정 속성 값이 지정된 문자열로 끝나는 요소를 선택합니다.\n",
    "    예시: [class$=\"danger\"] { color: red; }는 클래스 이름이 \"danger\"로 끝나는 모든 요소의 텍스트 색상을 빨간색으로 설정합니다.\n",
    "    포함 문자열 매칭 셀렉터\n",
    "    문법: [attribute*=value]\n",
    "    설명: 특정 속성 값이 지정된 문자열을 포함하는 요소를 선택합니다.\n",
    "    예시: [class*=\"nav\"] { font-size: 18px; }는 클래스 이름에 \"nav\"를 포함하는 모든 요소의 글꼴 크기를 18px로 설정합니다.\n",
    "\n",
    "```"
   ]
  },
  {
   "cell_type": "code",
   "execution_count": 7,
   "metadata": {},
   "outputs": [],
   "source": [
    "from bs4 import BeautifulSoup\n",
    "\n",
    "html_doc = \"\"\"\n",
    "<html>\n",
    "    <head>\n",
    "        <title>The Dormouse's story</title>\n",
    "    </head>\n",
    "    <body>\n",
    "        <p class=\"title\"><b>The Dormouse's story</b></p>\n",
    "        <p class=\"story\">Once upon a time there were three little sisters; and their names were</p>\n",
    "    <p class=\"story\">...</p>\n",
    "    </body>\n",
    "</html>\n",
    "\"\"\"\n",
    "\n",
    "soup = BeautifulSoup(html_doc, 'html.parser')"
   ]
  },
  {
   "cell_type": "code",
   "execution_count": 8,
   "metadata": {},
   "outputs": [
    {
     "name": "stdout",
     "output_type": "stream",
     "text": [
      "<p class=\"title\"><b>The Dormouse's story</b></p>\n"
     ]
    }
   ],
   "source": [
    "# Q. 주어진 HTML 문서에서 첫 번째 title 클래스를 가진 태그를 추출하세요.\n",
    "title_tag = soup.select_one('.title')\n",
    "print(title_tag)"
   ]
  },
  {
   "cell_type": "code",
   "execution_count": 9,
   "metadata": {},
   "outputs": [],
   "source": [
    "html_doc = \"\"\"\n",
    "<html><head><title>The Dormouse's story</title></head>\n",
    "<body>\n",
    "<p class=\"title\"><b>The Dormouse's story</b></p>\n",
    "<a href=\"http://example.com/elsie\" class=\"sister\" id=\"link1\">Elsie</a>\n",
    "<a href=\"http://example.com/lacie\" class=\"sister\" id=\"link2\">Lacie</a>\n",
    "<a href=\"http://example.com/tillie\" class=\"sister\" id=\"link3\">Tillie</a>\n",
    "</body></html>\n",
    "\"\"\"\n",
    "\n",
    "soup = BeautifulSoup(html_doc, 'html.parser')"
   ]
  },
  {
   "cell_type": "code",
   "execution_count": 10,
   "metadata": {},
   "outputs": [
    {
     "name": "stdout",
     "output_type": "stream",
     "text": [
      "http://example.com/elsie\n",
      "http://example.com/lacie\n",
      "http://example.com/tillie\n"
     ]
    }
   ],
   "source": [
    "# 주어진 HTML 문서에서 모든 링크의 URL을 추출하세요.\n",
    "a_tags = soup.select('.sister')\n",
    "for tag in a_tags:\n",
    "    print(tag['href'])"
   ]
  },
  {
   "cell_type": "code",
   "execution_count": 11,
   "metadata": {},
   "outputs": [
    {
     "name": "stdout",
     "output_type": "stream",
     "text": [
      "<a class=\"sister\" href=\"http://example.com/elsie\" id=\"link1\">Elsie</a>\n"
     ]
    }
   ],
   "source": [
    "link1_tag = soup.select_one('#link1')\n",
    "print(link1_tag)"
   ]
  },
  {
   "cell_type": "code",
   "execution_count": 12,
   "metadata": {},
   "outputs": [
    {
     "name": "stdout",
     "output_type": "stream",
     "text": [
      "<b>The Dormouse's story</b>\n"
     ]
    }
   ],
   "source": [
    "# 주어진 HTML문서에서 <p> 태그의 모든 자식 태그를 추출하세요.\n",
    "\n",
    "p_tag = soup.select_one('p')\n",
    "children = p_tag.findChildren()\n",
    "for child in children:\n",
    "    print(child)"
   ]
  },
  {
   "cell_type": "code",
   "execution_count": 13,
   "metadata": {},
   "outputs": [
    {
     "name": "stdout",
     "output_type": "stream",
     "text": [
      "<body>\n",
      "<p class=\"title\"><b>The Dormouse's story</b></p>\n",
      "<a class=\"sister\" href=\"http://example.com/elsie\" id=\"link1\">Elsie</a>\n",
      "<a class=\"sister\" href=\"http://example.com/lacie\" id=\"link2\">Lacie</a>\n",
      "<a class=\"sister\" href=\"http://example.com/tillie\" id=\"link3\">Tillie</a>\n",
      "</body>\n"
     ]
    }
   ],
   "source": [
    "# ID가 link1인 태그의 부모 태그를 추출하세요.\n",
    "\n",
    "link1_tag = soup.select_one('#link1')\n",
    "print(link1_tag.find_parent())"
   ]
  },
  {
   "cell_type": "code",
   "execution_count": 15,
   "metadata": {},
   "outputs": [
    {
     "name": "stdout",
     "output_type": "stream",
     "text": [
      "<a class=\"sister\" href=\"http://example.com/lacie\" id=\"link2\">Lacie</a>\n"
     ]
    }
   ],
   "source": [
    "# ID가 link1인 태그의 다음 형제 태그를 추출하세요.\n",
    "\n",
    "link1_tag = soup.select_one('#link1')\n",
    "\n",
    "print(link1_tag.find_next_sibling())"
   ]
  },
  {
   "cell_type": "markdown",
   "metadata": {},
   "source": [
    "#### XPath\n",
    "\n",
    "XPath는 XML 문서의 경로를 지정하기 위한 언어로, HTML 문서에서도 사용할 수 있습니다. 예:\n",
    "\n",
    "```\n",
    "//div[@id='main']: id가 'main'인 모든 <div> 요소를 선택합니다.\n",
    "//a/text():\n",
    "- //: 문서의 어디에서든 지정한 요소를 찾습니다. 즉, 루트 요소부터 시작해서 모든 자식 요소를 포함하여 탐색합니다.\n",
    "- a: 찾고자 하는 요소의 이름입니다. 여기서는 <a> 태그를 의미합니다.\n",
    "- /text(): 지정한 요소의 텍스트 노드를 선택합니다. <a> 태그 내부의 텍스트를 의미합니다.\n",
    "```"
   ]
  },
  {
   "cell_type": "code",
   "execution_count": 16,
   "metadata": {},
   "outputs": [
    {
     "name": "stdout",
     "output_type": "stream",
     "text": [
      "Elsie\n",
      "Lacie\n",
      "Tillie\n"
     ]
    }
   ],
   "source": [
    "from lxml import html\n",
    "\n",
    "html_doc = \"\"\"\n",
    "<html>\n",
    "  <head><title>The Dormouse's story</title></head>\n",
    "  <body>\n",
    "    <p class=\"title\"><b>The Dormouse's story</b></p>\n",
    "    <a href=\"http://example.com/elsie\" class=\"sister\" id=\"link1\">Elsie</a>\n",
    "    <a href=\"http://example.com/lacie\" class=\"sister\" id=\"link2\">Lacie</a>\n",
    "    <a href=\"http://example.com/tillie\" class=\"sister\" id=\"link3\">Tillie</a>\n",
    "  </body>\n",
    "</html>\n",
    "\"\"\"\n",
    "\n",
    "tree = html.fromstring(html_doc) # html 문서를 xml요소로 변환\n",
    "a_texts = tree.xpath('//a/text()')\n",
    "for text in a_texts:\n",
    "    print(text)"
   ]
  },
  {
   "cell_type": "code",
   "execution_count": 17,
   "metadata": {},
   "outputs": [
    {
     "name": "stdout",
     "output_type": "stream",
     "text": [
      "<a href=\"http://example.com/elsie\" class=\"sister\" id=\"link1\">Elsie</a>\n",
      "    \n"
     ]
    }
   ],
   "source": [
    "link1_tag = tree.xpath('//*[@id=\"link1\"]')[0]\n",
    "print(html.tostring(link1_tag).decode('utf-8'))"
   ]
  },
  {
   "cell_type": "markdown",
   "metadata": {},
   "source": [
    "#### 웹페이지의 동적 로딩\n",
    "\n",
    "일부 웹페이지는 JavaScript를 통해 동적으로 콘텐츠를 로드합니다. 이러한 페이지는 단순히 HTML을 요청하는 것으로는 모든 콘텐츠를 얻을 수 없으며, Selenium과 같은 도구를 사용하여 JavaScript를 실행하는 것이 필요할 수 있습니다."
   ]
  },
  {
   "cell_type": "markdown",
   "metadata": {},
   "source": [
    "#### HTTP 요청과 응답\n",
    "\n",
    "웹 크롤링은 HTTP 프로토콜을 통해 웹페이지에 접근합니다. HTTP 요청과 응답의 기본 개념을 이해하는 것이 중요합니다.\n",
    "\n",
    "- HTTP 메서드 (GET, POST 등)\n",
    "- 상태 코드 (200, 404 등)"
   ]
  },
  {
   "cell_type": "markdown",
   "metadata": {},
   "source": [
    "#### 크롤링 도구와 라이브러리\n",
    "\n",
    "다양한 도구와 라이브러리가 크롤링을 도와줍니다.\n",
    "\n",
    "- BeautifulSoup: HTML과 XML 파일을 파싱하는 라이브러리입니다.\n",
    "- Requests: HTTP 요청을 보내기 위한 라이브러리입니다.\n",
    "- Selenium: 웹 브라우저를 자동화하고 동적 웹페이지를 크롤링하는 데 사용됩니다."
   ]
  },
  {
   "cell_type": "code",
   "execution_count": null,
   "metadata": {},
   "outputs": [],
   "source": [
    "import requests\n",
    "from bs4 import BeautifulSoup\n",
    "\n",
    "url = 'https://www.naver.com/'\n",
    "res = requests.get(url)\n",
    "soup = BeautifulSoup(res.text, 'html.parser')\n",
    "\n",
    "# ID를 사용하여 'wrap' 영역 크롤링\n",
    "wrap = soup.find(id='wrap')\n",
    "#print(wrap.prettify()) # prettify : 깔끔하게 들여쓰기하여 출력\n",
    "\n",
    "# 각 링크의 속성 추출\n",
    "#a_tags = soup.select('#u_skip>a')\n",
    "#print(a_tags)\n",
    "\n",
    "a_tags = wrap.find_all('a')\n",
    "for a in a_tags:\n",
    "    print(a['href'], a.text)\n",
    "    #print(a.get_text())"
   ]
  },
  {
   "cell_type": "code",
   "execution_count": null,
   "metadata": {},
   "outputs": [],
   "source": [
    "search_area = soup.find(id='search_area')\n",
    "sa1 = soup.find(class_='search_area')\n",
    "#print(search_area.prettify())\n",
    "\n",
    "sa2 = soup.select_one('.search_area')\n",
    "print(sa2.prettify())"
   ]
  },
  {
   "cell_type": "code",
   "execution_count": 52,
   "metadata": {},
   "outputs": [],
   "source": [
    "banners = soup.find_all('script')"
   ]
  },
  {
   "cell_type": "code",
   "execution_count": 51,
   "metadata": {},
   "outputs": [
    {
     "name": "stdout",
     "output_type": "stream",
     "text": [
      "<script data-gfp-banner-size=\"830x130\" data-gfp-banner-type=\"full\" id=\"ad-timeboard-response\" type=\"text/plain\">\n",
      " {\"payload\":{\"requestId\":\"5d424ecf654c4b1ea0da7666313b853a\",\"head\":{\"version\":\"0.0.1\",\"description\":\"Naver SSP Waterfall List\"},\"eventTracking\":{\"ackImpressions\":[{\"url\":\"https://tivan.naver.com/sc2/1/\"}],\"activeViewImpressions\":[{\"url\":\"https://tivan.naver.com/sc2/2/\"}],\"clicks\":[{\"url\":\"https://tivan.naver.com/sc2/3/\"}],\"completions\":[{\"url\":\"https://tivan.naver.com/sc2/4/\"}],\"attached\":[{\"url\":\"https://tivan.naver.com/sc2/10/\"}],\"renderedImpressions\":[{\"url\":\"https://tivan.naver.com/sc2/11/\"}],\"viewableImpressions\":[{\"url\":\"https://tivan.naver.com/sc2/12/\"}],\"loadErrors\":[{\"url\":\"https://tivan.naver.com/sc2/91/\"}],\"startErrors\":[{\"url\":\"https://tivan.naver.com/sc2/92/\"}],\"lazyRenderMediaFailed\":[{\"url\":\"https://tivan.naver.com/sc2/93/\"}],\"mute\":[{\"url\":\"https://tivan.naver.com/sc2/5/\"}],\"close\":[{\"url\":\"https://tivan.naver.com/sc2/6/\"}]},\"adUnit\":\"p_main_timeboard_v1\",\"randomNumber\":82,\"adDivId\":\"ad_timeboard\",\"advertiserDomains\":[\"www.childfund.or.kr\"],\"adDuplicationKeys\":[\"URL:https://www.childfund.or.kr\"],\"ads\":[{\"encrypted\":\"HXeHWBfpSAPwRPh3TmJeIpjS9aMfUpVZUMZ3FaRdK33qw-oJbQgbbToudD-g6qN-wcdW3X4inLCzrDmOraop1t9RefcFG2URFpqhLquht09NiOn7q0EIYQldZ9DoRsmq6Mi6FUGl8CjPtd8newrDF7O1IXA5xVfJ0r7jUi9-RtsEUQ_hKiKzg1iT67qImbXYslAWni_YGcKBskz9RNIK-L2CCIhADg4mrc4WoG4Ew8N3ra0QlKtouB3lvbvduZdJ5sjChDZOdd9ILiu7XdIqZXT2KYM6sOoRNo6BheIu3Hnw-yNyWFqDLOOQjMmy_KtzmHyWWFB9HdTLBQPQGukeELk_Xy8Tj5tx3DAhGEVahDFXD4047OxnQoQgWmrji39B_3YBTgsMxi2IdH3KLpNx7X3k2xfz58jS2x1Zg_f4J1MO7qEi2D8im0fDuX_1YeMz34KZd7MHV_DxqVRKlEMSuXtaiWHeWRCEIR4-MtVSVQoHrDm-JrxtNMFhQjJEj-umENBnrbRq_BmTHHkk8ZCV7dDamuh1Cuh8akopdpI82E4NPJVwF8zEyW_74Ro2KcDbezE00QgXeMNEUM0ZPtEQFsIBxrNPw-tasxi9lp-Yp38O1bPWtnUpu9Eva0xa4zte7tKiYncfzCG6Dtrmy58FABlcDABpVRUlJL03B-5aINhHSM2H0L2KT1bjhRJPwBp0Mfa5x0F6JRiunTevCFqVPk2idBYVCjybev7x_IlmvBc=\",\"connectionType\":\"S2S\",\"adProviderType\":\"IN_NAVER\",\"adProviderName\":\"NDP_SF\",\"layoutType\":\"FLUID\",\"creativeType\":\"BANNER\",\"renderType\":\"SF\",\"eventTracking\":{\"ackImpressions\":[{\"url\":\"https://siape.veta.naver.com/openrtb/nurl?eu=EU10043565\\u0026calp=-\\u0026oj=cQgn6aire5MOd0QUQnyxUQ8wNnEuARjOpW6F9Xymq0FJQGyTvRQz0N50CeiPEo1eJL1qM2Pf%2Fan4%2Bj3iYD%2BMRbG3mFG%2B5vYbR0REAqUxXUDIBWexIpibH0plqdgUSG%2BUXrQSw%2B%2FX1bbNCF9%2F110BZDp0hCNKO%2BcHo2M9jEOAPSLbaIdXv9YIFqKzdZWOwZvbdMAtSn%2B9Id4vH4MuGzFJiErLLp1Ox71Vg1K%2FFXnNMQA\\u0026ac=8980072\\u0026src=7131634\\u0026evtcd=BID_WIN\\u0026x_ti=1504\\u0026rk=k_9WgstERrp4ae8_8RzM5g\\u0026eltts=8th9wdX48uAErSqCGHQ7Pw%3D%3D\\u0026brs=Y\\u0026\"}],\"attached\":[],\"activeViewImpressions\":[],\"renderedImpressions\":[],\"viewableImpressions\":[],\"clicks\":[],\"vimp1px\":[],\"vimp100\":[],\"vimp100p\":[],\"admute\":[],\"advmute\":[],\"like\":[],\"unlike\":[],\"close\":[],\"bounce\":[]},\"adInfo\":{\"placeId\":\"6436232db28a76002ea3f30c\",\"adomain\":[\"www.childfund.or.kr\"],\"cid\":\"1499108\",\"crid\":\"2643111\",\"exp\":2990,\"adm\":\"%3Cscript%20src%3D%22https%3A%2F%2Fssl.pstatic.net%2Fmelona%2Flibs%2Fglad%2Fbridge%2Fgfp-bridge.js%22%3E%3C%2Fscript%3E%0D%0A%0D%0A%3Ca%20href%3D%22https%3A%2F%2Fsiape.veta.naver.com%2Ffxclick%3Feu%3DEU10043565%26calp%3D-%26oj%3DcQgn6aire5MOd0QUQnyxUQ8wNnEuARjOpW6F9Xymq0FJQGyTvRQz0N50CeiPEo1eJL1qM2Pf%252Fan4%252Bj3iYD%252BMRbG3mFG%252B5vYbR0REAqUxXUDIBWexIpibH0plqdgUSG%252BUXrQSw%252B%252FX1bbNCF9%252F110BZDp0hCNKO%252BcHo2M9jEOAPSLbaIdXv9YIFqKzdZWOwZvbdMAtSn%252B9Id4vH4MuGzFJiErLLp1Ox71Vg1K%252FFXnNMQA%26ac%3D8980072%26src%3D7131634%26br%3D4533904%26evtcd%3DP901%26x_ti%3D1504%26tb%3D%26oid%3D%26sid1%3D%26sid2%3D%26rk%3Dk_9WgstERrp4ae8_8RzM5g%26eltts%3D8th9wdX48uAErSqCGHQ7Pw%253D%253D%26lu%3D%26brs%3DY%26%22%20id%3D%22ac_banner_a%22%20target%3D%22_blank%22%20style%3D%22display%3Ablock%22%3E%0D%0A%20%20%20%20%3Cimg%20src%3D%22https%3A%2F%2Fssl.pstatic.net%2Fmelona%2Flibs%2F1499%2F1499108%2F27b1f6648a5fd0f208b6_20240618133846501.jpg%22%20width%3D%22830%22%20height%3D%22130%22%20alt%3D%22%5B%EA%B4%91%EA%B3%A0%5D%EC%B4%88%EB%A1%9D%EC%9A%B0%EC%82%B0%20%EB%A7%8C%2018%EC%84%B8%20%ED%99%80%EB%A1%9C%20%EC%82%AC%ED%9A%8C%EC%97%90%20%EB%82%98%EC%98%A8%20%EC%9E%90%EB%A6%BD%EC%A4%80%EB%B9%84%EC%B2%AD%EB%85%84%20%EC%9D%91%EC%9B%90%ED%95%98%EA%B3%A0%20%EC%8A%A4%ED%82%A8%ED%91%B8%EB%93%9C%20%EC%BA%90%EB%A1%AF%20%EC%B9%B4%EB%A1%9C%ED%8B%B4%20%EB%9D%BC%EC%9D%B8%205%EC%A2%85%20%EC%84%B8%ED%8A%B8%20%EB%B0%9B%EA%B8%B0%22%3E%0D%0A%3C%2Fa%3E%0D%0A%0D%0A%3Cscript%20type%3D%22text%2Fjavascript%22%20src%3D%22https%3A%2F%2Fssl.pstatic.net%2Fmelona%2Flibs%2Fassets%2Fjs%2Fpc%2Fmain%2Fmin%2Fpc.veta.core.min.js%3F20240228%22%3E%3C%2Fscript%3E%0D%0A%3Cscript%20type%3D%22text%2Fjavascript%22%3E%0D%0A%20%20%20%20%28function%28ns%2C%20bridge%29%20%7B%0D%0A%20%20%20%20%20%20%20%20var%20LOG%20%3D%20%7B%0D%0A%20%20%20%20%20%20%20%20%20%20%20%20VIEWABLED%3A%20%22https%3A%2F%2Fsiape.veta.naver.com%2Ffxview%3Feu%3DEU10043565%26calp%3D-%26oj%3DcQgn6aire5MOd0QUQnyxUQ8wNnEuARjOpW6F9Xymq0FJQGyTvRQz0N50CeiPEo1eJL1qM2Pf%252Fan4%252Bj3iYD%252BMRbG3mFG%252B5vYbR0REAqUxXUDIBWexIpibH0plqdgUSG%252BUXrQSw%252B%252FX1bbNCF9%252F110BZDp0hCNKO%252BcHo2M9jEOAPSLbaIdXv9YIFqKzdZWOwZvbdMAtSn%252B9Id4vH4MuGzFJiErLLp1Ox71Vg1K%252FFXnNMQA%26ac%3D8980072%26src%3D7131634%26evtcd%3DV900%26x_ti%3D1504%26tb%3D%26oid%3D%26sid1%3D%26sid2%3D%26rk%3Dk_9WgstERrp4ae8_8RzM5g%26eltts%3D8th9wdX48uAErSqCGHQ7Pw%253D%253D%26brs%3DY%26%26eid%3DV900%22%2C%0D%0A%20%20%20%20%20%20%20%20%20%20%20%20RENDERED%3A%20%22https%3A%2F%2Fsiape.veta.naver.com%2Ffxview%3Feu%3DEU10043565%26calp%3D-%26oj%3DcQgn6aire5MOd0QUQnyxUQ8wNnEuARjOpW6F9Xymq0FJQGyTvRQz0N50CeiPEo1eJL1qM2Pf%252Fan4%252Bj3iYD%252BMRbG3mFG%252B5vYbR0REAqUxXUDIBWexIpibH0plqdgUSG%252BUXrQSw%252B%252FX1bbNCF9%252F110BZDp0hCNKO%252BcHo2M9jEOAPSLbaIdXv9YIFqKzdZWOwZvbdMAtSn%252B9Id4vH4MuGzFJiErLLp1Ox71Vg1K%252FFXnNMQA%26ac%3D8980072%26src%3D7131635%26evtcd%3DV602%26x_ti%3D1504%26tb%3D%26oid%3D%26sid1%3D%26sid2%3D%26rk%3Dk_9WgstERrp4ae8_8RzM5g%26eltts%3D8th9wdX48uAErSqCGHQ7Pw%253D%253D%26brs%3DY%26%26eid%3DV810%22%0D%0A%20%20%20%20%20%20%20%20%7D%3B%0D%0A%0D%0A%20%20%20%20%20%20%20%20var%20util%20%3D%20ns.Util%20%3F%20new%20ns.Util%28%29%20%3A%20new%20NBP_CORP.Nimp%28%29%3B%0D%0A%20%20%20%20%20%20%20%20var%20gladSdkBridge%20%3D%20bridge.createSdkBridge%28%29%3B%0D%0A%20%20%20%20%20%20%20%20var%20eventList%20%3D%20%7B%7D%3B%0D%0A%0D%0A%20%20%20%20%20%20%20%20%2F%2F%20%EC%9D%91%EB%8B%B5%EB%85%B8%EC%B6%9C%0D%0A%20%20%20%20%20%20%20%20util.log%28LOG.RENDERED%29%3B%0D%0A%0D%0A%20%20%20%20%20%20%20%20%2F%2F%20%EC%9C%A0%ED%9A%A8%EB%85%B8%EC%B6%9C%0D%0A%20%20%20%20%20%20%20%20eventList%5Bbridge.EVENT.VIEWABLED%5D%20%3D%20function%28%29%20%7B%0D%0A%20%20%20%20%20%20%20%20%20%20%20%20util.log%28LOG.VIEWABLED%29%3B%0D%0A%20%20%20%20%20%20%20%20%7D%3B%0D%0A%0D%0A%20%20%20%20%20%20%20%20gladSdkBridge.setEventListeners%28eventList%29%3B%0D%0A%20%20%20%20%7D%29%28%0D%0A%20%20%20%20%20%20%20%20window.naver_corp_da%20%7C%7C%20%7B%7D%2C%0D%0A%20%20%20%20%20%20%20%20window.gladBridge%0D%0A%20%20%20%20%29%3B%0D%0A%3C%2Fscript%3E\",\"encoded\":1,\"responseSize\":{\"height\":130,\"width\":830,\"force\":0},\"template\":\"%3C%21doctype%20html%3E%3Chtml%3E%3Chead%3E%3Cmeta%20name%3D%22viewport%22%20content%3D%22width%3Ddevice-width%2C%20user-scalable%3Dno%22%2F%3E%3Cstyle%20data-gfp-role%3D%22adMarkLegacyStyle%22%3E%5Bdata-gfp-role%3D%22adMarkLegacy%22%5D%20%7Bdisplay%3A%20none%3B%7D%3C%2Fstyle%3E%3Cscript%3Ewindow.gladBridge%20%3D%20%7BRUNTIME%3A%20%22InApp%22%7D%3B%3C%2Fscript%3E%3C%2Fhead%3E%3Cbody%20style%3D%22margin%3A%200%3B%20padding%3A%200%22%3E%7B%7Badm%7D%7D%3Cscript%20src%3D%22https%3A%2F%2Fssl.pstatic.net%2Ftveta%2Flibs%2Fglad_admute%2Fprod%2Fglad-admute.js%22%3E%3C%2Fscript%3E%3Cscript%3Econst%20adMuteOptions%20%3D%20%7BmuteUrl%3A%20%22%25%25MUTE_URL%25%25%22%2C%20privacyUrl%3A%20%22%25%25PRIV_URL%25%25%22%2C%20creativeType%3A%20%22BANNER%22%2C%20runtimeType%3A%20%22InApp%22%7D%3B%20if%28adMuteOptions.muteUrl%20%7C%7C%20adMuteOptions.privacyUrl%29%20%7B%20window.gladAdMute.checkAdMarkLegacyStyle%28adMuteOptions%29%3B%20const%20adMuteController%20%3D%20window.gladAdMute.createAdMuteController%28adMuteOptions%29%3B%20adMuteController.render%28%29%3B%20%7D%3C%2Fscript%3E%3C%2Fbody%3E%3C%2Fhtml%3E\"}},{\"encrypted\":\"vpf4bbXPkPBcbdkx0pL-JkCaU46efz6uYHg-VCeej_WSLJDwQIRCHQ3P_gqLJIlRu9FDlI2TcRNgFsu6t17GsVl5ff_egj-QudyAYQanuzPxI8lUw80lUwdJ8ry4nPFIv7iKJ4NcMNl3GuLi9rxy8Cu5NOIzXz1u-ChPBs9yTIitnAjQUGmAuegfo5J4bLUrXfsrzOuUg2ncPzVWid7DBZNVmiOh64iuEV0uwqyi7-nV84RBMz3v5AV7uybFRGbAVlrpzzjZY8-bqMvRVS_BTSzUrqM8ppdoJsyhmmkAQcVbfwu7X25-64JG6WfCJcKSckLCy9-1-2Ln7s5GRHjPz7fr54bkAXhsWRmT_sJHMdXzKSYoQiKpFMy6iBHZ4CNSxnmZ44RRlpnZtqqQNkFOMemlYwUFch86yeQYRWC4nPO0ruyvcbWUidu21HIr1QaLe1RP5Li3PJ7hKhZ0ChuJEzcVCp5Y9msyjdCcQwin0mib7RQ9Bkp5vYDzLWh54IGA\",\"connectionType\":\"S2S\",\"adProviderName\":\"GFP\",\"layoutType\":\"FLUID\",\"creativeType\":\"BANNER\",\"renderType\":\"EMPTY\",\"eventTracking\":{\"ackImpressions\":[{\"url\":\"https://siape.veta.naver.com/openrtb/nbackimp?eu=EU10043565\\u0026oj=cQgn6aire5MOd0QUQnyxUQ8wNnEuARjOpW6F9Xymq0FJQGyTvRQz0N50CeiPEo1eJL1qM2Pf%2Fan4%2Bj3iYD%2BMRbG3mFG%2B5vYbR0REAqUxXUDIBWexIpibH0plqdgUSG%2BUXrQSw%2B%2FX1bbNCF9%2F110BZDp0hCNKO%2BcHo2M9jEOAPSLbaIdXv9YIFqKzdZWOwZvbdMAtSn%2B9Id4vH4MuGzFJiErLLp1Ox71Vg1K%2FFXnNMQA\\u0026evtcd=BID_LOSE\\u0026rk=k_9WgstERrp4ae8_8RzM5g\\u0026eltts=8th9wdX48uAErSqCGHQ7Pw%3D%3D\\u0026calp=-\\u0026ac=8980072\\u0026src=7131634\\u0026x_ti=1504\\u0026brs=Y\"}],\"attached\":[],\"activeViewImpressions\":[{\"url\":\"https://siape.veta.naver.com/openrtb/nbimp?oj=cQgn6aire5MOd0QUQnyxUQ8wNnEuARjOpW6F9Xymq0FJQGyTvRQz0N50CeiPEo1eJL1qM2Pf%2Fan4%2Bj3iYD%2BMRbG3mFG%2B5vYbR0REAqUxXUDIBWexIpibH0plqdgUSG%2BUXrQSw%2B%2FX1bbNCF9%2F110BZDp0hCNKO%2BcHo2M9jEOAPSLbaIdXv9YIFqKzdZWOwZvbdMAtSn%2B9Id4vH4MuGzFJiErLLp1Ox71Vg1K%2FFXnNMQA\\u0026rk=k_9WgstERrp4ae8_8RzM5g\\u0026eltts=8th9wdX48uAErSqCGHQ7Pw%3D%3D\"}],\"renderedImpressions\":[],\"viewableImpressions\":[{\"url\":\"https://siape.veta.naver.com/openrtb/nbimp?oj=cQgn6aire5MOd0QUQnyxUQ8wNnEuARjOpW6F9Xymq0FJQGyTvRQz0N50CeiPEo1eJL1qM2Pf%2Fan4%2Bj3iYD%2BMRbG3mFG%2B5vYbR0REAqUxXUDIBWexIpibH0plqdgUSG%2BUXrQSw%2B%2FX1bbNCF9%2F110BZDp0hCNKO%2BcHo2M9jEOAPSLbaIdXv9YIFqKzdZWOwZvbdMAtSn%2B9Id4vH4MuGzFJiErLLp1Ox71Vg1K%2FFXnNMQA\\u0026rk=k_9WgstERrp4ae8_8RzM5g\\u0026eltts=8th9wdX48uAErSqCGHQ7Pw%3D%3D\"}],\"clicks\":[],\"vimp1px\":[],\"vimp100\":[],\"vimp100p\":[],\"admute\":[],\"advmute\":[],\"like\":[],\"unlike\":[],\"close\":[],\"bounce\":[]},\"adInfo\":{\"responseSize\":{\"height\":0,\"width\":0}}}],\"config\":{\"imp\":{\"ratio\":100,\"ms\":0}}},\"additionalInfo\":{\"adCount\":1,\"adDuplicate\":{\"advertiserDomains\":[\"www.childfund.or.kr\"],\"adDuplicationKeys\":[\"URL:https://www.childfund.or.kr\"]},\"adSize\":{\"h\":130,\"w\":830}}}\n",
      "</script>\n",
      "\n"
     ]
    },
    {
     "data": {
      "text/plain": [
       "<script data-gfp-banner-size=\"830x130\" data-gfp-banner-type=\"full\" id=\"ad-timeboard-response\" type=\"text/plain\">{\"payload\":{\"requestId\":\"5d424ecf654c4b1ea0da7666313b853a\",\"head\":{\"version\":\"0.0.1\",\"description\":\"Naver SSP Waterfall List\"},\"eventTracking\":{\"ackImpressions\":[{\"url\":\"https://tivan.naver.com/sc2/1/\"}],\"activeViewImpressions\":[{\"url\":\"https://tivan.naver.com/sc2/2/\"}],\"clicks\":[{\"url\":\"https://tivan.naver.com/sc2/3/\"}],\"completions\":[{\"url\":\"https://tivan.naver.com/sc2/4/\"}],\"attached\":[{\"url\":\"https://tivan.naver.com/sc2/10/\"}],\"renderedImpressions\":[{\"url\":\"https://tivan.naver.com/sc2/11/\"}],\"viewableImpressions\":[{\"url\":\"https://tivan.naver.com/sc2/12/\"}],\"loadErrors\":[{\"url\":\"https://tivan.naver.com/sc2/91/\"}],\"startErrors\":[{\"url\":\"https://tivan.naver.com/sc2/92/\"}],\"lazyRenderMediaFailed\":[{\"url\":\"https://tivan.naver.com/sc2/93/\"}],\"mute\":[{\"url\":\"https://tivan.naver.com/sc2/5/\"}],\"close\":[{\"url\":\"https://tivan.naver.com/sc2/6/\"}]},\"adUnit\":\"p_main_timeboard_v1\",\"randomNumber\":82,\"adDivId\":\"ad_timeboard\",\"advertiserDomains\":[\"www.childfund.or.kr\"],\"adDuplicationKeys\":[\"URL:https://www.childfund.or.kr\"],\"ads\":[{\"encrypted\":\"HXeHWBfpSAPwRPh3TmJeIpjS9aMfUpVZUMZ3FaRdK33qw-oJbQgbbToudD-g6qN-wcdW3X4inLCzrDmOraop1t9RefcFG2URFpqhLquht09NiOn7q0EIYQldZ9DoRsmq6Mi6FUGl8CjPtd8newrDF7O1IXA5xVfJ0r7jUi9-RtsEUQ_hKiKzg1iT67qImbXYslAWni_YGcKBskz9RNIK-L2CCIhADg4mrc4WoG4Ew8N3ra0QlKtouB3lvbvduZdJ5sjChDZOdd9ILiu7XdIqZXT2KYM6sOoRNo6BheIu3Hnw-yNyWFqDLOOQjMmy_KtzmHyWWFB9HdTLBQPQGukeELk_Xy8Tj5tx3DAhGEVahDFXD4047OxnQoQgWmrji39B_3YBTgsMxi2IdH3KLpNx7X3k2xfz58jS2x1Zg_f4J1MO7qEi2D8im0fDuX_1YeMz34KZd7MHV_DxqVRKlEMSuXtaiWHeWRCEIR4-MtVSVQoHrDm-JrxtNMFhQjJEj-umENBnrbRq_BmTHHkk8ZCV7dDamuh1Cuh8akopdpI82E4NPJVwF8zEyW_74Ro2KcDbezE00QgXeMNEUM0ZPtEQFsIBxrNPw-tasxi9lp-Yp38O1bPWtnUpu9Eva0xa4zte7tKiYncfzCG6Dtrmy58FABlcDABpVRUlJL03B-5aINhHSM2H0L2KT1bjhRJPwBp0Mfa5x0F6JRiunTevCFqVPk2idBYVCjybev7x_IlmvBc=\",\"connectionType\":\"S2S\",\"adProviderType\":\"IN_NAVER\",\"adProviderName\":\"NDP_SF\",\"layoutType\":\"FLUID\",\"creativeType\":\"BANNER\",\"renderType\":\"SF\",\"eventTracking\":{\"ackImpressions\":[{\"url\":\"https://siape.veta.naver.com/openrtb/nurl?eu=EU10043565\\u0026calp=-\\u0026oj=cQgn6aire5MOd0QUQnyxUQ8wNnEuARjOpW6F9Xymq0FJQGyTvRQz0N50CeiPEo1eJL1qM2Pf%2Fan4%2Bj3iYD%2BMRbG3mFG%2B5vYbR0REAqUxXUDIBWexIpibH0plqdgUSG%2BUXrQSw%2B%2FX1bbNCF9%2F110BZDp0hCNKO%2BcHo2M9jEOAPSLbaIdXv9YIFqKzdZWOwZvbdMAtSn%2B9Id4vH4MuGzFJiErLLp1Ox71Vg1K%2FFXnNMQA\\u0026ac=8980072\\u0026src=7131634\\u0026evtcd=BID_WIN\\u0026x_ti=1504\\u0026rk=k_9WgstERrp4ae8_8RzM5g\\u0026eltts=8th9wdX48uAErSqCGHQ7Pw%3D%3D\\u0026brs=Y\\u0026\"}],\"attached\":[],\"activeViewImpressions\":[],\"renderedImpressions\":[],\"viewableImpressions\":[],\"clicks\":[],\"vimp1px\":[],\"vimp100\":[],\"vimp100p\":[],\"admute\":[],\"advmute\":[],\"like\":[],\"unlike\":[],\"close\":[],\"bounce\":[]},\"adInfo\":{\"placeId\":\"6436232db28a76002ea3f30c\",\"adomain\":[\"www.childfund.or.kr\"],\"cid\":\"1499108\",\"crid\":\"2643111\",\"exp\":2990,\"adm\":\"%3Cscript%20src%3D%22https%3A%2F%2Fssl.pstatic.net%2Fmelona%2Flibs%2Fglad%2Fbridge%2Fgfp-bridge.js%22%3E%3C%2Fscript%3E%0D%0A%0D%0A%3Ca%20href%3D%22https%3A%2F%2Fsiape.veta.naver.com%2Ffxclick%3Feu%3DEU10043565%26calp%3D-%26oj%3DcQgn6aire5MOd0QUQnyxUQ8wNnEuARjOpW6F9Xymq0FJQGyTvRQz0N50CeiPEo1eJL1qM2Pf%252Fan4%252Bj3iYD%252BMRbG3mFG%252B5vYbR0REAqUxXUDIBWexIpibH0plqdgUSG%252BUXrQSw%252B%252FX1bbNCF9%252F110BZDp0hCNKO%252BcHo2M9jEOAPSLbaIdXv9YIFqKzdZWOwZvbdMAtSn%252B9Id4vH4MuGzFJiErLLp1Ox71Vg1K%252FFXnNMQA%26ac%3D8980072%26src%3D7131634%26br%3D4533904%26evtcd%3DP901%26x_ti%3D1504%26tb%3D%26oid%3D%26sid1%3D%26sid2%3D%26rk%3Dk_9WgstERrp4ae8_8RzM5g%26eltts%3D8th9wdX48uAErSqCGHQ7Pw%253D%253D%26lu%3D%26brs%3DY%26%22%20id%3D%22ac_banner_a%22%20target%3D%22_blank%22%20style%3D%22display%3Ablock%22%3E%0D%0A%20%20%20%20%3Cimg%20src%3D%22https%3A%2F%2Fssl.pstatic.net%2Fmelona%2Flibs%2F1499%2F1499108%2F27b1f6648a5fd0f208b6_20240618133846501.jpg%22%20width%3D%22830%22%20height%3D%22130%22%20alt%3D%22%5B%EA%B4%91%EA%B3%A0%5D%EC%B4%88%EB%A1%9D%EC%9A%B0%EC%82%B0%20%EB%A7%8C%2018%EC%84%B8%20%ED%99%80%EB%A1%9C%20%EC%82%AC%ED%9A%8C%EC%97%90%20%EB%82%98%EC%98%A8%20%EC%9E%90%EB%A6%BD%EC%A4%80%EB%B9%84%EC%B2%AD%EB%85%84%20%EC%9D%91%EC%9B%90%ED%95%98%EA%B3%A0%20%EC%8A%A4%ED%82%A8%ED%91%B8%EB%93%9C%20%EC%BA%90%EB%A1%AF%20%EC%B9%B4%EB%A1%9C%ED%8B%B4%20%EB%9D%BC%EC%9D%B8%205%EC%A2%85%20%EC%84%B8%ED%8A%B8%20%EB%B0%9B%EA%B8%B0%22%3E%0D%0A%3C%2Fa%3E%0D%0A%0D%0A%3Cscript%20type%3D%22text%2Fjavascript%22%20src%3D%22https%3A%2F%2Fssl.pstatic.net%2Fmelona%2Flibs%2Fassets%2Fjs%2Fpc%2Fmain%2Fmin%2Fpc.veta.core.min.js%3F20240228%22%3E%3C%2Fscript%3E%0D%0A%3Cscript%20type%3D%22text%2Fjavascript%22%3E%0D%0A%20%20%20%20%28function%28ns%2C%20bridge%29%20%7B%0D%0A%20%20%20%20%20%20%20%20var%20LOG%20%3D%20%7B%0D%0A%20%20%20%20%20%20%20%20%20%20%20%20VIEWABLED%3A%20%22https%3A%2F%2Fsiape.veta.naver.com%2Ffxview%3Feu%3DEU10043565%26calp%3D-%26oj%3DcQgn6aire5MOd0QUQnyxUQ8wNnEuARjOpW6F9Xymq0FJQGyTvRQz0N50CeiPEo1eJL1qM2Pf%252Fan4%252Bj3iYD%252BMRbG3mFG%252B5vYbR0REAqUxXUDIBWexIpibH0plqdgUSG%252BUXrQSw%252B%252FX1bbNCF9%252F110BZDp0hCNKO%252BcHo2M9jEOAPSLbaIdXv9YIFqKzdZWOwZvbdMAtSn%252B9Id4vH4MuGzFJiErLLp1Ox71Vg1K%252FFXnNMQA%26ac%3D8980072%26src%3D7131634%26evtcd%3DV900%26x_ti%3D1504%26tb%3D%26oid%3D%26sid1%3D%26sid2%3D%26rk%3Dk_9WgstERrp4ae8_8RzM5g%26eltts%3D8th9wdX48uAErSqCGHQ7Pw%253D%253D%26brs%3DY%26%26eid%3DV900%22%2C%0D%0A%20%20%20%20%20%20%20%20%20%20%20%20RENDERED%3A%20%22https%3A%2F%2Fsiape.veta.naver.com%2Ffxview%3Feu%3DEU10043565%26calp%3D-%26oj%3DcQgn6aire5MOd0QUQnyxUQ8wNnEuARjOpW6F9Xymq0FJQGyTvRQz0N50CeiPEo1eJL1qM2Pf%252Fan4%252Bj3iYD%252BMRbG3mFG%252B5vYbR0REAqUxXUDIBWexIpibH0plqdgUSG%252BUXrQSw%252B%252FX1bbNCF9%252F110BZDp0hCNKO%252BcHo2M9jEOAPSLbaIdXv9YIFqKzdZWOwZvbdMAtSn%252B9Id4vH4MuGzFJiErLLp1Ox71Vg1K%252FFXnNMQA%26ac%3D8980072%26src%3D7131635%26evtcd%3DV602%26x_ti%3D1504%26tb%3D%26oid%3D%26sid1%3D%26sid2%3D%26rk%3Dk_9WgstERrp4ae8_8RzM5g%26eltts%3D8th9wdX48uAErSqCGHQ7Pw%253D%253D%26brs%3DY%26%26eid%3DV810%22%0D%0A%20%20%20%20%20%20%20%20%7D%3B%0D%0A%0D%0A%20%20%20%20%20%20%20%20var%20util%20%3D%20ns.Util%20%3F%20new%20ns.Util%28%29%20%3A%20new%20NBP_CORP.Nimp%28%29%3B%0D%0A%20%20%20%20%20%20%20%20var%20gladSdkBridge%20%3D%20bridge.createSdkBridge%28%29%3B%0D%0A%20%20%20%20%20%20%20%20var%20eventList%20%3D%20%7B%7D%3B%0D%0A%0D%0A%20%20%20%20%20%20%20%20%2F%2F%20%EC%9D%91%EB%8B%B5%EB%85%B8%EC%B6%9C%0D%0A%20%20%20%20%20%20%20%20util.log%28LOG.RENDERED%29%3B%0D%0A%0D%0A%20%20%20%20%20%20%20%20%2F%2F%20%EC%9C%A0%ED%9A%A8%EB%85%B8%EC%B6%9C%0D%0A%20%20%20%20%20%20%20%20eventList%5Bbridge.EVENT.VIEWABLED%5D%20%3D%20function%28%29%20%7B%0D%0A%20%20%20%20%20%20%20%20%20%20%20%20util.log%28LOG.VIEWABLED%29%3B%0D%0A%20%20%20%20%20%20%20%20%7D%3B%0D%0A%0D%0A%20%20%20%20%20%20%20%20gladSdkBridge.setEventListeners%28eventList%29%3B%0D%0A%20%20%20%20%7D%29%28%0D%0A%20%20%20%20%20%20%20%20window.naver_corp_da%20%7C%7C%20%7B%7D%2C%0D%0A%20%20%20%20%20%20%20%20window.gladBridge%0D%0A%20%20%20%20%29%3B%0D%0A%3C%2Fscript%3E\",\"encoded\":1,\"responseSize\":{\"height\":130,\"width\":830,\"force\":0},\"template\":\"%3C%21doctype%20html%3E%3Chtml%3E%3Chead%3E%3Cmeta%20name%3D%22viewport%22%20content%3D%22width%3Ddevice-width%2C%20user-scalable%3Dno%22%2F%3E%3Cstyle%20data-gfp-role%3D%22adMarkLegacyStyle%22%3E%5Bdata-gfp-role%3D%22adMarkLegacy%22%5D%20%7Bdisplay%3A%20none%3B%7D%3C%2Fstyle%3E%3Cscript%3Ewindow.gladBridge%20%3D%20%7BRUNTIME%3A%20%22InApp%22%7D%3B%3C%2Fscript%3E%3C%2Fhead%3E%3Cbody%20style%3D%22margin%3A%200%3B%20padding%3A%200%22%3E%7B%7Badm%7D%7D%3Cscript%20src%3D%22https%3A%2F%2Fssl.pstatic.net%2Ftveta%2Flibs%2Fglad_admute%2Fprod%2Fglad-admute.js%22%3E%3C%2Fscript%3E%3Cscript%3Econst%20adMuteOptions%20%3D%20%7BmuteUrl%3A%20%22%25%25MUTE_URL%25%25%22%2C%20privacyUrl%3A%20%22%25%25PRIV_URL%25%25%22%2C%20creativeType%3A%20%22BANNER%22%2C%20runtimeType%3A%20%22InApp%22%7D%3B%20if%28adMuteOptions.muteUrl%20%7C%7C%20adMuteOptions.privacyUrl%29%20%7B%20window.gladAdMute.checkAdMarkLegacyStyle%28adMuteOptions%29%3B%20const%20adMuteController%20%3D%20window.gladAdMute.createAdMuteController%28adMuteOptions%29%3B%20adMuteController.render%28%29%3B%20%7D%3C%2Fscript%3E%3C%2Fbody%3E%3C%2Fhtml%3E\"}},{\"encrypted\":\"vpf4bbXPkPBcbdkx0pL-JkCaU46efz6uYHg-VCeej_WSLJDwQIRCHQ3P_gqLJIlRu9FDlI2TcRNgFsu6t17GsVl5ff_egj-QudyAYQanuzPxI8lUw80lUwdJ8ry4nPFIv7iKJ4NcMNl3GuLi9rxy8Cu5NOIzXz1u-ChPBs9yTIitnAjQUGmAuegfo5J4bLUrXfsrzOuUg2ncPzVWid7DBZNVmiOh64iuEV0uwqyi7-nV84RBMz3v5AV7uybFRGbAVlrpzzjZY8-bqMvRVS_BTSzUrqM8ppdoJsyhmmkAQcVbfwu7X25-64JG6WfCJcKSckLCy9-1-2Ln7s5GRHjPz7fr54bkAXhsWRmT_sJHMdXzKSYoQiKpFMy6iBHZ4CNSxnmZ44RRlpnZtqqQNkFOMemlYwUFch86yeQYRWC4nPO0ruyvcbWUidu21HIr1QaLe1RP5Li3PJ7hKhZ0ChuJEzcVCp5Y9msyjdCcQwin0mib7RQ9Bkp5vYDzLWh54IGA\",\"connectionType\":\"S2S\",\"adProviderName\":\"GFP\",\"layoutType\":\"FLUID\",\"creativeType\":\"BANNER\",\"renderType\":\"EMPTY\",\"eventTracking\":{\"ackImpressions\":[{\"url\":\"https://siape.veta.naver.com/openrtb/nbackimp?eu=EU10043565\\u0026oj=cQgn6aire5MOd0QUQnyxUQ8wNnEuARjOpW6F9Xymq0FJQGyTvRQz0N50CeiPEo1eJL1qM2Pf%2Fan4%2Bj3iYD%2BMRbG3mFG%2B5vYbR0REAqUxXUDIBWexIpibH0plqdgUSG%2BUXrQSw%2B%2FX1bbNCF9%2F110BZDp0hCNKO%2BcHo2M9jEOAPSLbaIdXv9YIFqKzdZWOwZvbdMAtSn%2B9Id4vH4MuGzFJiErLLp1Ox71Vg1K%2FFXnNMQA\\u0026evtcd=BID_LOSE\\u0026rk=k_9WgstERrp4ae8_8RzM5g\\u0026eltts=8th9wdX48uAErSqCGHQ7Pw%3D%3D\\u0026calp=-\\u0026ac=8980072\\u0026src=7131634\\u0026x_ti=1504\\u0026brs=Y\"}],\"attached\":[],\"activeViewImpressions\":[{\"url\":\"https://siape.veta.naver.com/openrtb/nbimp?oj=cQgn6aire5MOd0QUQnyxUQ8wNnEuARjOpW6F9Xymq0FJQGyTvRQz0N50CeiPEo1eJL1qM2Pf%2Fan4%2Bj3iYD%2BMRbG3mFG%2B5vYbR0REAqUxXUDIBWexIpibH0plqdgUSG%2BUXrQSw%2B%2FX1bbNCF9%2F110BZDp0hCNKO%2BcHo2M9jEOAPSLbaIdXv9YIFqKzdZWOwZvbdMAtSn%2B9Id4vH4MuGzFJiErLLp1Ox71Vg1K%2FFXnNMQA\\u0026rk=k_9WgstERrp4ae8_8RzM5g\\u0026eltts=8th9wdX48uAErSqCGHQ7Pw%3D%3D\"}],\"renderedImpressions\":[],\"viewableImpressions\":[{\"url\":\"https://siape.veta.naver.com/openrtb/nbimp?oj=cQgn6aire5MOd0QUQnyxUQ8wNnEuARjOpW6F9Xymq0FJQGyTvRQz0N50CeiPEo1eJL1qM2Pf%2Fan4%2Bj3iYD%2BMRbG3mFG%2B5vYbR0REAqUxXUDIBWexIpibH0plqdgUSG%2BUXrQSw%2B%2FX1bbNCF9%2F110BZDp0hCNKO%2BcHo2M9jEOAPSLbaIdXv9YIFqKzdZWOwZvbdMAtSn%2B9Id4vH4MuGzFJiErLLp1Ox71Vg1K%2FFXnNMQA\\u0026rk=k_9WgstERrp4ae8_8RzM5g\\u0026eltts=8th9wdX48uAErSqCGHQ7Pw%3D%3D\"}],\"clicks\":[],\"vimp1px\":[],\"vimp100\":[],\"vimp100p\":[],\"admute\":[],\"advmute\":[],\"like\":[],\"unlike\":[],\"close\":[],\"bounce\":[]},\"adInfo\":{\"responseSize\":{\"height\":0,\"width\":0}}}],\"config\":{\"imp\":{\"ratio\":100,\"ms\":0}}},\"additionalInfo\":{\"adCount\":1,\"adDuplicate\":{\"advertiserDomains\":[\"www.childfund.or.kr\"],\"adDuplicationKeys\":[\"URL:https://www.childfund.or.kr\"]},\"adSize\":{\"h\":130,\"w\":830}}}\n",
       "</script>"
      ]
     },
     "execution_count": 51,
     "metadata": {},
     "output_type": "execute_result"
    }
   ],
   "source": [
    "# data-gfp-banner-size 속성을 가진 태그 찾기\n",
    "banners = soup.find_all(attrs={'data-gfp-banner-size':'830x130'})\n",
    "for banner in banners:\n",
    "    print(banner.prettify())\n",
    "\n",
    "soup.find(id='ad-timeboard-response')"
   ]
  },
  {
   "cell_type": "code",
   "execution_count": 62,
   "metadata": {},
   "outputs": [
    {
     "name": "stdout",
     "output_type": "stream",
     "text": [
      "상단영역 바로가기\n",
      "서비스 메뉴 바로가기\n",
      "새소식 블록 바로가기\n",
      "쇼핑 블록 바로가기\n",
      "관심사 블록 바로가기\n",
      "MY 영역 바로가기\n",
      "위젯 보드 바로가기\n",
      "보기 설정 바로가기\n"
     ]
    }
   ],
   "source": [
    "spans = soup.select('#u_skip > a > span')\n",
    "for span in spans:\n",
    "    print(span.text)"
   ]
  },
  {
   "cell_type": "code",
   "execution_count": 65,
   "metadata": {},
   "outputs": [
    {
     "name": "stdout",
     "output_type": "stream",
     "text": [
      "           검색                       검색       입력도구     자동완성/최근검색어펼치기        최근 검색어  전체삭제     검색어 저장 기능이 꺼져 있습니다.설정이 초기화 된다면 도움말을 확인해주세요. 최근 검색어 내역이 없습니다.설정이 초기화 된다면 도움말을 확인해주세요.     자동저장 끄기  도움말   닫기       CUE대화하듯 질문해 보세요이 정보가 표시된 이유  검색어와 포함된 키워드를 기반으로 AI 기술을 활용하여 연관된 추천 질문을 제공합니다. 레이어 닫기      이전 다음             자세히보기      관심사를 반영한 컨텍스트 자동완성도움말   컨텍스트 자동완성   컨텍스트 자동완성  ON/OFF 설정은 해당기기(브라우저)에 저장됩니다.  자세히 보기    동일한 시간대・연령대・남녀별 사용자 그룹의 관심사에 맞춰 자동완성을 제공합니다. 자세히 보기   네이버로그인   컨텍스트 자동완성 레이어 닫기       자동완성 끄기  도움말 신고   닫기                   \n"
     ]
    }
   ],
   "source": [
    "header_div = soup.select_one('#wrap #header')\n",
    "print(header_div.text if header_div else 'No found header div')"
   ]
  },
  {
   "cell_type": "code",
   "execution_count": 69,
   "metadata": {},
   "outputs": [
    {
     "name": "stdout",
     "output_type": "stream",
     "text": [
      "830x130\n"
     ]
    }
   ],
   "source": [
    "# ID가 'ad-timeboard-response'인 script 태그의 data-gfp-banner-size 속성 값 선택\n",
    "\n",
    "banner = soup.select_one('script#ad-timeboard-response')\n",
    "print(banner['data-gfp-banner-size'] if banner else 'no found banner')"
   ]
  },
  {
   "cell_type": "markdown",
   "metadata": {},
   "source": [
    "Copy Selector\n",
    "\n",
    "- copy selector는 해당 요소로 접근할 수 있는 CSS 선택자를 복사합니다.\n",
    "- 이를 통해 JavaScript나 Selenium과 같은 도구에서 해당 요소를 선택할 수 있습니다."
   ]
  },
  {
   "cell_type": "code",
   "execution_count": 3,
   "metadata": {},
   "outputs": [
    {
     "name": "stdout",
     "output_type": "stream",
     "text": [
      "뉴스스탠드\n"
     ]
    }
   ],
   "source": [
    "# 동적 컨텐츠 로딩 : selenium 사용\n",
    "import time\n",
    "from selenium import webdriver\n",
    "from selenium.webdriver.chrome.options import Options\n",
    "from selenium.webdriver.common.by import By # 인터넷에 구버전이 돌아다니나, 1-2년 전에 common.by로 통합되었다.\n",
    "\n",
    "options = Options()\n",
    "options.add_argument(\"--start-maximized\") # 브라우저 화면을 열 때 맥스 사이즈로 오픈\n",
    "options.add_experimental_option(\"detach\", True) # 브라우저 화면을 열어 유지시켜주는 옵션\n",
    "\n",
    "driver = webdriver.Chrome(options=options)\n",
    "\n",
    "# Naver 페이지 열기\n",
    "url = 'https://www.naver.com/'\n",
    "driver.get(url)\n",
    "\n",
    "# 페이지 로딩 대기\n",
    "time.sleep(2) # 2초 대기(필요에 따라 조정)\n",
    "\n",
    "# 뉴스스탠드 링크 찾기\n",
    "try:\n",
    "    newsstand_link = driver.find_element(By.CSS_SELECTOR, '#newsstand > div.ContentHeaderView-module__content_header___nSgPg > div > ul > li > span > a')\n",
    "    print(newsstand_link.text)\n",
    "except:\n",
    "    print('해당 링크를 찾을 수 없습니다.')\n",
    "\n",
    "# 브라우저 닫기\n",
    "driver.quit()"
   ]
  },
  {
   "cell_type": "markdown",
   "metadata": {},
   "source": [
    " Copy XPath\n",
    "\n",
    "- copy XPath는 해당 요소로 접근할 수 있는 XPath를 복사합니다.\n",
    "- XPath는 XML 문서의 특정 요소를 선택할 때 사용되는 언어로, HTML에도 적용할 수 있습니다."
   ]
  },
  {
   "cell_type": "code",
   "execution_count": 4,
   "metadata": {},
   "outputs": [
    {
     "name": "stdout",
     "output_type": "stream",
     "text": [
      "뉴스스탠드\n"
     ]
    }
   ],
   "source": [
    "import time\n",
    "from selenium import webdriver\n",
    "from selenium.webdriver.chrome.options import Options\n",
    "from selenium.webdriver.common.by import By # 인터넷에 구버전이 돌아다니나, 1-2년 전에 common.by로 통합되었다.\n",
    "\n",
    "driver = webdriver.Chrome()\n",
    "\n",
    "# Naver 페이지 열기\n",
    "url = 'https://www.naver.com/'\n",
    "driver.get(url)\n",
    "\n",
    "# 페이지 로딩 대기\n",
    "time.sleep(2) # 2초 대기(필요에 따라 조정)\n",
    "\n",
    "try:\n",
    "    newsstand_link = driver.find_element(By.XPATH, '//*[@id=\"newsstand\"]/div[1]/div/ul/li[1]/span/a[1]')\n",
    "    print(newsstand_link.text)\n",
    "except:\n",
    "    print('해당 링크를 찾을 수 없습니다.')\n",
    "\n",
    "# 브라우저 닫기\n",
    "driver.quit()"
   ]
  }
 ],
 "metadata": {
  "kernelspec": {
   "display_name": "myenv",
   "language": "python",
   "name": "python3"
  },
  "language_info": {
   "codemirror_mode": {
    "name": "ipython",
    "version": 3
   },
   "file_extension": ".py",
   "mimetype": "text/x-python",
   "name": "python",
   "nbconvert_exporter": "python",
   "pygments_lexer": "ipython3",
   "version": "3.10.11"
  }
 },
 "nbformat": 4,
 "nbformat_minor": 2
}
