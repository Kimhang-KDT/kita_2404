{
 "cells": [
  {
   "cell_type": "code",
   "execution_count": 50,
   "metadata": {},
   "outputs": [],
   "source": [
    "from selenium import webdriver\n",
    "from selenium.webdriver.chrome.options import Options\n",
    "from selenium.webdriver.common.by import By\n",
    "from selenium.webdriver.common.keys import Keys\n",
    "import time\n",
    "from selenium.webdriver.support.ui import WebDriverWait\n",
    "from selenium.webdriver.support import expected_conditions as EC"
   ]
  },
  {
   "cell_type": "markdown",
   "metadata": {},
   "source": [
    "#### Task1_0621. https://www.google.com 사이트에서 셀레니움을 이용해서 다음을 수행하세요.\n",
    "- xpath 속성을 사용하여 접근하여 요소를 추출\n",
    "- 앵커태그(a 태그)에 사용되는 텍스트로 접근하여 요소를 추출\n",
    "- 앵커태그(a 태그)에 사용되는 일부 텍스트로 접근하여 요소를 추출\n",
    "- 태그를 사용하여 접근하여 요소를 추출\n",
    "- CSS 선택자를 사용하여 접근하여 요소를 추출"
   ]
  },
  {
   "cell_type": "code",
   "execution_count": 21,
   "metadata": {},
   "outputs": [
    {
     "name": "stdout",
     "output_type": "stream",
     "text": [
      "1.  Gmail\n",
      "2.  Google 정보\n",
      "3.  submit\n",
      "4.  Gmail\n"
     ]
    }
   ],
   "source": [
    "options = Options()\n",
    "options.add_argument('--disable-blink-features=AutomationControlled')  # 자동화된 컨트롤 메시지 비활성화\n",
    "driver = webdriver.Chrome(options=options)\n",
    "\n",
    "driver.get('https://www.google.com')\n",
    "\n",
    "time.sleep(1)\n",
    "\n",
    "try:\n",
    "  xpath = driver.find_element(By.XPATH, '//*[@class=\"gb_I\"]')\n",
    "  atag = driver.find_element(By.TAG_NAME, 'a')\n",
    "  input = driver.find_element(By.TAG_NAME, 'input')\n",
    "  css_selector = driver.find_element(By.CSS_SELECTOR, 'a.gb_I')\n",
    "  print('1. ', xpath.text)\n",
    "  print('2. ', atag.text)\n",
    "  print('3. ', input.get_attribute('type'))\n",
    "  print('4. ', css_selector.text)\n",
    "except Exception as e:\n",
    "  print(f'Not found as {e}')\n",
    "\n",
    "driver.quit()"
   ]
  },
  {
   "cell_type": "markdown",
   "metadata": {},
   "source": [
    "#### Task2_0621. 한빛 네트워크 사이트 https://www.hanbit.co.kr/에 로그인 후 마일리지 점수 가져와서 출력하세요."
   ]
  },
  {
   "cell_type": "code",
   "execution_count": 45,
   "metadata": {},
   "outputs": [
    {
     "name": "stdout",
     "output_type": "stream",
     "text": [
      "내 마일리지 : 2,000\n"
     ]
    }
   ],
   "source": [
    "driver = webdriver.Chrome()\n",
    "time.sleep(2)\n",
    "id = 'tkdehdjssl'\n",
    "pw = 'hao3dht4!'\n",
    "driver.get('https://www.hanbit.co.kr/')\n",
    "\n",
    "try:\n",
    "  login = driver.find_element(By.CLASS_NAME, 'login')\n",
    "  login.send_keys(Keys.ENTER)\n",
    "\n",
    "  id_input = driver.find_element(By.ID, 'm_id')\n",
    "  pw_input = driver.find_element(By.ID, 'm_passwd')\n",
    "  id_input.send_keys(id)\n",
    "  pw_input.send_keys(pw)\n",
    "  pw_input.send_keys(Keys.ENTER)\n",
    "\n",
    "  atag = driver.find_elements(By.CSS_SELECTOR, 'div.top_dropdown-content > a')[2]\n",
    "  driver.execute_script(\"arguments[0].click();\", atag)\n",
    "\n",
    "  mile = driver.find_element(By.CSS_SELECTOR, 'dl.mileage_section1 > dd > span')\n",
    "  print(f\"내 마일리지 : {mile.text}\")\n",
    "except Exception as e:\n",
    "  print(f\"Error by {e}\")\n",
    "\n",
    "driver.quit()"
   ]
  },
  {
   "cell_type": "markdown",
   "metadata": {},
   "source": [
    "#### Task3_0621. 네이버 로그인한 후 안읽은 메일의 개수를 가져와서 출력하세요."
   ]
  },
  {
   "cell_type": "code",
   "execution_count": 63,
   "metadata": {},
   "outputs": [],
   "source": [
    "options = Options()\n",
    "options.add_argument(\"--user-agent=Mozilla/5.0 (Windows NT 10.0; Win64; x64) AppleWebKit/537.36 (KHTML, like Gecko) Chrome/58.0.3029.110 Safari/537.36\")\n",
    "driver = webdriver.Chrome(options = options)\n",
    "driver.get('https://www.naver.com/')"
   ]
  },
  {
   "cell_type": "code",
   "execution_count": 64,
   "metadata": {},
   "outputs": [
    {
     "name": "stdout",
     "output_type": "stream",
     "text": [
      "Error by Message: no such element: Unable to locate element: {\"method\":\"css selector\",\"selector\":\"span.MyView-module__item_num___eHxDY\"}\n",
      "  (Session info: chrome=126.0.6478.63); For documentation on this error, please visit: https://www.selenium.dev/documentation/webdriver/troubleshooting/errors#no-such-element-exception\n",
      "Stacktrace:\n",
      "\tGetHandleVerifier [0x00007FF7EF9D3E32+31618]\n",
      "\t(No symbol) [0x00007FF7EF94B099]\n",
      "\t(No symbol) [0x00007FF7EF80888A]\n",
      "\t(No symbol) [0x00007FF7EF858524]\n",
      "\t(No symbol) [0x00007FF7EF85862C]\n",
      "\t(No symbol) [0x00007FF7EF89F787]\n",
      "\t(No symbol) [0x00007FF7EF87D14F]\n",
      "\t(No symbol) [0x00007FF7EF89CA80]\n",
      "\t(No symbol) [0x00007FF7EF87CEB3]\n",
      "\t(No symbol) [0x00007FF7EF84A46B]\n",
      "\t(No symbol) [0x00007FF7EF84B001]\n",
      "\tGetHandleVerifier [0x00007FF7EFCD9FFD+3202381]\n",
      "\tGetHandleVerifier [0x00007FF7EFD26A1D+3516269]\n",
      "\tGetHandleVerifier [0x00007FF7EFD1C490+3473888]\n",
      "\tGetHandleVerifier [0x00007FF7EFA85D36+760454]\n",
      "\t(No symbol) [0x00007FF7EF956B3F]\n",
      "\t(No symbol) [0x00007FF7EF951CD4]\n",
      "\t(No symbol) [0x00007FF7EF951E62]\n",
      "\t(No symbol) [0x00007FF7EF94120F]\n",
      "\tBaseThreadInitThunk [0x00007FF9765D7344+20]\n",
      "\tRtlUserThreadStart [0x00007FF977EDCC91+33]\n",
      "\n"
     ]
    }
   ],
   "source": [
    "options = Options()\n",
    "options.add_argument(\"--user-agent=Mozilla/5.0 (Windows NT 10.0; Win64; x64) AppleWebKit/537.36 (KHTML, like Gecko) Chrome/58.0.3029.110 Safari/537.36\")\n",
    "driver = webdriver.Chrome(options = options)\n",
    "driver.get('https://www.naver.com/')\n",
    "id = 'tkdehdjssl'\n",
    "pw = 'hao3dht4!'\n",
    "\n",
    "try:\n",
    "  login = driver.find_element(By.CSS_SELECTOR, '#account > div > a')\n",
    "  login.click()\n",
    "  time.sleep(3)\n",
    "  id_input = driver.find_element(By.CSS_SELECTOR,'#id.input_text')\n",
    "  pw_input = driver.find_element(By.CSS_SELECTOR, '#pw.input_text')\n",
    "  id_input.send_keys(id)\n",
    "  time.sleep(3)\n",
    "  pw_input.send_keys(pw)\n",
    "  time.sleep(3)\n",
    "\n",
    "  pw_input.send_keys(Keys.ENTER)\n",
    "  time.sleep(3)\n",
    "\n",
    "  span = driver.find_element(By.CSS_SELECTOR, 'span.MyView-module__item_num___eHxDY')\n",
    "  print(f\"안읽은 메일 : {span.text}\")\n",
    "except Exception as e:\n",
    "  print(f'Error by {e}')  \n",
    "  \n",
    "\n",
    "#driver.quit()"
   ]
  },
  {
   "cell_type": "code",
   "execution_count": null,
   "metadata": {},
   "outputs": [],
   "source": [
    "mail = WebDriverWait(driver, 3).until(\n",
    "    EC.presence_of_element_located(pw_input.send_keys(Keys.ENTER))\n",
    "  )\n",
    "\n",
    "  span = driver.find_element(By.CSS_SELECTOR, 'span.MyView-module__item_num___eHxDY')\n",
    "  print(f\"안읽은 메일 : {span.text}\")\n",
    "  #account > div.MyView-module__my_menu___eF24q > div > div > ul > li:nth-child(1) > a > span.MyView-module__item_num___eHxDY\n",
    "  #shortcutArea > ul > li:nth-child(1) > a\n",
    "except Exception as e:\n",
    "  print(f'Error by {e}')"
   ]
  }
 ],
 "metadata": {
  "kernelspec": {
   "display_name": "myenv",
   "language": "python",
   "name": "python3"
  },
  "language_info": {
   "codemirror_mode": {
    "name": "ipython",
    "version": 3
   },
   "file_extension": ".py",
   "mimetype": "text/x-python",
   "name": "python",
   "nbconvert_exporter": "python",
   "pygments_lexer": "ipython3",
   "version": "3.10.11"
  }
 },
 "nbformat": 4,
 "nbformat_minor": 2
}
