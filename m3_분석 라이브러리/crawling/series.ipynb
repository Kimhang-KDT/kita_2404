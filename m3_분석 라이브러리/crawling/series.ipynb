{
 "cells": [
  {
   "cell_type": "code",
   "execution_count": 8,
   "metadata": {},
   "outputs": [],
   "source": [
    "from selenium import webdriver\n",
    "from selenium.webdriver.chrome.options import Options\n",
    "from selenium.webdriver.common.by import By\n",
    "from selenium.webdriver.common.keys import Keys\n",
    "import time\n",
    "import requests\n",
    "import pandas as pd\n",
    "import re\n",
    "from bs4 import BeautifulSoup\n",
    "from datetime import datetime\n",
    "import os"
   ]
  },
  {
   "cell_type": "code",
   "execution_count": 12,
   "metadata": {},
   "outputs": [],
   "source": [
    "# 네이버 시리즈 카테고리별 링크 추출\n",
    "\n",
    "base_url = 'https://series.naver.com'\n",
    "url = 'https://series.naver.com/novel/categoryProductList.series?categoryTypeCode=genre&genreCode=205&orderTypeCode=sale&is&isFinished=false&page={}'\n",
    "\n",
    "headers = {\n",
    "    \"User-Agent\": \"Mozilla/5.0 (Windows NT 10.0; Win64; x64) AppleWebKit/537.36 (KHTML, like Gecko) Chrome/91.0.4472.124 Safari/537.36\"\n",
    "}\n",
    "\n",
    "data = []\n",
    "for i in range(1, 39):\n",
    "  response = requests.get(url.format(i), headers=headers)\n",
    "  soup = BeautifulSoup(response.text, 'html.parser')\n",
    "\n",
    "  lst_list = soup.select('ul.lst_list > li')\n",
    "  for lst in lst_list:\n",
    "    link = lst.select_one('div > h3 > a')['href']\n",
    "    data.append(base_url+link)\n",
    "\n",
    "df = pd.DataFrame({'link':data})\n",
    "df.to_csv('genre_205.csv', index=False)"
   ]
  },
  {
   "cell_type": "code",
   "execution_count": 13,
   "metadata": {},
   "outputs": [],
   "source": [
    "df1 = pd.read_csv('genre.csv')\n",
    "df2 = pd.read_csv('genre_202.csv')\n",
    "df3 = pd.read_csv('genre_203.csv')\n",
    "df4 = pd.read_csv('genre_205.csv')\n",
    "df5 = pd.read_csv('genre_206.csv')\n",
    "df6 = pd.read_csv('genre_207.csv')\n",
    "df7 = pd.read_csv('genre_208.csv')\n",
    "\n",
    "df = pd.concat([df1, df2, df3, df4, df5, df6, df7])\n",
    "df.to_csv('links.csv')"
   ]
  },
  {
   "cell_type": "code",
   "execution_count": 20,
   "metadata": {},
   "outputs": [
    {
     "name": "stdout",
     "output_type": "stream",
     "text": [
      "https://series.naver.com/novel/detail.series?productNo=1200383\n"
     ]
    },
    {
     "data": {
      "text/html": [
       "<div>\n",
       "<style scoped>\n",
       "    .dataframe tbody tr th:only-of-type {\n",
       "        vertical-align: middle;\n",
       "    }\n",
       "\n",
       "    .dataframe tbody tr th {\n",
       "        vertical-align: top;\n",
       "    }\n",
       "\n",
       "    .dataframe thead th {\n",
       "        text-align: right;\n",
       "    }\n",
       "</style>\n",
       "<table border=\"1\" class=\"dataframe\">\n",
       "  <thead>\n",
       "    <tr style=\"text-align: right;\">\n",
       "      <th></th>\n",
       "    </tr>\n",
       "  </thead>\n",
       "  <tbody>\n",
       "  </tbody>\n",
       "</table>\n",
       "</div>"
      ],
      "text/plain": [
       "Empty DataFrame\n",
       "Columns: []\n",
       "Index: []"
      ]
     },
     "execution_count": 20,
     "metadata": {},
     "output_type": "execute_result"
    }
   ],
   "source": [
    "options = Options()\n",
    "options.add_argument(\"--user-agent=Mozilla/5.0 (Windows NT 10.0; Win64; x64) AppleWebKit/537.36 (KHTML, like Gecko) Chrome/58.0.3029.110 Safari/537.36\")\n",
    "driver = webdriver.Chrome(options=options)\n",
    "\n",
    "datas = []\n",
    "\n",
    "df = pd.read_csv('links.csv')\n",
    "\n",
    "for link in df.link:\n",
    "  driver.get(link)\n",
    "  time.sleep(2)\n",
    "\n",
    "  html = driver.page_source\n",
    "\n",
    "  soup = BeautifulSoup(html, 'html.parser')\n",
    "  end_head = soup.find('div.end_head')\n",
    "\n",
    "  if not end_head:\n",
    "    print(link)\n",
    "    break\n",
    "\n",
    "  data = {}\n",
    "\n",
    "  data['title'] = soup.select_one('div.end_head > h2').get_text()\n",
    "  data['u_cnt'] = soup.find('em', class_='u_cnt').get_text()\n",
    "  data['reviewCount'] = soup.find('span', id='reviewCount').get_text()\n",
    "\n",
    "  lists = soup.select('li.info_lst > ul > li')\n",
    "  data['ing'] = lists[0].get_text()\n",
    "  data['genre'] = lists[1].get_text()\n",
    "  data['author'] = lists[2].find('a').get_text()\n",
    "  data['publisher'] = soup.find('span', text='출판사').find_next_sibling().get_text()\n",
    "  data['users'] = lists[-1].get_text()\n",
    "\n",
    "  free_info = soup.select_one('div.area_text_information > strong')\n",
    "  data['free_info'] = free_info.get_text() if free_info else '0화'\n",
    "\n",
    "  data['uploaded'] = soup.select_one('h5.end_total_episode > strong').get_text()\n",
    "\n",
    "  recomms = soup.select('em.u_cbox_cnt_recomm')\n",
    "  unrecomms = soup.select('em.u_cbox_cnt_recomm')\n",
    "\n",
    "  data['reaction'] = 0\n",
    "\n",
    "  for i in range(len(recomms)):\n",
    "    recomm = int(recomms[i].get_text().strip())\n",
    "    unrecomm = int(unrecomms[i].get_text().strip())\n",
    "\n",
    "    data['reaction'] += (recomm + unrecomm)\n",
    "\n",
    "  datas.append(data)\n",
    "\n",
    "driver.quit()\n",
    "\n",
    "df1 = pd.DataFrame(datas)\n",
    "df1.to_csv('test.csv', index=False)\n",
    "df1"
   ]
  }
 ],
 "metadata": {
  "kernelspec": {
   "display_name": "myenv",
   "language": "python",
   "name": "python3"
  },
  "language_info": {
   "codemirror_mode": {
    "name": "ipython",
    "version": 3
   },
   "file_extension": ".py",
   "mimetype": "text/x-python",
   "name": "python",
   "nbconvert_exporter": "python",
   "pygments_lexer": "ipython3",
   "version": "3.10.11"
  }
 },
 "nbformat": 4,
 "nbformat_minor": 2
}
