{
 "cells": [
  {
   "cell_type": "markdown",
   "metadata": {},
   "source": [
    "Task1_0625. 다음 Selenium execute_script 메서드에 사용할 수 있는 JavaScript 명령어를 이용한 사례를 5개 작성해서 실행 결과를 확인하세요.\n",
    "단, 주어진 file_task1.html을 각각의 과제 수행에 적합한 형태로 수정하여 진행하세요.\n",
    "\n",
    "[과제]\n",
    "- document.getElementById(id) : 특정 ID를 가진 요소를 선택합니다.\n",
    "- document.getElementsByClassName(className) : 특정 클래스 이름을 가진 요소를 선택합니다.\n",
    "- document.getElementsByTagName(tagName) : 특정 태그 이름을 가진 요소를 선택합니다.\n",
    "- document.querySelector(selector) : CSS 선택자를 사용하여 첫 번째 일치하는 요소를 선택합니다.\n",
    "- document.querySelectorAll(selector) : CSS 선택자를 사용하여 일치하는 모든 요소를 선택합니다.\n",
    "\n",
    "[참고]\n",
    "- element.innerText : 요소의 텍스트 콘텐츠를 설정하거나 가져옵니다.\n",
    "- element.innerHTML : 요소의 HTML 콘텐츠를 설정하거나 가져옵니다.\n",
    "- element.value : 입력 필드의 값을 설정하거나 가져옵니다.\n",
    "- element.style.property : 요소의 CSS 스타일 속성을 설정합니다.\n",
    "- element.click() : 요소를 클릭합니다.\n",
    "- element.focus() : 요소에 포커스를 설정합니다.\n",
    "- element.blur() : 요소에서 포커스를 제거합니다.\n",
    "- window.scrollTo(x, y) : 페이지를 지정된 좌표로 스크롤합니다.\n",
    "- window.scrollBy(x, y) : 현재 위치에서 지정된 거리만큼 페이지를 스크롤합니다.\n",
    "- alert(message) : 경고창을 표시합니다.\n",
    "- confirm(message) : 확인창을 표시하고 사용자의 응답을 반환합니다.\n",
    "- prompt(message, default) : 입력창을 표시하고 사용자의 입력을 반환합니다.\n",
    "- form.submit() : 폼을 제출합니다.\n",
    "- form.reset() : 폼을 초기화합니다."
   ]
  },
  {
   "cell_type": "code",
   "execution_count": 4,
   "metadata": {},
   "outputs": [],
   "source": [
    "from selenium import webdriver\n",
    "from selenium.webdriver.chrome.options import Options\n",
    "from selenium.webdriver.common.by import By\n",
    "from selenium.webdriver.common.keys import Keys\n",
    "import time"
   ]
  },
  {
   "cell_type": "code",
   "execution_count": 2,
   "metadata": {},
   "outputs": [],
   "source": [
    "# 과제 1. document.getElementById(id)\n",
    "\n",
    "driver = webdriver.Chrome()\n",
    "\n",
    "file_path = 'C:\\KDT-240424\\m3_library\\crawling\\과제/file_task1.html'\n",
    "driver.get(file_path)\n",
    "\n",
    "time.sleep(2)\n",
    "\n",
    "driver.execute_script(\"\"\"\n",
    "  var button = document.getElementById('changeTextButton')\n",
    "  button.innerText = 'Change Button' \n",
    "\"\"\")\n",
    "\n",
    "time.sleep(2)\n",
    "\n",
    "driver.quit()"
   ]
  },
  {
   "cell_type": "code",
   "execution_count": 11,
   "metadata": {},
   "outputs": [],
   "source": [
    "# 과제 2. document.getElementsByClassName(className)\n",
    "\n",
    "driver = webdriver.Chrome()\n",
    "\n",
    "file_path = 'C:\\KDT-240424\\m3_library\\crawling\\과제/file_task2.html'\n",
    "driver.get(file_path)\n",
    "\n",
    "time.sleep(2)\n",
    "\n",
    "driver.execute_script(\"\"\"\n",
    "  var elements = document.getElementsByClassName('submitButton');\n",
    "    for( var i = 0; i < elements.length; i++){\n",
    "      elements[i].style.border = '30px solid black';\n",
    "      elements[i].style.backgroundColor = '#29b954';\n",
    "    }\n",
    "\"\"\")\n",
    "\n",
    "time.sleep(3)\n",
    "\n",
    "driver.quit()"
   ]
  },
  {
   "cell_type": "code",
   "execution_count": 12,
   "metadata": {},
   "outputs": [],
   "source": [
    "# 과제 3. document.getElementsByTagName(tagName)\n",
    "\n",
    "driver = webdriver.Chrome()\n",
    "\n",
    "file_path = 'C:\\KDT-240424\\m3_library\\crawling\\과제/file_task3.html'\n",
    "driver.get(file_path)\n",
    "\n",
    "time.sleep(2)\n",
    "\n",
    "driver.execute_script(\"\"\"\n",
    "  var elements = document.getElementsByTagName('h1');\n",
    "  for( var i = 0; i < elements.length; i++){\n",
    "    elements[i].innerText = 'Replace Title'\n",
    "  }\n",
    "\"\"\")\n",
    "\n",
    "time.sleep(2)\n",
    "\n",
    "driver.quit()"
   ]
  },
  {
   "cell_type": "code",
   "execution_count": 19,
   "metadata": {},
   "outputs": [],
   "source": [
    "# 과제 4. document.querySelector(selector)\n",
    "\n",
    "driver = webdriver.Chrome()\n",
    "\n",
    "file_path = 'C:\\KDT-240424\\m3_library\\crawling\\과제/file_task4.html'\n",
    "driver.get(file_path)\n",
    "\n",
    "time.sleep(2)\n",
    "\n",
    "driver.execute_script(\"\"\"\n",
    "  form = document.querySelector('#form')\n",
    "  form.name = 'who'\n",
    "  form.value = 'Jane Smith'\n",
    "  form.submit()\n",
    "\"\"\")\n",
    "\n",
    "time.sleep(2)\n",
    "\n",
    "driver.quit()"
   ]
  },
  {
   "cell_type": "code",
   "execution_count": 17,
   "metadata": {},
   "outputs": [],
   "source": [
    "# 과제 5. document.querySelectorAll(selector)\n",
    "\n",
    "driver = webdriver.Chrome()\n",
    "\n",
    "file_path = 'C:\\KDT-240424\\m3_library\\crawling\\과제/file_task5.html'\n",
    "driver.get(file_path)\n",
    "\n",
    "time.sleep(2)\n",
    "\n",
    "driver.execute_script(\"\"\"\n",
    "  document.querySelectorAll('.highlight').forEach(function(element) {\n",
    "    element.style.backgroundColor = 'white';\n",
    "    element.style.border = '3px solid green';\n",
    "  });\n",
    "\"\"\")\n",
    "\n",
    "time.sleep(2)\n",
    "\n",
    "driver.quit()"
   ]
  }
 ],
 "metadata": {
  "kernelspec": {
   "display_name": "myenv",
   "language": "python",
   "name": "python3"
  },
  "language_info": {
   "codemirror_mode": {
    "name": "ipython",
    "version": 3
   },
   "file_extension": ".py",
   "mimetype": "text/x-python",
   "name": "python",
   "nbconvert_exporter": "python",
   "pygments_lexer": "ipython3",
   "version": "3.10.11"
  }
 },
 "nbformat": 4,
 "nbformat_minor": 2
}
