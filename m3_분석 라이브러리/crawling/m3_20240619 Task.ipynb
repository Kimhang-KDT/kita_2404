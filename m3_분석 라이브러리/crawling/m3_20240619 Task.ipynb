{
 "cells": [
  {
   "cell_type": "markdown",
   "metadata": {},
   "source": [
    "Task1_0619. 다음 사항을 수행하세요.\n",
    "- 첫 번째로 매칭되는 'p' 태그 찾기\n",
    "- 모든 'p' 태그 찾기\n",
    "- 클래스가 'content'인 첫 번째 'p' 태그 찾기\n",
    "- 클래스가 'content'인 모든 'p' 태그 찾기\n",
    "- 특정 'p' 태그의 모든 부모 태그 찾기\n",
    "- 특정 'p' 태그의 첫 번째 부모 태그 찾기\n",
    "- 특정 'p' 태그의 다음 형제 태그 찾기\n",
    "- 특정 'p' 태그의 이전 형제 태그 찾기\n",
    "- 특정 'p' 태그 다음에 위치한 모든 태그나 문자열 찾기\n",
    "- 특정 'p' 태그 이전에 위치한 모든 태그나 문자열 찾기 "
   ]
  },
  {
   "cell_type": "code",
   "execution_count": 3,
   "metadata": {},
   "outputs": [
    {
     "name": "stdout",
     "output_type": "stream",
     "text": [
      "<p class=\"content\">First paragraph.</p>\n",
      "모든 'p' 태그 :  [<p class=\"content\">First paragraph.</p>, <p class=\"content\">Second paragraph.</p>]\n",
      "'content' 첫 번째 'p' 태그 :  <p class=\"content\">First paragraph.</p>\n",
      "<p class=\"content\">First paragraph.</p>\n",
      "'content' 모든 'p' 태그 :  [<p class=\"content\">First paragraph.</p>, <p class=\"content\">Second paragraph.</p>]\n",
      "[<p class=\"content\">First paragraph.</p>, <p class=\"content\">Second paragraph.</p>]\n",
      "모든 부모 태그 :  [<body><h1>Title</h1><p class=\"content\">First paragraph.</p><p class=\"content\">Second paragraph.</p></body>, <html><body><h1>Title</h1><p class=\"content\">First paragraph.</p><p class=\"content\">Second paragraph.</p></body></html>, <html><body><h1>Title</h1><p class=\"content\">First paragraph.</p><p class=\"content\">Second paragraph.</p></body></html>]\n",
      "첫 번째 부모 태그 :  <body><h1>Title</h1><p class=\"content\">First paragraph.</p><p class=\"content\">Second paragraph.</p></body>\n",
      "다음 형제 태그 :  <p class=\"content\">Second paragraph.</p>\n",
      "이전 형제 태그 :  <h1>Title</h1>\n",
      "다음 모든 태그나 문자열 :  [<p class=\"content\">Second paragraph.</p>]\n",
      "이전 모든 태그나 문자열 :  [<h1>Title</h1>, <body><h1>Title</h1><p class=\"content\">First paragraph.</p><p class=\"content\">Second paragraph.</p></body>, <html><body><h1>Title</h1><p class=\"content\">First paragraph.</p><p class=\"content\">Second paragraph.</p></body></html>]\n"
     ]
    }
   ],
   "source": [
    "from bs4 import BeautifulSoup\n",
    "\n",
    "html_content = '<html><body><h1>Title</h1><p class=\"content\">First paragraph.</p><p class=\"content\">Second paragraph.</p></body></html>'\n",
    "soup = BeautifulSoup(html_content, 'html.parser')\n",
    "\n",
    "# 첫 번째로 매칭되는 'p' 태그 찾기\n",
    "print(soup.find('p'))\n",
    "\n",
    "# 모든 'p' 태그 찾기\n",
    "print(\"모든 'p' 태그 : \", soup.find_all('p'))\n",
    "\n",
    "# 클래스가 'content'인 첫 번째 'p' 태그 찾기\n",
    "print(\"'content' 첫 번째 'p' 태그 : \", soup.find(class_='content'))\n",
    "print(soup.select_one('p.content'))\n",
    "\n",
    "# 클래스가 'content'인 모든 'p' 태그 찾기\n",
    "print(\"'content' 모든 'p' 태그 : \", soup.find_all(class_='content'))\n",
    "print(soup.select('p.content'))\n",
    "\n",
    "# 특정 'p' 태그의 모든 부모 태그 찾기\n",
    "print(\"모든 부모 태그 : \", soup.find('p').find_parents())\n",
    "\n",
    "# 특정 'p' 태그의 첫 번째 부모 태그 찾기\n",
    "print(\"첫 번째 부모 태그 : \", soup.find('p').find_parent())\n",
    "\n",
    "# 특정 'p' 태그의 다음 형제 태그 찾기\n",
    "print(\"다음 형제 태그 : \", soup.find('p').find_next_sibling())\n",
    "\n",
    "# 특정 'p' 태그의 이전 형제 태그 찾기\n",
    "print(\"이전 형제 태그 : \", soup.find('p').find_previous_sibling())\n",
    "\n",
    "# 특정 'p' 태그 다음에 위치한 모든 태그나 문자열 찾기\n",
    "print(\"다음 모든 태그나 문자열 : \", soup.find('p').find_all_next())\n",
    "\n",
    "# 특정 'p' 태그 이전에 위치한 모든 태그나 문자열 찾기\n",
    "print(\"이전 모든 태그나 문자열 : \", soup.find('p').find_all_previous())"
   ]
  },
  {
   "cell_type": "markdown",
   "metadata": {},
   "source": [
    "Task2_0619. ID를 이용해서 '네이버 뉴스' 추출하세요."
   ]
  },
  {
   "cell_type": "code",
   "execution_count": 6,
   "metadata": {},
   "outputs": [
    {
     "data": {
      "text/plain": [
       "'네이버 뉴스'"
      ]
     },
     "execution_count": 6,
     "metadata": {},
     "output_type": "execute_result"
    }
   ],
   "source": [
    "import requests\n",
    "from bs4 import BeautifulSoup\n",
    "\n",
    "url = 'https://news.naver.com'\n",
    "\n",
    "headers = {\n",
    "    'User-Agent': 'Mozilla/5.0 (Windows NT 10.0; Win64; x64) AppleWebKit/537.36 (KHTML, like Gecko) Chrome/58.0.3029.110 Safari/537.3'\n",
    "}\n",
    "\n",
    "res = requests.get(url, headers=headers)\n",
    "soup = BeautifulSoup(res.text, 'html.parser')\n",
    "\n",
    "soup.find(id='browserTitleArea').text\n",
    "soup.select_one('title#browserTitleArea').text"
   ]
  },
  {
   "cell_type": "markdown",
   "metadata": {},
   "source": [
    "Task3_0619. soup.find_all(class_='Nitem_link_menu') 대신에 select를 이용하여 동일한 결과를 출력하세요."
   ]
  },
  {
   "cell_type": "code",
   "execution_count": 7,
   "metadata": {},
   "outputs": [
    {
     "name": "stdout",
     "output_type": "stream",
     "text": [
      "1. 언론사별\n",
      "2. 정치\n",
      "3. 경제\n",
      "4. 사회\n",
      "5. 생활/문화\n",
      "6. IT/과학\n",
      "7. 세계\n",
      "8. 랭킹\n",
      "9. 신문보기\n",
      "10. 오피니언\n",
      "11. TV\n",
      "12. 팩트체크\n",
      "13. 알고리즘 안내\n",
      "14. 정정보도 모음\n"
     ]
    }
   ],
   "source": [
    "items = soup.select('.Nitem_link_menu')\n",
    "for idx, item in enumerate(items):\n",
    "    print(f\"{idx+1}. {item.text}\")"
   ]
  },
  {
   "cell_type": "markdown",
   "metadata": {},
   "source": [
    "Task4_0619. select_one을 이용해서 'https://news.naver.com'에서 \"뉴스\"를 출력하세요"
   ]
  },
  {
   "cell_type": "code",
   "execution_count": 8,
   "metadata": {},
   "outputs": [
    {
     "data": {
      "text/plain": [
       "'뉴스'"
      ]
     },
     "execution_count": 8,
     "metadata": {},
     "output_type": "execute_result"
    }
   ],
   "source": [
    "soup.select_one('.Nicon_service').text"
   ]
  },
  {
   "cell_type": "markdown",
   "metadata": {},
   "source": [
    "Task5_0619.'https://news.naver.com'에서 아래 예시와 같이 뉴스 기사 제목을 모두 출력하세요. \n",
    "\n",
    "예시: 1: [속보] '훈련병 사망' 얼차려 지시 중대장·부중대장 피의자 신분 첫 소환조사"
   ]
  },
  {
   "cell_type": "code",
   "execution_count": 17,
   "metadata": {},
   "outputs": [
    {
     "name": "stdout",
     "output_type": "stream",
     "text": [
      "1: 5번 유찰된 ‘대전역 성심당’ 자리… 코레일의 다음 카드는?\n",
      "2: 손흥민 손 꼭 잡고 “왜 이리 말랐어”... 치매 할머니 팬의 감동 만남\n",
      "3: 제로라니까 제로인 줄 알았어? '제로슈거'의 거짓말 [추적+]\n",
      "4: \"잘 나가던 수지 어쩌나\" BJ 천국 아프리카TV 때문에 '경악'\n",
      "5: 실질 지원 기대감 “해봐야”…익명 출산 딜레마 “해봤자”\n",
      "6: \"김호중처럼 도망가면 무죄? 무슨 법이 이래\"…'음주 무혐의' 뜨자 공분\n",
      "7: 박세리 父 “아버지니까 나설 수 있는 거 아닌가 생각”\n",
      "8: “귀엽지만 음식에 털 날려서…” 반려동물 식당 출입에 곳곳 갈등\n",
      "9: 2년 전 유사 질문에 '사이다 답변', 이번엔 침묵‥\"권익위 폐업?\"\n",
      "10: 톱스타 한명 없는데 시청률 터졌다…'우영우' 이은 대박 드라마\n",
      "11: \"왜 남의 나라 더럽혀\"... 제주 길거리서 아이 대변보게 한 중국인 관광객\n",
      "12: “고혈압, 심장혈관병 다 있는 사람 너무 많아”...꼭 바꿔야 할 ‘이 식습관’은?\n",
      "13: 49억에 팔렸던 한남동 그 집…3년 만에 '113억' 됐다\n",
      "14: 이재명 “단통법 신속 폐지하겠다… 통신비 부담 낮춰야”\n",
      "15: 살 파고 들어간 구더기 ‘한가득’…처참한 상태로 발견된 레트리버\n",
      "16: 석유公 \"5곳에서 관심 표명\"…동해 외자유치 윤곽 공개\n",
      "17: 서울 전역 올해 첫 폭염주의보 발령…상황실 즉시 가동\n",
      "18: \"압도적인 차\"…독일·영국서 호평 일색\n",
      "19: \"당근 빼달라\" 요청 들어줬는데..음식 받고 \"당근 상했으니 환불해줘\" 황당\n",
      "20: 홍준표 \"이재명? 경기도 차베스→여의도 동탁… 오래 못 간다\"\n",
      "21: \"거제시는 강제징용노동자상 건립 불허를 철회하라\"\n",
      "22: [단독] '尹 최측근' 주진우, 한동훈 돕는다…'尹-韓' 가교 역할하나\n",
      "23: [단독] 밀양시 공단 근무 '여중생 집단 성폭행 사건' 가해자 사직서 제출\n",
      "24: [티조 Clip] 90도로 허리 굽힌 강민구 \"민주당의 아버지는 이재명\"\n",
      "25: 울분 토한 이화영 옥중서신 “檢, 이재명 기소 성공…전 감옥서 이대로 썩으라고”\n",
      "26: 목사님 강의에 찬송가도…이 회사에 무슨 일이?\n",
      "27: “수료생 중 우리 아들만 없습니다”…훈련병 어머니의 편지\n",
      "28: [속보] '조국 아들 인턴 허위 발언' 최강욱 2심도 벌금 80만원\n",
      "29: 치매할머니 손 꼭 잡은 손흥민…‘흥민 바라기’와 감동적 만남\n",
      "30: \"박세리 다칠까봐\"…朴 눈물 왈칵 쏟게 한 24년 인연 기자의 질문\n",
      "31: [Feature] Infamy as fashion trend catalyst\n",
      "32: \"러브버그 너무 징그러워서 소름\"…달라붙어도 죽이지 말라고?\n",
      "33: “조국 아들 인턴” 발언 최강욱 항소심서도 벌금형\n",
      "34: 윤석열 정부 고위 검사 '3분의 2'가 특수활동비 오남용 의혹\n",
      "35: \"민주당의 아버지는 이재명\" 당 최고위원 '90도 첫 인사'\n",
      "36: 최태원-노소영 이혼소송, 끝날 때까지 끝난 게 아니다\n",
      "37: '월 4억 원' 대전역 성심당 월세 분쟁, '갈등관리기관' 나선다\n",
      "38: 오늘은 역대 6월 중 '가장 더운 날'…최고기온 곳곳 신기록\n",
      "39: 해외로 떠나는 한국 부자들… 역대 최대치\n",
      "40: 방문 요양보호사들 ‘임금 올려라’ 국가에 소송 제기\n",
      "41: [제4이통 백지화]④ 주파수 할당 취소 후폭풍, 스테이지파이브 어떡하나\n",
      "42: \"이런 변이?\"… 中관광객 자녀, 제주 도심서 한복판서 대변봐\n",
      "43: 서울 목동 아파트 지하주차장 불…주민 연기흡입·폭발음도\n",
      "44: ‘미안 미안’ 지각 대장 푸틴, 김정은 향해 뛰어...이례적 [영상]\n",
      "45: Putin, Kim likely to discuss military ties as rare summit talks begin\n",
      "46: [속보] 푸틴 \"北과 장기관계 새 기본문서 준비\"… 김정은 \"전략적 협력 강화\"\n",
      "47: 의료계도 선 그은 의협 회장…\"무기한 휴진, 황당\"\n",
      "48: 농가소득 안전망 최대 화두 속 ‘농민수당 법제화’ 첫발\n",
      "49: '지각 대장' 푸틴…24년만 방북까지 늦춘 의도는?\n",
      "50: 홍준표, 이재명 겨냥 “여의도 동탁 탄생.. 처단해줄 여포 기다리는 사람 늘어가”\n",
      "51: \"내 자식에 신경 꺼\" 1살 아들에 담배 물리고 촬영한 17세 엄마\n",
      "52: 조국혁신당, 김건희 여사 알선수재·직권남용 혐의로 고발\n",
      "53: [의대증원 파장] 개원의 무관심에 전공의 내분까지…무기한 휴진도 '글쎄'\n",
      "54: 하루만에 6천, 5일만에 1억...밀양 성폭력 피해자 위해 3천명이 나섰다\n",
      "55: “조국 아들 인턴” 허위 발언 최강욱, 2심도 벌금 80만원\n",
      "56: [단독] ‘김건희 종결’ 책임지고 사퇴한 권익위원 “알선수재 논의 없었다”\n",
      "57: 카이스트 교수 지드래곤, '성심당 빵 샀나?' 알고 보니…\n",
      "58: [증권사 PF 대해부] 한국투자증권, '경쟁과 보상' 공격적 익스포저 DNA\n",
      "59: 아무리 급해도, 길거리에서 큰 볼일을..  “몰릴 때 알아봤지만, 어디까지가 상식? 경악 금치 못해”\n",
      "60: 국민의힘, 민주당에 \"법사위·운영위 1년씩 번갈아 맡자\" 제안\n",
      "61: 뉴스 이용 설문 응답자 39% \"뉴스 피한다\"... 역대 최고\n",
      "62: 삼양, '불닭볶음면 금지' 덴마크에 반박 보낸다 [AI뉴스피드]\n",
      "63: [지도 위를 걷다 마적산] 말끔하면서도 거친 춘천의 미니 종주코스\n",
      "64: 의사 연봉 최고 6억원…\"구인난 심할수록 인건비 높아\"\n",
      "65: \"이준석다운 방송3법 수정안 끌어내 줬으면\"\n",
      "66: 여전히 위험한 부산 스쿨존…주차장 방치되고 펜스는 허술\n",
      "67: [속보]박찬대 \"법사위·운영위 1년 씩? 尹 1년 간 거부권 행사 안하면 가능\"\n",
      "68: 낮은 곳에서 고통과 친구로 살다\n",
      "69: 밥 먹을 때 ‘이런 습관’ 있다면… 위염 발생 위험 ↑\n",
      "70: “믿기지 않는다”…유명 女배우, 54세에 자연임신 성공\n",
      "71: \"중화상 입은 팀장 결국 숨져\".. 다른 작업자도 '중태'\n",
      "72: '7년 만났는데' 알고 보니 유부남..엽산이라 속여 낙태약 먹이기도\n",
      "73: 충주맨, 이준석 ‘지하철 꿀잠’ 패러디… 李 “합방 환영한다”\n",
      "74: 평생 수많은 생명 살린 구급대원, 마지막까지 5명에 새 삶 주고 떠나\n",
      "75: 21년 만의 현장검증, 화물차가 가리킨 것은\n",
      "76: “초대박 터졌다”...편의점 주류판 흔드는 CU\n",
      "77: 홍준표 아이디어로 대구에 ‘프러포즈 성지’ 만든다…비용만 110억원\n",
      "78: '사망 훈련병' 어머니의 눈물 \"수료생 251명 중 우리 아들만 없어\"\n",
      "79: ‘김정숙 외유논란’ 수사착수 시점에…文은 감자 사진\n",
      "80: 한은 “지역간 성장 격차, 생산성 격차에 기인…거점도시 집중 투자 필요”\n",
      "81: 韓 푸드테크 창발가 한자리…이기원 회장 \"반도체 버금갈 세계 넘버원 될 것\"\n",
      "82: 김정은 극도의 스트레스?…얼굴서 포착된 '이상 징후' 부쩍 커졌다\n"
     ]
    }
   ],
   "source": [
    "titles = soup.select('.cjs_t')\n",
    "for idx, title in enumerate(titles):\n",
    "    print(f\"{idx+1}: {title.text}\")"
   ]
  }
 ],
 "metadata": {
  "kernelspec": {
   "display_name": "myenv",
   "language": "python",
   "name": "python3"
  },
  "language_info": {
   "codemirror_mode": {
    "name": "ipython",
    "version": 3
   },
   "file_extension": ".py",
   "mimetype": "text/x-python",
   "name": "python",
   "nbconvert_exporter": "python",
   "pygments_lexer": "ipython3",
   "version": "3.10.11"
  }
 },
 "nbformat": 4,
 "nbformat_minor": 2
}
