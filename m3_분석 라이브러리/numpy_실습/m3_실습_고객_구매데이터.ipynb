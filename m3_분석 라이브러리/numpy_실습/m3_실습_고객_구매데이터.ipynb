{
  "nbformat": 4,
  "nbformat_minor": 0,
  "metadata": {
    "colab": {
      "provenance": []
    },
    "kernelspec": {
      "name": "python3",
      "display_name": "Python 3"
    },
    "language_info": {
      "name": "python"
    }
  },
  "cells": [
    {
      "cell_type": "markdown",
      "source": [
        "###  아래 가이드에 따라서 1000명의 고객 구매데이터를 생성하고 아래사항을 수행하세요(관측치 10000개)"
      ],
      "metadata": {
        "id": "5B6-PtRBmcRs"
      }
    },
    {
      "cell_type": "code",
      "execution_count": 1,
      "metadata": {
        "id": "0bu5m92x4Won"
      },
      "outputs": [],
      "source": [
        "import pandas as pd\n",
        "import numpy as np\n",
        "import random\n",
        "from datetime import datetime\n",
        "import time\n",
        "import matplotlib.pyplot as plt\n",
        "import seaborn as sns"
      ]
    },
    {
      "cell_type": "markdown",
      "source": [
        "#### Q1. 고객 속성(id, 성별, 연령, 거주지역) 데이터와 거래 데이터를 통합한 데이터 프레임 df를 생성하세요."
      ],
      "metadata": {
        "id": "RKS7OxIf4Zu2"
      }
    },
    {
      "cell_type": "code",
      "source": [
        "# 고객 데이터프레임\n",
        "np.random.seed(0)\n",
        "cusno = np.arange(1001,2001)\n",
        "gender = np.random.randint(0,2,size=1000)\n",
        "age = np.random.randint(10,81,size=1000)\n",
        "region = np.random.randint(1,11,size=1000)\n",
        "\n",
        "cus = pd.DataFrame({'cusno':cusno,'gender':gender,'age':age,'region':region})\n",
        "\n",
        "# 거래 데이터프레임\n",
        "trans_id = random.sample(list(range(10001,50000)), 10000)\n",
        "cusno = np.random.randint(1001,2001, size=10000)\n",
        "date = pd.date_range(start='2020-01-01', end='2021-12-31', periods=10000, normalize=True)\n",
        "day = date.day_name\n",
        "product_20 = np.random.choice([10,20,30], 10000) # 10:고가, 20:중가, 30:저가\n",
        "product_21 = np.random.choice([10,20,30], 10000)\n",
        "price_20 = np.random.uniform(1000,50000,10000).round()\n",
        "price_21 = np.random.uniform(1000,50000,10000).round()\n",
        "quantity_20 = np.random.randint(1,101, size=10000)\n",
        "quantity_21 = np.random.randint(1,101, size=10000)\n",
        "time_20 = np.random.randint(1,25, size=10000)\n",
        "time_21 = np.random.randint(1,25, size=10000)\n",
        "amount_20 = price_20 * quantity_21\n",
        "amount_21 = price_21 * quantity_21\n",
        "\n",
        "trans = pd.DataFrame({\n",
        "    'trans_id':trans_id, 'cusno':cusno, 'date':date, 'day':day(), 'product_20':product_20,\n",
        "    'product_21':product_21, 'price_20':price_20, 'price_21':price_21,\n",
        "    'quantity_20':quantity_20, 'quantity_21':quantity_21,\n",
        "    'time_20':time_20, 'time_21':time_21, 'amount_20':amount_20, 'amount_21':amount_21})\n",
        "\n",
        "# cus와 trans merge\n",
        "df = pd.merge(cus, trans, on='cusno', how='outer')"
      ],
      "metadata": {
        "id": "fDiGOYrJ6F3q"
      },
      "execution_count": 8,
      "outputs": []
    },
    {
      "cell_type": "markdown",
      "source": [
        "\n",
        "#### Q2. df를 수정하여 5가지 이상의 인사이트를 포함한 데이터 셋으로 변환하세요"
      ],
      "metadata": {
        "id": "mQgPw6SKmk9b"
      }
    },
    {
      "cell_type": "code",
      "source": [
        "# 인사이트 삽입\n",
        "\n",
        "# 1. 연령대별 월, 분기, 연평균 매출\n",
        "# 2. 연령대별 상품 선호도\n",
        "#   - 10~20대 : 중저가 선호, 30대~50대 : 중고가 선호, 60~70대 : 고가 선호\n",
        "\n",
        "# 2. 분기별 매출 변동 : 상품별 변동률 산출\n",
        "#   - 1분기 1~3월   : 중저가 매출 상승 : 개학\n",
        "#   - 2분기 4~6월   : 중고가 매출 상승 : 결혼시즌\n",
        "#   - 3분기 7~9월   : 고가 매출 상승   : 에어컨 시즌\n",
        "#   - 4분기 10~12월 : 저가 매출 상승   : 연말\n",
        "\n",
        "# 3. 2020년 대비 2021년 상품 평균 가격 20% 상승\n",
        "#   - 연 평균 매출은 25% 하락\n",
        "\n",
        "# 4. 지역별 월, 분기, 연평균 매출\n",
        "\n",
        "# 5. 지역별 연도별 상품 선호도 변화"
      ],
      "metadata": {
        "id": "mAyAsUP-IEq-"
      },
      "execution_count": null,
      "outputs": []
    },
    {
      "cell_type": "code",
      "source": [
        "# 월, 분기, 연도별 데이터셋\n",
        "df['year'] = df['date'].dt.year\n",
        "df['month'] = df['date'].dt.month\n",
        "df['quarter'] = df['date'].dt.quarter\n",
        "\n",
        "# price값에 따라 product 값 변경 필요\n",
        "# 1000원 ~ 50000원이니까 1000원~15000원 저가, 15001원~35000원 중가, 35001원~50000원 고가 설정\n",
        "\n",
        "def price_readjust(x):\n",
        "  if 1000 <= x <= 15000:\n",
        "    return 10\n",
        "  elif 15000 < x <= 35000:\n",
        "    return 20\n",
        "  else:\n",
        "    return 30\n",
        "\n",
        "trans['product_20'] = trans['price_20'].apply(price_readjust)\n",
        "trans['product_21'] = trans['price_21'].apply(price_readjust)\n",
        "\n",
        "# 연령대 카테고리 생성\n",
        "bins = [10, 19, 29, 39, 49, 59, 69, 80]\n",
        "labels = ['10s', '20s', '30s', '40s', '50s', '60s', '70s']\n",
        "df['age_group'] = pd.cut(df['age'], bins=bins, labels=labels, right=False)"
      ],
      "metadata": {
        "id": "qIWXrhTJmkq7"
      },
      "execution_count": null,
      "outputs": []
    },
    {
      "cell_type": "code",
      "source": [
        "# 고객 연령 분포 확인\n",
        "plt.figure(figsize=(10, 6))\n",
        "sns.histplot(cus['age'], bins=20, kde=True, color='skyblue')\n",
        "plt.title('Age Distribution of Customers')\n",
        "plt.xlabel('Age')\n",
        "plt.ylabel('Frequency')\n",
        "plt.grid(True)\n",
        "plt.show()\n",
        "\n",
        "# 월별, 분기별, 연도별 매출 현황 체크\n",
        "monthly_sales = pd.pivot_table(df, values='amount_20', index='month', columns='year', aggfunc='sum')\n",
        "quarterly_sales = pd.pivot_table(df, values='amount_21', index='quarter', columns='year', aggfunc='sum')\n",
        "annual_sales = pd.pivot_table(df, values='amount_21', index='year', aggfunc='sum')\n",
        "\n",
        "monthly_sales.plot(kind='bar', figsize=(10, 5))\n",
        "plt.title('Monthly Sales Trends')\n",
        "plt.xlabel('Month')\n",
        "plt.ylabel('Total Sales')\n",
        "plt.legend(title='Year')\n",
        "plt.show()"
      ],
      "metadata": {
        "id": "UHTf4xSprxLA"
      },
      "execution_count": null,
      "outputs": []
    },
    {
      "cell_type": "code",
      "source": [
        "# 제품 선호도 조사\n",
        "# 연령대별, 지역별\n",
        "\n",
        "pivot_table = pd.pivot_table(df, values=['quantity_20', 'quantity_21'], index='region', columns=['product_20', 'product_21'], aggfunc='sum')\n",
        "print(pivot_table)\n"
      ],
      "metadata": {
        "id": "p15e7Eerqrsc"
      },
      "execution_count": null,
      "outputs": []
    },
    {
      "cell_type": "markdown",
      "source": [
        "#### Q3. df 를 탐색적 분석을 통하여 인사이트를 도출하세요."
      ],
      "metadata": {
        "id": "7hG89-zoInbW"
      }
    }
  ]
}