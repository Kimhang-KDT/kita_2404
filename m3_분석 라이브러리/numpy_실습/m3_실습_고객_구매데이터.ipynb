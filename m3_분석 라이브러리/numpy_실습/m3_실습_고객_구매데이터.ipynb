{
  "nbformat": 4,
  "nbformat_minor": 0,
  "metadata": {
    "colab": {
      "provenance": []
    },
    "kernelspec": {
      "name": "python3",
      "display_name": "Python 3"
    },
    "language_info": {
      "name": "python"
    }
  },
  "cells": [
    {
      "cell_type": "markdown",
      "source": [
        "###  아래 가이드에 따라서 1000명의 고객 구매데이터를 생성하고 아래사항을 수행하세요(관측치 10000개)\n",
        "\n",
        "#### Q1. 고객 속성(id, 성별, 연령, 거주지역) 데이터와 거래 데이터를 통합한 데이터 프레임 df를 생성하세요."
      ],
      "metadata": {
        "id": "RKS7OxIf4Zu2"
      }
    },
    {
      "cell_type": "code",
      "execution_count": null,
      "metadata": {
        "id": "0bu5m92x4Won"
      },
      "outputs": [],
      "source": [
        "import pandas as pd\n",
        "import numpy as np\n",
        "import random\n",
        "from datetime import datetime\n",
        "import time\n",
        "import matplotlib.pyplot as plt\n",
        "import seaborn as sns"
      ]
    },
    {
      "cell_type": "code",
      "source": [
        "# 고객 데이터프레임\n",
        "cusno = np.arange(1001,2001)\n",
        "gender = np.random.randint(0,2,size=1000)\n",
        "age = np.random.randint(10,81,size=1000)\n",
        "region = np.random.randint(1,11,size=1000)\n",
        "\n",
        "cus = pd.DataFrame({'cusno':cusno,'gender':gender,'age':age,'region':region})\n",
        "\n",
        "# 거래 데이터프레임\n",
        "trans_id = random.sample(list(range(10001,50000)), 10000)\n",
        "cusno = np.random.randint(1001,2001, size=10000)\n",
        "date = pd.date_range(start='2020-01-01', end='2021-12-31', periods=10000, normalize=True)\n",
        "day = date.day_name\n",
        "product_20 = np.random.choice([10,20,30], 10000) # 10:고가, 20:중가, 30:저가\n",
        "product_21 = np.random.choice([10,20,30], 10000)\n",
        "price_20 = np.random.uniform(1000,50000,10000).round(1)\n",
        "price_21 = np.random.uniform(1000,50000,10000).round(1)\n",
        "quantity_20 = np.random.randint(1,101, size=10000)\n",
        "quantity_21 = np.random.randint(1,101, size=10000)\n",
        "time_20 = np.random.randint(1,25, size=10000)\n",
        "time_21 = np.random.randint(1,25, size=10000)\n",
        "amount_20 = price_20 * quantity_21\n",
        "amount_21 = price_21 * quantity_21\n",
        "\n",
        "trans = pd.DataFrame({\n",
        "    'trans_id':trans_id, 'cusno':cusno, 'date':date, 'day':day(), 'product_20':product_20,\n",
        "    'product_21':product_21, 'price_20':price_20, 'price_21':price_21,\n",
        "    'quantity_20':quantity_20, 'quantity_21':quantity_21,\n",
        "    'time_20':time_20, 'time_21':time_21, 'amount_20':amount_20, 'amount_21':amount_21})\n",
        "\n",
        "# cus와 trans merge\n",
        "df = pd.merge(cus, trans, on='cusno', how='outer')\n",
        "#df.head(10)"
      ],
      "metadata": {
        "id": "fDiGOYrJ6F3q"
      },
      "execution_count": null,
      "outputs": []
    },
    {
      "cell_type": "code",
      "source": [
        "# price값에 따라 product 값 변경 필요\n",
        "# 1000원 ~ 50000원이니까 1000원~15000원 저가, 15001원~35000원 중가, 35001원~50000원 고가 설정\n",
        "\n",
        "def price_readjust(x):\n",
        "  if 1000 <= x <= 15000:\n",
        "    return 10\n",
        "  elif 15000 < x <= 35000:\n",
        "    return 20\n",
        "  else:\n",
        "    return 30\n",
        "\n",
        "trans['product_20'] = trans['price_20'].apply(price_readjust)\n",
        "\n",
        "trans['product_21'] = trans['price_21'].apply(price_readjust)"
      ],
      "metadata": {
        "id": "--BqRtbL1zyj"
      },
      "execution_count": null,
      "outputs": []
    },
    {
      "cell_type": "code",
      "source": [
        "# 월별, 분기별, 연도별 매출 현황 체크\n",
        "df['year'] = df['date'].dt.year\n",
        "df['month'] = df['date'].dt.month\n",
        "df['quarter'] = df['date'].dt.quarter\n",
        "\n",
        "monthly_sales = pd.pivot_table(df, values='amount_20', index='month', columns='year', aggfunc='sum')\n",
        "print(monthly_sales)\n",
        "\n",
        "quarterly_sales = pd.pivot_table(df, values='amount_21', index='quarter', columns='year', aggfunc='sum')\n",
        "print(quarterly_sales)\n",
        "\n",
        "annual_sales = pd.pivot_table(df, values='amount_21', index='year', aggfunc='sum')\n",
        "print(annual_sales)\n",
        "\n",
        "\n",
        "monthly_sales.plot(kind='bar', figsize=(10, 5))\n",
        "plt.title('Monthly Sales Trends')\n",
        "plt.xlabel('Month')\n",
        "plt.ylabel('Total Sales')\n",
        "plt.legend(title='Year')\n",
        "plt.show()\n",
        "\n",
        "\n",
        "# 월별 매출이 거기서거기.. 데이터 수정\n",
        "# 1,5,11,12월 = 매출 중간 그대로\n",
        "# 2,3,7,8월   = 매출 높음 1.3배\n",
        "# 4,6,9,10월  = 매출 저조 0.78배"
      ],
      "metadata": {
        "id": "7kvpLnA-lb1_"
      },
      "execution_count": null,
      "outputs": []
    },
    {
      "cell_type": "code",
      "source": [
        "# 제품 선호도 조사\n",
        "# 지역별, 연령대별, 남녀별\n",
        "#"
      ],
      "metadata": {
        "id": "p15e7Eerqrsc"
      },
      "execution_count": null,
      "outputs": []
    },
    {
      "cell_type": "code",
      "source": [
        "# 연령대 카테고리 생성\n",
        "bins = [10, 19, 29, 39, 49, 59, 69, 80]\n",
        "labels = ['10s', '20s', '30s', '40s', '50s', '60s', '70s']\n",
        "df['age_group'] = pd.cut(df['age'], bins=bins, labels=labels, right=False)\n"
      ],
      "metadata": {
        "id": "F3Dj4ditci0v"
      },
      "execution_count": null,
      "outputs": []
    },
    {
      "cell_type": "code",
      "source": [
        "# 인사이트를 입력하기 위하여 현재 데이터 분석\n",
        "\n",
        "#df.describe()\n",
        "# 성비는 거의 반반\n",
        "# 나이는 평균 45.2세\n",
        "#df.head()\n",
        "df.info()\n"
      ],
      "metadata": {
        "id": "BzfYh5hUJDDq"
      },
      "execution_count": null,
      "outputs": []
    },
    {
      "cell_type": "code",
      "source": [
        "# 고객 연령 분포 확인\n",
        "plt.figure(figsize=(10, 6))\n",
        "sns.histplot(cus['age'], bins=20, kde=True, color='skyblue')\n",
        "plt.title('Age Distribution of Customers')\n",
        "plt.xlabel('Age')\n",
        "plt.ylabel('Frequency')\n",
        "plt.grid(True)\n",
        "plt.show()"
      ],
      "metadata": {
        "colab": {
          "base_uri": "https://localhost:8080/",
          "height": 564
        },
        "id": "UHTf4xSprxLA",
        "outputId": "a7caa70a-d78c-4380-c9c4-e0540cb0a3ee"
      },
      "execution_count": null,
      "outputs": [
        {
          "output_type": "display_data",
          "data": {
            "text/plain": [
              "<Figure size 1000x600 with 1 Axes>"
            ],
            "image/png": "[encoded data removed]"
          },
          "metadata": {}
        }
      ]
    },
    {
      "cell_type": "markdown",
      "source": [
        "#### Q2. df를 수정하여 5가지 이상의 인사이트를 포함한 데이터 셋으로 변환하세요"
      ],
      "metadata": {
        "id": "y16zqKikHuDu"
      }
    },
    {
      "cell_type": "code",
      "source": [
        "# 인사이트 삽입\n",
        "# 무언가는 판매량이 늘었는데 무언가는 판매량이 줄었다.\n",
        "\n",
        "# pivot으로 판매성장률 등을 구할 수도 있다.\n",
        "# 상품별 변동률 산출 등\n"
      ],
      "metadata": {
        "id": "mAyAsUP-IEq-"
      },
      "execution_count": null,
      "outputs": []
    },
    {
      "cell_type": "markdown",
      "source": [
        "#### Q3. df 를 탐색적 분석을 통하여 인사이트를 도출하세요."
      ],
      "metadata": {
        "id": "7hG89-zoInbW"
      }
    }
  ]
}