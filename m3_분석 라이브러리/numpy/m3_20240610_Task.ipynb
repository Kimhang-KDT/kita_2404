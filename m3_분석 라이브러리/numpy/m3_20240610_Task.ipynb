{
  "nbformat": 4,
  "nbformat_minor": 0,
  "metadata": {
    "colab": {
      "provenance": []
    },
    "kernelspec": {
      "name": "python3",
      "display_name": "Python 3"
    },
    "language_info": {
      "name": "python"
    }
  },
  "cells": [
    {
      "cell_type": "markdown",
      "source": [
        "Task1_0610. 주어진 두 배열 arr1과 arr2에서, arr2의 요소가 10보다 큰 위치의 arr1 요소들을 선택하세요.\n",
        "\n",
        "arr1 = np.array([10, 20, 30, 40, 50])<br>\n",
        "arr2 = np.array([5, 15, 25, 10, 35])"
      ],
      "metadata": {
        "id": "lXqMLq8l7URA"
      }
    },
    {
      "cell_type": "code",
      "execution_count": 3,
      "metadata": {
        "colab": {
          "base_uri": "https://localhost:8080/"
        },
        "id": "uOrwWPTs7QmQ",
        "outputId": "bb0d7933-7c7a-4e6f-fea3-ee7bc496e731"
      },
      "outputs": [
        {
          "output_type": "execute_result",
          "data": {
            "text/plain": [
              "array([20, 30, 50])"
            ]
          },
          "metadata": {},
          "execution_count": 3
        }
      ],
      "source": [
        "import numpy as np\n",
        "\n",
        "arr1 = np.array([10, 20, 30, 40, 50])\n",
        "arr2 = np.array([5, 15, 25, 10, 35])\n",
        "\n",
        "arr1[arr2 > 10]"
      ]
    },
    {
      "cell_type": "markdown",
      "source": [
        "Task2_0610. 주어진 배열에서 짝수 인덱스에 있는 요소들을 선택하세요.\n",
        "\n",
        "arr = np.array([5, 10, 15, 20, 25, 30, 35, 40])"
      ],
      "metadata": {
        "id": "CU0eWxDX7WWM"
      }
    },
    {
      "cell_type": "code",
      "source": [
        "arr = np.array([5, 10, 15, 20, 25, 30, 35, 40])\n",
        "arr[arr % 2 == 0]"
      ],
      "metadata": {
        "colab": {
          "base_uri": "https://localhost:8080/"
        },
        "id": "c769aWfm7Y_-",
        "outputId": "b1fca05e-cf2e-4dc5-c018-bcc4f02ba79a"
      },
      "execution_count": 4,
      "outputs": [
        {
          "output_type": "execute_result",
          "data": {
            "text/plain": [
              "array([10, 20, 30, 40])"
            ]
          },
          "metadata": {},
          "execution_count": 4
        }
      ]
    },
    {
      "cell_type": "markdown",
      "source": [
        "Task3_0610. 주어진 배열에서 20보다 작은 요소들의 값을 0으로 변경하세요.\n",
        "\n",
        "arr = np.array([10, 25, 30, 15, 40, 5])"
      ],
      "metadata": {
        "id": "Fs1MCOXD7ZXn"
      }
    },
    {
      "cell_type": "code",
      "source": [
        "arr = np.array([10, 25, 30, 15, 40, 5])\n",
        "\n",
        "arr[arr < 20] = 0\n",
        "arr\n",
        "\n",
        "np.where(arr < 20, 0, arr)"
      ],
      "metadata": {
        "colab": {
          "base_uri": "https://localhost:8080/"
        },
        "id": "hSQ75l2w7aVB",
        "outputId": "2536cc81-62db-4d28-d5e5-cf42bfeeab90"
      },
      "execution_count": 6,
      "outputs": [
        {
          "output_type": "execute_result",
          "data": {
            "text/plain": [
              "array([ 0, 25, 30,  0, 40,  0])"
            ]
          },
          "metadata": {},
          "execution_count": 6
        }
      ]
    }
  ]
}
