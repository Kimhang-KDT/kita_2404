{
  "cells": [
    {
      "cell_type": "markdown",
      "source": [
        "## Numpy Quiz1"
      ],
      "metadata": {
        "id": "RoOMFkDduWog"
      }
    },
    {
      "cell_type": "code",
      "source": [
        "import numpy as np"
      ],
      "metadata": {
        "id": "D4KgdXLbwiWm"
      },
      "execution_count": 2,
      "outputs": []
    },
    {
      "cell_type": "markdown",
      "source": [
        "Q1. arange(), reshape() 이용 1차원 2차원 3차원 배열 생성"
      ],
      "metadata": {
        "id": "A6oIhoWUdNJG"
      }
    },
    {
      "cell_type": "code",
      "source": [
        "arr1d = np.arange(12).reshape(-1,)\n",
        "arr2d = np.arange(12).reshape(2,6)\n",
        "arr3d = np.arange(24).reshape(2,4,3)\n",
        "\n",
        "print(arr1d, arr1d.shape)\n",
        "print(arr2d, arr2d.shape)\n",
        "print(arr3d, arr3d.shape)"
      ],
      "metadata": {
        "colab": {
          "base_uri": "https://localhost:8080/"
        },
        "id": "7myP1d1bwfEM",
        "outputId": "2dacedbf-a760-449e-9567-d9ebd0a50330"
      },
      "execution_count": 91,
      "outputs": [
        {
          "output_type": "stream",
          "name": "stdout",
          "text": [
            "[ 0  1  2  3  4  5  6  7  8  9 10 11] (12,)\n",
            "[[ 0  1  2  3  4  5]\n",
            " [ 6  7  8  9 10 11]] (2, 6)\n",
            "[[[ 0  1  2]\n",
            "  [ 3  4  5]\n",
            "  [ 6  7  8]\n",
            "  [ 9 10 11]]\n",
            "\n",
            " [[12 13 14]\n",
            "  [15 16 17]\n",
            "  [18 19 20]\n",
            "  [21 22 23]]] (2, 4, 3)\n"
          ]
        }
      ]
    },
    {
      "cell_type": "markdown",
      "source": [
        "Q2. reshape(-1,-1)을 이용 1차원을 2차원, 3차원으로 2차원을 1차원 3차원으로 3차원을 1차원 2차원으로 변환"
      ],
      "metadata": {
        "id": "761tjFT9dZg5"
      }
    },
    {
      "cell_type": "code",
      "source": [
        "arr1d2 = arr1d.reshape(2, -1)\n",
        "print(arr1d2)\n",
        "arr1d3 = arr1d.reshape(3,2, -1)\n",
        "print(arr1d3)\n",
        "print()\n",
        "\n",
        "arr2d1 = arr2d.reshape(-1)\n",
        "print(arr2d1)\n",
        "arr2d3 = arr2d.reshape(2, 2, -1)\n",
        "print(arr2d3)\n",
        "print()\n",
        "\n",
        "arr3d1 = arr3d.reshape(-1)\n",
        "print(arr3d1)\n",
        "arr3d2 = arr3d.reshape(4, -1)\n",
        "print(arr3d2)\n",
        "print()"
      ],
      "metadata": {
        "colab": {
          "base_uri": "https://localhost:8080/"
        },
        "id": "xQqX4cUKxPEC",
        "outputId": "8ed5fbfa-f02c-4eb9-d5e6-065017b1bcd1"
      },
      "execution_count": 93,
      "outputs": [
        {
          "output_type": "stream",
          "name": "stdout",
          "text": [
            "[[ 0  1  2  3  4  5]\n",
            " [ 6  7  8  9 10 11]]\n",
            "[[[ 0  1]\n",
            "  [ 2  3]]\n",
            "\n",
            " [[ 4  5]\n",
            "  [ 6  7]]\n",
            "\n",
            " [[ 8  9]\n",
            "  [10 11]]]\n",
            "\n",
            "[ 0  1  2  3  4  5  6  7  8  9 10 11]\n",
            "[[[ 0  1  2]\n",
            "  [ 3  4  5]]\n",
            "\n",
            " [[ 6  7  8]\n",
            "  [ 9 10 11]]]\n",
            "\n",
            "[ 0  1  2  3  4  5  6  7  8  9 10 11 12 13 14 15 16 17 18 19 20 21 22 23]\n",
            "[[ 0  1  2  3  4  5]\n",
            " [ 6  7  8  9 10 11]\n",
            " [12 13 14 15 16 17]\n",
            " [18 19 20 21 22 23]]\n",
            "\n"
          ]
        }
      ]
    },
    {
      "cell_type": "markdown",
      "source": [
        "Q3. Q1 1차원 배열을 실수형으로 변환"
      ],
      "metadata": {
        "id": "zSZkXeKydhb0"
      }
    },
    {
      "cell_type": "code",
      "source": [
        "arr1d = arr1d.astype(float)\n",
        "print(arr1d, arr1d.dtype)"
      ],
      "metadata": {
        "colab": {
          "base_uri": "https://localhost:8080/"
        },
        "id": "xkYiuby9zLbZ",
        "outputId": "fb2b0865-41a4-48b8-a553-0ffad4f6b4e6"
      },
      "execution_count": 37,
      "outputs": [
        {
          "output_type": "stream",
          "name": "stdout",
          "text": [
            "[ 0.  1.  2.  3.  4.  5.  6.  7.  8.  9. 10. 11.] float64\n"
          ]
        }
      ]
    },
    {
      "cell_type": "markdown",
      "source": [
        "Q4. Q1 1차원 배열의 dtype을 확인"
      ],
      "metadata": {
        "id": "Rm-fFE20ds8N"
      }
    },
    {
      "cell_type": "code",
      "source": [
        "print(arr1d, arr1d.dtype)"
      ],
      "metadata": {
        "id": "hQDtT8QOzTNa"
      },
      "execution_count": null,
      "outputs": []
    },
    {
      "cell_type": "markdown",
      "source": [
        "Q5. 주어진 배열에서 음수 값을 모두 0으로 변경하세요.\n",
        "\n",
        "arr = np.array([-5, -3, -1, 0, 1, 3, 5])"
      ],
      "metadata": {
        "id": "nMX4Xp7Md3_1"
      }
    },
    {
      "cell_type": "code",
      "source": [
        "arr = np.array([-5, -3, -1, 0, 1, 3, 5])\n",
        "\n",
        "arr[arr < 0] = 0\n",
        "np.where(arr < 0, 0, arr)\n",
        "print(arr)"
      ],
      "metadata": {
        "colab": {
          "base_uri": "https://localhost:8080/"
        },
        "id": "9nsn6r_FzVq5",
        "outputId": "67afbb66-8071-4ef0-c8e3-2907bc37e12d"
      },
      "execution_count": 38,
      "outputs": [
        {
          "output_type": "stream",
          "name": "stdout",
          "text": [
            "[0 0 0 0 1 3 5]\n"
          ]
        }
      ]
    },
    {
      "cell_type": "markdown",
      "source": [
        "Q6. 1 ~ 100 까지 배열에서 3의 배수인 것만을 출력"
      ],
      "metadata": {
        "id": "NMOy9R4Cd_3v"
      }
    },
    {
      "cell_type": "code",
      "source": [
        "arr = np.arange(1,101)\n",
        "arr[(arr % 3) ==0]"
      ],
      "metadata": {
        "colab": {
          "base_uri": "https://localhost:8080/"
        },
        "id": "1qHJ7cy8zb7C",
        "outputId": "256accde-3b40-490f-95b2-f7069f13a188"
      },
      "execution_count": 41,
      "outputs": [
        {
          "output_type": "execute_result",
          "data": {
            "text/plain": [
              "array([ 3,  6,  9, 12, 15, 18, 21, 24, 27, 30, 33, 36, 39, 42, 45, 48, 51,\n",
              "       54, 57, 60, 63, 66, 69, 72, 75, 78, 81, 84, 87, 90, 93, 96, 99])"
            ]
          },
          "metadata": {},
          "execution_count": 41
        }
      ]
    },
    {
      "cell_type": "markdown",
      "source": [
        "Q7. 1 ~ 100 까지 배열에서 5의 배수이면서 2의 배수인 것만을 출력"
      ],
      "metadata": {
        "id": "reO7jBwqeX1W"
      }
    },
    {
      "cell_type": "code",
      "source": [
        "arr = np.arange(1,101)\n",
        "arr[(arr % 10) == 0]"
      ],
      "metadata": {
        "colab": {
          "base_uri": "https://localhost:8080/"
        },
        "id": "vUdjIdFKzt1Q",
        "outputId": "e9d390c0-80d9-4199-b21a-efad85c03976"
      },
      "execution_count": 42,
      "outputs": [
        {
          "output_type": "execute_result",
          "data": {
            "text/plain": [
              "array([ 10,  20,  30,  40,  50,  60,  70,  80,  90, 100])"
            ]
          },
          "metadata": {},
          "execution_count": 42
        }
      ]
    },
    {
      "cell_type": "markdown",
      "source": [
        "Q8. 1 ~ 100 까지 배열에서 3의 배수이거나 5의 배수인 것만을 출력"
      ],
      "metadata": {
        "id": "Gg-SJytKefVU"
      }
    },
    {
      "cell_type": "code",
      "source": [
        "arr = np.arange(1,101)\n",
        "arr[((arr % 3) == 0) | ((arr % 5) == 0)]"
      ],
      "metadata": {
        "colab": {
          "base_uri": "https://localhost:8080/"
        },
        "id": "Tt4XoBYmz2HS",
        "outputId": "c6dce599-2031-4f11-82eb-4dbe843c204d"
      },
      "execution_count": 50,
      "outputs": [
        {
          "output_type": "execute_result",
          "data": {
            "text/plain": [
              "array([  3,   5,   6,   9,  10,  12,  15,  18,  20,  21,  24,  25,  27,\n",
              "        30,  33,  35,  36,  39,  40,  42,  45,  48,  50,  51,  54,  55,\n",
              "        57,  60,  63,  65,  66,  69,  70,  72,  75,  78,  80,  81,  84,\n",
              "        85,  87,  90,  93,  95,  96,  99, 100])"
            ]
          },
          "metadata": {},
          "execution_count": 50
        }
      ]
    },
    {
      "cell_type": "markdown",
      "source": [
        "Q9. 101 ~ 150 사이의 정수를 랜덤하게 추출, 2행 5열 다차원 배열을 생성 후 전치하세요"
      ],
      "metadata": {
        "id": "Skud3jRrfJ2z"
      }
    },
    {
      "cell_type": "code",
      "source": [
        "arr = np.random.randint(101, 151, size=(2,5))\n",
        "arr.T"
      ],
      "metadata": {
        "colab": {
          "base_uri": "https://localhost:8080/"
        },
        "id": "Wwc9PR350rjf",
        "outputId": "ace1b2c5-c391-4614-a4b0-f986a46bb24e"
      },
      "execution_count": 53,
      "outputs": [
        {
          "output_type": "execute_result",
          "data": {
            "text/plain": [
              "array([[117, 122],\n",
              "       [142, 131],\n",
              "       [147, 107],\n",
              "       [145, 131],\n",
              "       [141, 150]])"
            ]
          },
          "metadata": {},
          "execution_count": 53
        }
      ]
    },
    {
      "cell_type": "markdown",
      "source": [
        "Q10. 표준정규분포로 구성된 5행 5열 다차원 배열을 생성하세요."
      ],
      "metadata": {
        "id": "CD2vUOIofTBW"
      }
    },
    {
      "cell_type": "code",
      "source": [
        "arr = np.random.randn(5,5)\n",
        "arr"
      ],
      "metadata": {
        "colab": {
          "base_uri": "https://localhost:8080/"
        },
        "id": "EimJKv0s1Jwo",
        "outputId": "7ce808d1-afba-4c17-f713-17afe1e738ac"
      },
      "execution_count": 54,
      "outputs": [
        {
          "output_type": "execute_result",
          "data": {
            "text/plain": [
              "array([[-0.9831788 ,  0.32856444, -0.59780972, -0.47218604,  0.98327867],\n",
              "       [ 0.2342678 ,  2.21285747,  0.76654211, -1.24470456,  0.13396354],\n",
              "       [-0.3979788 ,  0.05108151, -1.59023141, -0.88512206, -0.48218516],\n",
              "       [ 1.26230162,  0.22851433,  0.39997803,  0.71623249,  1.27130231],\n",
              "       [-0.92148264,  0.10542718, -0.77531022,  2.04993308, -0.99939992]])"
            ]
          },
          "metadata": {},
          "execution_count": 54
        }
      ]
    },
    {
      "cell_type": "markdown",
      "source": [
        "Q11. original_array를 1차원 배열로 변환하여 출력하세요."
      ],
      "metadata": {
        "id": "bXiDz5anfs5o"
      }
    },
    {
      "cell_type": "code",
      "source": [
        "original_array = np.array([[1, 2, 3], [4, 5, 6]])\n",
        "flattened_arr = original_array.flatten()\n",
        "print(faltened_arr)\n",
        "arr1d = original_array.reshape(-1)\n",
        "arr1d"
      ],
      "metadata": {
        "id": "YmDWSLzkftkJ",
        "colab": {
          "base_uri": "https://localhost:8080/"
        },
        "outputId": "d858fa80-0958-4057-ea8a-71e67def6510"
      },
      "execution_count": 55,
      "outputs": [
        {
          "output_type": "execute_result",
          "data": {
            "text/plain": [
              "array([1, 2, 3, 4, 5, 6])"
            ]
          },
          "metadata": {},
          "execution_count": 55
        }
      ]
    },
    {
      "cell_type": "markdown",
      "source": [
        "Q12. 주어진 2차원 배열에서 첫 번째 행을 view로 생성하고, 이 view를 수정하여 원본 배열에 반영되도록 하세요.\n",
        "\n",
        "original_array = np.array([[1, 2, 3], [4, 5, 6]])"
      ],
      "metadata": {
        "id": "0Nep-d7VgFSW"
      }
    },
    {
      "cell_type": "code",
      "source": [
        "original_array = np.array([[1, 2, 3], [4, 5, 6]])\n",
        "\n",
        "arr = original_array[0,:]\n",
        "arr[:] = 10\n",
        "\n",
        "print(original_array)"
      ],
      "metadata": {
        "colab": {
          "base_uri": "https://localhost:8080/"
        },
        "id": "SDe3bW5s1XyV",
        "outputId": "1eb4ebf1-21ab-442f-f472-02e771cf74dc"
      },
      "execution_count": 102,
      "outputs": [
        {
          "output_type": "stream",
          "name": "stdout",
          "text": [
            "[[10 10 10]\n",
            " [ 4  5  6]]\n"
          ]
        }
      ]
    },
    {
      "cell_type": "markdown",
      "source": [
        "Q13. 주어진 3차원 배열에서 첫 번째 2차원 배열을 view로 생성하고, 이 view를 수정하여 원본 배열에 반영되도록 하세요.\n",
        "\n",
        "original_array = np.array([[[1, 2, 3], [4, 5, 6]], [[7, 8, 9], [10, 11, 12]]])"
      ],
      "metadata": {
        "id": "Lsou3ZeIgS__"
      }
    },
    {
      "cell_type": "code",
      "source": [
        "original_array = np.array([[[1, 2, 3], [4, 5, 6]], [[7, 8, 9], [10, 11, 12]]])\n",
        "\n",
        "arr2d = original_array[0]\n",
        "print(arr2d, '\\n')\n",
        "\n",
        "arr2d[0] = 10\n",
        "print(original_array)"
      ],
      "metadata": {
        "colab": {
          "base_uri": "https://localhost:8080/"
        },
        "id": "nr39eaAD1jSh",
        "outputId": "14c197db-81c8-46d2-b977-5731d881e598"
      },
      "execution_count": 59,
      "outputs": [
        {
          "output_type": "stream",
          "name": "stdout",
          "text": [
            "[[1 2 3]\n",
            " [4 5 6]] \n",
            "\n",
            "[[[10 10 10]\n",
            "  [ 4  5  6]]\n",
            "\n",
            " [[ 7  8  9]\n",
            "  [10 11 12]]]\n"
          ]
        }
      ]
    },
    {
      "cell_type": "markdown",
      "source": [
        "Q14. 주어진 2차원 배열을 1차원 배열 view로 reshape하고, 이 view를 수정하여 원본 배열에 반영되도록 하세요.\n",
        "\n",
        "original_array = np.array([[1, 2, 3], [4, 5, 6]])"
      ],
      "metadata": {
        "id": "Jd8VaOGmgjhx"
      }
    },
    {
      "cell_type": "code",
      "source": [
        "original_array = np.array([[1, 2, 3], [4, 5, 6]])\n",
        "\n",
        "arr1d = original_array.reshape(-1)\n",
        "arr1d[0] = 10\n",
        "\n",
        "print(original_array)"
      ],
      "metadata": {
        "colab": {
          "base_uri": "https://localhost:8080/"
        },
        "id": "XA-6m-JU2G5b",
        "outputId": "2e8e9952-dfc3-42be-d8ba-cdfbc020bc93"
      },
      "execution_count": 60,
      "outputs": [
        {
          "output_type": "stream",
          "name": "stdout",
          "text": [
            "[[10  2  3]\n",
            " [ 4  5  6]]\n"
          ]
        }
      ]
    },
    {
      "cell_type": "markdown",
      "source": [
        "Q15. np.ones((10,10))을 아래와 같이 출력하세요.\n",
        "```\n",
        "[[1. 1. 1. 1. 1. 1. 1. 1. 1. 1.]\n",
        " [1. 0. 0. 0. 0. 0. 0. 0. 0. 1.]\n",
        " [1. 0. 0. 0. 0. 0. 0. 0. 0. 1.]\n",
        " [1. 0. 0. 0. 0. 0. 0. 0. 0. 1.]\n",
        " [1. 0. 0. 0. 0. 0. 0. 0. 0. 1.]\n",
        " [1. 0. 0. 0. 0. 0. 0. 0. 0. 1.]\n",
        " [1. 0. 0. 0. 0. 0. 0. 0. 0. 1.]\n",
        " [1. 0. 0. 0. 0. 0. 0. 0. 0. 1.]\n",
        " [1. 0. 0. 0. 0. 0. 0. 0. 0. 1.]\n",
        " [1. 1. 1. 1. 1. 1. 1. 1. 1. 1.]]\n",
        " ```"
      ],
      "metadata": {
        "id": "-MLdPdHGpxFv"
      }
    },
    {
      "cell_type": "code",
      "source": [
        "arr = np.ones((10,10))\n",
        "arr[1:-1, 1:-1] = 0\n",
        "arr"
      ],
      "metadata": {
        "colab": {
          "base_uri": "https://localhost:8080/"
        },
        "id": "ZyoRGSQO2PK9",
        "outputId": "4be2d59d-e126-472e-899a-d6bf1635feba"
      },
      "execution_count": 103,
      "outputs": [
        {
          "output_type": "execute_result",
          "data": {
            "text/plain": [
              "array([[1., 1., 1., 1., 1., 1., 1., 1., 1., 1.],\n",
              "       [1., 0., 0., 0., 0., 0., 0., 0., 0., 1.],\n",
              "       [1., 0., 0., 0., 0., 0., 0., 0., 0., 1.],\n",
              "       [1., 0., 0., 0., 0., 0., 0., 0., 0., 1.],\n",
              "       [1., 0., 0., 0., 0., 0., 0., 0., 0., 1.],\n",
              "       [1., 0., 0., 0., 0., 0., 0., 0., 0., 1.],\n",
              "       [1., 0., 0., 0., 0., 0., 0., 0., 0., 1.],\n",
              "       [1., 0., 0., 0., 0., 0., 0., 0., 0., 1.],\n",
              "       [1., 0., 0., 0., 0., 0., 0., 0., 0., 1.],\n",
              "       [1., 1., 1., 1., 1., 1., 1., 1., 1., 1.]])"
            ]
          },
          "metadata": {},
          "execution_count": 103
        }
      ]
    },
    {
      "cell_type": "markdown",
      "source": [
        "Q16. Q. 1 ~ 100을 아래와 같이 출력하세요.\n",
        "\n",
        "```\n",
        "[[  1   2   3   4   5   6   7   8   9  10]\n",
        " [ 20  19  18  17  16  15  14  13  12  11]\n",
        " [ 21  22  23  24  25  26  27  28  29  30]\n",
        " [ 40  39  38  37  36  35  34  33  32  31]\n",
        " [ 41  42  43  44  45  46  47  48  49  50]\n",
        " [ 60  59  58  57  56  55  54  53  52  51]\n",
        " [ 61  62  63  64  65  66  67  68  69  70]\n",
        " [ 80  79  78  77  76  75  74  73  72  71]\n",
        " [ 81  82  83  84  85  86  87  88  89  90]\n",
        " [100  99  98  97  96  95  94  93  92  91]]\n",
        " ```"
      ],
      "metadata": {
        "id": "bF2o4HI6p7yS"
      }
    },
    {
      "cell_type": "code",
      "source": [
        "arr = np.arange(1,101).reshape(10,10)\n",
        "ar = []\n",
        "for i in range(10):\n",
        "  idx = arr[i]\n",
        "  if i % 2 == 0:\n",
        "    idx[i] = idx[i][::-1]\n",
        "    ar.append(idx[i])\n",
        "  else:\n",
        "    idx[i] = idx[i]\n",
        "    ar.append(idx[i])\n"
      ],
      "metadata": {
        "colab": {
          "base_uri": "https://localhost:8080/",
          "height": 217
        },
        "id": "xiFsjMsz2WFO",
        "outputId": "031e0f4e-0748-468a-82a4-748715525ab3"
      },
      "execution_count": 107,
      "outputs": [
        {
          "output_type": "error",
          "ename": "IndexError",
          "evalue": "invalid index to scalar variable.",
          "traceback": [
            "\u001b[0;31m---------------------------------------------------------------------------\u001b[0m",
            "\u001b[0;31mIndexError\u001b[0m                                Traceback (most recent call last)",
            "\u001b[0;32m<ipython-input-107-ec2b5ceab361>\u001b[0m in \u001b[0;36m<cell line: 3>\u001b[0;34m()\u001b[0m\n\u001b[1;32m      4\u001b[0m   \u001b[0midx\u001b[0m \u001b[0;34m=\u001b[0m \u001b[0marr\u001b[0m\u001b[0;34m[\u001b[0m\u001b[0mi\u001b[0m\u001b[0;34m]\u001b[0m\u001b[0;34m\u001b[0m\u001b[0;34m\u001b[0m\u001b[0m\n\u001b[1;32m      5\u001b[0m   \u001b[0;32mif\u001b[0m \u001b[0mi\u001b[0m \u001b[0;34m%\u001b[0m \u001b[0;36m2\u001b[0m \u001b[0;34m==\u001b[0m \u001b[0;36m0\u001b[0m\u001b[0;34m:\u001b[0m\u001b[0;34m\u001b[0m\u001b[0;34m\u001b[0m\u001b[0m\n\u001b[0;32m----> 6\u001b[0;31m     \u001b[0midx\u001b[0m\u001b[0;34m[\u001b[0m\u001b[0mi\u001b[0m\u001b[0;34m]\u001b[0m \u001b[0;34m=\u001b[0m \u001b[0midx\u001b[0m\u001b[0;34m[\u001b[0m\u001b[0mi\u001b[0m\u001b[0;34m]\u001b[0m\u001b[0;34m[\u001b[0m\u001b[0;34m:\u001b[0m\u001b[0;34m:\u001b[0m\u001b[0;34m-\u001b[0m\u001b[0;36m1\u001b[0m\u001b[0;34m]\u001b[0m\u001b[0;34m\u001b[0m\u001b[0;34m\u001b[0m\u001b[0m\n\u001b[0m\u001b[1;32m      7\u001b[0m     \u001b[0mar\u001b[0m\u001b[0;34m.\u001b[0m\u001b[0mappend\u001b[0m\u001b[0;34m(\u001b[0m\u001b[0midx\u001b[0m\u001b[0;34m[\u001b[0m\u001b[0mi\u001b[0m\u001b[0;34m]\u001b[0m\u001b[0;34m)\u001b[0m\u001b[0;34m\u001b[0m\u001b[0;34m\u001b[0m\u001b[0m\n\u001b[1;32m      8\u001b[0m   \u001b[0;32melse\u001b[0m\u001b[0;34m:\u001b[0m\u001b[0;34m\u001b[0m\u001b[0;34m\u001b[0m\u001b[0m\n",
            "\u001b[0;31mIndexError\u001b[0m: invalid index to scalar variable."
          ]
        }
      ]
    },
    {
      "cell_type": "markdown",
      "source": [
        "Q17. np.ones((5,5))을 아래와 같이 출력하세요.\n",
        "```\n",
        "      [[0., 0., 0., 0., 0., 0., 0., 0., 0.],\n",
        "       [0., 0., 0., 0., 0., 0., 0., 0., 0.],\n",
        "       [0., 0., 1., 1., 1., 1., 1., 0., 0.],\n",
        "       [0., 0., 1., 1., 1., 1., 1., 0., 0.],\n",
        "       [0., 0., 1., 1., 1., 1., 1., 0., 0.],\n",
        "       [0., 0., 1., 1., 1., 1., 1., 0., 0.],\n",
        "       [0., 0., 1., 1., 1., 1., 1., 0., 0.],\n",
        "       [0., 0., 0., 0., 0., 0., 0., 0., 0.],\n",
        "       [0., 0., 0., 0., 0., 0., 0., 0., 0.]]\n",
        "```"
      ],
      "metadata": {
        "id": "8XTX6_u2qI2p"
      }
    },
    {
      "cell_type": "code",
      "source": [
        "arr = np.zeros((9,9))\n",
        "arr[2:7, 2:7] = 1\n",
        "\n",
        "print(arr)\n",
        "\n",
        "np.pad(arr, pad_width=1, mode='constant', constant_values=0)"
      ],
      "metadata": {
        "colab": {
          "base_uri": "https://localhost:8080/"
        },
        "id": "nScv75eq4eZI",
        "outputId": "fc298773-8bc6-4e70-f4dc-ce96441a6c39"
      },
      "execution_count": 108,
      "outputs": [
        {
          "output_type": "stream",
          "name": "stdout",
          "text": [
            "[[0. 0. 0. 0. 0. 0. 0. 0. 0.]\n",
            " [0. 0. 0. 0. 0. 0. 0. 0. 0.]\n",
            " [0. 0. 1. 1. 1. 1. 1. 0. 0.]\n",
            " [0. 0. 1. 1. 1. 1. 1. 0. 0.]\n",
            " [0. 0. 1. 1. 1. 1. 1. 0. 0.]\n",
            " [0. 0. 1. 1. 1. 1. 1. 0. 0.]\n",
            " [0. 0. 1. 1. 1. 1. 1. 0. 0.]\n",
            " [0. 0. 0. 0. 0. 0. 0. 0. 0.]\n",
            " [0. 0. 0. 0. 0. 0. 0. 0. 0.]]\n"
          ]
        },
        {
          "output_type": "execute_result",
          "data": {
            "text/plain": [
              "array([[0., 0., 0., 0., 0., 0., 0., 0., 0., 0., 0.],\n",
              "       [0., 0., 0., 0., 0., 0., 0., 0., 0., 0., 0.],\n",
              "       [0., 0., 0., 0., 0., 0., 0., 0., 0., 0., 0.],\n",
              "       [0., 0., 0., 1., 1., 1., 1., 1., 0., 0., 0.],\n",
              "       [0., 0., 0., 1., 1., 1., 1., 1., 0., 0., 0.],\n",
              "       [0., 0., 0., 1., 1., 1., 1., 1., 0., 0., 0.],\n",
              "       [0., 0., 0., 1., 1., 1., 1., 1., 0., 0., 0.],\n",
              "       [0., 0., 0., 1., 1., 1., 1., 1., 0., 0., 0.],\n",
              "       [0., 0., 0., 0., 0., 0., 0., 0., 0., 0., 0.],\n",
              "       [0., 0., 0., 0., 0., 0., 0., 0., 0., 0., 0.],\n",
              "       [0., 0., 0., 0., 0., 0., 0., 0., 0., 0., 0.]])"
            ]
          },
          "metadata": {},
          "execution_count": 108
        }
      ]
    },
    {
      "cell_type": "markdown",
      "source": [
        "Q18. np.arange(4)을 이용해서 아래와 같이 출력하세요.\n",
        "```\n",
        "[[0, 0, 0, 0, 0],\n",
        " [1, 0, 0, 0, 0],\n",
        " [0, 2, 0, 0, 0],\n",
        " [0, 0, 3, 0, 0],\n",
        " [0, 0, 0, 4, 0]]\n",
        "```"
      ],
      "metadata": {
        "id": "a0ydxK-RqWS9"
      }
    },
    {
      "cell_type": "code",
      "source": [
        "arr = np.zeros((5,5))\n",
        "a = [1,2,3,4]\n",
        "arr[1,0] = 1\n",
        "arr[2,1] = 2\n",
        "arr[3,2] = 3\n",
        "arr[4,3] = 4\n",
        "print(arr)\n",
        "\n",
        "np.diag(1+np.arange(4), k=-1) # diag : 대각선. -1은 밑으로 +1은 위로"
      ],
      "metadata": {
        "colab": {
          "base_uri": "https://localhost:8080/"
        },
        "id": "ZuER6Umr2uC0",
        "outputId": "fc382a34-6779-4caa-d2b8-0c8072563b0e"
      },
      "execution_count": 109,
      "outputs": [
        {
          "output_type": "stream",
          "name": "stdout",
          "text": [
            "[[0. 0. 0. 0. 0.]\n",
            " [1. 0. 0. 0. 0.]\n",
            " [0. 2. 0. 0. 0.]\n",
            " [0. 0. 3. 0. 0.]\n",
            " [0. 0. 0. 4. 0.]]\n"
          ]
        },
        {
          "output_type": "execute_result",
          "data": {
            "text/plain": [
              "array([[0, 0, 0, 0, 0],\n",
              "       [1, 0, 0, 0, 0],\n",
              "       [0, 2, 0, 0, 0],\n",
              "       [0, 0, 3, 0, 0],\n",
              "       [0, 0, 0, 4, 0]])"
            ]
          },
          "metadata": {},
          "execution_count": 109
        }
      ]
    },
    {
      "cell_type": "markdown",
      "source": [
        "Q19. Q. np.zeros((8,8))을 이용해서 아래와 같이 출력하세요(두가지 방식:인덱싱, tile 함수)\n",
        "```\n",
        "[[0, 1, 0, 1, 0, 1, 0, 1],\n",
        "[1, 0, 1, 0, 1, 0, 1, 0],\n",
        "[0, 1, 0, 1, 0, 1, 0, 1],\n",
        "[1, 0, 1, 0, 1, 0, 1, 0],\n",
        "[0, 1, 0, 1, 0, 1, 0, 1],\n",
        "[1, 0, 1, 0, 1, 0, 1, 0],\n",
        "[0, 1, 0, 1, 0, 1, 0, 1],\n",
        "[1, 0, 1, 0, 1, 0, 1, 0]]\n",
        "```"
      ],
      "metadata": {
        "id": "HeOK3cm3qr1U"
      }
    },
    {
      "cell_type": "code",
      "source": [
        "arr = np.zeros((8,8), dtype=int)\n",
        "arr[0::2, 1::2] = 1\n",
        "arr[1::2, ::2] = 1\n",
        "print(arr)\n",
        "\n",
        "arr = np.tile([[0,1],[1,0]], (4,4))\n",
        "print(arr)"
      ],
      "metadata": {
        "colab": {
          "base_uri": "https://localhost:8080/"
        },
        "id": "8lRJICCk3PgC",
        "outputId": "3c49dbf1-333f-44d9-aae1-d4448c86c6cc"
      },
      "execution_count": 113,
      "outputs": [
        {
          "output_type": "stream",
          "name": "stdout",
          "text": [
            "[[0 1 0 1 0 1 0 1]\n",
            " [1 0 1 0 1 0 1 0]\n",
            " [0 1 0 1 0 1 0 1]\n",
            " [1 0 1 0 1 0 1 0]\n",
            " [0 1 0 1 0 1 0 1]\n",
            " [1 0 1 0 1 0 1 0]\n",
            " [0 1 0 1 0 1 0 1]\n",
            " [1 0 1 0 1 0 1 0]]\n",
            "[[0 1 0 1 0 1 0 1]\n",
            " [1 0 1 0 1 0 1 0]\n",
            " [0 1 0 1 0 1 0 1]\n",
            " [1 0 1 0 1 0 1 0]\n",
            " [0 1 0 1 0 1 0 1]\n",
            " [1 0 1 0 1 0 1 0]\n",
            " [0 1 0 1 0 1 0 1]\n",
            " [1 0 1 0 1 0 1 0]]\n"
          ]
        }
      ]
    },
    {
      "cell_type": "markdown",
      "source": [
        "Q20. np.arange(336).reshape(6,7,8)에서 100번째 요소의 인덱스를 구하세요."
      ],
      "metadata": {
        "id": "8CSHIUxPrzmE"
      }
    },
    {
      "cell_type": "code",
      "source": [
        "arr = np.arange(336).reshape(6,7,8)\n",
        "\n",
        "index_100 = np.unravel_index(99, arr.shape)\n",
        "print(index_100)"
      ],
      "metadata": {
        "colab": {
          "base_uri": "https://localhost:8080/"
        },
        "id": "TKzIcOkd6s-P",
        "outputId": "46f9c8e4-e13f-491f-bec1-6685dff01fcb"
      },
      "execution_count": 112,
      "outputs": [
        {
          "output_type": "stream",
          "name": "stdout",
          "text": [
            "(1, 5, 3)\n"
          ]
        }
      ]
    }
  ],
  "metadata": {
    "kernelspec": {
      "display_name": "Python 3 (ipykernel)",
      "language": "python",
      "name": "python3"
    },
    "language_info": {
      "codemirror_mode": {
        "name": "ipython",
        "version": 3
      },
      "file_extension": ".py",
      "mimetype": "text/x-python",
      "name": "python",
      "nbconvert_exporter": "python",
      "pygments_lexer": "ipython3",
      "version": "3.8.13"
    },
    "colab": {
      "provenance": []
    }
  },
  "nbformat": 4,
  "nbformat_minor": 0
}
