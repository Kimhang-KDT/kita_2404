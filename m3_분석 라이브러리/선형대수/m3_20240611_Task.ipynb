{
  "nbformat": 4,
  "nbformat_minor": 0,
  "metadata": {
    "colab": {
      "provenance": []
    },
    "kernelspec": {
      "name": "python3",
      "display_name": "Python 3"
    },
    "language_info": {
      "name": "python"
    }
  },
  "cells": [
    {
      "cell_type": "code",
      "source": [
        "import numpy as np"
      ],
      "metadata": {
        "id": "CoNsb1DDIbUq"
      },
      "execution_count": null,
      "outputs": []
    },
    {
      "cell_type": "markdown",
      "source": [
        "Task1_0611. 주어진 대각 행렬의 역행렬을 구하고, 역행렬이 맞는지 확인하세요.\n",
        "\n",
        "D = np.diag([1, 2, 3])"
      ],
      "metadata": {
        "id": "A-O3aUPjsG-4"
      }
    },
    {
      "cell_type": "code",
      "source": [
        "D = np.diag([1, 2, 3])\n",
        "\n",
        "print(np.linalg.inv(D))\n",
        "\n",
        "# 곱했을 때 단위행렬이 되면 역행렬\n",
        "print(D.dot(np.linalg.inv(D)))\n",
        "print(D @ np.linalg.inv(D))"
      ],
      "metadata": {
        "colab": {
          "base_uri": "https://localhost:8080/"
        },
        "id": "mb3zONDzsPxU",
        "outputId": "19efdee7-da45-4d0f-b2ac-cb88897e8c9d"
      },
      "execution_count": null,
      "outputs": [
        {
          "output_type": "stream",
          "name": "stdout",
          "text": [
            "[[1.         0.         0.        ]\n",
            " [0.         0.5        0.        ]\n",
            " [0.         0.         0.33333333]]\n",
            "[[1. 0. 0.]\n",
            " [0. 1. 0.]\n",
            " [0. 0. 1.]]\n",
            "[[1. 0. 0.]\n",
            " [0. 1. 0.]\n",
            " [0. 0. 1.]]\n"
          ]
        }
      ]
    },
    {
      "cell_type": "markdown",
      "source": [
        "Task2_0611. 임의의 상삼각 행렬을 생성하고, 그 행렬로 부터 하삼각 행렬을 구하여 출력하세요."
      ],
      "metadata": {
        "id": "MgxjpC03sGyE"
      }
    },
    {
      "cell_type": "code",
      "source": [
        "arr = np.random.randint(1,10,size=(3,3))\n",
        "\n",
        "# 상삼각 행렬 생성\n",
        "uarr = np.triu(arr)\n",
        "\n",
        "# 하삼각 행렬\n",
        "larr = uarr.T\n",
        "larr"
      ],
      "metadata": {
        "colab": {
          "base_uri": "https://localhost:8080/"
        },
        "id": "75iQnz3psGg-",
        "outputId": "03a48050-3b5c-4939-8453-bef499158383"
      },
      "execution_count": null,
      "outputs": [
        {
          "output_type": "execute_result",
          "data": {
            "text/plain": [
              "array([[9, 0, 0],\n",
              "       [5, 3, 0],\n",
              "       [9, 1, 8]])"
            ]
          },
          "metadata": {},
          "execution_count": 3
        }
      ]
    },
    {
      "cell_type": "markdown",
      "source": [
        "Task3_0611. 주어진 행렬의 역행렬을 구하고, 역행렬이 맞는지 확인하세요.\n",
        "\n",
        "A = np.array([[4, 7], [2, 6]])"
      ],
      "metadata": {
        "id": "_nOL9UkSsHgf"
      }
    },
    {
      "cell_type": "code",
      "execution_count": null,
      "metadata": {
        "colab": {
          "base_uri": "https://localhost:8080/"
        },
        "id": "0ILGSz3Br_t4",
        "outputId": "50778ef7-9dfa-414a-96de-b00d0da2d646"
      },
      "outputs": [
        {
          "output_type": "stream",
          "name": "stdout",
          "text": [
            "[[1. 0.]\n",
            " [0. 1.]]\n"
          ]
        },
        {
          "output_type": "execute_result",
          "data": {
            "text/plain": [
              "True"
            ]
          },
          "metadata": {},
          "execution_count": 5
        }
      ],
      "source": [
        "A = np.array([[4, 7], [2, 6]])\n",
        "\n",
        "np.linalg.inv(A)\n",
        "\n",
        "res = A @ np.linalg.inv(A) # 단위행렬일시 역행렬\n",
        "\n",
        "np.linalg.det(A) # 행렬식이 0이면 역행렬 X\n",
        "\n",
        "l = np.eye(2) # 단위행렬\n",
        "\n",
        "np.allclose(res, l)"
      ]
    },
    {
      "cell_type": "markdown",
      "source": [
        "Task4_0611. 주어진 데이터 포인트와 모델 파라미터를 사용하여 선형 회귀 모델의 예측값을 계산하세요.\n",
        "\n",
        "X = np.array([1, 2, 3])\n",
        "\n",
        "- 1단계 : 주어진 입력 데이터 포인트 X와 모델 파라미터 θ를 정의.\n",
        "- 2단계 : 행렬 곱을 사용하여 예측값 y를 계산."
      ],
      "metadata": {
        "id": "qvIpKR2_-Gbi"
      }
    },
    {
      "cell_type": "code",
      "source": [
        "# 데이터 포인트 X와 모델 파라미터 델타 정의\n",
        "# 모델 파라미터 : 가중치 행렬\n",
        "X = np.array([1,2,3])\n",
        "W = np.array([0.5,1.5,-2])\n",
        "\n",
        "# 행렬 곱을 사용하여 예측값 y 계산\n",
        "y = X @ W\n",
        "print(y)"
      ],
      "metadata": {
        "colab": {
          "base_uri": "https://localhost:8080/"
        },
        "id": "Jw3UM_sy-G2o",
        "outputId": "065cf5ec-4704-4d88-c485-3dedf8a157a4"
      },
      "execution_count": null,
      "outputs": [
        {
          "output_type": "stream",
          "name": "stdout",
          "text": [
            "-2.5\n"
          ]
        }
      ]
    },
    {
      "cell_type": "markdown",
      "source": [
        "Task5_0611. 주어진 입력 벡터와 가중치 행렬을 사용하여 신경망의 단일 계층 출력을 계산하세요.\n",
        "\n",
        "- 1단계: 입력 벡터 X와 가중치 행렬 W를 정의.\n",
        "- 2단계: 행렬 곱을 사용하여 계층의 출력을 계산."
      ],
      "metadata": {
        "id": "9jiCJz77-GOf"
      }
    },
    {
      "cell_type": "code",
      "source": [
        "# 입력 벡터 X와 가중치 행렬 W 정의\n",
        "X = np.arange(3)\n",
        "W = np.arange(6).reshape(3,2)\n",
        "\n",
        "# 행렬 곱을 사용하여 계층의 출력 계산\n",
        "# W는 가중치 행렬, X는 입력 벡터이고 일반적인 표기방식은 WX\n",
        "Z = np.dot(X,W) # 가중치 우선, 그 다음이 입력벡터. 거꾸로 입력하면 안됨.\n",
        "# 이때 W는 (3,3) X는 (1,3)이기 때문에 numpy가 자동으로 X를 전치하여 계산\n",
        "\n",
        "print(Z)"
      ],
      "metadata": {
        "colab": {
          "base_uri": "https://localhost:8080/"
        },
        "id": "caVeC5Fm-HPN",
        "outputId": "a84e5253-a652-4e8f-e92e-e9095a67d90f"
      },
      "execution_count": null,
      "outputs": [
        {
          "output_type": "stream",
          "name": "stdout",
          "text": [
            "(3,)\n",
            "(3, 2)\n",
            "[10 13]\n"
          ]
        }
      ]
    },
    {
      "cell_type": "markdown",
      "source": [
        "Task6_0611. 주어진 입력 벡터에 대해 신경망의 활성화 함수(ReLU, 시그모이드)를 적용하여 출력을 계산하세요.\n",
        "\n",
        "X = np.array([1, -2, 3])\n",
        "\n",
        "- 1단계: 입력 벡터 X를 정의.\n",
        "- 2단계: 가중치 행렬 W와 편향 벡터 b를 정의.\n",
        "- 3단계: 활성화 함수(ReLU, 시그모이드)를 적용하여 출력을 계산\n",
        "활성화 함수 적용<br>\n",
        "output_relu = relu(Z)<br>\n",
        "output_sigmoid = sigmoid(Z)"
      ],
      "metadata": {
        "id": "toG0-Z8E-GFI"
      }
    },
    {
      "cell_type": "code",
      "source": [
        "def relu(z):\n",
        "  return np.maximum(0, z)\n",
        "\n",
        "def sigmoid(z):\n",
        "  return 1 / (1 + np.exp(-z))\n",
        "\n",
        "# 입력 벡터 X 정의\n",
        "X = np.array([0.5, 1.0, -1.5])\n",
        "\n",
        "# 가중치 행렬 W 정의\n",
        "W = np.arange(6).reshape(3,2)\n",
        "\n",
        "# 편향 벡터 b 정의\n",
        "b = np.array([0.1, -0.2]) # 편향에는 스칼라, 벡터, 행렬이 있다.\n",
        "\n",
        "Z = X @ W + b\n",
        "#Z = np.dot(X,W) + b\n",
        "\n",
        "res = relu(Z)\n",
        "print(res)"
      ],
      "metadata": {
        "id": "BVqB2mDH-HxQ",
        "colab": {
          "base_uri": "https://localhost:8080/"
        },
        "outputId": "ca72b575-c194-48e4-d626-46af0fcdae84"
      },
      "execution_count": null,
      "outputs": [
        {
          "output_type": "stream",
          "name": "stdout",
          "text": [
            "[0. 0.]\n"
          ]
        }
      ]
    },
    {
      "cell_type": "markdown",
      "source": [
        "Task7_0611. 주어진 선형 방정식을 행렬 형태로 나타내고, 역행렬을 사용하여\n",
        "x와 y를 구하세요.\n",
        "\n",
        "$\\begin{cases}\n",
        "3x + 4y = 10 \\\\\n",
        "2x + y = 5\n",
        "\\end{cases}$\n",
        "\n",
        "단계:\n",
        "1. 계수 행렬 A와 결과 벡터 b를 정의.\n",
        "2. 행렬 A의 역행렬을 구한다.\n",
        "3. 역행렬을 사용하여 변수 x를 구한다."
      ],
      "metadata": {
        "id": "pUrCkl94-F7g"
      }
    },
    {
      "cell_type": "markdown",
      "source": [
        "[풀이]\n",
        "주어진 선형방정식을 행렬 형태로 나타내면 다음과 같다: \\\\\n",
        "$A\\mathbf{x} = \\mathbf{b}$ \\\\\n",
        "여기서 \\\\\n",
        "$A = \\begin{bmatrix}3 & 4 \\\\2 & 1\\end{bmatrix}$,\n",
        "\n",
        "$\\mathbf{x} = \\begin{bmatrix}x \\\\y\\end{bmatrix}$,\n",
        "\n",
        "$\\mathbf{b} = \\begin{bmatrix}10 \\\\5\\end{bmatrix}$\n",
        "\n",
        "$\\mathbf{x} = A^{-1} \\mathbf{b}$"
      ],
      "metadata": {
        "id": "9Skjv09wCtgk"
      }
    },
    {
      "cell_type": "code",
      "source": [
        "# 계수행렬 : x와 y 앞에 있는 숫자들의 행렬. 위 방정식 모음과 밑 방정식 계수 모음을 따로 묶어야한다.\n",
        "A = np.array([[3, 4], [2, 1]])\n",
        "b = np.array([[10],[5]])\n",
        "\n",
        "# A역행렬과 b를 행렬곱하면 변수 x가 나온다.\n",
        "res = np.linalg.inv(A) @ b\n",
        "print(res)"
      ],
      "metadata": {
        "id": "gC2T0dN9-ILx"
      },
      "execution_count": null,
      "outputs": []
    },
    {
      "cell_type": "markdown",
      "source": [
        "Task7_0611. 주어진 선형 방정식을 행렬 형태로 나타내고, 역행렬을 사용하여\n",
        "x와 y를 구하세요.\n",
        "\n",
        "$\\begin{cases}\n",
        "3x + 4y = 10 \\\\\n",
        "2x + y = 5\n",
        "\\end{cases}$\n",
        "\n",
        "단계:\n",
        "1. 계수 행렬 A와 결과 벡터 b를 정의.\n",
        "2. 행렬 A의 역행렬을 구한다.\n",
        "3. 역행렬을 사용하여 변수 x를 구한다."
      ],
      "metadata": {
        "id": "Roza_t8k-Fx3"
      }
    },
    {
      "cell_type": "code",
      "source": [
        "A = np.array([[3, 4], [2, 1]])\n",
        "b = np.array([[10], [5]])\n",
        "\n",
        "Z = np.linalg.inv(A)\n",
        "res = np.dot(Z,b)\n",
        "print(res)"
      ],
      "metadata": {
        "id": "7PBb5HhV-Iup"
      },
      "execution_count": null,
      "outputs": []
    },
    {
      "cell_type": "markdown",
      "source": [
        "Task8_0611. 주어진 2D 평면의 점을 특정 변환 행렬을 사용하여 변환한 후, 변환된 좌표를 원래 좌표로 되돌리세요.\n",
        "\n",
        "원래 점의 좌표 p와 변환 행렬 T 정의<br>\n",
        "p = np.array([1, 2])<br>\n",
        "T = np.array([[2, 0], [0, 3]])\n",
        "\n",
        "단계\n",
        "1. 원래 점의 좌표 p와 변환 행렬 T를 정의.\n",
        "2. 변환 행렬 T를 사용하여 새로운 좌표 p'를 계산.\n",
        "3. 변환 행렬 T의 역행렬을 사용하여 새로운 좌표 p'에서 원래 좌표 p를 복원."
      ],
      "metadata": {
        "id": "jjjgngtQ-Fn9"
      }
    },
    {
      "cell_type": "code",
      "source": [
        "p = np.array([1, 2])\n",
        "T = np.array([[2, 0], [0, 3]])\n",
        "\n",
        "# 변환 행렬 T를 사용하여 새로운 좌표 p를 계산\n",
        "p2 = np.dot(T,p) # 새로운 좌표 p'\n",
        "T_inv = np.linalg.inv(T) # 변환행렬 T의 역행렬\n",
        "\n",
        "# 원래 좌표 p 복원\n",
        "p_restored = np.dot(T_inv, p2)\n",
        "\n",
        "print(\"p : \", p)\n",
        "print(\"p': \", p2)\n",
        "print(\"p_restored : \", p_restored)"
      ],
      "metadata": {
        "id": "O9SlIEL3-JLX",
        "colab": {
          "base_uri": "https://localhost:8080/"
        },
        "outputId": "9dfbce3d-9fdd-401a-e3ea-08a8565beca6"
      },
      "execution_count": null,
      "outputs": [
        {
          "output_type": "stream",
          "name": "stdout",
          "text": [
            "p :  [1 2]\n",
            "p':  [2 6]\n",
            "p_restored :  [1. 2.]\n"
          ]
        }
      ]
    },
    {
      "cell_type": "markdown",
      "source": [],
      "metadata": {
        "id": "VIZEzS5k-FdT"
      }
    },
    {
      "cell_type": "code",
      "source": [],
      "metadata": {
        "id": "hLZwH8Vx-Jhm"
      },
      "execution_count": null,
      "outputs": []
    }
  ]
}