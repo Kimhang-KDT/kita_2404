{
  "nbformat": 4,
  "nbformat_minor": 0,
  "metadata": {
    "colab": {
      "provenance": []
    },
    "kernelspec": {
      "name": "python3",
      "display_name": "Python 3"
    },
    "language_info": {
      "name": "python"
    }
  },
  "cells": [
    {
      "cell_type": "code",
      "source": [
        "import numpy as np"
      ],
      "metadata": {
        "id": "CoNsb1DDIbUq"
      },
      "execution_count": 2,
      "outputs": []
    },
    {
      "cell_type": "markdown",
      "source": [
        "Task1_0611. 주어진 대각 행렬의 역행렬을 구하고, 역행렬이 맞는지 확인하세요.\n",
        "\n",
        "D = np.diag([1, 2, 3])"
      ],
      "metadata": {
        "id": "A-O3aUPjsG-4"
      }
    },
    {
      "cell_type": "code",
      "source": [
        "D = np.diag([1, 2, 3])\n",
        "\n",
        "print(np.linalg.inv(D))\n",
        "\n",
        "# 곱했을 때 단위행렬이 되면 역행렬\n",
        "print(D.dot(np.linalg.inv(D)))\n",
        "print(D @ np.linalg.inv(D))"
      ],
      "metadata": {
        "colab": {
          "base_uri": "https://localhost:8080/"
        },
        "id": "mb3zONDzsPxU",
        "outputId": "19efdee7-da45-4d0f-b2ac-cb88897e8c9d"
      },
      "execution_count": 4,
      "outputs": [
        {
          "output_type": "stream",
          "name": "stdout",
          "text": [
            "[[1.         0.         0.        ]\n",
            " [0.         0.5        0.        ]\n",
            " [0.         0.         0.33333333]]\n",
            "[[1. 0. 0.]\n",
            " [0. 1. 0.]\n",
            " [0. 0. 1.]]\n",
            "[[1. 0. 0.]\n",
            " [0. 1. 0.]\n",
            " [0. 0. 1.]]\n"
          ]
        }
      ]
    },
    {
      "cell_type": "markdown",
      "source": [
        "Task2_0611. 임의의 상삼각 행렬을 생성하고, 그 행렬로 부터 하삼각 행렬을 구하여 출력하세요."
      ],
      "metadata": {
        "id": "MgxjpC03sGyE"
      }
    },
    {
      "cell_type": "code",
      "source": [
        "arr = np.random.randint(1,10,size=(3,3))\n",
        "\n",
        "# 상삼각 행렬 생성\n",
        "uarr = np.triu(arr)\n",
        "\n",
        "# 하삼각 행렬\n",
        "larr = np.tril(arr)\n",
        "np.tril(uarr)"
      ],
      "metadata": {
        "colab": {
          "base_uri": "https://localhost:8080/"
        },
        "id": "75iQnz3psGg-",
        "outputId": "ddd3e98a-8ea8-4ae6-d5ca-c968589e0876"
      },
      "execution_count": 8,
      "outputs": [
        {
          "output_type": "execute_result",
          "data": {
            "text/plain": [
              "array([[7, 0, 0],\n",
              "       [0, 4, 0],\n",
              "       [0, 0, 3]])"
            ]
          },
          "metadata": {},
          "execution_count": 8
        }
      ]
    },
    {
      "cell_type": "markdown",
      "source": [
        "Task3_0611. 주어진 행렬의 역행렬을 구하고, 역행렬이 맞는지 확인하세요.\n",
        "\n",
        "A = np.array([[4, 7], [2, 6]])"
      ],
      "metadata": {
        "id": "_nOL9UkSsHgf"
      }
    },
    {
      "cell_type": "code",
      "execution_count": 11,
      "metadata": {
        "colab": {
          "base_uri": "https://localhost:8080/"
        },
        "id": "0ILGSz3Br_t4",
        "outputId": "4151551b-d3fa-4e8a-8c84-140c609f11e9"
      },
      "outputs": [
        {
          "output_type": "execute_result",
          "data": {
            "text/plain": [
              "10.000000000000002"
            ]
          },
          "metadata": {},
          "execution_count": 11
        }
      ],
      "source": [
        "A = np.array([[4, 7], [2, 6]])\n",
        "\n",
        "np.linalg.inv(A)\n",
        "\n",
        "A @ np.linalg.inv(A) # 단위행렬일시 역행렬\n",
        "\n",
        "np.linalg.det(A) # 행렬식이 0이면 역행렬 X"
      ]
    },
    {
      "cell_type": "markdown",
      "source": [
        "Task4_0611. 주어진 데이터 포인트와 모델 파라미터를 사용하여 선형 회귀 모델의 예측값을 계산하세요.\n",
        "\n",
        "X = np.array([1, 2, 3])\n",
        "\n",
        "- 1단계 : 주어진 입력 데이터 포인트 X와 모델 파라미터 θ를 정의.\n",
        "- 2단계 : 행렬 곱을 사용하여 예측값 y를 계산."
      ],
      "metadata": {
        "id": "qvIpKR2_-Gbi"
      }
    },
    {
      "cell_type": "code",
      "source": [
        "# 데이터 포인트 X와 모델 파라미터 델타 정의\n",
        "X = np.array([1,2,3])\n",
        "W = np.array([2,4,6])\n",
        "\n",
        "# 행렬 곱을 사용하여 예측값 y 계산\n",
        "y = X @ W\n",
        "print(y)"
      ],
      "metadata": {
        "colab": {
          "base_uri": "https://localhost:8080/"
        },
        "id": "Jw3UM_sy-G2o",
        "outputId": "8449d908-88ea-4b9f-c5bf-e96f55ab64b7"
      },
      "execution_count": 12,
      "outputs": [
        {
          "output_type": "stream",
          "name": "stdout",
          "text": [
            "28\n"
          ]
        }
      ]
    },
    {
      "cell_type": "markdown",
      "source": [
        "Task5_0611. 주어진 입력 벡터와 가중치 행렬을 사용하여 신경망의 단일 계층 출력을 계산하세요.\n",
        "\n",
        "- 1단계: 입력 벡터 X와 가중치 행렬 W를 정의.\n",
        "- 2단계: 행렬 곱을 사용하여 계층의 출력을 계산."
      ],
      "metadata": {
        "id": "9jiCJz77-GOf"
      }
    },
    {
      "cell_type": "code",
      "source": [
        "# 입력 벡터 X와 가중치 행렬 W 정의\n",
        "X = np.array([1,2,3])\n",
        "W = np.array([[1,2,3], [5,6,7]])\n",
        "\n",
        "# 행렬 곱을 사용하여 계층의 출력 계산\n"
      ],
      "metadata": {
        "colab": {
          "base_uri": "https://localhost:8080/",
          "height": 199
        },
        "id": "caVeC5Fm-HPN",
        "outputId": "3b75fcab-84c8-4f1e-bbd0-037800e2175d"
      },
      "execution_count": 16,
      "outputs": [
        {
          "output_type": "error",
          "ename": "ValueError",
          "evalue": "shapes (3,) and (2,3) not aligned: 3 (dim 0) != 2 (dim 0)",
          "traceback": [
            "\u001b[0;31m---------------------------------------------------------------------------\u001b[0m",
            "\u001b[0;31mValueError\u001b[0m                                Traceback (most recent call last)",
            "\u001b[0;32m<ipython-input-16-b17ce45e0638>\u001b[0m in \u001b[0;36m<cell line: 6>\u001b[0;34m()\u001b[0m\n\u001b[1;32m      4\u001b[0m \u001b[0;34m\u001b[0m\u001b[0m\n\u001b[1;32m      5\u001b[0m \u001b[0;31m# 행렬 곱을 사용하여 계층의 출력 계산\u001b[0m\u001b[0;34m\u001b[0m\u001b[0;34m\u001b[0m\u001b[0m\n\u001b[0;32m----> 6\u001b[0;31m \u001b[0mZ\u001b[0m \u001b[0;34m=\u001b[0m \u001b[0mnp\u001b[0m\u001b[0;34m.\u001b[0m\u001b[0mdot\u001b[0m\u001b[0;34m(\u001b[0m\u001b[0mX\u001b[0m\u001b[0;34m,\u001b[0m\u001b[0mW\u001b[0m\u001b[0;34m)\u001b[0m\u001b[0;34m\u001b[0m\u001b[0;34m\u001b[0m\u001b[0m\n\u001b[0m\u001b[1;32m      7\u001b[0m \u001b[0mprint\u001b[0m\u001b[0;34m(\u001b[0m\u001b[0mZ\u001b[0m\u001b[0;34m)\u001b[0m\u001b[0;34m\u001b[0m\u001b[0;34m\u001b[0m\u001b[0m\n",
            "\u001b[0;31mValueError\u001b[0m: shapes (3,) and (2,3) not aligned: 3 (dim 0) != 2 (dim 0)"
          ]
        }
      ]
    },
    {
      "cell_type": "markdown",
      "source": [
        "Task6_0611. 주어진 입력 벡터에 대해 신경망의 활성화 함수(ReLU, 시그모이드)를 적용하여 출력을 계산하세요.\n",
        "\n",
        "X = np.array([1, -2, 3])\n",
        "\n",
        "- 1단계: 입력 벡터 X를 정의.\n",
        "- 2단계: 가중치 행렬 W와 편향 벡터 b를 정의.\n",
        "- 3단계: 활성화 함수(ReLU, 시그모이드)를 적용하여 출력을 계산\n",
        "활성화 함수 적용<br>\n",
        "output_relu = relu(Z)<br>\n",
        "output_sigmoid = sigmoid(Z)"
      ],
      "metadata": {
        "id": "toG0-Z8E-GFI"
      }
    },
    {
      "cell_type": "code",
      "source": [
        "X = np.array([0.5, 1.0, -1.5])\n",
        "\n",
        "output_relu = relu(Z)\n",
        "output_sigmoid = sigmoid(Z)"
      ],
      "metadata": {
        "id": "BVqB2mDH-HxQ"
      },
      "execution_count": null,
      "outputs": []
    },
    {
      "cell_type": "markdown",
      "source": [
        "Task7_0611. 주어진 선형 방정식을 행렬 형태로 나타내고, 역행렬을 사용하여\n",
        "x와 y를 구하세요.\n",
        "\n",
        "$\\begin{cases}\n",
        "3x + 4y = 10 \\\\\n",
        "2x + y = 5\n",
        "\\end{cases}$\n",
        "\n",
        "단계:\n",
        "1. 계수 행렬 A와 결과 벡터 b를 정의.\n",
        "2. 행렬 A의 역행렬을 구한다.\n",
        "3. 역행렬을 사용하여 변수 x를 구한다."
      ],
      "metadata": {
        "id": "pUrCkl94-F7g"
      }
    },
    {
      "cell_type": "code",
      "source": [
        "a = np.array([[3]])"
      ],
      "metadata": {
        "id": "gC2T0dN9-ILx"
      },
      "execution_count": null,
      "outputs": []
    },
    {
      "cell_type": "markdown",
      "source": [
        "Task7_0611. 주어진 선형 방정식을 행렬 형태로 나타내고, 역행렬을 사용하여\n",
        "x와 y를 구하세요.\n",
        "\n",
        "$\\begin{cases}\n",
        "3x + 4y = 10 \\\\\n",
        "2x + y = 5\n",
        "\\end{cases}$\n",
        "\n",
        "단계:\n",
        "1. 계수 행렬 A와 결과 벡터 b를 정의.\n",
        "2. 행렬 A의 역행렬을 구한다.\n",
        "3. 역행렬을 사용하여 변수 x를 구한다."
      ],
      "metadata": {
        "id": "Roza_t8k-Fx3"
      }
    },
    {
      "cell_type": "code",
      "source": [],
      "metadata": {
        "id": "7PBb5HhV-Iup"
      },
      "execution_count": null,
      "outputs": []
    },
    {
      "cell_type": "markdown",
      "source": [
        "Task8_0611. 주어진 2D 평면의 점을 특정 변환 행렬을 사용하여 변환한 후, 변환된 좌표를 원래 좌표로 되돌리세요.\n",
        "\n",
        "원래 점의 좌표 p와 변환 행렬 T 정의<br>\n",
        "p = np.array([1, 2])<br>\n",
        "T = np.array([[2, 0], [0, 3]])\n",
        "\n",
        "단계\n",
        "1. 원래 점의 좌표 p와 변환 행렬 T를 정의.\n",
        "2. 변환 행렬 T를 사용하여 새로운 좌표 p를 계산.\n",
        "3. 변환 행렬 T의 역행렬을 사용하여 새로운 좌표 p에서 원래 좌표 p를 복원."
      ],
      "metadata": {
        "id": "jjjgngtQ-Fn9"
      }
    },
    {
      "cell_type": "code",
      "source": [],
      "metadata": {
        "id": "O9SlIEL3-JLX"
      },
      "execution_count": null,
      "outputs": []
    },
    {
      "cell_type": "markdown",
      "source": [],
      "metadata": {
        "id": "VIZEzS5k-FdT"
      }
    },
    {
      "cell_type": "code",
      "source": [],
      "metadata": {
        "id": "hLZwH8Vx-Jhm"
      },
      "execution_count": null,
      "outputs": []
    }
  ]
}