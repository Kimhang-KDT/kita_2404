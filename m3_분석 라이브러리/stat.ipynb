{
  "nbformat": 4,
  "nbformat_minor": 0,
  "metadata": {
    "colab": {
      "provenance": []
    },
    "kernelspec": {
      "name": "python3",
      "display_name": "Python 3"
    },
    "language_info": {
      "name": "python"
    }
  },
  "cells": [
    {
      "cell_type": "code",
      "source": [
        "import numpy as np\n",
        "import pandas as pd\n",
        "import matplotlib.pyplot as plt\n",
        "import seaborn as sns"
      ],
      "metadata": {
        "id": "_gl2CFVxd0yj"
      },
      "execution_count": 29,
      "outputs": []
    },
    {
      "cell_type": "markdown",
      "source": [
        "## 통계분석과 기계학습\n",
        "\n",
        "통계분석\n",
        "- 통계분석은 데이터로부터 모델을 만들어 현상을 설명하고 이해하는 데 중점\n",
        "- 단순하고 해석 가능한 형태. 이 모델들은 명확한 가정(예: 정규성, 독립성, 등분산성)에 기반하고, 이러한 가정들은 모델의 유효성을 판단하는 데 중요\n",
        "- 통계분석의 결과는 데이터에 대한 해석과 추론에 중점\n",
        "\n",
        "기계학습\n",
        "-  데이터로부터 패턴을 학습하여 미래 데이터에 대한 예측을 하는 데 중점\n",
        "-  복잡하고, 통계적 가정보다는 예측 성능에 초점을 둔다. 이러한 모델들은 때로 해석하기 어려울 수 있으며, \"블랙 박스\"로 간주\n",
        "- 기계학습의 결과는 주로 예측의 정확도와 모델의 성능에 중점. 해석 가능성보다는 예측 성능이 더 중요한 역할"
      ],
      "metadata": {
        "id": "xXoONfE2DA1Y"
      }
    },
    {
      "cell_type": "markdown",
      "source": [
        "머신러닝과 인공지능에는 여러 가지 통계적 개념과 기법들이 필요\n",
        "\n",
        "1. 기초 통계 개념\n",
        "- 기술 통계 (Descriptive Statistics): 데이터의 기본적인 특성을 요약하고 설명합니다. 평균, 중앙값, 표준편차, 분산, 범위, 사분위수 등이 포함.\n",
        "- 추론 통계 (Inferential Statistics): 표본 데이터를 이용해 모집단에 대한 결론을 도출. 가설 검정, 신뢰 구간, p-value 등이 포함.\n",
        "2. 확률 이론 (Probability Theory)\n",
        "- 확률 분포 (Probability Distributions): 데이터가 어떤 패턴을 따르는지 설명합니다. 정규분포, 이항분포, 포아송분포 등이 포함.\n",
        "- 확률 변수 (Random Variables): 결과가 확률에 따라 결정되는 변수. 이산 확률 변수와 연속 확률 변수로 나눌 수 있다.\n",
        "- 기대값과 분산 (Expected Value and Variance): 확률 변수의 평균과 변동성을 측정.\n",
        "3. 가설 검정 (Hypothesis Testing)\n",
        "- 귀무가설과 대립가설 (Null and Alternative Hypothesis): 검정의 기본 가정. 귀무가설은 보통 '효과 없음'을 가정.\n",
        "- t-검정 (t-test): 두 그룹의 평균을 비교하는 데 사용.\n",
        "- 카이제곱 검정 (Chi-Square Test): 범주형 데이터의 분포를 비교.\n",
        "- ANOVA (Analysis of Variance): 세 개 이상의 그룹 간의 평균 차이를 비교.\n",
        "4. 회귀 분석 (Regression Analysis)\n",
        "- 단순 선형 회귀 (Simple Linear Regression): 하나의 독립 변수와 종속 변수 간의 관계를 모델링.\n",
        "- 다중 선형 회귀 (Multiple Linear Regression): 여러 독립 변수와 종속 변수 간의 관계를 모델링.\n",
        "- 로지스틱 회귀 (Logistic Regression): 종속 변수가 범주형일 때 사용.\n",
        "5. 확률 모델링 (Probabilistic Modeling)\n",
        "- 베이지안 통계 (Bayesian Statistics): 사전 지식과 데이터를 결합하여 결론을 도출.\n",
        "6. 시간 시계열 분석 (Time Series Analysis)\n",
        "- 추세 분석 (Trend Analysis): 데이터의 장기적인 증가 또는 감소 경향을 파악.\n",
        "- 계절성 분석 (Seasonality Analysis): 데이터의 주기적인 패턴을 분석.\n",
        "- ARIMA 모델 (AutoRegressive Integrated Moving Average): 시간 시계열 데이터를 분석하고 예측하는 데 사용.\n",
        "7. 고급 통계 기법\n",
        "- 주성분 분석 (PCA, Principal Component Analysis): 고차원의 데이터를 저차원으로 축소하여 중요한 패턴을 찾는다.\n",
        "- 클러스터링 (Clustering): 데이터 포인트를 유사한 그룹으로 나눈다. K-평균, 계층적 클러스터링 등이 포함."
      ],
      "metadata": {
        "id": "Vibf5JAfDQYO"
      }
    },
    {
      "cell_type": "markdown",
      "source": [
        "## 기초통계\n",
        "\n",
        "#### 평균과 표준편차\n",
        "데이터의 중심 경향성과 분산을 파악하는 데 유용. 예를 들어 학생들의 시험 점수 데이터를 분석할 때 평균과 표준편차를 통해 전체 성적 수준과 변동성을 이해할 수 있다."
      ],
      "metadata": {
        "id": "Y4rLDR1hMgnw"
      }
    },
    {
      "cell_type": "code",
      "execution_count": 1,
      "metadata": {
        "id": "bTWTU2WZCzuT",
        "colab": {
          "base_uri": "https://localhost:8080/"
        },
        "outputId": "9e3e6737-9b7f-4da2-e098-6fe1262332e8"
      },
      "outputs": [
        {
          "output_type": "stream",
          "name": "stdout",
          "text": [
            "평균: 86.6\n",
            "표준편차: 7.6707235643060425\n"
          ]
        }
      ],
      "source": [
        "import numpy as np\n",
        "\n",
        "data = np.array([75, 80, 85, 90, 95, 100, 76, 92, 88, 85])\n",
        "\n",
        "mean = np.mean(data)\n",
        "std_dev = np.std(data)\n",
        "\n",
        "print(\"평균:\", mean)\n",
        "print(\"표준편차:\", std_dev)"
      ]
    },
    {
      "cell_type": "markdown",
      "source": [
        "#### 중간값과 사분위수\n",
        "\n",
        "데이터의 중심 경향과 분포를 이해하는 데 도움을 준다. 예를 들어, 가계 소득 데이터를 분석할 때 중간값과 사분위수를 통해 소득 분포를 파악할 수 있다."
      ],
      "metadata": {
        "id": "6Ta9alRZM8-Y"
      }
    },
    {
      "cell_type": "code",
      "source": [
        "# 중간값과 사분위수계산\n",
        "median = np.median(data)\n",
        "q1 = np.percentile(data, 25)\n",
        "q3 = np.percentile(data, 75)\n",
        "\n",
        "print(\"중간값:\", median)\n",
        "print(\"1사분위수:\", q1)\n",
        "print(\"3사분위수:\", q3)"
      ],
      "metadata": {
        "colab": {
          "base_uri": "https://localhost:8080/"
        },
        "id": "vfy3M5hbNEg6",
        "outputId": "02f37666-4112-4257-fb9c-a001f1c0d3a1"
      },
      "execution_count": 2,
      "outputs": [
        {
          "output_type": "stream",
          "name": "stdout",
          "text": [
            "중간값: 86.5\n",
            "1사분위수: 81.25\n",
            "3사분위수: 91.5\n"
          ]
        }
      ]
    },
    {
      "cell_type": "markdown",
      "source": [
        "#### 평균값 > 중앙값\n",
        "\n",
        "- 데이터는 오른쪽으로 치우친(오른쪽 꼬리가 긴) 분포를 가진다. 이를 '오른쪽으로 치우친 분포' 또는 '양의 왜곡 분포' 라고 한다.\n",
        "- 특징 : 데이터의 높은 값(오른쪾 꼬리)에 이상치나 극단적인 높은값들이 존재한다.\n",
        "- 예시 : 적은 수의 매우 높은 소득을 가진 사람들이 있는 소득 데이터. 이러한 극단적으로 높은 값들은 평균을 중앙값보다 더 낮게 끌어내린다.\n",
        "\n",
        "#### 중앙값 > 평균값\n",
        "- 데이터는 일반적으로 왼쪽으로 치우친(왼쪽 꼬리가 긴) 분포를 가진다. 이러한 분포를 '왼쪽으로 치우친 분포' 또는 '음의 왜곡 분포' 라고 한다.\n",
        "- 특징 : 데이터의 낮은 값(왼쪽 꼬리)에 이상치나 극단적인 낮은 값들이 존재할 수 있다.\n",
        "- 예시 : 적은 수의 매우 낮은 소득을 가진 사람들이 있는 소득 데이터. 이러한 극단적으로 낮은 값들은 평균을 중아값보다 더 낮게 끌어내린다.\n",
        "\n",
        "#### 중요성\n",
        "평균과 중앙값 사이의 차이는 데이터의 비대칭성을 나타내며 이 차이가 클수록 데이터 분포의 왜곡이 더 크다고 볼 수 있다. 데이터 분석에서는 이러한 왜곡을 인지하고 적절한 해석과 분석 방법을 선택하는 것이 중요. 예를 들어, 이상치나 극단적인 값이 데이터의 해석에 큰 영향을 미칠 수 있으므로, 이를 고려하여 분석을 진행."
      ],
      "metadata": {
        "id": "h6ZZrghxNnl5"
      }
    },
    {
      "cell_type": "code",
      "source": [
        "import numpy as np\n",
        "import pandas as pd\n",
        "import matplotlib.pyplot as plt\n",
        "\n",
        "# 데이터 생성\n",
        "data_right_skewed = np.random.beta(a=2, b=10, size=1000)  # 오른쪽으로 긴 꼬리\n",
        "data_left_skewed = np.random.beta(a=10, b=2, size=1000)   # 왼쪽으로 긴 꼬리\n",
        "\n",
        "# DataFrame 생성\n",
        "df_right_skewed = pd.DataFrame(data_right_skewed, columns=['val'])\n",
        "df_left_skewed = pd.DataFrame(data_left_skewed, columns=['val'])\n",
        "\n",
        "# 히스토그램 그리기\n",
        "fig, axs = plt.subplots(1, 2, figsize=(15, 5))\n",
        "\n",
        "# 오른쪽으로 긴 꼬리 분포\n",
        "axs[0].hist(df_right_skewed['val'], bins=30, color='blue', alpha=0.7)\n",
        "axs[0].axvline(np.mean(df_right_skewed['val']), color='red', linestyle='dashed', linewidth=1)\n",
        "axs[0].axvline(np.median(df_right_skewed['val']), color='green', linestyle='dashed', linewidth=1)\n",
        "axs[0].legend({'Mean':np.mean(df_right_skewed['val']), 'Median':np.median(df_right_skewed['val'])})\n",
        "axs[0].set_title('Right-Skewed Distribution')\n",
        "\n",
        "# 왼쪽으로 긴 꼬리 분포\n",
        "axs[1].hist(df_left_skewed['val'], bins=30, color='orange', alpha=0.7)\n",
        "axs[1].axvline(np.mean(df_left_skewed['val']), color='red', linestyle='dashed', linewidth=1)\n",
        "axs[1].axvline(np.median(df_left_skewed['val']), color='green', linestyle='dashed', linewidth=1)\n",
        "axs[1].legend({'Mean':np.mean(df_left_skewed['val']), 'Median':np.median(df_left_skewed['val'])})\n",
        "axs[1].set_title('Left-Skewed Distribution')\n",
        "\n",
        "plt.tight_layout()\n",
        "plt.show()"
      ],
      "metadata": {
        "colab": {
          "base_uri": "https://localhost:8080/",
          "height": 359
        },
        "id": "GwJ1BMWJN_l8",
        "outputId": "a383ec12-829f-47af-ac43-d8bfd71d3bb7"
      },
      "execution_count": 3,
      "outputs": [
        {
          "output_type": "display_data",
          "data": {
            "text/plain": [
              "<Figure size 1500x500 with 2 Axes>"
            ],
            "image/png": "[encoded data removed]"
          },
          "metadata": {}
        }
      ]
    },
    {
      "cell_type": "markdown",
      "source": [
        "#### 상자 그림\n",
        "\n",
        "데이터의 분포와 이상치를 시각화 하는 데 유용, 예를 들어, 회사의 연봉 데이터를 분석할 때 상자 그림을 통해 연봉의 분포와 이상치를 파악할 수 있다."
      ],
      "metadata": {
        "id": "3z5mPWevQhah"
      }
    },
    {
      "cell_type": "code",
      "source": [
        "data = np.array([85, 90, 78, 92, 88, 76, 95, 89, 77, 91, 100])\n",
        "data = np.array([85, 90, 78, 92, 88, 76, 95, 89, 77, 91, 110])\n",
        "\n",
        "# 상자 그림 그리기\n",
        "plt.boxplot(data)\n",
        "plt.ylabel('Salary')\n",
        "plt.title('Salary Distribution')\n",
        "plt.show()\n",
        "\n",
        "# 1q와 3q 사이를 iqr이라한다."
      ],
      "metadata": {
        "colab": {
          "base_uri": "https://localhost:8080/",
          "height": 452
        },
        "id": "fv_Ci95nQsKQ",
        "outputId": "f1a044fe-ecf6-4c28-e912-dc10e7fd507d"
      },
      "execution_count": 10,
      "outputs": [
        {
          "output_type": "display_data",
          "data": {
            "text/plain": [
              "<Figure size 640x480 with 1 Axes>"
            ],
            "image/png": "[encoded data removed]"
          },
          "metadata": {}
        }
      ]
    },
    {
      "cell_type": "code",
      "source": [
        "# Q. 다음 사항을 수행하세요.\n",
        "\n",
        "# 1. 평균 50, 표준편차 10인 정규 분포에서 100개 샘플 생성\n",
        "data = np.random.normal(50,10,100) # 앞에 평균, 가운데 표준편차, 마지막 개수\n",
        "\n",
        "# 2. 기본 데이터의 평균과 중앙값 계산\n",
        "mean1 = data.mean()\n",
        "med1 = np.median(data)\n",
        "print(\"평균:\", mean1)\n",
        "print(\"중앙값:\", med1)\n",
        "\n",
        "# 3. 데이터에 이상치 500 추가\n",
        "np.random.seed(0)\n",
        "data1 = np.append(data, 500)\n",
        "\n",
        "# 4. 이상치가 포함된 데이터의 평균과 중앙값 계산\n",
        "mean2 = data1.mean()\n",
        "med2  = np.median(data1)\n",
        "print(\"평균:\", mean2)\n",
        "print(\"중앙값:\", med2)\n",
        "\n",
        "# 5. 이상치 포함에 따른 평균값과 중앙값간의 변화 설명\n",
        "# 이상치 500을 포함함에 따라 평균값이 48.94 => 53.41로 변화했음을 알 수 있습니다.\n",
        "# 중앙값은 49.49 => 49.53으로 많은 차이값을 보이지는 않습니다."
      ],
      "metadata": {
        "colab": {
          "base_uri": "https://localhost:8080/"
        },
        "id": "m5q-xEQPRwbA",
        "outputId": "f52accbd-4ed5-45b7-cfcf-91845d57f1c8"
      },
      "execution_count": 17,
      "outputs": [
        {
          "output_type": "stream",
          "name": "stdout",
          "text": [
            "평균: 50.59808015534484\n",
            "중앙값: 50.94096119437998\n",
            "평균: 55.04760411420281\n",
            "중앙값: 51.216750164928285\n"
          ]
        }
      ]
    },
    {
      "cell_type": "code",
      "source": [
        "# data와 data1 상자 그림 그리기\n",
        "plt.figure(figsize=(12, 5))\n",
        "plt.subplot(1, 2, 1)\n",
        "plt.boxplot(data)\n",
        "plt.ylabel('Salary')\n",
        "plt.title('Salary Distribution')\n",
        "\n",
        "plt.subplot(1, 2, 2)\n",
        "plt.boxplot(data1)\n",
        "plt.ylabel('Salary')\n",
        "plt.title('Salary Distribution')\n",
        "plt.show()"
      ],
      "metadata": {
        "id": "WQIbQcz0aU_V"
      },
      "execution_count": null,
      "outputs": []
    },
    {
      "cell_type": "code",
      "source": [
        "# data 분포 시각화(히스토그램과 KDE)\n",
        "fig, axs = plt.subplots(1,2, figsize=(12,6), sharey=True)\n",
        "axs[0].histplot(data, bins=30, kde=True, ax=axs[0])\n",
        "axs[0].set_title('Original Data')\n",
        "axs[0].set_xlabel('Value')\n",
        "axs[0].set_ylabel('Frequency')\n",
        "\n",
        "# data1 분포 시각화(히스토그램과 KDE)\n",
        "axs[1].histplot(data1, bins=30, kde=True, ax=axs[1])\n",
        "axs[1].set_title('Data with Outlier')\n",
        "axs[1].set_xlabel('Value')\n",
        "\n",
        "plt.tight_layout()\n",
        "plt.show()"
      ],
      "metadata": {
        "id": "hGBHIo3OaR5C"
      },
      "execution_count": null,
      "outputs": []
    },
    {
      "cell_type": "markdown",
      "source": [
        "의미와 중요성\n",
        "\n",
        "- 이상치의 영향: 평균값은 이상치에 의해 크게 왜곡될 수 있다. 예를 들어, 소득 데이터에서 몇몇 매우 높은 값(억만장자의 소득)이 평균을 크게 올릴 수 있지만, 중앙값은 이러한 극단적인 값의 영향을 덜 받는다.\n",
        "- 데이터 분포의 대표성: 중앙값은 데이터의 분포가 비대칭일 때 데이터의 \"중심\"을 더 잘 나타내는 경향이 있다. 반면, 평균값은 데이터가 대칭적인 분포를 가질 때 중심 경향을 잘 나타낸다.\n",
        "- 데이터 해석: 데이터 분석에서는 종종 평균값과 중앙값을 함께 사용하여 데이터의 분포를 더 잘 이해한다. 두 척도 사이에 큰 차이가 있다면, 이는 데이터에 이상치나 극단적인 값이 있다는 신호일 수 있다.\n",
        "따라서 평균값과 중앙값을 선택할 때는 데이터의 특성과 분석의 목적을 고려해야 하며 이상치가 존재하거나 데이터가 비대칭적인 분포를 가질 경우, 중앙값이 더 적절할 수 있다. 반면, 데이터가 정규 분포를 이루는 경우, 평균값이 데이터를 대표하는 데 적합할 수 있다."
      ],
      "metadata": {
        "id": "PsJZ_-brY-di"
      }
    },
    {
      "cell_type": "markdown",
      "source": [
        "## 산점도\n",
        "\n",
        "두 변수 간의 관계를 시각화하는 데 유용. 예를 들어, 광고비와 매출 데이터를 분석할 때 산점도를 통해 광고비와 매출 간의 관계를 파악할 수 있다."
      ],
      "metadata": {
        "id": "Cj1t26Fyal5L"
      }
    },
    {
      "cell_type": "markdown",
      "source": [
        "#### 추세선이 있는 산점도\n",
        "\n",
        "두 변수 간의 관계를 시각화하고, 추세선을 통해 데이터의 경향성을 파악하는 데 유용. 예를 들어, 마케팅 캠페인 기간과 매출 데이터를 분석할 때 추세선이 있는 산점도를 통해 캠페인 기간이 매출에 미치는 영향을 파악할 수 있다."
      ],
      "metadata": {
        "id": "rcX6I4KPcTIV"
      }
    },
    {
      "cell_type": "code",
      "source": [
        "# 예제 데이터\n",
        "np.random.seed(0)\n",
        "x = np.arange(100)\n",
        "x = x\n",
        "y = x + np.random.normal(0,10,len(x))\n",
        "\n",
        "# 산점도 그리기\n",
        "plt.scatter(x, y)\n",
        "m, b = np.polyfit(x, y, 1)\n",
        "plt.plot(x, m*x + b, color='red')\n",
        "plt.xlabel('X')\n",
        "plt.ylabel('Y')\n",
        "plt.title('Scatter Plot of x vs y')\n",
        "plt.show()"
      ],
      "metadata": {
        "colab": {
          "base_uri": "https://localhost:8080/",
          "height": 472
        },
        "id": "V_bqv5XBaalp",
        "outputId": "2fe3c4e1-a087-4ae5-b6ee-fe4938c6d997"
      },
      "execution_count": 23,
      "outputs": [
        {
          "output_type": "display_data",
          "data": {
            "text/plain": [
              "<Figure size 640x480 with 1 Axes>"
            ],
            "image/png": "[encoded data removed]"
          },
          "metadata": {}
        }
      ]
    },
    {
      "cell_type": "markdown",
      "source": [
        "## 상관 계수\n",
        "\n",
        "두 변수 간의 선형 관계를 측정하는 데 사용. 예를 들어, 온도와 아이스크림 판매량 데이터를 분석할 때 상관 계수를 통해 두 변수 간의 관계 강도를 파악할 수 있다.\n"
      ],
      "metadata": {
        "id": "pmNR05ldcjP5"
      }
    },
    {
      "cell_type": "code",
      "source": [
        "# 상관 계수 계산\n",
        "corr = np.corrcoef(x, y)\n",
        "print(f\"상관계수 : {corr[0, 1]}\")\n",
        "print(corr) # 상관행렬. x와 y의 상관관계를 보여주는 행렬"
      ],
      "metadata": {
        "colab": {
          "base_uri": "https://localhost:8080/"
        },
        "id": "xlaAtcu6cqr6",
        "outputId": "c510e0ec-3d63-442e-eeff-d1c7474da1b1"
      },
      "execution_count": 26,
      "outputs": [
        {
          "output_type": "stream",
          "name": "stdout",
          "text": [
            "상관계수 : 0.9412962237004371\n",
            "[[1.         0.94129622]\n",
            " [0.94129622 1.        ]]\n"
          ]
        }
      ]
    },
    {
      "cell_type": "markdown",
      "source": [
        "## 히트맵\n",
        "\n",
        "변수 간의 상관 관계를 시각화 하는 데 유용. 예를 들어, 여러 주식의 일일 수익률 데이터를 분석할 때 히트맵을 통해 각 주식 간의 상관 관계를 시각화할 수 있다."
      ],
      "metadata": {
        "id": "urg0eteMdI3a"
      }
    },
    {
      "cell_type": "code",
      "source": [
        "# 가상의 실험 데이터 생성\n",
        "np.random.seed(0)\n",
        "data = pd.DataFrame({\n",
        "  'A' : np.random.normal(0,1,100),\n",
        "  'B' : np.random.normal(0,1,100),\n",
        "  'C' : np.random.normal(0,1,100)\n",
        "})\n",
        "print(data.head(),'\\n')\n",
        "\n",
        "# 상관관계 행렬 계산\n",
        "corr_matrix = data.corr()\n",
        "print(corr_matrix)"
      ],
      "metadata": {
        "colab": {
          "base_uri": "https://localhost:8080/"
        },
        "id": "RUf7cTn5dS8C",
        "outputId": "5c8532e1-5a31-454e-e08d-0b984adb633e"
      },
      "execution_count": 28,
      "outputs": [
        {
          "output_type": "stream",
          "name": "stdout",
          "text": [
            "          A         B         C\n",
            "0  1.764052  1.883151 -0.369182\n",
            "1  0.400157 -1.347759 -0.239379\n",
            "2  0.978738 -1.270485  1.099660\n",
            "3  2.240893  0.969397  0.655264\n",
            "4  1.867558 -1.173123  0.640132 \n",
            "\n",
            "          A         B         C\n",
            "A  1.000000  0.111729  0.076116\n",
            "B  0.111729  1.000000  0.056035\n",
            "C  0.076116  0.056035  1.000000\n"
          ]
        }
      ]
    },
    {
      "cell_type": "code",
      "source": [
        "# seaborn heatmap\n",
        "sns.heatmap(corr_matrix, annot=True, cmap='Pastel1')\n",
        "plt.show()\n",
        "\n",
        "# 상관계수가 최고치 0.11로 높지 않다는 것을 알 수 있습니다."
      ],
      "metadata": {
        "colab": {
          "base_uri": "https://localhost:8080/",
          "height": 435
        },
        "id": "n5gzuk31eDib",
        "outputId": "5aa8c07f-7d7f-4db2-f5fb-088b97e86843"
      },
      "execution_count": 31,
      "outputs": [
        {
          "output_type": "display_data",
          "data": {
            "text/plain": [
              "<Figure size 640x480 with 2 Axes>"
            ],
            "image/png": "[encoded data removed]"
          },
          "metadata": {}
        }
      ]
    },
    {
      "cell_type": "markdown",
      "source": [
        "## 확률(Probability)\n",
        "\n",
        "확률은 어떤 사건이 일어날 가능성을 수치로 표현한 것입니다. 확률 값은 0에서 1 사이의 숫자로 표현되며, 0은 불가능한 사건, 1은 확실한 사건을 나타냅니다.\n",
        "확률의 기본 성질:\n",
        "- $0≤P(A)≤1$\n",
        "- 모든 가능한 사건들의 확률의 합은 1이다. $(∑P(Ai)=1)$\n",
        "\n",
        "#### 확률변수(Random Variable)\n",
        "- 확률변수는 무작위 실험의 결과를 수치로 나타내는 변수입니다. 확률변수는 이산형(discrete)과 연속형(continuous)으로 나눌 수 있습니다.\n",
        "- 예를 들어, 주사위를 던질 때 나오는 눈의 수는 이산형 확률변수이고, 특정 시간 동안의 온도는 연속형 확률변수입니다.\n",
        "\n",
        "#### 확률분포(Probability Distribution)\n",
        "- 확률분포는 확률변수가 취할 수 있는 값과 그 값이 나타날 확률을 나타낸 것입니다.\n",
        "이산형 확률변수의 경우, 확률질량함수(PMF: Probability Mass Function)를 사용하여 각 값이 나타날 확률을 나타냅니다.\n",
        "- 연속형 확률변수의 경우, 확률밀도함수(PDF: Probability Density Function)를 사용하여 특정 구간 내에서 값이 나타날 확률을 나타냅니다.\n",
        "- 누적분포함수(CDF: Cumulative Distribution Function)는 확률변수가 특정 값 이하일 확률을 나타냅니다."
      ],
      "metadata": {
        "id": "i9c_U6Z0fWuB"
      }
    },
    {
      "cell_type": "code",
      "source": [
        "# 주사위를 두 번 던질 때, 두 눈의 합이 7이 될 확률\n",
        "from itertools import product\n",
        "\n",
        "# 주사위 두 번 던지기\n",
        "dice = [1, 2, 3, 4, 5, 6]\n",
        "\n",
        "# dice리스트에서 2개의 요소를 뽑아 순서를 고려한 모든 가능한 조합 생성\n",
        "outcomes = list(product(dice, repeat=2))\n",
        "\n",
        "# 두 눈의 합이 7이 되는 경우를 튜플로 묶어 배열에 저장\n",
        "favorable_outcomes = [(a, b) for a, b in outcomes if a + b == 7]\n",
        "probability = len(favorable_outcomes) / len(outcomes) # 합이 7이되는 경우의 수 / 전체 경우의 수\n",
        "print(f\"두 눈의 합이 7이 될 확률: {probability}\")"
      ],
      "metadata": {
        "colab": {
          "base_uri": "https://localhost:8080/"
        },
        "id": "cXIzJ2wVfYLO",
        "outputId": "119df878-820f-4f29-e30f-a9c63b26383d"
      },
      "execution_count": 33,
      "outputs": [
        {
          "output_type": "stream",
          "name": "stdout",
          "text": [
            "두 눈의 합이 7이 될 확률: 0.16666666666666666\n"
          ]
        }
      ]
    },
    {
      "cell_type": "code",
      "source": [
        "# 정규분포를 따르는 데이터에서 평균이 0, 표준편차가 1일 때, 값이 1보다 작을 확률\n",
        "\n",
        "import scipy.stats as stats # 통계 모듈 제공\n",
        "\n",
        "mean = 0\n",
        "std_dev = 1\n",
        "value = 1\n",
        "\n",
        "# stats.norm.cdf : norm은 정규분포, cdf는 누적분포함수. 이 함수를 통해 기준값과 평균, 표준편차를 넣어\n",
        "# 확률 계산\n",
        "probability = stats.norm.cdf(value, mean, std_dev)\n",
        "\n",
        "probability"
      ],
      "metadata": {
        "id": "_629Cw0Ak8R7"
      },
      "execution_count": null,
      "outputs": []
    },
    {
      "cell_type": "code",
      "source": [
        "# 어떤 시험에서 60점 이상 80점 이하를 받을 확률이 0.5일 때, 점수가 70점 이상 90점 이하를 받을 확률\n",
        "# 평균이 70, 표준편차가 10인 정규분포 가정\n",
        "import scipy.stats as stats\n",
        "\n",
        "mean = 70\n",
        "std_dev = 10\n",
        "\n",
        "# 60점부터 80점까지의 점수를 받을 확률\n",
        "probability_60_80 = stats.norm.cdf(80, mean, std_dev) - stats.norm.cdf(60, mean, std_dev)\n",
        "\n",
        "# 70점부터 90점까지의 점수를 받을 확률\n",
        "probability_70_90 = stats.norm.cdf(90, mean, std_dev) - stats.norm.cdf(70, mean, std_dev)\n",
        "\n",
        "\n",
        "print(f\"60점 이상 80점 이하를 받을 확률: {probability_60_80}\")\n",
        "print(f\"70점 이상 90점 이하를 받을 확률: {probability_70_90}\")"
      ],
      "metadata": {
        "colab": {
          "base_uri": "https://localhost:8080/"
        },
        "id": "2YTRcOvVmTv0",
        "outputId": "b19c60e5-7a11-4956-8e08-869ac36c5692"
      },
      "execution_count": 34,
      "outputs": [
        {
          "output_type": "stream",
          "name": "stdout",
          "text": [
            "60점 이상 80점 이하를 받을 확률: 0.6826894921370859\n",
            "70점 이상 90점 이하를 받을 확률: 0.4772498680518208\n"
          ]
        }
      ]
    },
    {
      "cell_type": "code",
      "source": [
        "# 동전을 10번 던질 때, 앞면이 정확히 6번 나올 확률\n",
        "from scipy.stats import binom\n",
        "\n",
        "n = 10 # 총 시행 횟수\n",
        "k = 6 # 성공 횟수\n",
        "p = 0.5 # 동전은 앞뒤니까 일반적으로 성공 할 확률이 0.5이다.\n",
        "\n",
        "# n번 중에서 k번 성공할 확률과 일반적인 확률을 넣어주어서 원하는 확률을 구할 수 있다.\n",
        "probability = binom.pmf(k, n, p)\n",
        "probability"
      ],
      "metadata": {
        "colab": {
          "base_uri": "https://localhost:8080/"
        },
        "id": "44E6ybY3nffW",
        "outputId": "216b160f-5103-4d17-d5b5-5181bfd6bba1"
      },
      "execution_count": 35,
      "outputs": [
        {
          "output_type": "execute_result",
          "data": {
            "text/plain": [
              "0.2050781249999999"
            ]
          },
          "metadata": {},
          "execution_count": 35
        }
      ]
    },
    {
      "cell_type": "markdown",
      "source": [
        "## 기대값(Expectation Value)\n",
        "\n",
        "- 확률분포의 평균을 의미하며, 확률변수가 가질 수 있는 값들에 대한 확률 가중 평균"
      ],
      "metadata": {
        "id": "nQ2Q2H-bo2x8"
      }
    },
    {
      "cell_type": "code",
      "source": [
        "# 주사위를 던질 때 나오는 눈의 수의 기대값\n",
        "# 주사위의 눈(1부터 6까지)\n",
        "\n",
        "values = [1,2,3,4,5,6]\n",
        "probabilities = [1/6] * 6 # 1/6을 6개 배열로 생성\n",
        "\n",
        "# 기대값 계산\n",
        "\n",
        "# values와 probabilities를 zip으로 묶으면 (1,1/6) 이런식으로 6개가 묶임 이걸 value와 probability로 하나씩 뽑아서\n",
        "# 곱한 값을 모두 더해주면 기대값\n",
        "expectation_value = sum(value * probability for value, probability in zip(values, probabilities))\n",
        "expectation_value"
      ],
      "metadata": {
        "colab": {
          "base_uri": "https://localhost:8080/"
        },
        "id": "T2vUOTXgpFot",
        "outputId": "99f5e1d2-94f9-4718-a155-1841ffdd2281"
      },
      "execution_count": 36,
      "outputs": [
        {
          "output_type": "execute_result",
          "data": {
            "text/plain": [
              "3.5"
            ]
          },
          "metadata": {},
          "execution_count": 36
        }
      ]
    },
    {
      "cell_type": "markdown",
      "source": [
        "**분산(Variance)**\n",
        "- 확률변수가 평균으로부터 얼마나 떨어져 있는지를 나타내는 지표입니다.\n",
        "- 분산은 확률분포의 흩어짐 정도를 나타내며, 기대값이 중심에 있을 때 개별 데이터가 얼마나 퍼져 있는지를 보여줍니다.\n",
        "- 분산이 클수록 데이터가 평균값 주위에 널리 퍼져 있고, 분산이 작을수록 데이터가 평균값에 더 가깝게 모여 있습니다.\n",
        "\n",
        "분산의 공식은 다음과 같습니다:\n",
        "\n",
        "- 이산형 확률변수의 분산: $σ2 =∑(xi −μ)2 P(xi)$\n",
        "- 연속형 확률변수의 분산: $σ2 =∫(x−μ)2f(x)dx$\n",
        "\n",
        "여기서 $μ$는 기대값(평균), $xi$는 확률변수가 가질 수 있는 값, $P(xi)$는 각 값이 나타날 확률입니다."
      ],
      "metadata": {
        "id": "P-Ul8YQ_qQBf"
      }
    },
    {
      "cell_type": "markdown",
      "source": [
        "주사위를 던질 때 나오는 눈의 수의 분산\n",
        "- 주사위 눈의 분산을 계산하여 주사위 결과가 얼마나 흩어져 있는지를 이해\n",
        "- 분산이 클수록 주사위 결과가 널리 퍼져 있음을 의미"
      ],
      "metadata": {
        "id": "-u6aJSSlqbVO"
      }
    },
    {
      "cell_type": "code",
      "source": [
        "# 주사위의 눈(1부터 6까지)\n",
        "values = [1,2,3,4,5,6]\n",
        "probabilities = [1/6] * 6\n",
        "\n",
        "# 주사위 눈의 기대값\n",
        "expected_value = sum(value * probability for value, probability in zip(values, probabilities))\n",
        "\n",
        "# 주사위 눈의 분산\n",
        "\n",
        "# 제곱을 하는 이유 : 거리를 구하려는 것이기 때문에 양의 수로 바꿔주기 위해 제곱을 한다.\n",
        "variance = sum((value - expected_value)**2 * prob for value, prob in zip(values, probabilities))\n",
        "variance"
      ],
      "metadata": {
        "colab": {
          "base_uri": "https://localhost:8080/"
        },
        "id": "3MrPhlS6o5B_",
        "outputId": "ed846690-2f7a-42dc-80f1-a53364a369b2"
      },
      "execution_count": 38,
      "outputs": [
        {
          "output_type": "execute_result",
          "data": {
            "text/plain": [
              "2.9166666666666665"
            ]
          },
          "metadata": {},
          "execution_count": 38
        }
      ]
    },
    {
      "cell_type": "markdown",
      "source": [
        "어떤 시험에서 점수가 {60,70,80,90,100}로 구성될 때, 분산\n",
        "\n",
        "각 점수의 확률은 {0.1, 0.2, 0.4, 0.2, 0.1}로 주어집니다.\n",
        "- 이 문제는 특정 시험 점수의 분산을 계산하여 점수가 얼마나 다양한지를 파악"
      ],
      "metadata": {
        "id": "TScuDaPPsAMf"
      }
    },
    {
      "cell_type": "code",
      "source": [
        "scores = [60, 70, 80, 90, 100]\n",
        "probabilities = [0.1, 0.2, 0.4, 0.2, 0.1]\n",
        "\n",
        "# 기대값 계산\n",
        "expected_value = sum(scores * probability for scores, probability in zip(scores, probabilities))\n",
        "\n",
        "# 분산 계산\n",
        "variance = sum((score - expected_value)**2 * prob for score, prob in zip(scores, probabilities))\n",
        "variance"
      ],
      "metadata": {
        "colab": {
          "base_uri": "https://localhost:8080/"
        },
        "id": "LbxIatJ-sLvl",
        "outputId": "4589df1b-e06b-4f6a-8270-e9f859eed12e"
      },
      "execution_count": 39,
      "outputs": [
        {
          "output_type": "execute_result",
          "data": {
            "text/plain": [
              "120.0"
            ]
          },
          "metadata": {},
          "execution_count": 39
        }
      ]
    }
  ]
}