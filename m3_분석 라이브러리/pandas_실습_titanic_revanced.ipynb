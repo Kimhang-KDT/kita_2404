{
  "nbformat": 4,
  "nbformat_minor": 0,
  "metadata": {
    "colab": {
      "provenance": []
    },
    "kernelspec": {
      "name": "python3",
      "display_name": "Python 3"
    },
    "language_info": {
      "name": "python"
    }
  },
  "cells": [
    {
      "cell_type": "markdown",
      "source": [
        "Task1_0603. train.csv 파일로 생존자 예측 모델 생성을 위한 분석용 데이터 셋을 작성하세요."
      ],
      "metadata": {
        "id": "4I8pY6Bcv6iL"
      }
    },
    {
      "cell_type": "markdown",
      "source": [
        "1. 레이블인코딩탐색 : Accuracy: 0.8156424581005587\n",
        "- Age 결측치 : Sex 별 평균으로 처리\n",
        "- FamilySize = df.SibSp + df.Parch + 1\n",
        "- Embarked & Sex 레이블 인코딩\n",
        "  - embarked 레이블 인코딩시 nan값 자동처리됨.\n",
        "\n",
        "2. 원핫 인코딩 탐색 : Accuracy: 0.8268156424581006\n",
        "- FamilySize = df.SibSp + df.Parch + 1\n",
        "- Embarked & Sex 원핫 인코딩\n",
        "  - Embarked 결측치 S로 수정시 0.8268156424581006\n",
        "  - Embarked 결측치 Q로 수정시 0.8268156424581006\n",
        "  - Embarked 결측치 C로 수정시 0.8268156424581006\n",
        "    - Embarked 결측치 2개는 의미없는걸로\n",
        "\n",
        "3. FamilySize 대신 HasFamily 설정시 : Accuracy: 0.8156424581005587\n",
        "4. FamilySize & HasFamily : Accuracy: 0.8324022346368715\n",
        "  - 가족수 & 가족의 존재여부가 생존률에 영향을 미치는가\n",
        "\n",
        "5. Age 컬럼을 AgeGroup으로 범주화 : Accuracy: 0.8212290502793296\n",
        "6. Age & AgeGroup : Accuracy: 0.8268156424581006\n",
        "\n",
        "7. 남/여 별 나이 평균 : Accuracy: 0.8156424581005587\n",
        "8. 가족 수 별 성별의 상관계수 : 0.8156424581005587\n",
        "9. 가족 별 남성 비율 : Accuracy: 0.8379888268156425\n",
        "\n",
        "10. Fare 10개 그룹으로 범주화 : Accuracy: 0.7821229050279329\n",
        "11. 정박지 별 객실 요금 평균 : Accuracy: 0.8156424581005587\n",
        "12. Fare를 10개 범주로 확대하여 구간별 남녀성비 : Accuracy: 0.8212290502793296"
      ],
      "metadata": {
        "id": "B0HrsZOrW5uk"
      }
    },
    {
      "cell_type": "code",
      "execution_count": 42,
      "metadata": {
        "id": "Xfjc-w2-vX6_"
      },
      "outputs": [],
      "source": [
        "from sklearn.model_selection import train_test_split\n",
        "from sklearn.preprocessing import LabelEncoder\n",
        "from sklearn.preprocessing import OneHotEncoder\n",
        "import pandas as pd\n",
        "import numpy as np\n",
        "from sklearn.ensemble import RandomForestClassifier\n",
        "from sklearn.metrics import accuracy_score, confusion_matrix, classification_report\n",
        "import matplotlib.pyplot as plt\n",
        "import seaborn as sns"
      ]
    },
    {
      "cell_type": "code",
      "source": [
        "# 파일불러오기\n",
        "file_path = 'drive/MyDrive/KDT_2404/m3_분석 라이브러리/dataset/train.csv'\n",
        "df = pd.read_csv(file_path)\n",
        "\n",
        "# 결측값이 많은 컬럼, 필요없는 컬럼 삭제\n",
        "df.drop(columns=['PassengerId', 'Pclass', 'Ticket', 'Cabin', 'Name'], inplace=True)\n",
        "\n",
        "# Embarked 결측값 처리\n",
        "df['Embarked'].fillna('C', inplace=True)\n",
        "\n",
        "# Age 결측치 : Sex 별 평균으로 결측치 처리\n",
        "age_mean_by_sex = round(df.groupby('Sex').Age.transform('mean'))\n",
        "df['Age'].fillna(age_mean_by_sex, inplace=True)\n",
        "\n",
        "# 가족 수\n",
        "df['FamilySize'] = df.SibSp + df.Parch + 1\n",
        "\n",
        "# 가족의 존재 여부\n",
        "df['HasFamily'] = df.SibSp + df.Parch > 0\n",
        "df.drop(['SibSp', 'Parch'], axis=1, inplace=True)\n",
        "\n",
        "# Embarked & Sex ONEHOT 인코딩\n",
        "onehot_encoder = OneHotEncoder(sparse=False)\n",
        "columns_to_encode = df[['Embarked', 'Sex']]\n",
        "encoded_data = onehot_encoder.fit_transform(columns_to_encode)\n",
        "encoded_df = pd.DataFrame(encoded_data, columns=onehot_encoder.get_feature_names_out(['Embarked', 'Sex']))\n",
        "df = pd.concat([df, encoded_df], axis=1)\n",
        "df.drop(['Embarked', 'Sex'], axis=1, inplace=True)\n",
        "\n",
        "# 가족 별 남성 비율\n",
        "df['MalebyFamily'] = df['Sex_male'] / df['FamilySize']"
      ],
      "metadata": {
        "id": "3lOKe2hgvef-"
      },
      "execution_count": 43,
      "outputs": []
    },
    {
      "cell_type": "code",
      "source": [
        "# 타겟 변수와 피처 변수 설정\n",
        "X = df.drop('Survived', axis=1)\n",
        "y = df['Survived']\n",
        "\n",
        "# 학습 데이터와 테스트 데이터 분할\n",
        "X_train, X_test, y_train, y_test = train_test_split(X, y, test_size=0.2, random_state=42)\n",
        "\n",
        "# 데이터 크기 확인\n",
        "print(X_train.shape, X_test.shape, y_train.shape, y_test.shape)\n",
        "\n",
        "# 랜덤 포레스트 모델 학습\n",
        "model = RandomForestClassifier(n_estimators=100, random_state=42)\n",
        "model.fit(X_train, y_train)\n",
        "\n",
        "# 예측\n",
        "y_pred = model.predict(X_test)\n",
        "\n",
        "# 성능 평가\n",
        "print(\"Accuracy:\", accuracy_score(y_test, y_pred)) # 예측 정확도\n",
        "#print(\"Confusion Matrix:\\n\", confusion_matrix(y_test, y_pred))\n",
        "#print(\"Classification Report:\\n\", classification_report(y_test, y_pred))\n"
      ],
      "metadata": {
        "colab": {
          "base_uri": "https://localhost:8080/"
        },
        "id": "cIrzRZnrCcq8",
        "outputId": "9208773f-a4d1-45d7-8241-67f6e4f1e109"
      },
      "execution_count": 45,
      "outputs": [
        {
          "output_type": "stream",
          "name": "stdout",
          "text": [
            "(712, 10) (179, 10) (712,) (179,)\n",
            "Accuracy: 0.8379888268156425\n"
          ]
        }
      ]
    }
  ]
}