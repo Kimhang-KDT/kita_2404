{
  "nbformat": 4,
  "nbformat_minor": 0,
  "metadata": {
    "colab": {
      "provenance": []
    },
    "kernelspec": {
      "name": "python3",
      "display_name": "Python 3"
    },
    "language_info": {
      "name": "python"
    }
  },
  "cells": [
    {
      "cell_type": "markdown",
      "source": [
        "Task1_0724. Wine 데이터셋에 대하여 SVM 모델에 3개의 커널을 적용하여 학습 및 평가 결과를 출력하세요."
      ],
      "metadata": {
        "id": "FYQsTcjPRS24"
      }
    },
    {
      "cell_type": "code",
      "execution_count": null,
      "metadata": {
        "colab": {
          "base_uri": "https://localhost:8080/"
        },
        "id": "g1TlGk5dRQdu",
        "outputId": "d85ad47d-bba9-4674-c11f-94099d0b41cc"
      },
      "outputs": [
        {
          "output_type": "stream",
          "name": "stdout",
          "text": [
            "Accuracy: 0.97\n",
            "Accuracy: 0.97\n",
            "Accuracy: 1.00\n"
          ]
        }
      ],
      "source": [
        "from sklearn import datasets\n",
        "from sklearn.model_selection import train_test_split\n",
        "from sklearn.metrics import accuracy_score\n",
        "from sklearn.svm import SVC\n",
        "from sklearn.preprocessing import StandardScaler\n",
        "\n",
        "wine = datasets.load_wine()\n",
        "X_train, X_test, y_train, y_test = train_test_split(wine.data, wine.target, test_size=0.2, random_state=42)\n",
        "\n",
        "# 데이터 스케일링\n",
        "scaler = StandardScaler()\n",
        "X_train = scaler.fit_transform(X_train)\n",
        "X_test = scaler.transform(X_test)\n",
        "\n",
        "kernels = ['linear', 'poly', 'rbf']\n",
        "\n",
        "for kernel in kernels:\n",
        "  svm = SVC(kernel=kernel, random_state=42)\n",
        "  svm.fit(X_train, y_train)\n",
        "  y_pred = svm.predict(X_test)\n",
        "\n",
        "  accuracy = accuracy_score(y_test, y_pred)\n",
        "\n",
        "  print(f\"Accuracy: {accuracy:.2f}\")"
      ]
    },
    {
      "cell_type": "markdown",
      "source": [
        "Task2_0724. wind dataset으로 랜덤포레스트를 적용하여 모델링 및 평가를 아래의 하이퍼 파라미터를 이용하여 수행한 후 최적의 하이퍼파라미터를 구하세요.\n",
        "\n",
        "- 'n_estimators': [50, 100, 200],\n",
        "- 'max_depth': [None, 10, 20],\n",
        "- 'max_features': ['auto', 'sqrt', 'log2'],\n",
        "- 'min_samples_split': [2, 5, 10],\n",
        "- 'min_samples_leaf': [1, 2, 4]"
      ],
      "metadata": {
        "id": "t8nEAISyk3j-"
      }
    },
    {
      "cell_type": "code",
      "source": [
        "from sklearn.ensemble import RandomForestClassifier\n",
        "from sklearn.metrics import accuracy_score\n",
        "from sklearn.model_selection import train_test_split\n",
        "from sklearn.datasets import load_breast_cancer\n",
        "\n",
        "cancer = load_breast_cancer()\n",
        "X = cancer.data\n",
        "y = cancer.target\n",
        "\n",
        "X_train, X_test, y_train, y_test = train_test_split(X, y, test_size=0.2, random_state=42)\n",
        "\n",
        "#clf = RandomForestClassifier(n_estimators=100, random_state=42) # 9649\n",
        "#clf = RandomForestClassifier(n_estimators=200, random_state=42) # 9649\n",
        "#clf = RandomForestClassifier(n_estimators=50, random_state=42) # 9649\n",
        "\n",
        "#clf = RandomForestClassifier(max_depth=None, random_state=42) # 9649\n",
        "#clf = RandomForestClassifier(max_depth=10, random_state=42) # 9649\n",
        "#clf = RandomForestClassifier(max_depth=20, random_state=42) # 9649\n",
        "\n",
        "#clf = RandomForestClassifier(max_features='auto', random_state=42) # warning\n",
        "#clf = RandomForestClassifier(max_features='sqrt', random_state=42) # 9649\n",
        "#clf = RandomForestClassifier(max_features='log2', random_state=42) # 9649\n",
        "\n",
        "#clf = RandomForestClassifier(min_samples_split=2, random_state=42) # 9649\n",
        "#clf = RandomForestClassifier(min_samples_split=5, random_state=42) # 9649\n",
        "#clf = RandomForestClassifier(min_samples_split=10, random_state=42) # 9649\n",
        "\n",
        "#clf = RandomForestClassifier(min_samples_leaf=1, random_state=42) # 9649\n",
        "#clf = RandomForestClassifier(min_samples_leaf=2, random_state=42) # 9649\n",
        "#clf = RandomForestClassifier(min_samples_leaf=4, random_state=42) # 9649\n",
        "\n",
        "clf = RandomForestClassifier(n_estimators=50, max_depth=20, max_features='sqrt', min_samples_split=5, min_samples_leaf=2, random_state=42)\n",
        "\n",
        "\n",
        "clf.fit(X_train, y_train)\n",
        "pred = clf.predict(X_test)\n",
        "\n",
        "accuracy = accuracy_score(y_test, pred)\n",
        "print(f\"Accuracy : {accuracy:.4f}\")"
      ],
      "metadata": {
        "id": "PBqAl0CWk3xb",
        "colab": {
          "base_uri": "https://localhost:8080/"
        },
        "outputId": "de770927-d5ff-46ce-f26b-8e13e9d49520"
      },
      "execution_count": 27,
      "outputs": [
        {
          "output_type": "stream",
          "name": "stdout",
          "text": [
            "Accuracy : 0.9649\n"
          ]
        }
      ]
    }
  ]
}