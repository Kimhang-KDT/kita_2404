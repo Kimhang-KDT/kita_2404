{
  "nbformat": 4,
  "nbformat_minor": 0,
  "metadata": {
    "colab": {
      "provenance": []
    },
    "kernelspec": {
      "name": "python3",
      "display_name": "Python 3"
    },
    "language_info": {
      "name": "python"
    }
  },
  "cells": [
    {
      "cell_type": "markdown",
      "source": [
        "Task1_0805. 주어진 함수 $ g(x,y)=e^{x+y} +sin(x∗y) $에 대해 x에 대한 편미분과 y에 대한 편미분을 구하세요."
      ],
      "metadata": {
        "id": "iOdd5QnsYc1q"
      }
    },
    {
      "cell_type": "code",
      "source": [
        "!pip install sympy"
      ],
      "metadata": {
        "colab": {
          "base_uri": "https://localhost:8080/"
        },
        "id": "C7iAPugQAeHF",
        "outputId": "a450f460-51e1-4fc9-d14e-c0b79a18c9ae"
      },
      "execution_count": 1,
      "outputs": [
        {
          "output_type": "stream",
          "name": "stdout",
          "text": [
            "Requirement already satisfied: sympy in /usr/local/lib/python3.10/dist-packages (1.13.1)\n",
            "Requirement already satisfied: mpmath<1.4,>=1.1.0 in /usr/local/lib/python3.10/dist-packages (from sympy) (1.3.0)\n"
          ]
        }
      ]
    },
    {
      "cell_type": "code",
      "source": [
        "import sympy\n",
        "\n",
        "sympy.init_printing(use_latex='mathjax')"
      ],
      "metadata": {
        "id": "iJtGNU_xAkLH"
      },
      "execution_count": 3,
      "outputs": []
    },
    {
      "cell_type": "code",
      "execution_count": 4,
      "metadata": {
        "id": "jJ2QIunlYcbV",
        "colab": {
          "base_uri": "https://localhost:8080/",
          "height": 39
        },
        "outputId": "6d4a61dd-ea8d-47e4-82bb-95171555a3e0"
      },
      "outputs": [
        {
          "output_type": "execute_result",
          "data": {
            "text/plain": [
              "⎛              x + y                x + y⎞\n",
              "⎝y⋅cos(x⋅y) + ℯ     , x⋅cos(x⋅y) + ℯ     ⎠"
            ],
            "text/latex": "$\\displaystyle \\left( y \\cos{\\left(x y \\right)} + e^{x + y}, \\  x \\cos{\\left(x y \\right)} + e^{x + y}\\right)$"
          },
          "metadata": {},
          "execution_count": 4
        }
      ],
      "source": [
        "import sympy as sp\n",
        "\n",
        "x, y = sp.symbols('x y')\n",
        "g = sp.exp(x + y) + sp.sin(x * y)\n",
        "\n",
        "# x에 대한 편미분\n",
        "diff_g_x = sp.diff(g, x)\n",
        "# y에 대한 편미분\n",
        "diff_g_y = sp.diff(g, y)\n",
        "\n",
        "diff_g_x, diff_g_y\n"
      ]
    }
  ]
}