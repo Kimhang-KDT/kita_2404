{
  "nbformat": 4,
  "nbformat_minor": 0,
  "metadata": {
    "colab": {
      "provenance": []
    },
    "kernelspec": {
      "name": "python3",
      "display_name": "Python 3"
    },
    "language_info": {
      "name": "python"
    }
  },
  "cells": [
    {
      "cell_type": "markdown",
      "source": [
        "Task1_0805. 주어진 함수 $ g(x,y)=e^{x+y} +sin(x∗y) $에 대해 x에 대한 편미분과 y에 대한 편미분을 구하세요."
      ],
      "metadata": {
        "id": "iOdd5QnsYc1q"
      }
    },
    {
      "cell_type": "code",
      "execution_count": 7,
      "metadata": {
        "id": "jJ2QIunlYcbV",
        "colab": {
          "base_uri": "https://localhost:8080/"
        },
        "outputId": "5c9e1485-5eb1-4319-921c-ea04c2f38d3d"
      },
      "outputs": [
        {
          "output_type": "execute_result",
          "data": {
            "text/plain": [
              "(y*cos(x*y) + exp(x + y), x*cos(x*y) + exp(x + y))"
            ]
          },
          "metadata": {},
          "execution_count": 7
        }
      ],
      "source": [
        "import sympy as sp\n",
        "\n",
        "x, y = sp.symbols('x y')\n",
        "g = sp.exp(x + y) + sp.sin(x * y)\n",
        "\n",
        "# x에 대한 편미분\n",
        "diff_g_x = sp.diff(g, x)\n",
        "# y에 대한 편미분\n",
        "diff_g_y = sp.diff(g, y)\n",
        "\n",
        "diff_g_x, diff_g_y\n"
      ]
    }
  ]
}