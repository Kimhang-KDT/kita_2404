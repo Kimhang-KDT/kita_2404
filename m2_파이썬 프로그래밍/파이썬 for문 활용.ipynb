{
  "nbformat": 4,
  "nbformat_minor": 0,
  "metadata": {
    "colab": {
      "provenance": []
    },
    "kernelspec": {
      "name": "python3",
      "display_name": "Python 3"
    },
    "language_info": {
      "name": "python"
    }
  },
  "cells": [
    {
      "cell_type": "markdown",
      "source": [
        "## break continue else\n",
        "\n",
        "- for 또는 while 문에서 강제 종료 시키거나 건너 뛰게 할 수 있다\n",
        "- for 또는 while 문에서도 if문과 마찬가지로 else를 적용할 수 있다"
      ],
      "metadata": {
        "id": "hs3SLqQeyEzH"
      }
    },
    {
      "cell_type": "code",
      "execution_count": null,
      "metadata": {
        "id": "yV9WaW6lyArx"
      },
      "outputs": [],
      "source": [
        "for i in range(5):\n",
        "  if i % 2 == 0:\n",
        "    continue # break는 종료\n",
        "else:\n",
        "  pass\n",
        "\n",
        "count = 0\n",
        "while count < 5:\n",
        "  count += 1\n",
        "else:\n",
        "  pass"
      ]
    }
  ]
}