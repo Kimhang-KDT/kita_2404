{
  "nbformat": 4,
  "nbformat_minor": 0,
  "metadata": {
    "colab": {
      "provenance": []
    },
    "kernelspec": {
      "name": "python3",
      "display_name": "Python 3"
    },
    "language_info": {
      "name": "python"
    }
  },
  "cells": [
    {
      "cell_type": "markdown",
      "source": [
        "## break continue else\n",
        "\n",
        "- for 또는 while 문에서 강제 종료 시키거나 건너 뛰게 할 수 있다\n",
        "- for 또는 while 문에서도 if문과 마찬가지로 else를 적용할 수 있다"
      ],
      "metadata": {
        "id": "hs3SLqQeyEzH"
      }
    },
    {
      "cell_type": "code",
      "execution_count": null,
      "metadata": {
        "id": "yV9WaW6lyArx"
      },
      "outputs": [],
      "source": [
        "for i in range(5):\n",
        "  if i % 2 == 0:\n",
        "    continue # break는 종료\n",
        "else:\n",
        "  pass\n",
        "\n",
        "count = 0\n",
        "while count < 5:\n",
        "  count += 1\n",
        "else:\n",
        "  pass"
      ]
    },
    {
      "cell_type": "markdown",
      "source": [
        "## for문과 zip()\n",
        "\n",
        "- zip 함수를 활용해 변수 설정을 따로 하지 않고 한번에 처리할 수 있다.\n",
        "- dict의 키와 값을 items()로 한번에 뽑아내 변수로 설정하는 것과 같다."
      ],
      "metadata": {
        "id": "JpYK5p6R4_jO"
      }
    },
    {
      "cell_type": "code",
      "source": [
        "def findBiggestOne():\n",
        "  biggestNum = 0\n",
        "  for i, j in zip(range(1,100), range(99, 0, -1)):\n",
        "    if i * j > biggestNum:\n",
        "      biggestNum = i * j\n",
        "    return biggestNum\n",
        "\n",
        "print(findBiggestOne())"
      ],
      "metadata": {
        "id": "VGN7Stv34-g9"
      },
      "execution_count": null,
      "outputs": []
    },
    {
      "cell_type": "markdown",
      "source": [
        "## for문과 enumerate()"
      ],
      "metadata": {
        "id": "6TfaZMO97igG"
      }
    },
    {
      "cell_type": "code",
      "source": [
        "groups = [\n",
        "  ['김성현', '박지환', '김하준', '이현석'],\n",
        "  ['황강민', '최환욱', '김도원', '이명신'],\n",
        "  ['윤호준', '서보선', '신현진', '박윤경'],\n",
        "  ['류윤선', '김한결', '소지승', '이도헌'],\n",
        "  ['이상협', '김도현', '이범석', '김홍준']\n",
        "]\n",
        "\n",
        "\n",
        "for num, name in enumerate(groups):\n",
        "  print(num, name)"
      ],
      "metadata": {
        "id": "HXtUHKXu79CE"
      },
      "execution_count": null,
      "outputs": []
    },
    {
      "cell_type": "markdown",
      "source": [
        "## for문과 next()"
      ],
      "metadata": {
        "id": "J_jqHMIi4-yy"
      }
    },
    {
      "cell_type": "code",
      "source": [
        "a = next(i for i in re.split('[]', time))\n",
        "\n",
        "b = next((True for i in [input('')] if i == ''), False)"
      ],
      "metadata": {
        "id": "PU2QGWfv4_7K"
      },
      "execution_count": null,
      "outputs": []
    },
    {
      "cell_type": "markdown",
      "source": [
        "# for문과 slice"
      ],
      "metadata": {
        "id": "RcRMQ5Hs6OKA"
      }
    },
    {
      "cell_type": "code",
      "source": [
        "numbers = [1,2,3,4,5,6,7,8,9]\n",
        "\n",
        "output = [numbers[i::3] for i in range(3)]\n",
        "\n",
        "# [[1, 4, 7], [2, 5, 8], [3, 6, 9]]\n",
        "\n",
        "names = ['김성현','황강민','윤호준','류윤선','이상협','박지환','최환욱','서보선','김한결',\n",
        "        '김도현','김하준', '김도원','신현진','소지승','이범석','이현석','이명신','박윤경','이도헌','김홍준']\n",
        "\n",
        "n = 5\n",
        "groups = [ names[i::5] for i in range(n) ]"
      ],
      "metadata": {
        "id": "1QBJkTif6OgY"
      },
      "execution_count": null,
      "outputs": []
    },
    {
      "cell_type": "markdown",
      "source": [
        "## for문과 요소 타입 지정"
      ],
      "metadata": {
        "id": "daArRySc_dQ6"
      }
    },
    {
      "cell_type": "code",
      "source": [
        "list1 = [str(i) for i in range(1, 100)]"
      ],
      "metadata": {
        "id": "e4E9pxiB_dlb"
      },
      "execution_count": null,
      "outputs": []
    },
    {
      "cell_type": "markdown",
      "source": [],
      "metadata": {
        "id": "3ShadHpQX_-R"
      }
    },
    {
      "cell_type": "code",
      "source": [],
      "metadata": {
        "id": "RRKWYmwcYAyo"
      },
      "execution_count": null,
      "outputs": []
    }
  ]
}