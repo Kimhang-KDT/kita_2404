{
  "nbformat": 4,
  "nbformat_minor": 0,
  "metadata": {
    "colab": {
      "provenance": []
    },
    "kernelspec": {
      "name": "python3",
      "display_name": "Python 3"
    },
    "language_info": {
      "name": "python"
    }
  },
  "cells": [
    {
      "cell_type": "markdown",
      "source": [
        "Task1_0516. '199305, 1923A, a93247'에서 '199305'만 출력하세요."
      ],
      "metadata": {
        "id": "TAaA56oA-KNK"
      }
    },
    {
      "cell_type": "code",
      "execution_count": null,
      "metadata": {
        "colab": {
          "base_uri": "https://localhost:8080/"
        },
        "id": "UoSkWEUS-I_a",
        "outputId": "05245ca9-73b2-462e-bc47-3a9eaf8c9bc8"
      },
      "outputs": [
        {
          "output_type": "stream",
          "name": "stdout",
          "text": [
            "<re.Match object; span=(0, 6), match='199305'>\n"
          ]
        }
      ],
      "source": [
        "import re\n",
        "\n",
        "t = '199305, 1923A, a93247'\n",
        "p = re.compile('\\d+')\n",
        "m = p.match(t)\n",
        "print(m)"
      ]
    },
    {
      "cell_type": "markdown",
      "source": [
        "Task2_0516. '99food234, a93456\\n, a9356ba '에서 '99food234'만 출력하세요."
      ],
      "metadata": {
        "id": "EBOQH6rz-PN9"
      }
    },
    {
      "cell_type": "code",
      "source": [
        "import re\n",
        "t = '99food234, a93456\\n, a9356ba '\n",
        "p = re.compile('\\w+')\n",
        "p = re.compile('^\\w+\\d')\n",
        "m = p.findall(t)\n",
        "print(m)"
      ],
      "metadata": {
        "colab": {
          "base_uri": "https://localhost:8080/"
        },
        "id": "pN6ptW5T-Pp_",
        "outputId": "4c598581-a380-45bf-ee79-0f836fc5c765"
      },
      "execution_count": 6,
      "outputs": [
        {
          "output_type": "stream",
          "name": "stdout",
          "text": [
            "['99food234']\n"
          ]
        }
      ]
    },
    {
      "cell_type": "markdown",
      "source": [
        "Task3_0516. 주어진 문자열이 유효한 이메일 주소인지 확인\n",
        "\"example@example.com\""
      ],
      "metadata": {
        "id": "pz4Le9yyPeRN"
      }
    },
    {
      "cell_type": "code",
      "source": [
        "import re\n",
        "t = \"example@example.com\"\n",
        "p = r'^\\w+@\\w+\\.com$'\n",
        "p = r'[a-zA-Z0-9._%+-]+@[a-zA-Z0-9.-]+.[a-zA-Z]{2,}$' # 이메일 규칙\n",
        "m = bool(re.match(p, t))\n",
        "print(m)"
      ],
      "metadata": {
        "colab": {
          "base_uri": "https://localhost:8080/"
        },
        "id": "5OqAbqBmPemn",
        "outputId": "a8b52af8-abc8-48ac-c949-01cd76f67d1e"
      },
      "execution_count": 8,
      "outputs": [
        {
          "output_type": "stream",
          "name": "stdout",
          "text": [
            "True\n"
          ]
        }
      ]
    },
    {
      "cell_type": "markdown",
      "source": [
        "Task4_0516. 주어진 문자열이 올바른 전화번호 형식(010-0000-0000)인지 확인하세요.\n",
        "\"010-1234-5678\""
      ],
      "metadata": {
        "id": "tw7xkR8LPiwp"
      }
    },
    {
      "cell_type": "code",
      "source": [
        "import re\n",
        "t = \"010-1234-5678\"\n",
        "m = bool(re.match('^010-\\d{4}-\\d{4}$', t))\n",
        "print(m)"
      ],
      "metadata": {
        "colab": {
          "base_uri": "https://localhost:8080/"
        },
        "id": "2zG0q1l3PjKw",
        "outputId": "f47bd6ce-7075-4592-ab32-5b865549807c"
      },
      "execution_count": null,
      "outputs": [
        {
          "output_type": "stream",
          "name": "stdout",
          "text": [
            "True\n"
          ]
        }
      ]
    },
    {
      "cell_type": "markdown",
      "source": [
        "Task5_0516. 문자열에서 모든 HTML 태그를 찾아 리스트로 반환하세요.\n"
      ],
      "metadata": {
        "id": "33OxBhZzPsw1"
      }
    },
    {
      "cell_type": "code",
      "source": [
        "import re\n",
        "text = \"<html><head></head><body></body></html>\"\n",
        "p = r'<[^>]+>' # < > 사이 괄호가 아닌 아무거나 있으면 된다는 의미\n",
        "p = r'<[.*html]+>'\n",
        "m = re.findall(p, text)\n",
        "print(m)"
      ],
      "metadata": {
        "colab": {
          "base_uri": "https://localhost:8080/"
        },
        "id": "QBhR2YVUPtRr",
        "outputId": "b3e07e52-fccd-4c11-9720-f91de5cca44e"
      },
      "execution_count": 22,
      "outputs": [
        {
          "output_type": "stream",
          "name": "stdout",
          "text": [
            "['<html>']\n"
          ]
        }
      ]
    },
    {
      "cell_type": "markdown",
      "source": [
        "Task6_0516. 주어진 비밀번호가 최소 8자, 대문자, 소문자, 숫자, 특수문자를 포함하는지 확인하세요.\n",
        "\"Aa1!aaaa\""
      ],
      "metadata": {
        "id": "oTgR93VfPvvN"
      }
    },
    {
      "cell_type": "code",
      "source": [
        "import re\n",
        "t = \"Aa1!aaaa\"\n",
        "p = r'[(a-z)+(A-Z)+\\d+(\\D\\W\\S)+]{8,}'\n",
        "#p = r'^(?=.*[a-z])(?=.*[A-Z])(?=.*\\d)(?=.*[@$!%*?&])[A-Za-z\\d@$!%*?&]{8,}$'\n",
        "m = re.match(p, t)\n",
        "print(m)"
      ],
      "metadata": {
        "colab": {
          "base_uri": "https://localhost:8080/"
        },
        "id": "jTpGK8G9P5eK",
        "outputId": "964e0e8c-1428-4e87-85e6-32d263f87229"
      },
      "execution_count": 4,
      "outputs": [
        {
          "output_type": "stream",
          "name": "stdout",
          "text": [
            "<re.Match object; span=(0, 8), match='Aa1aaaaa'>\n"
          ]
        }
      ]
    },
    {
      "cell_type": "markdown",
      "source": [
        "Task7_0516. 주어진 문자열이 유효한 URL인지 확인하세요.\n",
        "\"https://www.example.com\""
      ],
      "metadata": {
        "id": "KlncdxnoP5ry"
      }
    },
    {
      "cell_type": "code",
      "source": [
        "import re\n",
        "t = \"https://www.example.com\"\n",
        "#t = 'https://github.com/Kimhang-KDT'\n",
        "#t = 'https://colab.research.google.com/drive/1kZLyYNmJsE7U1q2QVHeWci4w3yqvbeKl#scrollTo=-O7pZnoztO8V'\n",
        "p = r'(https?|ftp):\\/\\/[\\S]+.\\w+(/?)'\n",
        "#p = r'(https?|ftp):\\/\\/[^\\s/$.?#].[^\\s]*$'\n",
        "m = re.match(p, t)\n",
        "print(m)"
      ],
      "metadata": {
        "colab": {
          "base_uri": "https://localhost:8080/"
        },
        "id": "abIfKBgpP6Fp",
        "outputId": "411979c7-6de5-4d2a-b4b5-08095aa652b8"
      },
      "execution_count": 29,
      "outputs": [
        {
          "output_type": "stream",
          "name": "stdout",
          "text": [
            "<re.Match object; span=(0, 23), match='https://www.example.com'>\n"
          ]
        }
      ]
    },
    {
      "cell_type": "markdown",
      "source": [
        "Task8_0516. 주어진 문자열이 유효한 주민등록번호(######-#######) 형식인지 확인하세요.\n",
        "\"900101-1234567\""
      ],
      "metadata": {
        "id": "MVONEXeFP61_"
      }
    },
    {
      "cell_type": "code",
      "source": [
        "# 월별 예외적인 일의 경우는 별도 조건문으로 처리\n",
        "\n",
        "import re\n",
        "t = \"900101-1234567\"\n",
        "\n",
        "pattern = r'\\d{2}((0[13578]|1[02])(0[1-9]|[12]\\d|3[01])|(0[469]|11)(0[1-9]|[12]\\d|30)|02(0[1-9]|1\\d|2[0-8]))-[1234]\\d{6}'\n",
        "\n",
        "m = re.match(p, t)\n",
        "print(m)"
      ],
      "metadata": {
        "colab": {
          "base_uri": "https://localhost:8080/"
        },
        "id": "6VLyI7xgP7P1",
        "outputId": "bdbbe291-7d70-49fb-fb32-b912b805b42c"
      },
      "execution_count": 9,
      "outputs": [
        {
          "output_type": "stream",
          "name": "stdout",
          "text": [
            "<re.Match object; span=(0, 14), match='900101-1234567'>\n"
          ]
        }
      ]
    },
    {
      "cell_type": "markdown",
      "source": [
        "Task9_0516. 주어진 문자열이 유효한 IPv4 주소인지 확인하세요.\n",
        "\"192.168.1.1\""
      ],
      "metadata": {
        "id": "0k6KfTs-P7uF"
      }
    },
    {
      "cell_type": "code",
      "source": [
        "import re\n",
        "t = \"192.168.1.1\"\n",
        "pattern = re.compile(r'^((25[0-5]|2[0-4][0-9]|[01]?[0-9][0-9]?)\\.){3}(25[0-5]|2[0-4][0-9]|[01]?[0-9][0-9]?)$')\n",
        "m = pattern.match(t)\n",
        "print(m)"
      ],
      "metadata": {
        "colab": {
          "base_uri": "https://localhost:8080/"
        },
        "id": "QjDUe9o8P8YE",
        "outputId": "4c912321-0dc6-4a8f-a5c1-7f529070d15a"
      },
      "execution_count": 50,
      "outputs": [
        {
          "output_type": "stream",
          "name": "stdout",
          "text": [
            "<re.Match object; span=(0, 11), match='192.168.1.1'>\n"
          ]
        }
      ]
    },
    {
      "cell_type": "markdown",
      "source": [
        "Task10_0516. 주어진 파일 이름에서 확장자가 .jpg, .jpeg, 또는 .png인지 확인하세요.\n",
        "\"image.jpg\""
      ],
      "metadata": {
        "id": "-p-EB_aRP8BM"
      }
    },
    {
      "cell_type": "code",
      "source": [
        "import re\n",
        "t = \"image.jpg\"\n",
        "m = re.search(r'.+\\.(jpg)|(jpeg)|(png)', t)\n",
        "print(m)"
      ],
      "metadata": {
        "colab": {
          "base_uri": "https://localhost:8080/"
        },
        "id": "ToCYN6n8QIo0",
        "outputId": "e0f153b7-c742-477b-a91a-e9ed21651920"
      },
      "execution_count": 10,
      "outputs": [
        {
          "output_type": "stream",
          "name": "stdout",
          "text": [
            "<re.Match object; span=(0, 9), match='image.jpg'>\n"
          ]
        }
      ]
    },
    {
      "cell_type": "markdown",
      "source": [
        "Task11_0516. 문자열에서 Python 주석을 제거하세요.\n",
        "code_with_comments = \"\"\"\n",
        "# This is a whole line comment\n",
        "print(\"Hello, world!\")  # This is a side comment\n",
        "# Another comment\n",
        "print(\"Python is fun!\") # Another side comment\n",
        "\"\"\""
      ],
      "metadata": {
        "id": "tIKz_sMhQR2X"
      }
    },
    {
      "cell_type": "code",
      "source": [
        "import re\n",
        "\n",
        "code_with_comments = \"\"\"\n",
        "# This is a whole line comment\n",
        "print(\"Hello, world!\")  # This is a side comment\n",
        "# Another comment\n",
        "print(\"Python is fun!\") # Another side comment\n",
        "\"\"\"\n",
        "\n",
        "m = re.sub(r'#.*', '', code_with_comments, flags = re.M) # 주석 전체를 없애라 : re.M은 안써도 잘 제거되긴 하더라..\n",
        "print(m)"
      ],
      "metadata": {
        "colab": {
          "base_uri": "https://localhost:8080/"
        },
        "id": "BnPIaVe6QSG4",
        "outputId": "55eb68ce-788a-42c1-9245-4ac901c78e16"
      },
      "execution_count": 14,
      "outputs": [
        {
          "output_type": "stream",
          "name": "stdout",
          "text": [
            "\n",
            "\n",
            "print(\"Hello, world!\")  \n",
            "\n",
            "print(\"Python is fun!\") \n",
            "\n"
          ]
        }
      ]
    },
    {
      "cell_type": "markdown",
      "source": [
        "Task12_0516. 지정된 HTML 문자열 내에서 이메일 주소를 찾아서 그 결과를 출력\n",
        "html = \"\"\"\n",
        "<ul>\n",
        "  <li>Email: example@example.com</li>\n",
        "  <li>Contact: contact@sample.org</li>\n",
        "</ul>\n",
        "\"\"\""
      ],
      "metadata": {
        "id": "9NMsrak6QZ-g"
      }
    },
    {
      "cell_type": "code",
      "source": [
        "import re\n",
        "html = \"\"\"\n",
        "<ul>\n",
        "  <li>Email: example@example.com</li>\n",
        "  <li>Contact: contact@sample.org</li>\n",
        "  <li>Contact: contact@sample.net</li>\n",
        "</ul>\n",
        "\"\"\"\n",
        "\n",
        "m = re.findall(r'[a-zA-Z0-9._%+-]+@[a-zA-Z0-9.-]+\\.[a-zA-Z]{2,}', html)\n",
        "print(m)"
      ],
      "metadata": {
        "colab": {
          "base_uri": "https://localhost:8080/"
        },
        "id": "Kn1O0PyuQaqF",
        "outputId": "8a736a92-8aa2-49fb-8612-08ebcbaafd4a"
      },
      "execution_count": 22,
      "outputs": [
        {
          "output_type": "stream",
          "name": "stdout",
          "text": [
            "['example@example.com', 'contact@sample.org', 'contact@sample.net']\n"
          ]
        }
      ]
    }
  ]
}