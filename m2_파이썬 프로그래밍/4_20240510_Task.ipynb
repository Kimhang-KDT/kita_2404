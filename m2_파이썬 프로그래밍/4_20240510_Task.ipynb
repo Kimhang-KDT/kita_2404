{
  "nbformat": 4,
  "nbformat_minor": 0,
  "metadata": {
    "colab": {
      "provenance": []
    },
    "kernelspec": {
      "name": "python3",
      "display_name": "Python 3"
    },
    "language_info": {
      "name": "python"
    }
  },
  "cells": [
    {
      "cell_type": "markdown",
      "source": [
        "Task1_0510. try ~ except, try ~ except ~ finally, try ~ except ~else, try ~ except ~else ~finally 4가지 예외 처리가 필요한 경우에 대해서 코딩을 수행하세요."
      ],
      "metadata": {
        "id": "GFXbxG3IVaBe"
      }
    },
    {
      "cell_type": "code",
      "execution_count": null,
      "metadata": {
        "id": "h9BdQrm0VXsA"
      },
      "outputs": [],
      "source": [
        "try:\n",
        "except:\n",
        "\n",
        "try:\n",
        "except:\n",
        "finally:\n",
        "\n",
        "try:\n",
        "except:\n",
        "else:\n",
        "\n",
        "try:\n",
        "except:\n",
        "else:\n",
        "finally:"
      ]
    },
    {
      "cell_type": "markdown",
      "source": [
        "Task2_0510. 리스트 ['52','273','32','문자','103']에서 숫자 부분만 출력하세요(예외 처리 수행)"
      ],
      "metadata": {
        "id": "9wFsKVxJVqrH"
      }
    },
    {
      "cell_type": "code",
      "source": [
        "my_list = ['52','273','32','문자','103']\n",
        "\n",
        "for i in my_list:\n",
        "  try:\n",
        "    int(i)\n",
        "  except:\n",
        "  else:"
      ],
      "metadata": {
        "id": "6_Nxer_JVrYX"
      },
      "execution_count": null,
      "outputs": []
    },
    {
      "cell_type": "markdown",
      "source": [
        "Task3_0510. 두가지 시나리오를 예외처리를 하여 코드 작업을 수행하세요\n",
        "- 정수를 입력하면 > '예외 발생하지 않음' > '프로그램 종료'\n",
        "- 정수를 입력하지 않으면 > '정수 아님' > '프로그램 종료'"
      ],
      "metadata": {
        "id": "WLZTLyLkV0mQ"
      }
    },
    {
      "cell_type": "code",
      "source": [
        "try:\n",
        "  int(input('정수를 입력하세요 : '))\n",
        "except:\n",
        "  pass\n",
        "else:\n",
        "  print('예외 발생하지 않음')\n",
        "\n",
        "try:\n",
        "  int(input('정수를 입력하세요 : '))\n",
        "except:\n",
        "  print('정수 아님')"
      ],
      "metadata": {
        "id": "Y12Ph1jZhgFp"
      },
      "execution_count": null,
      "outputs": []
    },
    {
      "cell_type": "markdown",
      "source": [
        "Task4_0510. 생성자만으로 구성된 클래스를 작성하고 객체 3개를 만들어서 결과를 출력하세요."
      ],
      "metadata": {
        "id": "kCM_wigjhgh4"
      }
    },
    {
      "cell_type": "code",
      "source": [
        "class myClass1:\n",
        "  def __init__(self, name, age, height):\n",
        "    self.name = name\n",
        "    self.age = age\n",
        "    self.height = height\n",
        "\n",
        "    print(f'{name}은 {age}살이고 {height}cm 입니다.')\n",
        "\n",
        "obj1 = myClass1('홍길동', 26, 174)\n",
        "obj2 = myClass1('홍길순', 30, 101)\n",
        "obj3 = myClass1('홍장군', 23, 182)"
      ],
      "metadata": {
        "colab": {
          "base_uri": "https://localhost:8080/"
        },
        "id": "skOdvP3fhsOm",
        "outputId": "620efe4c-1fc3-4239-b273-0e0f6131195a"
      },
      "execution_count": 3,
      "outputs": [
        {
          "output_type": "stream",
          "name": "stdout",
          "text": [
            "홍길동\n",
            "23\n",
            "174\n"
          ]
        }
      ]
    },
    {
      "cell_type": "markdown",
      "source": [
        "Task5_0510. 생성자, 메소드를 모두 포함하는 클래스를 작성하고 객체 3개를 만들어서 결과를 출력하세요"
      ],
      "metadata": {
        "id": "qN9l7Ur9hhBQ"
      }
    },
    {
      "cell_type": "code",
      "source": [],
      "metadata": {
        "id": "O-UMd69Zhsj3"
      },
      "execution_count": null,
      "outputs": []
    },
    {
      "cell_type": "markdown",
      "source": [
        "Task6_0510. 여러개의 음식을 주문할 수 있는 주문 시스템을 작성하세요.(클래스 활용 - 객체 지향)"
      ],
      "metadata": {
        "id": "P7H3hOyRhi1E"
      }
    },
    {
      "cell_type": "code",
      "source": [
        "# 코드를 작은 단위의 함수로 분할하여 구성\n",
        "# 입력과 출력이 명확하게 정의\n",
        "# if 조건문을 활용하여 프로그램 실행 경로 선택\n",
        "# while문 등으로 반복하여 함수 실행\n",
        "\n",
        "def show_menu():\n",
        "  menu = {1: {'name' : '불고기비빔밥', 'price' : 12000},\n",
        "           2: {'name' : '야채비빔밥', 'price' : 8000},\n",
        "           3: {'name' : '전주비빔밥', 'price': 10000}}\n",
        "\n",
        "  print(\"\\nKITA 식당에 오신 것을 환영합니다\")\n",
        "  print(\"\\n\" + \"=\" * 40)\n",
        "  print(\"\\n          - 메  뉴 -\")\n",
        "  print(\"    1. 불고기 비빔밥 : 12,000원\")\n",
        "  print(\"    2. 야채 비빔밥 : 8,000원\")\n",
        "  print(\"    3. 전주 비빔밥 : 10,000원\")\n",
        "  print(\"\\n    세트 주문시 : 3,000원 추가\")\n",
        "  print(\"    (세트는 밥과 반찬이 추가됩니다.)\")\n",
        "  print(\"\\n\" + \"=\" * 40)\n",
        "\n",
        "  return menu\n",
        "\n",
        "def order():\n",
        "  num = int(input('비빔밥 메뉴를 선택해주세요 : 1, 2, 3 '))\n",
        "  st  = next((True for i in [input('세트 주문을 하시겠습니까? (Y|N) : ').upper()] if i == 'Y'), False)\n",
        "\n",
        "  return num, st\n",
        "\n",
        "def get_order(menu, mn, st):\n",
        "  order_menu = {**menu.get(mn), 'st':st}\n",
        "\n",
        "  return order_menu\n",
        "\n",
        "def get_order_menus(order_menus):\n",
        "  from collections import Counter\n",
        "  global total_price\n",
        "  total_price = 0\n",
        "  menus = []\n",
        "\n",
        "  for i in order_menus:\n",
        "    if i['st']:\n",
        "      total_price += 3000\n",
        "      menus.append(i['name']+' (세트)')\n",
        "    else:\n",
        "      menus.append(i['name'])\n",
        "\n",
        "  items = Counter(menus).items()\n",
        "\n",
        "  return items, total_price\n",
        "\n",
        "def main():\n",
        "  order_menus = []\n",
        "  menu = show_menu()\n",
        "\n",
        "  while True:\n",
        "    mn, st = order()\n",
        "    order_menu = get_order(menu, mn, st)\n",
        "    order_menus.append(order_menu)\n",
        "\n",
        "    is_re_order = lambda : True if input('추가로 주문하시겠습니까? Y|N 입력 : ').upper() == 'Y' else False\n",
        "    if not is_re_order():\n",
        "      items, total_price = get_order_menus(order_menus)\n",
        "\n",
        "      for i in items:\n",
        "        print(f'주문하신 메뉴는 {i[0]} {i[1]}개', end = ', ')\n",
        "        print(f'총 가격은 {total_price}원 입니다.')\n",
        "\n",
        "      pay = lambda : True if input('결제하시겠습니까? (Y|N) : ').upper() == 'Y' else False\n",
        "      if pay():\n",
        "        print(f'결제가 완료되었습니다.')\n",
        "      else:\n",
        "        print(f'결제가 취소되었습니다.')\n",
        "        if is_re_order():\n",
        "          continue\n",
        "      print('이용해주셔서 감사합니다.')\n",
        "      break\n",
        "\n",
        "if __name__ == \"__main__\":\n",
        "  main()"
      ],
      "metadata": {
        "id": "kGgGo5YX4lo1"
      },
      "execution_count": null,
      "outputs": []
    },
    {
      "cell_type": "markdown",
      "source": [],
      "metadata": {
        "id": "bJepNjg7hisf"
      }
    },
    {
      "cell_type": "markdown",
      "source": [],
      "metadata": {
        "id": "be1oDPZzhii0"
      }
    },
    {
      "cell_type": "markdown",
      "source": [],
      "metadata": {
        "id": "5LcTHHWqhiZD"
      }
    },
    {
      "cell_type": "markdown",
      "source": [],
      "metadata": {
        "id": "AH0JriP1hiOC"
      }
    },
    {
      "cell_type": "markdown",
      "source": [],
      "metadata": {
        "id": "MAqttCWihiDS"
      }
    },
    {
      "cell_type": "markdown",
      "source": [],
      "metadata": {
        "id": "P0gLkqxghh2g"
      }
    },
    {
      "cell_type": "markdown",
      "source": [],
      "metadata": {
        "id": "b8K5e-xehhch"
      }
    }
  ]
}