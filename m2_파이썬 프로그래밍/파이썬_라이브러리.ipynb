{
  "nbformat": 4,
  "nbformat_minor": 0,
  "metadata": {
    "colab": {
      "provenance": []
    },
    "kernelspec": {
      "name": "python3",
      "display_name": "Python 3"
    },
    "language_info": {
      "name": "python"
    }
  },
  "cells": [
    {
      "cell_type": "markdown",
      "source": [
        "외장 함수 (External Functions):\n",
        "- 표준 라이브러리에 포함된 모듈과 함수를 가리키는 것으로 모듈을 임포트하여 사용\n",
        "\n",
        "- 파이썬 표준 라이브러리의 os, sys, math, random, datetime 등의 모듈에는 다양한 외장 함수가 포함"
      ],
      "metadata": {
        "id": "s_Gr4uD1XJ_t"
      }
    },
    {
      "cell_type": "markdown",
      "source": [
        "## keyword\n",
        "\n",
        "- 파이썬의 디폴트로 설정되어 있는 키워드"
      ],
      "metadata": {
        "id": "Zdr_VqNRzjM0"
      }
    },
    {
      "cell_type": "code",
      "execution_count": null,
      "metadata": {
        "id": "J1voYdv6yQcs"
      },
      "outputs": [],
      "source": [
        "import keyword\n",
        "\n",
        "keyword.iskeyword()\n",
        "\n",
        "keyword.kwlist"
      ]
    },
    {
      "cell_type": "markdown",
      "source": [
        "# numpy statistics\n",
        "\n",
        "- numpy.mean() : 평균을 구하는 함수\n",
        "\n",
        "- statistics.mean() : 평균을 구하는 함수"
      ],
      "metadata": {
        "id": "oRTF9Legz89-"
      }
    },
    {
      "cell_type": "code",
      "source": [
        "import numpy as np\n",
        "np.mean(리스트명)\n",
        "\n",
        "import statistics\n",
        "statistics.mean(리스트명)\n",
        "\n",
        "# numpy.ndarray\n",
        "ar = np.arange(1, 101)"
      ],
      "metadata": {
        "id": "3u0uBVGwz-zE"
      },
      "execution_count": null,
      "outputs": []
    },
    {
      "cell_type": "markdown",
      "source": [
        "## split()\n",
        "\n",
        "- 주어진 문자열에서 공백, 쉽표, 마침표, 물음표, 느낌표를 포함하여 연속된 어떤 조합이라도 하나의 구분자로 취급하고, 이에 따라 문자열을 분리\n",
        "- 아무 기준도 추가 하지 않는다면 space나 tap을 기준으로 분리한다.\n",
        "- split()은 하나의 기준만 사용할 수 있음"
      ],
      "metadata": {
        "id": "erGrx5-f0WXv"
      }
    },
    {
      "cell_type": "code",
      "source": [
        "text.split()\n",
        "\n",
        "text.split(' ')\n",
        "\n",
        "text.split(',')\n"
      ],
      "metadata": {
        "id": "StwGc-Fd0YhU"
      },
      "execution_count": null,
      "outputs": []
    },
    {
      "cell_type": "markdown",
      "source": [
        "## re"
      ],
      "metadata": {
        "id": "JEUI18dzUtFv"
      }
    },
    {
      "cell_type": "markdown",
      "source": [
        "파이썬에서 정규 표현식(Regular Expressions)은 문자열을 처리할 때 매우 강력하고 유연한 도구\n",
        "\n",
        "기본 개념:\n",
        "- 패턴 매칭 (Pattern Matching): 특정 패턴이 문자열에 존재하는지 확인. 예를 들어, 이메일 주소나 전화번호와 같은 특정 형식을 갖는 문자열을 찾을 때 사용\n",
        "\n",
        "- 메타 문자 (Meta Characters): 정규 표현식의 핵심 요소로, 특별한 의미를 가진 문자들. 예를 들어, ^, $, *, +, ?, {}, [], \\, |, () 등이 있습니다.\n",
        "\n",
        "- 리터럴 (Literal): 일반 텍스트 문자. 특별한 의미 없이 문자 그대로를 의미\n",
        "\n",
        "re 모듈 : 파이썬은 정규표현식을 지원하기 위해 기본으로 제공\n",
        "- re.compile의 결과로 리턴되는 객체를 이용하여 그 이후 작업 수행\n",
        "\n",
        "주요 기능:\n",
        "- re.match(pattern, string): 문자열 내에서 시작 부분부터 정규표현식과 일치하는지 확인\n",
        "- re.search(pattern, string): 문자열 전체를 검색하여 주어진 정규표현식과 일치하는 첫번째 위치를 확인\n",
        "- re.findall(pattern, string): 문자열 내에서 주어진 패턴과 일치하는 모든 부분을 찾아 리스트로 반환\n",
        "- re.finditer(): 정규식과 매치되는 모든 문자열을 반복 가능한 객체로 리턴\n",
        "- re.sub(pattern, repl, string): 문자열 내에서 주어진 패턴과 일치하는 부분을 다른 문자열로 대체\n",
        "- re.compile(pattern): 주어진 패턴을 컴파일하여 재사용 가능한 정규 표현식 객체를 생성"
      ],
      "metadata": {
        "id": "npUKcblUxTPh"
      }
    },
    {
      "cell_type": "code",
      "source": [
        "import re\n",
        "\n",
        "re.match(r[''], list)\n",
        "\n",
        "re.search(r[''], list)\n",
        "\n",
        "re.split('[,.?!]+')\n",
        "\n",
        "match = re.match('apple', 'apple pie')\n",
        "print(match.group()) # apple : 매칭 반환\n",
        "print(match.group(0)) # apple : 모든 매칭된 그룹 반환\n",
        "print(match.start()) # 0 인덱스 반환\n",
        "print(match.end()) # 5 인덱스 5 바로 앞까지라는 의미\n",
        "print(match.span()) # (0, 5) 인덱스 0~ 5바로 앞까지라는 의미\n",
        "\n",
        "# 매칭된 부분 제거\n",
        "re.sub(r[',.!@#$%\\n\\t\\'', '', list])\n",
        "\n",
        "# match()는 하나만 리턴하나 소괄호로 묶어 groups로 반환했다.\n",
        "re.match(r'(\\d{4})(\\d{2})(\\d{2})', birth).groups()"
      ],
      "metadata": {
        "id": "hmc2oyLTUsMX"
      },
      "execution_count": null,
      "outputs": []
    },
    {
      "cell_type": "markdown",
      "source": [
        "## pytz datetime"
      ],
      "metadata": {
        "id": "38HftSG80ulA"
      }
    },
    {
      "cell_type": "code",
      "source": [
        "import pytz\n",
        "import datetime\n",
        "\n",
        "# 위치 지정\n",
        "local = pytz.timezone('Asia/Seoul')\n",
        "\n",
        "# timezone 사용\n",
        "datetime.datetime.today().astimezone(local)\n",
        "datetime.datetime.now(local)"
      ],
      "metadata": {
        "id": "wz-dlfUU0vt2"
      },
      "execution_count": null,
      "outputs": []
    },
    {
      "cell_type": "markdown",
      "source": [
        "[ 날짜 함수 ]\n",
        "\n",
        "날짜와 시간을 처리하기 위한 주요 라이브러리는 datetime입니다. 이 라이브러리는 날짜, 시간, 시간대와 관련된 다양한 클래스와 함수를 제공하며, 날짜와 시간 연산에 매우 유용\n",
        "- datetime.date: 날짜(연, 월, 일)를 표현하는 클래스\n",
        "    - today(): 오늘의 날짜를 반환\n",
        "- datetime.time: 시간(시, 분, 초, 마이크로초)을 표현하는 클래스\n",
        "- datetime.datetime: 날짜와 시간을 모두 포함하는 클래스\n",
        "    - now(): 현재의 날짜와 시간을 반환\n",
        "- datetime.timedelta: 두 날짜/시간 간의 차이를 표현하는 클래스\n",
        "- datetime.tzinfo: 시간대 정보를 위한 기본 클래스\n",
        "\n",
        "datetime 모듈의 날짜와 시간 객체들을 문자열 형식으로 포맷팅하거나 문자열로부터 날짜와 시간 객체를 생성하기 위해 사용하는 주요 메서드는 strftime()와 strptime()\n",
        "- strftime() (String Format Time)\n",
        "    - 날짜와 시간 객체를 문자열로 변환하는 데 사용\n",
        "    - 사용자가 지정한 형식 문자열을 기반으로 날짜와 시간 정보를 문자열로 표현\n",
        "- strptime() (String Parse Time)\n",
        "    - 문자열을 날짜와 시간 객체로 변환하는 데 사용\n",
        "    - 주어진 형식 문자열을 기반으로 문자열에서 날짜와 시간 정보를 파싱"
      ],
      "metadata": {
        "id": "u-145MZInn8C"
      }
    },
    {
      "cell_type": "code",
      "source": [
        "import datetime\n",
        "\n",
        "# 현재 날짜 및 시간\n",
        "datetime.datetime.now()\n",
        "\n",
        "# 오늘의 날짜\n",
        "datetime.date.today()\n",
        "\n",
        "# 특정 날짜 및 시간을 직접 지정\n",
        "datetime.datetime(2023, 11, 2, 14, 29, 45)\n",
        "\n",
        "# 날짜 간 차이 계산\n",
        "delta = datetime.timedelta(days=7) # 7일의 기간\n",
        "new_date = today + delta # 오늘로부터 7일 후의 날짜\n",
        "\n",
        "# 두 날짜 간의 차이 계산\n",
        "date1 = datetime.date(2023, 1, 1)\n",
        "date2 = datetime.date(2023, 12, 31)\n",
        "diff = date2 - date1 # diff.days"
      ],
      "metadata": {
        "id": "9YAyYSmeqTFk"
      },
      "execution_count": null,
      "outputs": []
    },
    {
      "cell_type": "markdown",
      "source": [
        "포맷 코드 표<BR>\n",
        "포맷코드   설명   예<BR>\n",
        "%a   요일 줄임말   Sun, Mon, ... Sat<BR>\n",
        "%A   요일   Sunday, Monday, ..., Saturday<BR>\n",
        "%w   요일을 숫자로 표시, 월요일일요일, 06   0, 1, ..., 6<BR>\n",
        "%d   일   01, 02, ..., 31<BR>\n",
        "%b   월 줄임말   Jan, Feb, ..., Dec<BR>\n",
        "%B   월   January, February, …, December<BR>\n",
        "%m   숫자 월   01, 02, ..., 12<BR>\n",
        "%y   두 자릿수 연도   01, 02, ..., 99<BR>\n",
        "%Y   네 자릿수 연도   0001, 0002, ..., 2017, 2018, 9999<BR>\n",
        "%H   시간(24시간)   00, 01, ..., 23<BR>\n",
        "%I   시간(12시간)   01, 02, ..., 12<BR>\n",
        "%p   AM, PM   AM, PM<BR>\n",
        "%M   분   00, 01, ..., 59<BR>\n",
        "%S   초   00, 01, ..., 59<BR>\n",
        "%Z   시간대   대한민국 표준시<BR>\n",
        "%j   1월 1일부터 경과한 일수   001, 002, ..., 366<BR>\n",
        "%U   1년중 주차, 월요일이 한 주의 시작으로   00, 01, ..., 53<BR>\n",
        "%W   1년중 주차, 월요일이 한 주의 시작으로   00, 01, ..., 53<BR>\n",
        "%c   날짜, 요일, 시간을 출력, 현재 시간대 기준   Sat May 19 11:14:27 2018<BR>\n",
        "%x   날짜를 출력, 현재 시간대 기준   05/19/18<BR>\n",
        "%X   시간을 출력, 현재 시간대 기준   '11:44:22'"
      ],
      "metadata": {
        "id": "Ud3XwCz0sMtI"
      }
    },
    {
      "cell_type": "markdown",
      "source": [
        "time 모듈\n",
        "- 시스템 시간에 접근하거나 간단한 타이머 기능을 구현\n",
        "- 함수와 같이 프로그램을 일정 시간 동안 중지시키는 데 사용\n",
        "- 시간을 연도, 월, 일, 시, 분, 초 등의 구성 요소로 변환하고 다룰 수 있는 struct_time 객체를 제공\n",
        "- time 모듈은 날짜와 시간을 처리하는 다양한 프로그래밍 요구에 대응할 수 있는 기본적인 기능을 제공하지만, 더 복잡한 날짜 시간 처리나 시간대 변환 등은 datetime 모듈 또는 외부 라이브러리를 사용"
      ],
      "metadata": {
        "id": "uR520Vhvtzor"
      }
    },
    {
      "cell_type": "code",
      "source": [
        "import time\n",
        "from datetime import datetime\n",
        "\n",
        "st = '2021-07-20 11:13:58'\n",
        "\n",
        "# time.struct_time(tm_year = 2024, tm_mon = 5, tm_wday= = 2, tm_yday = 129, tm_isdst = 0 ...)\n",
        "time.localtime()\n",
        "\n",
        "# 현재 시간을 유닉스 시간(1970 1월 1일 0시 0분 0초)의 시작부터 현재까지의 초로 표현한 값 반환\n",
        "time.time() # timestamp\n",
        "\n",
        "# timestamp -> datetime\n",
        "datetime.fromtimestamp(time.time())\n",
        "\n",
        "# datetime -> timestamp\n",
        "datetime = datetime.today()\n",
        "timestamp = time.mktime(datetime.timetuple())\n",
        "\n",
        "# datetime -> str\n",
        "now.strftime(\"%Y-%m-%d %X\")\n",
        "\n",
        "# strftime 함수는 시간에 관계된 것을 세밀하게 표현할 수 있는 여러가지 포맷 코드 제공\n",
        "time.strftime(\"%A\", time.localtime(time.time())) # 요일\n",
        "\n",
        "# str -> datetime\n",
        "datetime.datetime.strptime(s, '%Y-%m-%d %X')\n",
        "\n",
        "# str -> datetime -> timestamp\n",
        "timestamp = time.mktime(datetime.strptime(s, '%Y-%m-%d %X').timetuple())\n"
      ],
      "metadata": {
        "colab": {
          "base_uri": "https://localhost:8080/"
        },
        "id": "MODJC0QGt0AX",
        "outputId": "299792ef-c78b-42dc-a1b9-8c70ee73c6d2"
      },
      "execution_count": null,
      "outputs": [
        {
          "output_type": "execute_result",
          "data": {
            "text/plain": [
              "1715147272.8711169"
            ]
          },
          "metadata": {},
          "execution_count": 1
        }
      ]
    },
    {
      "cell_type": "markdown",
      "source": [
        "## pandas\n",
        "\n",
        "외부 라이브러리나 패키지\n",
        "\n",
        "- 표준 라이브러리에 포함되지 않아 기본 설치에는 포함되지 않는다.\n",
        "- 이를 사용하려면 먼저 해당 라이브러리나 패키지를 설치\n",
        "- 외부 라이브러리는 통상적으로 파이썬의 패키지 관리자인 pip를 사용하여 설치\n",
        "- 설치 후에는 외장 함수와 마찬가지로 필요한 모듈을 임포트하여 사용\n",
        "- 예: numpy, pandas, requests 등의 외부 라이브러리에 포함된 함수들."
      ],
      "metadata": {
        "id": "CHS2uOS8WAQ-"
      }
    },
    {
      "cell_type": "code",
      "source": [
        "import pandas as pd\n",
        "\n",
        "# pandas의 read_html()를 사용하면 웹사이트의 표형식의 데이터를 DataFrame으로 변환하여 가져올 수 있다.\n",
        "pd.read_html(url)"
      ],
      "metadata": {
        "id": "lBuHTO_zXAWL"
      },
      "execution_count": null,
      "outputs": []
    },
    {
      "cell_type": "markdown",
      "source": [
        "## requests\n",
        "\n",
        "- 간단한 홈페이지를 불러올 때 사용"
      ],
      "metadata": {
        "id": "gf3WpCy8W8no"
      }
    },
    {
      "cell_type": "code",
      "source": [
        "import requests\n",
        "\n",
        "# url의 html 소스를 불러온다\n",
        "requests.get(url).text"
      ],
      "metadata": {
        "id": "8CzBLrvIW89x"
      },
      "execution_count": null,
      "outputs": []
    },
    {
      "cell_type": "markdown",
      "source": [
        "## BeautifulSoup"
      ],
      "metadata": {
        "id": "fxI1ksw6XCCG"
      }
    },
    {
      "cell_type": "code",
      "source": [
        "from bs4 import BeautifulSoup\n",
        "\n",
        "# requests로 불러온 html 소스를 파싱하고 데이터를 추출할 때 사용한다.\n",
        "soup = BeautifulSoup(response.text, 'html.parser')\n",
        "\n",
        "soup.find('div').find('a').text\n",
        "\n",
        "soup.find('div').find('a', {class:'클래스명'})\n",
        "\n",
        "soup.find('div').find_all('a')['href'].text\n",
        "\n",
        "# find로 찾은 태그의 다음 태그 찾기\n",
        "soup.find('div').find('a').next_sibling"
      ],
      "metadata": {
        "id": "HanVtBRlXEEF"
      },
      "execution_count": null,
      "outputs": []
    },
    {
      "cell_type": "markdown",
      "source": [
        "## selenium\n",
        "\n",
        "- requests로 가져올 수 없는 비동기 컨텐츠(javascript 등)를 가져올 수 있다.\n",
        "- 웹 테스트 자동화 프레임워크"
      ],
      "metadata": {
        "id": "xHH21tfoYsOh"
      }
    },
    {
      "cell_type": "code",
      "source": [
        "!pip install selenium"
      ],
      "metadata": {
        "id": "uWyvEhxjZkHV"
      },
      "execution_count": null,
      "outputs": []
    },
    {
      "cell_type": "code",
      "source": [],
      "metadata": {
        "id": "PbolSj-3Ysm_"
      },
      "execution_count": null,
      "outputs": []
    },
    {
      "cell_type": "markdown",
      "source": [
        "## random()\n",
        "import random\n",
        "  - random 모듈 자체를 가져옴\n",
        "\n",
        "from random import shuffle\n",
        "  - 랜덤 모듈에서 셔플 메소드만 가져옴\n",
        "\n",
        "난수를 생성하기 위한 다양한 함수를 제공\n",
        "\n",
        "- 기본 난수 생성:\n",
        "  - random.random(): 0과 1 사이의 무작위 부동소수점 숫자를 반환.\n",
        "- 범위 지정 난수 생성:\n",
        "  - random.randint(a, b): a와 b 사이의 무작위 정수를 반환(b 포함).\n",
        "  - random.randrange(start, stop[, step]): 지정된 범위에서 무작위 정수를 반환. step을 설정하여 수의 간격을 조정할 수 있다.\n",
        "- 시퀀스용 함수:\n",
        "  - random.choice(sequence): 주어진 시퀀스(리스트, 튜플 등)에서 무작위로 아이템을 선택하여 반환.\n",
        "  - random.shuffle(x[, random]): 리스트의 항목들을 무작위로 섞는다. random은 섞기를 위한 함수를 커스텀할 때 사용.\n",
        "  - random.sample(population, k): 주어진 시퀀스에서 무작위로 k개의 항목을 뽑아 새 리스트로 반환.\n",
        "- 분포 기반 난수 생성:\n",
        "  - random.uniform(a, b): a와 b 사이의 무작위 부동소수점 숫자를 균등 분포로 반환.\n",
        "  - random.gauss(mu, sigma): 평균 mu와 표준편차 sigma를 가지는 정규 분포에서 난수를 반환."
      ],
      "metadata": {
        "id": "YwxVZtG2l0GW"
      }
    },
    {
      "cell_type": "markdown",
      "source": [
        "## OS"
      ],
      "metadata": {
        "id": "4-1SR_hDmBJt"
      }
    },
    {
      "cell_type": "code",
      "source": [
        "import os\n",
        "\n",
        "print(os.getcwd()) # 현재 위치\n",
        "\n",
        "os.mkdir('new_folder') # 폴더 생성\n",
        "\n",
        "!ls # 현재 위치의 폴더를 알려주는 리눅스 명령어\n",
        "\n",
        "os.removedirs('new_folder') # 폴더 삭제\n",
        "\n",
        "!ls -l # .config파일은 나오지 않는다.\n",
        "!ls -la # 현재 위치에 있는 모든 파일과 폴더를 알려주는 리눅스 명령어\n",
        "\n",
        "print(os.listdir())\n",
        "\n",
        "os.environ['PATH'] # 패스 경로\n"
      ],
      "metadata": {
        "id": "AhROOX-omCro"
      },
      "execution_count": null,
      "outputs": []
    },
    {
      "cell_type": "markdown",
      "source": [
        "## glob()\n",
        "\n",
        "- 인자로 받은 패턴과 이름이 일치하는 모든 파일과 디렉토리의 리스트를 반환"
      ],
      "metadata": {
        "id": "N7QmwhThNJer"
      }
    },
    {
      "cell_type": "code",
      "source": [
        "import glob\n",
        "\n",
        "glob.glob('/content/test/*.txt')"
      ],
      "metadata": {
        "id": "zMU8XKFwNIqK"
      },
      "execution_count": null,
      "outputs": []
    },
    {
      "cell_type": "markdown",
      "source": [
        "## math"
      ],
      "metadata": {
        "id": "L1jAtfBKmF6h"
      }
    },
    {
      "cell_type": "code",
      "source": [
        "import math\n",
        "print(math.sqrt(16)) # 제곱근 계산 함수\n",
        "print(math.factorial(16)) # 팩토리얼 함수\n",
        "print(math.prod(range(1, 6))) # 곱하기 함수 : 1~5\n",
        "print(math.pi) # 3.14\n",
        "print(math.ceil(3.14)) # 올림"
      ],
      "metadata": {
        "id": "SiKGpbiPmIGS"
      },
      "execution_count": null,
      "outputs": []
    },
    {
      "cell_type": "markdown",
      "source": [
        "## shutil"
      ],
      "metadata": {
        "id": "Zteodf2jGuuX"
      }
    },
    {
      "cell_type": "code",
      "source": [
        "import shutil\n",
        "\n",
        "#백업 파일 생성\n",
        "shutil.copy(filename, filename + \".bak\")"
      ],
      "metadata": {
        "id": "WN6Ig_uIGvKK"
      },
      "execution_count": null,
      "outputs": []
    },
    {
      "cell_type": "markdown",
      "source": [
        "## Counter\n",
        "\n",
        "- 객체내 요소들의 개수를 카운팅(리스트, 문자열 등)\n",
        "- 개수반환\n",
        "- 가장 많은 요소 반환"
      ],
      "metadata": {
        "id": "VD1ieBu7G9HP"
      }
    },
    {
      "cell_type": "code",
      "source": [
        "from collections import Counter\n",
        "\n",
        "# 주요 기능들\n",
        "# 'elements', 'fromkeys', 'get', 'items', 'keys', 'most_common', 'pop',\n",
        "# 'popitem', 'setdefault', 'subtract', 'total', 'update', 'values']\n",
        "\n",
        "freq = Counter(input_strings)\n",
        "most_com = freq.most_common(2)[0][0]\n",
        "\n",
        "num_count = sum(c.isdigit() for c in user_input) # 숫자 개수\n",
        "\n",
        "upper_count = sum(c.isupper() for c in user_input) # 대문자 개수\n",
        "\n",
        "lower_count = sum(c.islower() for c in user_input) # 소문자 개수"
      ],
      "metadata": {
        "id": "ej6VXIPWG-W4"
      },
      "execution_count": null,
      "outputs": []
    },
    {
      "cell_type": "markdown",
      "source": [
        "## pickle\n",
        "\n",
        "- 객체의 형태를 유지하면서 파일에 저장하고 불러올 수 있게 하는 모듈\n",
        "- 파일을 open, read, write, close 할 수 있는 외장함수"
      ],
      "metadata": {
        "id": "ih5R1jr-DK3s"
      }
    },
    {
      "cell_type": "code",
      "source": [
        "import pickle\n",
        "\n",
        "f = open('test3.txt', 'wb') # w:쓰다 b:binary (텍스트보다 메모리 등이 세이브된다)\n",
        "data = {1:'python', 2:'you need'}\n",
        "pickle.dump(data,f)\n",
        "f.close()"
      ],
      "metadata": {
        "id": "u8wLa80uDTBg"
      },
      "execution_count": null,
      "outputs": []
    },
    {
      "cell_type": "markdown",
      "source": [
        "## random_words()\n",
        "\n",
        "- 영어단어 5,000여개를 갖고있다"
      ],
      "metadata": {
        "id": "okLdo4u5X97e"
      }
    },
    {
      "cell_type": "code",
      "source": [
        "!pip install random-word"
      ],
      "metadata": {
        "id": "hLNo7hnpZGwX"
      },
      "execution_count": null,
      "outputs": []
    },
    {
      "cell_type": "code",
      "source": [
        "from random_word import RandomWords\n",
        "\n",
        "rw = RandomWords\n",
        "words = rw.get_random_word()"
      ],
      "metadata": {
        "id": "qBRanfiwZAMr"
      },
      "execution_count": null,
      "outputs": []
    },
    {
      "cell_type": "markdown",
      "source": [
        "## nltk\n",
        "\n",
        "- nltk 라이브러리의 words 모듈을 사용하면 약 236,000개의 영어 단어 리스트를 얻을 수 있다."
      ],
      "metadata": {
        "id": "5KASREuAYEZz"
      }
    },
    {
      "cell_type": "code",
      "source": [
        "!pip install nltk"
      ],
      "metadata": {
        "id": "LfykrL8PZKMK"
      },
      "execution_count": null,
      "outputs": []
    },
    {
      "cell_type": "code",
      "source": [
        "from nltk.corpus import words\n",
        "\n",
        "words.words()"
      ],
      "metadata": {
        "id": "oFa0BXf-YEvy"
      },
      "execution_count": null,
      "outputs": []
    }
  ]
}