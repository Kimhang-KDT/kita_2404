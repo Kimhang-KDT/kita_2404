{
  "nbformat": 4,
  "nbformat_minor": 0,
  "metadata": {
    "colab": {
      "provenance": []
    },
    "kernelspec": {
      "name": "python3",
      "display_name": "Python 3"
    },
    "language_info": {
      "name": "python"
    }
  },
  "cells": [
    {
      "cell_type": "markdown",
      "source": [
        "외장 함수 (External Functions):\n",
        "- 표준 라이브러리에 포함된 모듈과 함수를 가리키는 것으로 모듈을 임포트하여 사용\n",
        "\n",
        "- 파이썬 표준 라이브러리의 os, sys, math, random, datetime 등의 모듈에는 다양한 외장 함수가 포함"
      ],
      "metadata": {
        "id": "s_Gr4uD1XJ_t"
      }
    },
    {
      "cell_type": "markdown",
      "source": [
        "## keyword\n",
        "\n",
        "- 파이썬의 디폴트로 설정되어 있는 키워드"
      ],
      "metadata": {
        "id": "Zdr_VqNRzjM0"
      }
    },
    {
      "cell_type": "code",
      "execution_count": null,
      "metadata": {
        "id": "J1voYdv6yQcs"
      },
      "outputs": [],
      "source": [
        "import keyword\n",
        "\n",
        "keyword.iskeyword()\n",
        "\n",
        "keyword.kwlist"
      ]
    },
    {
      "cell_type": "markdown",
      "source": [
        "# numpy statistics\n",
        "\n",
        "- numpy.mean() : 평균을 구하는 함수\n",
        "\n",
        "- statistics.mean() : 평균을 구하는 함수"
      ],
      "metadata": {
        "id": "oRTF9Legz89-"
      }
    },
    {
      "cell_type": "code",
      "source": [
        "import numpy as np\n",
        "np.mean(리스트명)\n",
        "\n",
        "import statistics\n",
        "statistics.mean(리스트명)"
      ],
      "metadata": {
        "id": "3u0uBVGwz-zE"
      },
      "execution_count": null,
      "outputs": []
    },
    {
      "cell_type": "markdown",
      "source": [
        "## split() re.split()\n",
        "\n",
        "- 주어진 문자열에서 공백, 쉽표, 마침표, 물음표, 느낌표를 포함하여 연속된 어떤 조합이라도 하나의 구분자로 취급하고, 이에 따라 문자열을 분리\n",
        "- 아무 기준도 추가 하지 않는다면 space나 tap을 기준으로 분리한다.\n",
        "- split()은 하나의 기준만 사용할 수 있으나 re.split()은 여러 기준 사용 가능"
      ],
      "metadata": {
        "id": "erGrx5-f0WXv"
      }
    },
    {
      "cell_type": "code",
      "source": [
        "import re\n",
        "\n",
        "text.split()\n",
        "text.split(' ')\n",
        "text.split(',')\n",
        "\n",
        "\n",
        "re.split('[,.?!]+', text)\n"
      ],
      "metadata": {
        "id": "StwGc-Fd0YhU"
      },
      "execution_count": null,
      "outputs": []
    },
    {
      "cell_type": "markdown",
      "source": [
        "## pytz datetime"
      ],
      "metadata": {
        "id": "38HftSG80ulA"
      }
    },
    {
      "cell_type": "code",
      "source": [
        "import pytz\n",
        "import datetime\n",
        "\n",
        "# 위치 지정\n",
        "local = pytz.timezone('Asia/Seoul')\n",
        "\n",
        "# 해당 위치의 현재 시각 반환\n",
        "datetime.datetime.now(local).hour"
      ],
      "metadata": {
        "id": "wz-dlfUU0vt2"
      },
      "execution_count": null,
      "outputs": []
    },
    {
      "cell_type": "markdown",
      "source": [
        "## pandas\n",
        "\n",
        "외부 라이브러리나 패키지\n",
        "\n",
        "- 표준 라이브러리에 포함되지 않아 기본 설치에는 포함되지 않는다.\n",
        "- 이를 사용하려면 먼저 해당 라이브러리나 패키지를 설치\n",
        "- 외부 라이브러리는 통상적으로 파이썬의 패키지 관리자인 pip를 사용하여 설치\n",
        "- 설치 후에는 외장 함수와 마찬가지로 필요한 모듈을 임포트하여 사용\n",
        "- 예: numpy, pandas, requests 등의 외부 라이브러리에 포함된 함수들."
      ],
      "metadata": {
        "id": "CHS2uOS8WAQ-"
      }
    },
    {
      "cell_type": "code",
      "source": [
        "import pandas as pd\n",
        "\n",
        "# pandas의 read_html()를 사용하면 웹사이트의 표형식의 데이터를 DataFrame으로 변환하여 가져올 수 있다.\n",
        "pd.read_html(url)"
      ],
      "metadata": {
        "id": "lBuHTO_zXAWL"
      },
      "execution_count": null,
      "outputs": []
    },
    {
      "cell_type": "markdown",
      "source": [
        "## requests\n",
        "\n",
        "- 간단한 홈페이지를 불러올 때 사용"
      ],
      "metadata": {
        "id": "gf3WpCy8W8no"
      }
    },
    {
      "cell_type": "code",
      "source": [
        "import requests\n",
        "\n",
        "# url의 html 소스를 불러온다\n",
        "requests.get(url).text"
      ],
      "metadata": {
        "id": "8CzBLrvIW89x"
      },
      "execution_count": null,
      "outputs": []
    },
    {
      "cell_type": "markdown",
      "source": [
        "## BeautifulSoup"
      ],
      "metadata": {
        "id": "fxI1ksw6XCCG"
      }
    },
    {
      "cell_type": "code",
      "source": [
        "from bs4 import BeautifulSoup\n",
        "\n",
        "# requests로 불러온 html 소스를 파싱하고 데이터를 추출할 때 사용한다.\n",
        "soup = BeautifulSoup(response.text, 'html.parser')\n",
        "\n",
        "soup.find('div').find('a').text\n",
        "\n",
        "soup.find('div').find('a', {class:'클래스명'})\n",
        "\n",
        "soup.find('div').find_all('a')['href'].text\n",
        "\n",
        "# find로 찾은 태그의 다음 태그 찾기\n",
        "soup.find('div').find('a').next_sibling"
      ],
      "metadata": {
        "id": "HanVtBRlXEEF"
      },
      "execution_count": null,
      "outputs": []
    },
    {
      "cell_type": "markdown",
      "source": [
        "## selenium\n",
        "\n",
        "- requests로 가져올 수 없는 비동기 컨텐츠(javascript 등)를 가져올 수 있다.\n",
        "- 웹 테스트 자동화 프레임워크"
      ],
      "metadata": {
        "id": "xHH21tfoYsOh"
      }
    },
    {
      "cell_type": "code",
      "source": [
        "!pip install selenium"
      ],
      "metadata": {
        "id": "uWyvEhxjZkHV"
      },
      "execution_count": null,
      "outputs": []
    },
    {
      "cell_type": "code",
      "source": [],
      "metadata": {
        "id": "PbolSj-3Ysm_"
      },
      "execution_count": null,
      "outputs": []
    },
    {
      "cell_type": "markdown",
      "source": [
        "## random()\n",
        "import random\n",
        "  - random 모듈 자체를 가져옴\n",
        "\n",
        "from random import shuffle\n",
        "  - 랜덤 모듈에서 셔플 메소드만 가져옴\n",
        "\n",
        "난수를 생성하기 위한 다양한 함수를 제공\n",
        "\n",
        "- 기본 난수 생성:\n",
        "  - random.random(): 0과 1 사이의 무작위 부동소수점 숫자를 반환.\n",
        "- 범위 지정 난수 생성:\n",
        "  - random.randint(a, b): a와 b 사이의 무작위 정수를 반환(b 포함).\n",
        "  - random.randrange(start, stop[, step]): 지정된 범위에서 무작위 정수를 반환. step을 설정하여 수의 간격을 조정할 수 있다.\n",
        "- 시퀀스용 함수:\n",
        "  - random.choice(sequence): 주어진 시퀀스(리스트, 튜플 등)에서 무작위로 아이템을 선택하여 반환.\n",
        "  - random.shuffle(x[, random]): 리스트의 항목들을 무작위로 섞는다. random은 섞기를 위한 함수를 커스텀할 때 사용.\n",
        "  - random.sample(population, k): 주어진 시퀀스에서 무작위로 k개의 항목을 뽑아 새 리스트로 반환.\n",
        "- 분포 기반 난수 생성:\n",
        "  - random.uniform(a, b): a와 b 사이의 무작위 부동소수점 숫자를 균등 분포로 반환.\n",
        "  - random.gauss(mu, sigma): 평균 mu와 표준편차 sigma를 가지는 정규 분포에서 난수를 반환."
      ],
      "metadata": {
        "id": "YwxVZtG2l0GW"
      }
    },
    {
      "cell_type": "markdown",
      "source": [
        "## OS"
      ],
      "metadata": {
        "id": "4-1SR_hDmBJt"
      }
    },
    {
      "cell_type": "code",
      "source": [
        "import os\n",
        "\n",
        "print(os.getcwd()) # 현재 위치\n",
        "\n",
        "os.mkdir('new_folder') # 폴더 생성\n",
        "\n",
        "!ls # 현재 위치의 폴더를 알려주는 리눅스 명령어\n",
        "\n",
        "os.removedirs('new_folder') # 폴더 삭제\n",
        "\n",
        "!ls -l # .config파일은 나오지 않는다.\n",
        "!ls -la # 현재 위치에 있는 모든 파일과 폴더를 알려주는 리눅스 명령어\n",
        "\n",
        "print(os.listdir())\n"
      ],
      "metadata": {
        "id": "AhROOX-omCro"
      },
      "execution_count": null,
      "outputs": []
    },
    {
      "cell_type": "markdown",
      "source": [
        "## math"
      ],
      "metadata": {
        "id": "L1jAtfBKmF6h"
      }
    },
    {
      "cell_type": "code",
      "source": [
        "import math\n",
        "print(math.sqrt(16)) # 제곱근 계산 함수"
      ],
      "metadata": {
        "id": "SiKGpbiPmIGS"
      },
      "execution_count": null,
      "outputs": []
    },
    {
      "cell_type": "markdown",
      "source": [
        "## shutil"
      ],
      "metadata": {
        "id": "Zteodf2jGuuX"
      }
    },
    {
      "cell_type": "code",
      "source": [
        "import shutil\n",
        "\n",
        "#백업 파일 생성\n",
        "shutil.copy(filename, filename + \".bak\")"
      ],
      "metadata": {
        "id": "WN6Ig_uIGvKK"
      },
      "execution_count": null,
      "outputs": []
    },
    {
      "cell_type": "markdown",
      "source": [
        "## Counter\n",
        "\n",
        "- 객체내 요소들의 개수를 카운팅(리스트, 문자열 등)\n",
        "- 개수반환\n",
        "- 가장 많은 요소 반환"
      ],
      "metadata": {
        "id": "VD1ieBu7G9HP"
      }
    },
    {
      "cell_type": "code",
      "source": [
        "from collections import Counter\n",
        "\n",
        "# 주요 기능들\n",
        "# 'elements', 'fromkeys', 'get', 'items', 'keys', 'most_common', 'pop',\n",
        "# 'popitem', 'setdefault', 'subtract', 'total', 'update', 'values']\n",
        "\n",
        "freq = Counter(input_strings)\n",
        "most_com = freq.most_common(2)[0][0]\n",
        "\n",
        "num_count = sum(c.isdigit() for c in user_input) # 숫자 개수\n",
        "\n",
        "upper_count = sum(c.isupper() for c in user_input) # 대문자 개수\n",
        "\n",
        "lower_count = sum(c.islower() for c in user_input) # 소문자 개수"
      ],
      "metadata": {
        "id": "ej6VXIPWG-W4"
      },
      "execution_count": null,
      "outputs": []
    }
  ]
}