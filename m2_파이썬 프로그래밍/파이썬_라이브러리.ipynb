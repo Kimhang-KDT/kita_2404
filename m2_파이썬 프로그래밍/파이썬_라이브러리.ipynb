{
  "nbformat": 4,
  "nbformat_minor": 0,
  "metadata": {
    "colab": {
      "provenance": []
    },
    "kernelspec": {
      "name": "python3",
      "display_name": "Python 3"
    },
    "language_info": {
      "name": "python"
    }
  },
  "cells": [
    {
      "cell_type": "markdown",
      "source": [
        "외장 함수 (External Functions):\n",
        "- 표준 라이브러리에 포함된 모듈과 함수를 가리키는 것으로 모듈을 임포트하여 사용\n",
        "\n",
        "- 파이썬 표준 라이브러리의 os, sys, math, random, datetime 등의 모듈에는 다양한 외장 함수가 포함"
      ],
      "metadata": {
        "id": "s_Gr4uD1XJ_t"
      }
    },
    {
      "cell_type": "markdown",
      "source": [
        "## keyword\n",
        "\n",
        "- 파이썬의 디폴트로 설정되어 있는 키워드"
      ],
      "metadata": {
        "id": "Zdr_VqNRzjM0"
      }
    },
    {
      "cell_type": "code",
      "execution_count": null,
      "metadata": {
        "id": "J1voYdv6yQcs"
      },
      "outputs": [],
      "source": [
        "import keyword\n",
        "\n",
        "keyword.iskeyword()\n",
        "\n",
        "keyword.kwlist"
      ]
    },
    {
      "cell_type": "markdown",
      "source": [
        "# numpy statistics\n",
        "\n",
        "- numpy.mean() : 평균을 구하는 함수\n",
        "\n",
        "- statistics.mean() : 평균을 구하는 함수"
      ],
      "metadata": {
        "id": "oRTF9Legz89-"
      }
    },
    {
      "cell_type": "code",
      "source": [
        "import numpy as np\n",
        "np.mean(리스트명)\n",
        "\n",
        "import statistics\n",
        "statistics.mean(리스트명)"
      ],
      "metadata": {
        "id": "3u0uBVGwz-zE"
      },
      "execution_count": null,
      "outputs": []
    },
    {
      "cell_type": "markdown",
      "source": [
        "## split() re.split()\n",
        "\n",
        "- 주어진 문자열에서 공백, 쉽표, 마침표, 물음표, 느낌표를 포함하여 연속된 어떤 조합이라도 하나의 구분자로 취급하고, 이에 따라 문자열을 분리\n",
        "- 아무 기준도 추가 하지 않는다면 space나 tap을 기준으로 분리한다.\n",
        "- split()은 하나의 기준만 사용할 수 있으나 re.split()은 여러 기준 사용 가능"
      ],
      "metadata": {
        "id": "erGrx5-f0WXv"
      }
    },
    {
      "cell_type": "code",
      "source": [
        "import re\n",
        "\n",
        "text.split()\n",
        "text.split(' ')\n",
        "text.split(',')\n",
        "\n",
        "\n",
        "re.split('[,.?!]+', text)\n"
      ],
      "metadata": {
        "id": "StwGc-Fd0YhU"
      },
      "execution_count": null,
      "outputs": []
    },
    {
      "cell_type": "markdown",
      "source": [
        "## pytz datetime"
      ],
      "metadata": {
        "id": "38HftSG80ulA"
      }
    },
    {
      "cell_type": "code",
      "source": [
        "import pytz\n",
        "import datetime\n",
        "\n",
        "# 위치 지정\n",
        "local = pytz.timezone('Asia/Seoul')\n",
        "\n",
        "# 해당 위치의 현재 시각 반환\n",
        "datetime.datetime.now(local).hour"
      ],
      "metadata": {
        "id": "wz-dlfUU0vt2"
      },
      "execution_count": null,
      "outputs": []
    },
    {
      "cell_type": "markdown",
      "source": [
        "## pandas\n",
        "\n",
        "외부 라이브러리나 패키지\n",
        "\n",
        "- 표준 라이브러리에 포함되지 않아 기본 설치에는 포함되지 않는다.\n",
        "- 이를 사용하려면 먼저 해당 라이브러리나 패키지를 설치\n",
        "- 외부 라이브러리는 통상적으로 파이썬의 패키지 관리자인 pip를 사용하여 설치\n",
        "- 설치 후에는 외장 함수와 마찬가지로 필요한 모듈을 임포트하여 사용\n",
        "- 예: numpy, pandas, requests 등의 외부 라이브러리에 포함된 함수들."
      ],
      "metadata": {
        "id": "CHS2uOS8WAQ-"
      }
    },
    {
      "cell_type": "code",
      "source": [
        "import pandas as pd"
      ],
      "metadata": {
        "id": "lBuHTO_zXAWL"
      },
      "execution_count": null,
      "outputs": []
    }
  ]
}