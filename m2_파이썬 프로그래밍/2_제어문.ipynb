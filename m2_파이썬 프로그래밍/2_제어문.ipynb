{
  "nbformat": 4,
  "nbformat_minor": 0,
  "metadata": {
    "colab": {
      "provenance": []
    },
    "kernelspec": {
      "name": "python3",
      "display_name": "Python 3"
    },
    "language_info": {
      "name": "python"
    }
  },
  "cells": [
    {
      "cell_type": "markdown",
      "source": [
        "제어문(control statement)은 프로그램의 흐름을 제어하는데 사용\n",
        "\n",
        "#### 조건문 (Conditional Statements):\n",
        "- if: 특정 조건이 참(True)일 때 코드 블록을 실행\n",
        "    - 조건은 비교 연산자(==, !=, <, >, <=, >=)와 논리 연산자(and, or, not)를 사용하여 표현할 수 있다\n",
        "- elif: 이전의 if 또는 elif 조건이 거짓(False)일 때 다른 조건을 검사\n",
        "    - elif는 'else if'의 축약형으로, 이전 if 또는 elif 문의 조건이 거짓(False)일 때 다른 조건을 검사\n",
        "    - 여러 elif 문을 사용하여 다양한 조건을 검사할 수 있다\n",
        "- else:\n",
        "    - 이전의 if 또는 elif 문의 조건이 모두 거짓일 때 실행할 코드 블록을 지정"
      ],
      "metadata": {
        "id": "ywpZV_2j8PPK"
      }
    },
    {
      "cell_type": "code",
      "execution_count": 2,
      "metadata": {
        "colab": {
          "base_uri": "https://localhost:8080/"
        },
        "id": "mQBqi7DH8MYI",
        "outputId": "e67db7b9-3dfa-4f36-92b0-44fdc100dd86"
      },
      "outputs": [
        {
          "output_type": "stream",
          "name": "stdout",
          "text": [
            "크다\n"
          ]
        }
      ],
      "source": [
        "x = 10\n",
        "if x > 5:\n",
        "  print(\"크다\")\n",
        "elif x == 5:\n",
        "  print(\"같다\")\n",
        "else:\n",
        "  print(\"작다\")"
      ]
    },
    {
      "cell_type": "code",
      "source": [
        "# 각 조건이 서로 독립적일 때 if문을 연속해서 사용\n",
        "\n",
        "x = 10\n",
        "y = 5\n",
        "\n",
        "if x > 5:\n",
        "  print(\"x는 5보다 큽니다.\")\n",
        "\n",
        "if x < 10:\n",
        "  print(\"x는 10보다 작습니다.\")\n",
        "\n",
        "if x  y:\n",
        "  print(\"x는 y보다 큽니다.\")"
      ],
      "metadata": {
        "id": "fFVV-eq0SZnX"
      },
      "execution_count": null,
      "outputs": []
    },
    {
      "cell_type": "code",
      "source": [
        "x = 10\n",
        "y = 5\n",
        "\n",
        "if x > 5:\n",
        "  if y >= 3:\n",
        "    print('x는 5보다 크고 y는 3보다 크거나 같습니다.')\n",
        "  else:\n",
        "    print('x는5보다 크고 y는 3보다 작습니다.')\n",
        "else:\n",
        "  print('x는 5보다 작거나 같습니다.')"
      ],
      "metadata": {
        "id": "D-wjxxxOUFci"
      },
      "execution_count": null,
      "outputs": []
    },
    {
      "cell_type": "code",
      "source": [
        "# Q. 이중 조건문을 사용하여 코드를 작성하세요. if문 elif else 중첩하여 사용\n",
        "\n",
        "name = '김한결'\n",
        "age = 30\n",
        "se = 'female'\n",
        "height = 170\n",
        "\n",
        "if name == '김한결':\n",
        "  print(f'이름은 {name}입니다.')\n",
        "\n",
        "  if age == 30:\n",
        "    print(f'나이는 {age}세 입니다.')\n",
        "  elif age > 30:\n",
        "    print(f'나이는 {age} 보다 많습니다.')\n",
        "  elif age < 30:\n",
        "    print(f'나이는 {age} 보다 적습니다.')\n",
        "  else:\n",
        "    print('나이를 모르겠네요')\n",
        "\n",
        "  if se == 'female':\n",
        "    print('성별은 여자입니다.')\n",
        "  else:\n",
        "    print('성별은 남자입니다.')\n",
        "\n",
        "  if height >= 170:\n",
        "    print(f'키가 {height}이거나, 그보다 큽니다.')\n",
        "  elif height < 170:\n",
        "    print(f'키가 {height}보다 작습니다.')\n",
        "else:\n",
        "  print(f'이름은 {name}이 아닙니다.')"
      ],
      "metadata": {
        "colab": {
          "base_uri": "https://localhost:8080/"
        },
        "id": "DpB-D2pMUVCw",
        "outputId": "c2b627b4-00d4-43fa-f516-8be3045e2cd7"
      },
      "execution_count": 5,
      "outputs": [
        {
          "output_type": "stream",
          "name": "stdout",
          "text": [
            "이름은 김한결입니다.\n",
            "나이는 30세 입니다.\n",
            "성별은 여자입니다.\n",
            "키가 170이거나, 그보다 큽니다.\n"
          ]
        }
      ]
    },
    {
      "cell_type": "code",
      "source": [
        "# Q. listdata = ['a', 'b', 'c']에서 조건문을 이용해 아래와 같이 출력하세요.\n",
        "\n",
        "# a가 listdata에 있습니다.\n",
        "# b가 listdata에 있습니다.\n",
        "# c가 listdata에 있습니다.\n",
        "\n",
        "listdata = ['a', 'b', 'c']\n",
        "\n",
        "for i in listdata:\n",
        "  if i in listdata:\n",
        "    print(f'{i}가 listdata에 있습니다.')"
      ],
      "metadata": {
        "colab": {
          "base_uri": "https://localhost:8080/"
        },
        "id": "Sb7_o6UKYTaG",
        "outputId": "5831ade3-a799-4940-e64e-941901cf690a"
      },
      "execution_count": 9,
      "outputs": [
        {
          "output_type": "stream",
          "name": "stdout",
          "text": [
            "a가 listdata에 있습니다.\n",
            "b가 listdata에 있습니다.\n",
            "c가 listdata에 있습니다.\n"
          ]
        }
      ]
    },
    {
      "cell_type": "code",
      "source": [
        "# next()는 리스트 컴프리핸션에서 생성된 iterator에서 첫번째 요소를 반환\n",
        "# 조건을 만족하는 요소가 없다면 StopIteration을 반환하기 때문에\n",
        "# 두번째 인자로 기본값을 지정할 수 있다.\n",
        "\n",
        "listdata = ['a', 'b', 'c']\n",
        "\n",
        "new_str = next(i for i in listdata if i == 'a')\n",
        "# new_str = next(i for i in listdata if i == 'a', 'a가 없습니다.')\n",
        "\n",
        "new_str"
      ],
      "metadata": {
        "colab": {
          "base_uri": "https://localhost:8080/",
          "height": 35
        },
        "id": "M52cXRL0Z0zN",
        "outputId": "f843a6f4-803e-41bf-ceaa-92a9b339e2f9"
      },
      "execution_count": 10,
      "outputs": [
        {
          "output_type": "execute_result",
          "data": {
            "text/plain": [
              "'a'"
            ],
            "application/vnd.google.colaboratory.intrinsic+json": {
              "type": "string"
            }
          },
          "metadata": {},
          "execution_count": 10
        }
      ]
    },
    {
      "cell_type": "code",
      "source": [
        "# Q. \"주머니에 돈이 10,000원 이상 있으면 택시를 타고, 없으면 걸어 간다\"를 만족하는 조건문을 완성하시오.\n",
        "\n",
        "money = int(input('주머니 돈 : '))\n",
        "\n",
        "if money >= 10000:\n",
        "  print('택시를 타자!')\n",
        "else:\n",
        "  print('돈도 없는데 걸어가자!')"
      ],
      "metadata": {
        "id": "sGz_jZajac_L"
      },
      "execution_count": null,
      "outputs": []
    },
    {
      "cell_type": "code",
      "source": [
        "# Q. 조건부 표현식을 한줄의 조건문으로 작성하세요.\n",
        "\n",
        "score = 70\n",
        "if score >= 60:\n",
        "  message = \"success\"\n",
        "else:\n",
        "  message = \"failure\"\n",
        "\n",
        "print(message)\n",
        "\n",
        "##########################\n",
        "\n",
        "\"success\" if score >= 60 else \"failure\"\n",
        "[\"success\" if score >= 60 else \"failure\"]"
      ],
      "metadata": {
        "colab": {
          "base_uri": "https://localhost:8080/",
          "height": 54
        },
        "id": "2uJNwlkweyH_",
        "outputId": "9933c8c3-09f3-4b2c-9d2b-49efd6e250eb"
      },
      "execution_count": 13,
      "outputs": [
        {
          "output_type": "stream",
          "name": "stdout",
          "text": [
            "success\n"
          ]
        },
        {
          "output_type": "execute_result",
          "data": {
            "text/plain": [
              "'success'"
            ],
            "application/vnd.google.colaboratory.intrinsic+json": {
              "type": "string"
            }
          },
          "metadata": {},
          "execution_count": 13
        }
      ]
    },
    {
      "cell_type": "code",
      "source": [
        "# Q. \"수입과 지출 금액을 비교해서 수입이 많으면 저축 증가, 반대이면 빚이 증가\" 프로그램 작성\n",
        "\n",
        "income = int(input(\"수입 : \"))\n",
        "spend  = int(input(\"지출 : \"))\n",
        "\n",
        "if income > spend:\n",
        "  print('수입 증가')\n",
        "elif income < spend:\n",
        "  print('저축 증가')\n",
        "else:\n",
        "  print('현상유지')\n",
        "\n"
      ],
      "metadata": {
        "colab": {
          "base_uri": "https://localhost:8080/"
        },
        "id": "xBd-LLJ1gJNh",
        "outputId": "ac6c34bb-727f-46ec-988d-338ad990c1cf"
      },
      "execution_count": 15,
      "outputs": [
        {
          "output_type": "stream",
          "name": "stdout",
          "text": [
            "수입 : 10\n",
            "지출 : 10\n",
            "현상유지\n"
          ]
        }
      ]
    },
    {
      "cell_type": "markdown",
      "source": [
        "#### 반복문 (Loop Statements):\n",
        "- for: 시퀀스(리스트, 튜플, 문자열 등)의 아이템을 순회하면서 코드 블록을 실행\n",
        "- while: 특정 조건이 참인 동안 코드 블록을 반복하여 실행"
      ],
      "metadata": {
        "id": "GswVkV6xhWH7"
      }
    },
    {
      "cell_type": "code",
      "source": [
        "for i in range(10):\n",
        "  print(i, end=' ')\n",
        "print('\\n')\n",
        "\n",
        "count = 0\n",
        "while count < 5:\n",
        "  print(count, end=' ')\n",
        "  count += 1"
      ],
      "metadata": {
        "colab": {
          "base_uri": "https://localhost:8080/"
        },
        "id": "tMIsfQ-Th-B0",
        "outputId": "ba365802-9e7f-414d-ce23-b5ec4f6cdf13"
      },
      "execution_count": 17,
      "outputs": [
        {
          "output_type": "stream",
          "name": "stdout",
          "text": [
            "0 1 2 3 4 5 6 7 8 9 \n",
            "\n",
            "0 1 2 3 4 "
          ]
        }
      ]
    },
    {
      "cell_type": "code",
      "source": [
        "# 리스트를 순회하는 예\n",
        "for i in [1, 2, 3, 4, 5]:\n",
        "  print(i, end=' ')\n",
        "print('\\n')\n",
        "\n",
        "# 문자열을 순회하는 예\n",
        "for char in \"hello\":\n",
        "  print(char, end=' ')"
      ],
      "metadata": {
        "id": "e28vYRHAlCei"
      },
      "execution_count": null,
      "outputs": []
    },
    {
      "cell_type": "code",
      "source": [
        "# while 루프는 주어진 조건이 참(True)인 동안 코드 블록을 반복\n",
        "# 조건이 거짓(False)이 되면 루프가 종료\n",
        "\n",
        "count = 0\n",
        "sum = 0\n",
        "while count < 5:\n",
        "  sum += count\n",
        "  print(sum, end=' ')\n",
        "  count += 1 # count를 1 증가 시킵니다.\n",
        "\n",
        "# 무한으로 돌 때는 조건문을 추가해 break를 줘야한다."
      ],
      "metadata": {
        "colab": {
          "base_uri": "https://localhost:8080/"
        },
        "id": "mLPRPB73lYSq",
        "outputId": "de923b80-0d00-4aec-9ea7-f1857724bec7"
      },
      "execution_count": 18,
      "outputs": [
        {
          "output_type": "stream",
          "name": "stdout",
          "text": [
            "0 1 3 6 10 "
          ]
        }
      ]
    },
    {
      "cell_type": "code",
      "source": [
        "# Q. d에서 반복문을 사용하여 97, 98, 99를 출력하세요.\n",
        "\n",
        "d = {'a':97, 'b':98, 'c':99}\n",
        "\n",
        "for i in d.keys():\n",
        "  print(d[i], end=' ')"
      ],
      "metadata": {
        "colab": {
          "base_uri": "https://localhost:8080/"
        },
        "id": "RfvQKXrwmjfT",
        "outputId": "427d5701-6880-4641-930b-836ee8534f22"
      },
      "execution_count": 20,
      "outputs": [
        {
          "output_type": "stream",
          "name": "stdout",
          "text": [
            "97 98 99 "
          ]
        }
      ]
    }
  ]
}