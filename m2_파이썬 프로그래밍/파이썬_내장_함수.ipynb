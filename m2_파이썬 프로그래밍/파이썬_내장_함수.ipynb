{
  "nbformat": 4,
  "nbformat_minor": 0,
  "metadata": {
    "colab": {
      "provenance": []
    },
    "kernelspec": {
      "name": "python3",
      "display_name": "Python 3"
    },
    "language_info": {
      "name": "python"
    }
  },
  "cells": [
    {
      "cell_type": "markdown",
      "source": [
        "내장 함수 (Built-in Functions)\n",
        "\n",
        "- 내장 함수는 파이썬 인터프리터에 포함되어 있어, 별도의 모듈을 임포트(import)하지 않고도 사용\n",
        "\n",
        "- 이러한 함수들은 기본적인 작업을 수행하며, 파이썬 프로그래밍의 기본적인 빌딩 블록(building blocks)으로 작동"
      ],
      "metadata": {
        "id": "TUN11eNgXVOa"
      }
    },
    {
      "cell_type": "markdown",
      "source": [
        "## isinstance()\n",
        "\n",
        "- 괄호 안의 객체 타입 여부를 알 수 있는 함수\n",
        "- 타입 자체를 알려주는 것은 아님"
      ],
      "metadata": {
        "id": "8jX25pMkPPIA"
      }
    },
    {
      "cell_type": "code",
      "source": [
        "if isinstance(변수명, list):"
      ],
      "metadata": {
        "id": "-JDP2g6UPjD6"
      },
      "execution_count": null,
      "outputs": []
    },
    {
      "cell_type": "markdown",
      "source": [
        "## isidentifier()\n",
        "\n",
        "- 유효한 변수명인지를 확인하는 함수\n",
        "- keyword를 걸러내지는 못하는게 단점"
      ],
      "metadata": {
        "id": "FJqmSuS1Pp1m"
      }
    },
    {
      "cell_type": "code",
      "source": [
        "변수명.isidentifier()"
      ],
      "metadata": {
        "id": "CC0nauUKQIrx"
      },
      "execution_count": null,
      "outputs": []
    },
    {
      "cell_type": "markdown",
      "source": [
        "## sort() sorted()\n",
        "\n",
        "- 기본적으로 오름차순 정렬\n",
        "- 내림차순 정렬 : 괄호 안에 reverse=True 추가\n",
        "- 매개변수 : key\n",
        "  - 정렬을 목적으로 하는 함수를 값으로 넣는다. lambda를 이용할 수 있고 key값을 기준으로 정렬되고 기본값은 오름차순\n",
        "\n",
        "- sort() : 내장 메소드: 리스트에서만 사용가능\n",
        "  - 리스트를 원 위치에서 정렬 후 None 반환 : 원래 객체 변경\n",
        "- sorted() : 내장 함수: 반복가능한(iterable) 객체에도 사용가능\n",
        "  - ex) 리스트, 튜플, 딕셔너리, 문자열 등 사용가능\n",
        "  - 정렬된 새로운 [리스트] 반환: 원래의 인스턴스 변경 없음\n"
      ],
      "metadata": {
        "id": "i4mG4DcdQO3S"
      }
    },
    {
      "cell_type": "code",
      "source": [
        "my_list = [3, 1, 4, 2]\n",
        "\n",
        "sorted(my_list, key,)\n",
        "my_list.sort()\n",
        "my_list.sort(reverse=True)\n",
        "\n",
        "students = [('Alice',90), ('Bob',85), ('Charlie', 88)]\n",
        "\n",
        "# key에 lambda를 이용해서 함수를 적용할 수 있다.\n",
        "sorted_list = sorted(students, key= lambda x : x[1], reverse=True) # x = 2번째 요소\n",
        "\n",
        "strings = ('a', 'ca', 'bar', 'aaaa', 'ababa')\n",
        "\n",
        "sorted_list1 = sorted(strings, key=lambda x: (len(set(x)), len(x)), reverse=True)\n",
        "\n",
        "# 키값에 -를 붙이면 reverse=True와 같은 의미를 가진다.\n",
        "sorted_list2 = sorted(strings, key=lambda x: (-len(set(x)), -len(x)))\n"
      ],
      "metadata": {
        "id": "AD43W2CVQN_s",
        "colab": {
          "base_uri": "https://localhost:8080/"
        },
        "outputId": "4f4c6d80-08ea-4291-b792-7fce1e6f6c0a"
      },
      "execution_count": 4,
      "outputs": [
        {
          "output_type": "stream",
          "name": "stdout",
          "text": [
            "[('Alice', 90), ('Charlie', 88), ('Bob', 85)]\n"
          ]
        }
      ]
    },
    {
      "cell_type": "markdown",
      "source": [
        "## index()\n",
        "\n",
        "- 리스트의 인덱스 반환\n",
        "- 리스트의 한 인스턴스를 입력하면 인덱스를 반환해준다"
      ],
      "metadata": {
        "id": "kSmJXvWhRqpU"
      }
    },
    {
      "cell_type": "code",
      "source": [
        "numbers = [1, 2, 3, 4, 5]\n",
        "\n",
        "numbers.index(3)"
      ],
      "metadata": {
        "id": "4wcXXofSSAkc"
      },
      "execution_count": null,
      "outputs": []
    },
    {
      "cell_type": "markdown",
      "source": [
        "## extend() append() insert() remove() pop() reverse() del\n",
        "\n",
        "- extend() : 복수 삽입\n",
        "\n",
        "- append() : 단일 삽입\n",
        "\n",
        "- insert() : 해당 위치에 삽입\n",
        "\n",
        "- remove() : 해당 위치 요소 제거\n",
        "\n",
        "- pop() : 해당 위치 요소를 꺼내온다.\n",
        "\n",
        "- reversed() : 리스트 reverse"
      ],
      "metadata": {
        "id": "Ew0hDqlBSoHw"
      }
    },
    {
      "cell_type": "code",
      "source": [
        "list.extent(복수요소)\n",
        "list.append(단일요소) # 튜플, 해시 형태로도 삽입이 가능하다 [1, 2, 3, (), {}]\n",
        "list.insert(위치, 값)\n",
        "list.remove(값)\n",
        "list.pop(위치)\n",
        "list.reverse()\n",
        "del list[위치] # 슬라이스 가능"
      ],
      "metadata": {
        "id": "NZzBwUs-SyRo"
      },
      "execution_count": null,
      "outputs": []
    },
    {
      "cell_type": "markdown",
      "source": [
        "## count()\n",
        "\n",
        "- 리스트 내의 각 인스턴스의 수를 반환"
      ],
      "metadata": {
        "id": "b7fxIQ4qTNfg"
      }
    },
    {
      "cell_type": "code",
      "source": [
        "list = [10, 20, 30, 40, 50, 10, 10, 20, 30]\n",
        "\n",
        "list.count(10) # 3반환"
      ],
      "metadata": {
        "id": "ZL1LA-46TM8H"
      },
      "execution_count": null,
      "outputs": []
    },
    {
      "cell_type": "markdown",
      "source": [
        "# sum()\n",
        "\n",
        "- sum() : 합계를 구하는 함수"
      ],
      "metadata": {
        "id": "wlB1OH2aTt06"
      }
    },
    {
      "cell_type": "code",
      "source": [
        "sum(리스트명)"
      ],
      "metadata": {
        "id": "s4EYCBKBTtc8"
      },
      "execution_count": null,
      "outputs": []
    },
    {
      "cell_type": "markdown",
      "source": [
        "## enumerate()\n",
        "\n",
        "- 리스트의 인덱스와 값을 함께 뽑아주는 함수"
      ],
      "metadata": {
        "id": "eBpV0MJyUrHL"
      }
    },
    {
      "cell_type": "code",
      "source": [
        "enumerate(리스트명)\n",
        "# [ 인덱스, 값 ] 반환\n",
        "\n",
        "# for문 안에서 사용\n",
        "for index, number in enumerate(numbers): # index, 값"
      ],
      "metadata": {
        "id": "Mr0Y53_tU41b"
      },
      "execution_count": null,
      "outputs": []
    },
    {
      "cell_type": "markdown",
      "source": [
        "## keys() values() items() dict()\n",
        "\n",
        "- 딕셔너리의 키, 값, 키+값을 뽑아내는 함수\n",
        "\n",
        "- dict() : (값, 값) 형태의 데이터를 받아 딕셔너리 형태로 변환하는 함수"
      ],
      "metadata": {
        "id": "dS60_OjiU3sE"
      }
    },
    {
      "cell_type": "code",
      "source": [
        "dict.keys()\n",
        "\n",
        "dict.values()\n",
        "\n",
        "dict.items() # [(키, 값), (키, 값)]\n",
        "\n",
        "dict( [(키, 값), (키, 값), (키, 값)] ) # {키:값, 키:값}"
      ],
      "metadata": {
        "id": "Y5WPyzVBVZgy"
      },
      "execution_count": null,
      "outputs": []
    },
    {
      "cell_type": "markdown",
      "source": [
        "## difference()\n",
        "\n",
        "- set1(기준)과 set2(비교) 사이의 중복값 제외하고 반환\n",
        "- set의 구성 요소 차이점 반환"
      ],
      "metadata": {
        "id": "ahKOjCjCWGkq"
      }
    },
    {
      "cell_type": "code",
      "source": [
        "set1 = {1, 2, 3, 4, 5}\n",
        "set2 = {4, 5, 6, 7}\n",
        "\n",
        "set1.difference(set2)"
      ],
      "metadata": {
        "id": "nWWlo7kKWPhR"
      },
      "execution_count": null,
      "outputs": []
    },
    {
      "cell_type": "markdown",
      "source": [
        "## round()\n",
        "\n",
        "- 소숫점을 생략해주는 함수"
      ],
      "metadata": {
        "id": "5gFHYAKjX4h8"
      }
    },
    {
      "cell_type": "code",
      "source": [
        "print(round(6.23534), 2) # 6.23"
      ],
      "metadata": {
        "id": "wcOE7J5GX-ja"
      },
      "execution_count": null,
      "outputs": []
    },
    {
      "cell_type": "markdown",
      "source": [
        "## any()\n",
        "\n",
        "- 리스트를 돌면서 계산 후 참이면 True 거짓이면 False 반환"
      ],
      "metadata": {
        "id": "iin67nVgX9pS"
      }
    },
    {
      "cell_type": "code",
      "source": [
        "def threshold_bool_check(numbers, target):\n",
        "\n",
        "return any(num > target for num in numbers)"
      ],
      "metadata": {
        "id": "K0vgPxrtYJwJ"
      },
      "execution_count": null,
      "outputs": []
    },
    {
      "cell_type": "markdown",
      "source": [
        "## lower() upper()\n",
        "\n",
        "- lower() : 대문자를 소문자로 바꾸는 함수\n",
        "- upper() : 소문자를 대문자로 바꾸는 함수\n",
        "- str타입에 적용"
      ],
      "metadata": {
        "id": "xxg5qOcLYQMV"
      }
    },
    {
      "cell_type": "code",
      "source": [
        "word = 'ABC'\n",
        "word = word.lower()\n",
        "word = word.upper()"
      ],
      "metadata": {
        "id": "zOeaNe5LYPcb"
      },
      "execution_count": null,
      "outputs": []
    },
    {
      "cell_type": "markdown",
      "source": [
        "## print() / slice 기능\n",
        "\n",
        "- print()와 사용할 수 있는 여러 기능이 있다.\n",
        "- print와 함께 사용하지 않을 수도 있다\n",
        "\n",
        "- [시작점(인덱스):끝점(인덱스X):스텝(-는 역순)]"
      ],
      "metadata": {
        "id": "reL3hzBPaVKV"
      }
    },
    {
      "cell_type": "code",
      "source": [
        "string = 'hello'\n",
        "print(string[:3]) # hel\n",
        "\n",
        "print(f'안녕 : {string}')\n",
        "\n",
        "list1 = [1, 2, 3, 4, 5, 6, 7]\n",
        "list1[0:3] # 0인덱스부터 3개 출력\n",
        "list1[:] # 처음부터 끝까지 출력\n",
        "list1[::] # 처음부터 끝까지 출력\n",
        "list1[2::-1] # 2인덱스부터 역순으로 끝까지\n",
        "list1[0:5:2] # 1인덱스부터 5개 2스텝으로\n",
        "list1[::-1] # 역순으로 처음부터 끝까지"
      ],
      "metadata": {
        "id": "sUcu0PehaUju"
      },
      "execution_count": null,
      "outputs": []
    },
    {
      "cell_type": "markdown",
      "source": [
        "## 자리수 / 문자 너비 할당\n",
        "- print(f'')를 활용하여 문자의 너비를 할당, 자리수, 소수점 표현 등을 할 수 있다.\n",
        "- :뒤에 오는 숫자는 최소 n자리수 할당을 뜻한다."
      ],
      "metadata": {
        "id": "KDSlZCMD0AFa"
      }
    },
    {
      "cell_type": "code",
      "source": [
        "# Q. num1=12345, num2=12.345679 를 아래와 같이 출력하세요\n",
        "# 12345\n",
        "#      12345\n",
        "# 12.345679\n",
        "#           12.346\n",
        "\n",
        "num1 = 12345\n",
        "num2 = 12.345679\n",
        "\n",
        "print(f'{num1:3.1f}')\n",
        "print(f'{num1:10}')\n",
        "print(f'{num2}')\n",
        "print(f'{num2:16.3f}')"
      ],
      "metadata": {
        "colab": {
          "base_uri": "https://localhost:8080/"
        },
        "id": "HqaXTR1bz_Xz",
        "outputId": "6ff90752-aa99-4cc2-b75b-29ff80ad90b6"
      },
      "execution_count": null,
      "outputs": [
        {
          "output_type": "stream",
          "name": "stdout",
          "text": [
            "12345.0\n",
            "     12345\n",
            "12.345679\n",
            "          12.346\n"
          ]
        }
      ]
    },
    {
      "cell_type": "markdown",
      "source": [
        "## split()\n",
        "\n",
        "- 주어진 문자열에서 공백, 쉽표, 마침표, 물음표, 느낌표를 포함하여 연속된 어떤 조합이라도 하나의 구분자로 취급하고, 이에 따라 문자열을 분리\n",
        "- 아무 기준도 추가 하지 않는다면 space나 tap을 기준으로 분리한다."
      ],
      "metadata": {
        "id": "iNOPc8WOdBox"
      }
    },
    {
      "cell_type": "code",
      "source": [
        "text.split()\n",
        "text.split(' ')\n",
        "text.split(',')\n"
      ],
      "metadata": {
        "id": "iQtouiaEdJQL"
      },
      "execution_count": null,
      "outputs": []
    },
    {
      "cell_type": "markdown",
      "source": [
        "## next()\n",
        "\n",
        "- next 함수는 리스트 컴프리핸션에서 생성된 iterator에서 첫번째 요소를 반환\n",
        "- 조건을 만족하는 요소가 없다면 StopIteration을 반환하기 때문에\n",
        "- 두번째 인자로 기본값을 지정할 수 있다."
      ],
      "metadata": {
        "id": "6W9SeAHMaaxt"
      }
    },
    {
      "cell_type": "code",
      "source": [
        "# next()는 리스트 컴프리핸션에서 생성된 iterator에서 첫번째 요소를 반환\n",
        "# 조건을 만족하는 요소가 없다면 StopIteration을 반환하기 때문에\n",
        "# 두번째 인자로 기본값을 지정할 수 있다.\n",
        "\n",
        "listdata = ['a', 'b', 'c']\n",
        "\n",
        "new_str = next((i for i in listdata if i == 'a'))\n",
        "new_str = next((i for i in listdata if i == 'a'), 'a가 없습니다.')\n",
        "\n",
        "new_str"
      ],
      "metadata": {
        "id": "PuRHwC0naaN0",
        "colab": {
          "base_uri": "https://localhost:8080/",
          "height": 35
        },
        "outputId": "ed063000-a0a7-42ee-91ad-f311e3a0774a"
      },
      "execution_count": null,
      "outputs": [
        {
          "output_type": "execute_result",
          "data": {
            "text/plain": [
              "'a'"
            ],
            "application/vnd.google.colaboratory.intrinsic+json": {
              "type": "string"
            }
          },
          "metadata": {},
          "execution_count": 6
        }
      ]
    },
    {
      "cell_type": "markdown",
      "source": [
        "# zip() 함수\n",
        "\n",
        "- 여러 개의 이터러블(리스트, 튜플 등)을 인자로 받아, 동일한 인덱스에 있는 요소들을 하나의 튜플로 묶어서 이터레이터를 반환\n",
        "- 데이터를 병렬로 처리할 때 유용\n",
        "\n",
        "[1, 2, 3] [4, 5, 6] 을 받으면\n",
        "(1, 4)(2, 5)(3, 6)으로 반환\n",
        "\n",
        "- dict() list() tuple()와 함께 사용하여 다른 형태로 반환할 수도 있다.\n",
        "[1, 2, 3] [4, 5, 6] => {1:4, 2:5, 3:6}\n",
        "\n",
        "- for문과 함께 사용하기도 한다\n",
        "\n",
        "- zip함수는 이터레이터를 반환하고 이 이터레이터를 단 한번만 소비할 수 있다\n",
        "- list()함수를 사용하여 이터레이터의 모든 원소를 한번에 소비해버리면, 그 결과는 빈 이터레이터가 되기 때문에 리스트로 다시 저장한 후 사용해야한다"
      ],
      "metadata": {
        "id": "Ma8Akxzt29d7"
      }
    },
    {
      "cell_type": "code",
      "source": [
        "l1 = [1, 2, 3]\n",
        "l2 = [4, 5, 6]\n",
        "\n",
        "dic = dict(zip(l1, l2))\n",
        "print(dic)\n",
        "\n",
        "[ a + b for a, b in zip(l1, l2) ]"
      ],
      "metadata": {
        "colab": {
          "base_uri": "https://localhost:8080/"
        },
        "id": "vZUGAJmH13e7",
        "outputId": "4f4a7cec-426b-40bf-d214-b5e44e021a07"
      },
      "execution_count": null,
      "outputs": [
        {
          "output_type": "stream",
          "name": "stdout",
          "text": [
            "{1: 4, 2: 5, 3: 6}\n"
          ]
        },
        {
          "output_type": "execute_result",
          "data": {
            "text/plain": [
              "[5, 7, 9]"
            ]
          },
          "metadata": {},
          "execution_count": 1
        }
      ]
    },
    {
      "cell_type": "markdown",
      "source": [
        "## bin() oct() hex()\n",
        "\n",
        "- bin() : 2진수 변환\n",
        "\n",
        "- oct() : 8진수 변환\n",
        "\n",
        "- hex() : 16진수 변환"
      ],
      "metadata": {
        "id": "Rt4b8BeKaJyC"
      }
    },
    {
      "cell_type": "code",
      "source": [
        "n = 122\n",
        "\n",
        "# 2진수\n",
        "binary_number = bin(n)\n",
        "\n",
        "# 8진수\n",
        "octal_number = oct(n)\n",
        "\n",
        "# 16진수\n",
        "hexadecimal_number = hex(n)\n",
        "\n",
        "print(binary_number, octal_number, hexadecimal_number)"
      ],
      "metadata": {
        "id": "dhJgEThgaJLv"
      },
      "execution_count": null,
      "outputs": []
    },
    {
      "cell_type": "markdown",
      "source": [
        "## filter()\n",
        "\n",
        "- 필터 함수는 기준되는 요소를 걸러내는데 사용한다.\n",
        "- filter(None, data)"
      ],
      "metadata": {
        "id": "SYkUf5aBiByw"
      }
    },
    {
      "cell_type": "code",
      "source": [
        "tokens = ['Hello', 'World', 'How', 'are', 'you', 'today', 'I', 'am', 'fine', 'Thank', 'you', '']\n",
        "\n",
        "tokens = list(filter(None, tokens))"
      ],
      "metadata": {
        "id": "t2_LhNc5iM9j"
      },
      "execution_count": null,
      "outputs": []
    },
    {
      "cell_type": "markdown",
      "source": [
        "## bit_length()\n",
        "\n",
        "- 각 객체의 비트 길이를 계산"
      ],
      "metadata": {
        "id": "5-FClJbsnhVU"
      }
    },
    {
      "cell_type": "code",
      "source": [
        "x = 10\n",
        "\n",
        "x.bit_length()"
      ],
      "metadata": {
        "id": "Vz3lQhP0nXlh"
      },
      "execution_count": null,
      "outputs": []
    },
    {
      "cell_type": "markdown",
      "source": [
        "## dir()\n",
        "\n",
        "- 사용할 수 있는 메소드들을 알려주는 함수"
      ],
      "metadata": {
        "id": "dnzt9FZYncFT"
      }
    },
    {
      "cell_type": "code",
      "source": [
        "print(dir(int))\n",
        "\n",
        "print(dir(list))\n",
        "\n",
        "print(dir(dict))"
      ],
      "metadata": {
        "colab": {
          "base_uri": "https://localhost:8080/"
        },
        "id": "-ux1z0C8vmuT",
        "outputId": "1c83e9ea-3a49-446b-b035-e661951231aa"
      },
      "execution_count": null,
      "outputs": [
        {
          "output_type": "stream",
          "name": "stdout",
          "text": [
            "['__abs__', '__add__', '__and__', '__bool__', '__ceil__', '__class__', '__delattr__', '__dir__', '__divmod__', '__doc__', '__eq__', '__float__', '__floor__', '__floordiv__', '__format__', '__ge__', '__getattribute__', '__getnewargs__', '__gt__', '__hash__', '__index__', '__init__', '__init_subclass__', '__int__', '__invert__', '__le__', '__lshift__', '__lt__', '__mod__', '__mul__', '__ne__', '__neg__', '__new__', '__or__', '__pos__', '__pow__', '__radd__', '__rand__', '__rdivmod__', '__reduce__', '__reduce_ex__', '__repr__', '__rfloordiv__', '__rlshift__', '__rmod__', '__rmul__', '__ror__', '__round__', '__rpow__', '__rrshift__', '__rshift__', '__rsub__', '__rtruediv__', '__rxor__', '__setattr__', '__sizeof__', '__str__', '__sub__', '__subclasshook__', '__truediv__', '__trunc__', '__xor__', 'as_integer_ratio', 'bit_count', 'bit_length', 'conjugate', 'denominator', 'from_bytes', 'imag', 'numerator', 'real', 'to_bytes']\n",
            "['__add__', '__class__', '__class_getitem__', '__contains__', '__delattr__', '__delitem__', '__dir__', '__doc__', '__eq__', '__format__', '__ge__', '__getattribute__', '__getitem__', '__gt__', '__hash__', '__iadd__', '__imul__', '__init__', '__init_subclass__', '__iter__', '__le__', '__len__', '__lt__', '__mul__', '__ne__', '__new__', '__reduce__', '__reduce_ex__', '__repr__', '__reversed__', '__rmul__', '__setattr__', '__setitem__', '__sizeof__', '__str__', '__subclasshook__', 'append', 'clear', 'copy', 'count', 'extend', 'index', 'insert', 'pop', 'remove', 'reverse', 'sort']\n",
            "['__class__', '__class_getitem__', '__contains__', '__delattr__', '__delitem__', '__dir__', '__doc__', '__eq__', '__format__', '__ge__', '__getattribute__', '__getitem__', '__gt__', '__hash__', '__init__', '__init_subclass__', '__ior__', '__iter__', '__le__', '__len__', '__lt__', '__ne__', '__new__', '__or__', '__reduce__', '__reduce_ex__', '__repr__', '__reversed__', '__ror__', '__setattr__', '__setitem__', '__sizeof__', '__str__', '__subclasshook__', 'clear', 'copy', 'fromkeys', 'get', 'items', 'keys', 'pop', 'popitem', 'setdefault', 'update', 'values']\n"
          ]
        }
      ]
    },
    {
      "cell_type": "markdown",
      "source": [
        "## join()\n",
        "\n",
        "- 하나의 요소와 함께 묶어 반환하는 함수\n",
        "- join함수 안에서 for문 사용 가능"
      ],
      "metadata": {
        "id": "2Bl9GfpMxlQO"
      }
    },
    {
      "cell_type": "code",
      "source": [
        "test = ''.join()\n",
        "\n",
        "test = ''.join(list)\n",
        "\n",
        "test = ''.join(random.choice() for i in range())"
      ],
      "metadata": {
        "id": "yZ4kNfuEthtE"
      },
      "execution_count": null,
      "outputs": []
    },
    {
      "cell_type": "markdown",
      "source": [
        "## lambda\n",
        "\n",
        "- 이름 없는 간단한 함수를 정의할 때 사용하는 익명 함수\n",
        "- lambda 키워드를 사용하여 한 줄로 함수를 정의하며, 주로 간단한 연산이 필요할 때 사용"
      ],
      "metadata": {
        "id": "kusq3h0OVp5R"
      }
    },
    {
      "cell_type": "code",
      "source": [
        "cont = lambda : True if input('') == '' else False\n",
        "\n",
        "multiply = lambda x, y: x * y\n",
        "\n",
        "cont()\n",
        "multiply()"
      ],
      "metadata": {
        "id": "wCMYCoToWpzZ"
      },
      "execution_count": null,
      "outputs": []
    },
    {
      "cell_type": "markdown",
      "source": [
        "## get()\n",
        "\n",
        "-"
      ],
      "metadata": {
        "id": "V4hiyNYE0hEW"
      }
    },
    {
      "cell_type": "code",
      "source": [
        "dict = {1: 12000, 2: 8000, 3: 10000}\n",
        "\n",
        "dict.get(2, 0) # dict 키 2가 있으면 8000 반환, 없으면 0반환"
      ],
      "metadata": {
        "colab": {
          "base_uri": "https://localhost:8080/"
        },
        "id": "wWwH82YR0hdM",
        "outputId": "b5751c1b-0f3e-4a90-83ec-99d0f090afe1"
      },
      "execution_count": null,
      "outputs": [
        {
          "output_type": "stream",
          "name": "stdout",
          "text": [
            "10000\n"
          ]
        }
      ]
    },
    {
      "cell_type": "markdown",
      "source": [
        "## map()\n",
        "\n",
        "- map은 리스트의 요소를 지정된 함수로 처리해주는 함수"
      ],
      "metadata": {
        "id": "UT1lcouKN4ky"
      }
    },
    {
      "cell_type": "code",
      "source": [],
      "metadata": {
        "id": "wkUxoRQsN5yh"
      },
      "execution_count": null,
      "outputs": []
    },
    {
      "cell_type": "markdown",
      "source": [
        "## replace\n",
        "\n",
        "- 문자열에 한가지 요소를 다른 요소로 바꿔주는 함수"
      ],
      "metadata": {
        "id": "oAB3__EnmjyU"
      }
    },
    {
      "cell_type": "code",
      "source": [
        "string.replace(' ', '') #공백 제거"
      ],
      "metadata": {
        "id": "AtaHrohlmwLv"
      },
      "execution_count": null,
      "outputs": []
    },
    {
      "cell_type": "markdown",
      "source": [
        "## eval()\n",
        "\n",
        "- 문자열로 된 연산 수식을 실행시켜주는 함수"
      ],
      "metadata": {
        "id": "NB5RHPbUutcF"
      }
    },
    {
      "cell_type": "code",
      "source": [
        "string = '5+5'\n",
        "print(eval(string))\n",
        "\n",
        "expression = input(\"계산할 수식을 입력하세요 : \")\n",
        "result = eval(expression)\n",
        "print(f\"계산 결과 : {result}\")\n",
        "\n",
        "data = [1, 2, 3, 4, 5]\n",
        "operation = input('실행할 리스트 연산을 입력하세요: ') # 예) data.append(6), data.pop()\n",
        "result = eval(operation)\n",
        "print(data)"
      ],
      "metadata": {
        "colab": {
          "base_uri": "https://localhost:8080/"
        },
        "id": "3uSrKcp5uyNj",
        "outputId": "b484dff5-c63d-496e-fe25-6a4a080e7b2a"
      },
      "execution_count": 2,
      "outputs": [
        {
          "output_type": "stream",
          "name": "stdout",
          "text": [
            "10\n",
            "계산할 수식을 입력하세요 : 5+5\n",
            "계산 결과 : 10\n",
            "실행할 리스트 연산을 입력하세요: data.append(5)\n",
            "[1, 2, 3, 4, 5, 5]\n"
          ]
        }
      ]
    }
  ]
}