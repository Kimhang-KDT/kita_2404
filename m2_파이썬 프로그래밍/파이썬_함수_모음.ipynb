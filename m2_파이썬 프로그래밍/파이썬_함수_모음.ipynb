{
  "nbformat": 4,
  "nbformat_minor": 0,
  "metadata": {
    "colab": {
      "provenance": []
    },
    "kernelspec": {
      "name": "python3",
      "display_name": "Python 3"
    },
    "language_info": {
      "name": "python"
    }
  },
  "cells": [
    {
      "cell_type": "markdown",
      "source": [
        "## iskeyword()\n",
        "\n",
        "- 괄호 안의 변수명이 keyword()에 해당되는지 알 수 있는 함수\n",
        "- 다른 방법으로는 if 변수명 in keyword.kwlist로 여부를 확인"
      ],
      "metadata": {
        "id": "ML59avwDOgDo"
      }
    },
    {
      "cell_type": "code",
      "execution_count": null,
      "metadata": {
        "id": "TSluJDwQNZMQ"
      },
      "outputs": [],
      "source": [
        "import keyword\n",
        "\n",
        "keyword.iskeyword()"
      ]
    },
    {
      "cell_type": "markdown",
      "source": [
        "## isinstance()\n",
        "\n",
        "- 괄호 안의 객체 타입 여부를 알 수 있는 함수\n",
        "- 타입 자체를 알려주는 것은 아님"
      ],
      "metadata": {
        "id": "8jX25pMkPPIA"
      }
    },
    {
      "cell_type": "code",
      "source": [
        "if isinstance(변수명, list):"
      ],
      "metadata": {
        "id": "-JDP2g6UPjD6"
      },
      "execution_count": null,
      "outputs": []
    },
    {
      "cell_type": "markdown",
      "source": [
        "## isidentifier()\n",
        "\n",
        "- 유효한 변수명인지를 확인하는 함수\n",
        "- keyword를 걸러내지는 못하는게 단점"
      ],
      "metadata": {
        "id": "FJqmSuS1Pp1m"
      }
    },
    {
      "cell_type": "code",
      "source": [
        "변수명.isidentifier()"
      ],
      "metadata": {
        "id": "CC0nauUKQIrx"
      },
      "execution_count": null,
      "outputs": []
    },
    {
      "cell_type": "markdown",
      "source": [
        "## sort() sorted()\n",
        "\n",
        "- 기본적으로 오름차순 정렬\n",
        "- 내림차순 정렬 : 괄호 안에 reverse=True 추가\n",
        "\n",
        "- sort() : 내장 메소드: 리스트에서만 사용가능\n",
        "  - 리스트를 원 위치에서 정렬 후 None 반환 : 원래 객체 변경\n",
        "- sorted() : 내장 함수: 반복가능한(iterable) 객체에도 사용가능\n",
        "  - ex) 리스트, 튜플, 딕셔너리, 문자열 등 사용가능\n",
        "  - 정렬된 새로운 [리스트] 반환: 원래 객체 변경 없음\n"
      ],
      "metadata": {
        "id": "i4mG4DcdQO3S"
      }
    },
    {
      "cell_type": "code",
      "source": [
        "sorted(변수명, reverse=True)\n",
        "\n",
        "변수명.sort() or 변수명.sort(reverse=True)"
      ],
      "metadata": {
        "id": "AD43W2CVQN_s"
      },
      "execution_count": null,
      "outputs": []
    },
    {
      "cell_type": "markdown",
      "source": [
        "## index()\n",
        "\n",
        "- 리스트의 인덱스 반환\n",
        "- 리스트의 요소를 입력하면 인덱스를 반환해준다"
      ],
      "metadata": {
        "id": "kSmJXvWhRqpU"
      }
    },
    {
      "cell_type": "code",
      "source": [
        "numbers = [1, 2, 3, 4, 5]\n",
        "\n",
        "numbers.index(3)"
      ],
      "metadata": {
        "id": "4wcXXofSSAkc"
      },
      "execution_count": null,
      "outputs": []
    },
    {
      "cell_type": "markdown",
      "source": [
        "## extend() append() insert() remove() pop() reverse()\n",
        "\n",
        "- extend() : 복수 삽입\n",
        "\n",
        "- append() : 단일 삽입\n",
        "\n",
        "- insert() : 해당 위치에 삽입\n",
        "\n",
        "- remove() : 해당 위치 요소 제거\n",
        "\n",
        "- pop() : 해당 위치 요소를 꺼내온다.\n",
        "\n",
        "- reverse() : 리스트 reverse"
      ],
      "metadata": {
        "id": "Ew0hDqlBSoHw"
      }
    },
    {
      "cell_type": "code",
      "source": [
        "list.extent(복수요소)\n",
        "list.append(단일요소)\n",
        "list.insert(위치, 값)\n",
        "list.remove(위치)\n",
        "list.pop(위치)\n",
        "list.reverse()"
      ],
      "metadata": {
        "id": "NZzBwUs-SyRo"
      },
      "execution_count": null,
      "outputs": []
    },
    {
      "cell_type": "markdown",
      "source": [
        "## count()\n",
        "\n",
        "- 리스트의 원소 갯수를 반환"
      ],
      "metadata": {
        "id": "b7fxIQ4qTNfg"
      }
    },
    {
      "cell_type": "code",
      "source": [
        "list = [10, 20, 30, 40, 50, 10, 10, 20, 30]\n",
        "\n",
        "list.count(10) # 3반환"
      ],
      "metadata": {
        "id": "ZL1LA-46TM8H"
      },
      "execution_count": null,
      "outputs": []
    },
    {
      "cell_type": "markdown",
      "source": [
        "# sum() numpy statistics\n",
        "\n",
        "- sum() : 합계를 구하는 함수\n",
        "\n",
        "- numpy.mean() : 평균을 구하는 함수\n",
        "\n",
        "- statistics.mean() : 평균을 구하는 함수"
      ],
      "metadata": {
        "id": "wlB1OH2aTt06"
      }
    },
    {
      "cell_type": "code",
      "source": [
        "sum(리스트명)\n",
        "\n",
        "import numpy as np\n",
        "np.mean(리스트명)\n",
        "\n",
        "import statistics\n",
        "statistics.mean(리스트명)"
      ],
      "metadata": {
        "id": "s4EYCBKBTtc8"
      },
      "execution_count": null,
      "outputs": []
    },
    {
      "cell_type": "markdown",
      "source": [
        "## enumerate()\n",
        "\n",
        "- 리스트의 인덱스와 값을 함께 뽑아주는 함수"
      ],
      "metadata": {
        "id": "eBpV0MJyUrHL"
      }
    },
    {
      "cell_type": "code",
      "source": [
        "enumerate(리스트명)\n",
        "# [ 인덱스, 값 ] 반환"
      ],
      "metadata": {
        "id": "Mr0Y53_tU41b"
      },
      "execution_count": null,
      "outputs": []
    },
    {
      "cell_type": "markdown",
      "source": [
        "## keys() values() items() dict()\n",
        "\n",
        "- 딕셔너리의 키, 값, 키+값을 뽑아내는 함수\n",
        "\n",
        "- dict() : items()의 반환 값을 딕셔너리 형태로 변환하는 함수"
      ],
      "metadata": {
        "id": "dS60_OjiU3sE"
      }
    },
    {
      "cell_type": "code",
      "source": [
        "dict.keys()\n",
        "\n",
        "dict.values()\n",
        "\n",
        "dict.items() # [(키, 값), (키, 값)]\n",
        "\n",
        "dict( [(키, 값), (키, 값), (키, 값)] ) # {키:값, 키:값}"
      ],
      "metadata": {
        "id": "Y5WPyzVBVZgy"
      },
      "execution_count": null,
      "outputs": []
    },
    {
      "cell_type": "markdown",
      "source": [
        "## difference()\n",
        "\n",
        "- set1(기준)과 set2(비교) 사이의 중복값 제외하고 반환\n",
        "- set의 구성 요소 차이점 반환"
      ],
      "metadata": {
        "id": "ahKOjCjCWGkq"
      }
    },
    {
      "cell_type": "code",
      "source": [
        "set1 = {1, 2, 3, 4, 5}\n",
        "set2 = {4, 5, 6, 7}\n",
        "\n",
        "set1.difference(set2)"
      ],
      "metadata": {
        "id": "nWWlo7kKWPhR"
      },
      "execution_count": null,
      "outputs": []
    },
    {
      "cell_type": "markdown",
      "source": [
        "## round()\n",
        "\n",
        "- 소숫점을 생략해주는 함수"
      ],
      "metadata": {
        "id": "5gFHYAKjX4h8"
      }
    },
    {
      "cell_type": "code",
      "source": [
        "print(round(6.23534), 2) # 6.23"
      ],
      "metadata": {
        "id": "wcOE7J5GX-ja"
      },
      "execution_count": null,
      "outputs": []
    },
    {
      "cell_type": "markdown",
      "source": [
        "## any()\n",
        "\n",
        "-"
      ],
      "metadata": {
        "id": "iin67nVgX9pS"
      }
    },
    {
      "cell_type": "code",
      "source": [
        "def threshold_bool_check(numbers, target):\n",
        "return any(num > target for num in numbers)\n",
        "\n",
        "numbers라는 리스트를 돌면서 target보다 numbers의 요소 num이 큰게 있는지 확인한다.\n",
        "참이면 True 거짓이면 False를 반환한다. 그 외의 값은 반환하지 않는다."
      ],
      "metadata": {
        "id": "K0vgPxrtYJwJ"
      },
      "execution_count": null,
      "outputs": []
    },
    {
      "cell_type": "markdown",
      "source": [
        "## lower()\n",
        "\n",
        "- 대문자를 소문자로 바꾸는 함수\n",
        "- str타입에 적용"
      ],
      "metadata": {
        "id": "xxg5qOcLYQMV"
      }
    },
    {
      "cell_type": "code",
      "source": [
        "word = 'ABC'\n",
        "word = word.lower()"
      ],
      "metadata": {
        "id": "zOeaNe5LYPcb"
      },
      "execution_count": null,
      "outputs": []
    },
    {
      "cell_type": "markdown",
      "source": [
        "## print() / slice 기능\n",
        "\n",
        "- print()와 사용할 수 있는 여러 기능이 있다.\n",
        "- print와 함께 사용하지 않을 수도 있다\n",
        "\n",
        "- [시작점(인덱스):끝점(인덱스X):스텝(-는 역순)]"
      ],
      "metadata": {
        "id": "reL3hzBPaVKV"
      }
    },
    {
      "cell_type": "code",
      "source": [
        "string = 'hello'\n",
        "print(string[:3]) # hel\n",
        "\n",
        "print(f'안녕 : {string}')\n",
        "\n",
        "list1 = [1, 2, 3, 4, 5, 6, 7]\n",
        "list1[0:3] # 0인덱스부터 3개 출력\n",
        "list1[:] # 처음부터 끝까지 출력\n",
        "list1[::] # 처음부터 끝까지 출력\n",
        "list1[2::-1] # 2인덱스부터 역순으로 끝까지\n",
        "list1[0:5:2] # 1인덱스부터 5개 2스텝으로\n",
        "list1[::-1] # 역순으로 처음부터 끝까지"
      ],
      "metadata": {
        "colab": {
          "base_uri": "https://localhost:8080/"
        },
        "id": "sUcu0PehaUju",
        "outputId": "e476fb32-9453-4ffc-dc3e-fcb07cb04fd5"
      },
      "execution_count": 12,
      "outputs": [
        {
          "output_type": "stream",
          "name": "stdout",
          "text": [
            "hel\n",
            "안녕 : hello\n"
          ]
        },
        {
          "output_type": "execute_result",
          "data": {
            "text/plain": [
              "[3, 2, 1]"
            ]
          },
          "metadata": {},
          "execution_count": 12
        }
      ]
    }
  ]
}