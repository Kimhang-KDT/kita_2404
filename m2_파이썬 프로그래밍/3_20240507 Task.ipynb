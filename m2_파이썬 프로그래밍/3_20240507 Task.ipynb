{
  "nbformat": 4,
  "nbformat_minor": 0,
  "metadata": {
    "colab": {
      "provenance": []
    },
    "kernelspec": {
      "name": "python3",
      "display_name": "Python 3"
    },
    "language_info": {
      "name": "python"
    }
  },
  "cells": [
    {
      "cell_type": "markdown",
      "source": [
        "Task1_0507. 튜플 형태인 strings를 다양한 문자가 포함된 순서로 정렬하세요.\n",
        "strings = ('a', 'ca', 'bar', 'aaaa', 'ababa')"
      ],
      "metadata": {
        "id": "D4mt4tIxsmr0"
      }
    },
    {
      "cell_type": "code",
      "execution_count": 81,
      "metadata": {
        "colab": {
          "base_uri": "https://localhost:8080/"
        },
        "id": "Yc08PDEZsmHS",
        "outputId": "5105f913-82a8-4b34-ac96-39cf473efaf5"
      },
      "outputs": [
        {
          "output_type": "stream",
          "name": "stdout",
          "text": [
            "['bar', 'ca', 'ababa', 'a', 'aaaa']\n"
          ]
        }
      ],
      "source": [
        "strings = ('a', 'ca', 'bar', 'aaaa', 'ababa')\n",
        "\n",
        "# set으로 중복 제거 후 len으로 길이를 찾아서 len(x)를 기준으로 정렬\n",
        "\n",
        "\n",
        "#[['a'], ['c', 'a'], ['r', 'b', 'a'], ['a'], ['b', 'a']]\n",
        "\n",
        "sorted_list = sorted(strings, key=lambda x: len(list(set(x))), reverse=True)\n",
        "print(sorted_list)"
      ]
    },
    {
      "cell_type": "markdown",
      "source": [
        "Task2_0507. a,b 변수와 연산자를 입력하면 사칙연산을 수행하는 코드를 작성하세요.(eval 사용하는 경우와 안하는 경우)"
      ],
      "metadata": {
        "id": "y0xZLOECsnjs"
      }
    },
    {
      "cell_type": "code",
      "source": [
        "a = 10\n",
        "b = 20\n",
        "\n",
        "res = eval(input('수식을 입력하세요 : ex(a+b | a-b)\\n'))\n",
        "print(res)\n",
        "\n",
        "s = 'a+b'\n",
        "\n",
        "if s[1] == '+':\n",
        "  print(f'{a} {s[1]} {b} = {a + b}')\n",
        "elif s[1] == '-':\n",
        "  print(f'{a} {s[1]} {b} = {a - b}')\n",
        "elif s[1] == '/':\n",
        "  print(f'{a} {s[1]} {b} = {a / b}')\n",
        "elif s[1] == '//':\n",
        "  print(f'{a} {s[1]} {b} = {a // b}')\n",
        "elif s[1] == '*':\n",
        "  print(f'{a} {s[1]} {b} = {a * b}')\n",
        "else:\n",
        "  print('사칙연산을 입력해주세요')\n",
        "\n",
        "\n"
      ],
      "metadata": {
        "colab": {
          "base_uri": "https://localhost:8080/"
        },
        "id": "AfZYTgxRwgsP",
        "outputId": "904a29d1-1b60-4f31-d852-0615b04c0a4b"
      },
      "execution_count": 38,
      "outputs": [
        {
          "output_type": "stream",
          "name": "stdout",
          "text": [
            "10 + 20 = 30\n"
          ]
        }
      ]
    },
    {
      "cell_type": "code",
      "source": [
        "string = '5+5'\n",
        "print(eval(string))\n",
        "\n",
        "expression = input(\"계산할 수식을 입력하세요 : \")\n",
        "result = eval(expression)\n",
        "print(f\"계산 결과 : {result}\")\n",
        "\n",
        "data = [1, 2, 3, 4, 5]\n",
        "operation = input('실행할 리스트 연산을 입력하세요: ') # 예) data.append(6), data.pop()\n",
        "result = eval(operation)\n",
        "print(data)"
      ],
      "metadata": {
        "colab": {
          "base_uri": "https://localhost:8080/"
        },
        "id": "Y7IEzE0qsrI2",
        "outputId": "488325c5-9255-41ee-d223-ae94b254fa01"
      },
      "execution_count": 11,
      "outputs": [
        {
          "output_type": "stream",
          "name": "stdout",
          "text": [
            "연산을 입력하세요 : 5*5\n",
            "25\n",
            "10\n"
          ]
        }
      ]
    },
    {
      "cell_type": "markdown",
      "source": [
        "Task3_0507. list1에 대해서 아래와 같이 출력하는 코드를 작성하세요.\n",
        "\n",
        "인사평가 1번째 해당자는 김부장입니다. 회의실A로 오시기 바랍니다.\\\n",
        "인사평가 2번째 해당자는 이차장입니다. 회의실A로 오시기 바랍니다.\\\n",
        "인사평가 3번째 해당자는 김과장입니다. 회의실A로 오시기 바랍니다.\\\n",
        "인사평가 4번째 해당자는 이대리입니다. 회의실A로 오시기 바랍니다.\\\n",
        "인사평가 5번째 해당자는 오사원입니다. 회의실A로 오시기 바랍니다.\\\n",
        "인사평가 6번째 해당자는 김인턴입니다. 회의실A로 오시기 바랍니다."
      ],
      "metadata": {
        "id": "wz50pEPpzZHX"
      }
    },
    {
      "cell_type": "code",
      "source": [
        "list1 = ['김부장', '이차장', '김과장', '이대리', '오사원', '김인턴']\n",
        "\n",
        "for i, j in enumerate(list1):\n",
        "  print(f'인사평가 {i}번째 해당자는 {j}입니다. 회의실 A로 오시기 바랍니다.')"
      ],
      "metadata": {
        "colab": {
          "base_uri": "https://localhost:8080/"
        },
        "id": "eLXTtrXMzfLa",
        "outputId": "96d8c799-7540-4487-8ac2-5ff8a0267d3e"
      },
      "execution_count": 21,
      "outputs": [
        {
          "output_type": "stream",
          "name": "stdout",
          "text": [
            "인사평가 0번째 해당자는 김부장입니다. 회의실 A로 오시기 바랍니다.\n",
            "인사평가 1번째 해당자는 이차장입니다. 회의실 A로 오시기 바랍니다.\n",
            "인사평가 2번째 해당자는 김과장입니다. 회의실 A로 오시기 바랍니다.\n",
            "인사평가 3번째 해당자는 이대리입니다. 회의실 A로 오시기 바랍니다.\n",
            "인사평가 4번째 해당자는 오사원입니다. 회의실 A로 오시기 바랍니다.\n",
            "인사평가 5번째 해당자는 김인턴입니다. 회의실 A로 오시기 바랍니다.\n"
          ]
        }
      ]
    },
    {
      "cell_type": "markdown",
      "source": [
        "Task4_0507. 주어진 문자열 리스트의 요소들을 대문자로 변환하세요.\n",
        "words = [\"hello\", \"world\", \"python\", \"map\"]"
      ],
      "metadata": {
        "id": "GzcwF9rbzwgv"
      }
    },
    {
      "cell_type": "code",
      "source": [
        "words = [\"hello\", \"world\", \"python\", \"map\"]\n",
        "\n",
        "upper_words = [i.upper() for i in words]\n",
        "print(upper_words)"
      ],
      "metadata": {
        "colab": {
          "base_uri": "https://localhost:8080/"
        },
        "id": "zDJoX9BxzxJ5",
        "outputId": "3a1f59d7-d567-40c3-d276-87e21ed0869a"
      },
      "execution_count": 24,
      "outputs": [
        {
          "output_type": "stream",
          "name": "stdout",
          "text": [
            "['HELLO', 'WORLD', 'PYTHON', 'MAP']\n"
          ]
        }
      ]
    },
    {
      "cell_type": "markdown",
      "source": [
        "Task5_0507. 주어진 리스트에서 'p'로 시작하는 단어만 필터링하세요.\n",
        "\n",
        "words = [\"python\", \"is\", \"powerful\", \"programming\", \"language\", \"pandas\"]"
      ],
      "metadata": {
        "id": "HvQG01Ugz84u"
      }
    },
    {
      "cell_type": "code",
      "source": [
        "words = [\"python\", \"is\", \"powerful\", \"programming\", \"language\", \"pandas\"]\n",
        "\n",
        "filter_words = list(filter(lambda x: x[0] == 'p', words))\n",
        "print(filter_words)"
      ],
      "metadata": {
        "colab": {
          "base_uri": "https://localhost:8080/"
        },
        "id": "E6GP9AHr0FQi",
        "outputId": "8527e151-3eb2-4b85-b259-2981ead5ed77"
      },
      "execution_count": 44,
      "outputs": [
        {
          "output_type": "stream",
          "name": "stdout",
          "text": [
            "['python', 'powerful', 'programming', 'pandas']\n"
          ]
        }
      ]
    },
    {
      "cell_type": "markdown",
      "source": [
        "Task6_0507. 내장함수를 이용해서 list = [0,1,2,3,4,5,6]에서 2를 삭제 후 출력하세요.(2가지 방법)"
      ],
      "metadata": {
        "id": "1ooWb1r80MMg"
      }
    },
    {
      "cell_type": "code",
      "source": [
        "list1 = [0,1,2,3,4,5,6]\n",
        "list1.pop(2)\n",
        "\n",
        "list1 = [0,1,2,3,4,5,6]\n",
        "list1.remove(2)\n",
        "print(list1)"
      ],
      "metadata": {
        "colab": {
          "base_uri": "https://localhost:8080/"
        },
        "id": "PrI14TNy0NhD",
        "outputId": "8f34e009-b481-4b7a-b82e-6ffa1283ae63"
      },
      "execution_count": 29,
      "outputs": [
        {
          "output_type": "stream",
          "name": "stdout",
          "text": [
            "[0, 1, 3, 4, 5, 6]\n"
          ]
        }
      ]
    },
    {
      "cell_type": "markdown",
      "source": [
        "Task7_0507. 내장함수를 이용하여 동일한 개수로 이루어진 자료형을 화살표 좌측에서 우측으로 변환하세요.\n",
        "\n",
        "[1,2,3],[4,5,6] -> [(1,4),(2,5),(3,6)]\\\n",
        "[1,2,3],[4,5,6] [7,8,9] -> [(1,4,7),(2,5,8),(3,6,9)]\\\n",
        "('abc','def') -> [('a','d'),('b','e'),('c','f')]"
      ],
      "metadata": {
        "id": "1ieIfZiE0lOv"
      }
    },
    {
      "cell_type": "code",
      "source": [
        "#[1,2,3],[4,5,6] -> [(1,4),(2,5),(3,6)]\\\n",
        "#[1,2,3],[4,5,6] [7,8,9] -> [(1,4,7),(2,5,8),(3,6,9)]\\\n",
        "#('abc','def') -> [('a','d'),('b','e'),('c','f')]\n",
        "a = [1,2,3]\n",
        "b = [4,5,6]\n",
        "c = ('abc','def')\n",
        "\n",
        "print(list(zip(a, b)))\n",
        "print(list(zip(a, b, c)))\n",
        "print(list(zip(c[0], c[1])))"
      ],
      "metadata": {
        "colab": {
          "base_uri": "https://localhost:8080/"
        },
        "id": "KPgqSWdy9zqY",
        "outputId": "0b91b272-4bea-45be-8fda-ee86eff83464"
      },
      "execution_count": 71,
      "outputs": [
        {
          "output_type": "stream",
          "name": "stdout",
          "text": [
            "[(1, 4), (2, 5), (3, 6)]\n",
            "[(1, 4, 'abc'), (2, 5, 'def')]\n",
            "[('a', 'd'), ('b', 'e'), ('c', 'f')]\n"
          ]
        }
      ]
    },
    {
      "cell_type": "markdown",
      "source": [
        "Task8_0507. url에서 호스트 도메인(news.naver.com)을 추출하여 출력하세요.\n",
        "\n",
        "url = 'http://news.naver.com/main/read.nhn?mode=LSD&mid=shm&sid1=105&oid=028&aid=0002334601'"
      ],
      "metadata": {
        "id": "BBExLtit2EOS"
      }
    },
    {
      "cell_type": "code",
      "source": [
        "url = 'http://news.naver.com/main/read.nhn?mode=LSD&mid=shm&sid1=105&oid=028&aid=0002334601'\n",
        "\n",
        "import re\n",
        "\n",
        "# [^//][^/]에서 []와 그 안의 ^는 //를 매칭하여 찾지만 그건 빼고 반환하라는 뜻\n",
        "m = re.search('[^//](\\w+.\\w+.\\w+)[^/]', url)\n",
        "print(m.group())\n"
      ],
      "metadata": {
        "colab": {
          "base_uri": "https://localhost:8080/"
        },
        "id": "vzlsC95G2E7X",
        "outputId": "2d2fdfc5-b040-4442-b02c-1cdb927a6d04"
      },
      "execution_count": 69,
      "outputs": [
        {
          "output_type": "stream",
          "name": "stdout",
          "text": [
            "news.naver.com\n"
          ]
        }
      ]
    }
  ]
}