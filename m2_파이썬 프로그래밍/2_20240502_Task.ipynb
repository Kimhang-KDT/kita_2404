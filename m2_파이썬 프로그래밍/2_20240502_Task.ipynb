{
  "nbformat": 4,
  "nbformat_minor": 0,
  "metadata": {
    "colab": {
      "provenance": []
    },
    "kernelspec": {
      "name": "python3",
      "display_name": "Python 3"
    },
    "language_info": {
      "name": "python"
    }
  },
  "cells": [
    {
      "cell_type": "markdown",
      "source": [
        "Task1_0502. 짝수와 짝수를 입력하면 곱한 값을 출력하고 홀수와 홀수를 입력하면 덧셈 값을 출력하고 그외는 다시 입력하라는 메시지를 출력하세요."
      ],
      "metadata": {
        "id": "Z4r8uRvd2FjL"
      }
    },
    {
      "cell_type": "code",
      "execution_count": null,
      "metadata": {
        "id": "FZaFZv2PSQog"
      },
      "outputs": [],
      "source": [
        "num1 = int(input(\"숫자를 입력해주세요\"))\n",
        "num2 = int(input(\"숫자를 입력해주세요\"))\n",
        "\n",
        "if num1 % 2 == 0 and num2 % 2 == 0:\n",
        "  print(f'둘다 짝수이므로 {num1} x {num2} = {num1*num2}입니다.')\n",
        "elif num1 % 2 == 1 and num2 % 2 == 1:\n",
        "  print(f'둘다 홀수이므로 {num1} + {num2} = {num1+num2}입니다.')\n",
        "else:\n",
        "  print('다시 입력해주세요')"
      ]
    },
    {
      "cell_type": "markdown",
      "source": [
        "Task2_0502. 현재 계절 구분 프로그램\n",
        "- 시나리오 : 3 ~ 5월은 봄, 6 ~ 8월은 여름, 9 ~ 11월은 가을, 12 ~ 2월은 겨울로 구분. 지금 계절을 알려주는 프로그램\n",
        "- 각 계절별 출력 멘트는 계절에 맞게 창작\n",
        "- if 조건문으로 datetime 모듈을 import해서 datetime.now 함수를 사용해서 작성"
      ],
      "metadata": {
        "id": "2T1uXuiv3zdC"
      }
    },
    {
      "cell_type": "code",
      "source": [
        "import pytz\n",
        "import datetime\n",
        "\n",
        "local = pytz.timezone('Asia/Seoul')\n",
        "month = datetime.datetime.now(local).month # 5월\n",
        "\n",
        "if month >= 3 and month <= 5:\n",
        "  print('현재 계절은 봄입니다.')\n",
        "elif month >= 6 and month <= 8:\n",
        "  print('현재 계절은 여름입니다.')\n",
        "elif month >= 9 and month <= 11:\n",
        "  print('현재 계절은 가을입니다.')\n",
        "elif month == 12 or month <= 2:\n",
        "  print('현재 계절은 겨울입니다.')"
      ],
      "metadata": {
        "colab": {
          "base_uri": "https://localhost:8080/"
        },
        "id": "BBeU_whT30s5",
        "outputId": "557df502-c91f-4776-f549-c1e7eef10e90"
      },
      "execution_count": 12,
      "outputs": [
        {
          "output_type": "stream",
          "name": "stdout",
          "text": [
            "현재 계절은 봄입니다.\n"
          ]
        }
      ]
    },
    {
      "cell_type": "markdown",
      "source": [
        "Task3_0502. 1부터 99까지 아래와 같이 2개의 수를 곱해서 가장 큰 수를 구하세요.\n",
        "\n",
        "`1*99, 2*98 ...99*1`"
      ],
      "metadata": {
        "id": "-dR3bs5G5ne-"
      }
    },
    {
      "cell_type": "code",
      "source": [
        "numbers = list(range(1, 100))\n",
        "\n",
        "max_num = 0\n",
        "l1 = []\n",
        "for i in range(99//2+1):\n",
        "  num = (i+1) * numbers[-(i+1)]\n",
        "  if num > max_num:\n",
        "    max_num = num\n",
        "    l1 = [i+1, numbers[-(i+1)]]\n",
        "\n",
        "print(f'가장 큰 숫자 조합 : {l1[0]} X {l1[1]} = {max_num}')"
      ],
      "metadata": {
        "colab": {
          "base_uri": "https://localhost:8080/"
        },
        "id": "Qa6Nfdk-5n29",
        "outputId": "673cd398-33a5-47f0-874f-d5bb5447ae4a"
      },
      "execution_count": 10,
      "outputs": [
        {
          "output_type": "stream",
          "name": "stdout",
          "text": [
            "가장 큰 숫자 조합 : 50 X 50 = 2500\n"
          ]
        }
      ]
    },
    {
      "cell_type": "code",
      "source": [
        "numbers = list(range(1, 100))\n",
        "\n",
        "mul_list = []\n",
        "for i in range(99//2+1):\n",
        "  mul_list.append((i+1) * numbers[-(i+1)])\n",
        "\n",
        "print(max(mul_list))"
      ],
      "metadata": {
        "colab": {
          "base_uri": "https://localhost:8080/"
        },
        "id": "8W3j58C6KgS_",
        "outputId": "41ed0dff-ff48-487d-c08a-39a73040888f"
      },
      "execution_count": 11,
      "outputs": [
        {
          "output_type": "stream",
          "name": "stdout",
          "text": [
            "2500\n"
          ]
        }
      ]
    },
    {
      "cell_type": "markdown",
      "source": [
        "Task4_0502. [    ]을 채워서 아래의 출력과 같이 출력하세요.\n",
        "\n",
        "numbers = [1,2,3,4,5,6,7,8,9]\n",
        "output = [[], [], []]\n",
        "\n",
        " [[1,4,7],[2,5,8],[3,6,9]]"
      ],
      "metadata": {
        "id": "I4gE8JW75pgn"
      }
    },
    {
      "cell_type": "code",
      "source": [
        "numbers = [1,2,3,4,5,6,7,8,9]\n",
        "output = [numbers[i::3] for i in range(3)]\n",
        "print(output)"
      ],
      "metadata": {
        "colab": {
          "base_uri": "https://localhost:8080/"
        },
        "id": "7Lp57RhS5p8C",
        "outputId": "0ef21621-59e6-4559-82fd-367bff2ee6cd"
      },
      "execution_count": 10,
      "outputs": [
        {
          "output_type": "stream",
          "name": "stdout",
          "text": [
            "[[1, 4, 7], [2, 5, 8], [3, 6, 9]]\n"
          ]
        }
      ]
    },
    {
      "cell_type": "markdown",
      "source": [
        "Task5_0502. 주어진 리스트에서 중복된 요소를 제거하고, 남은 요소만을 포함하는 새 리스트를 반환합니다. 순서는 유지해야 합니다.\n",
        "\n",
        "input_list = [1, 2, 2, 3, 4, 4, 4, 5, 6, 7, 7]"
      ],
      "metadata": {
        "id": "Phx8naUb5zz4"
      }
    },
    {
      "cell_type": "code",
      "source": [
        "input_list = [1, 2, 2, 3, 4, 4, 4, 5, 6, 7, 7]\n",
        "list(set(input_list))"
      ],
      "metadata": {
        "colab": {
          "base_uri": "https://localhost:8080/"
        },
        "id": "ZC20J-Zu50PM",
        "outputId": "49473884-0929-4583-d4d9-d1ae48d20378"
      },
      "execution_count": 14,
      "outputs": [
        {
          "output_type": "execute_result",
          "data": {
            "text/plain": [
              "[1, 2, 3, 4, 5, 6, 7]"
            ]
          },
          "metadata": {},
          "execution_count": 14
        }
      ]
    },
    {
      "cell_type": "markdown",
      "source": [
        "Task6_0502. 주어진 문자열을 모스코드로 변환하는 함수를 작성하세요.\n",
        "공백은 무시하고 알파벳만 변환하세요.\n",
        "input_text = \"Hello World\""
      ],
      "metadata": {
        "id": "rzCJYQjm50q_"
      }
    },
    {
      "cell_type": "code",
      "source": [
        "import re\n",
        "\n",
        "morse_code = {\n",
        "        'A': '.-', 'B': '-...', 'C': '-.-.', 'D': '-..', 'E': '.', 'F': '..-.',\n",
        "        'G': '--.', 'H': '....', 'I': '..', 'J': '.---', 'K': '-.-', 'L': '.-..',\n",
        "        'M': '--', 'N': '-.', 'O': '---', 'P': '.--.', 'Q': '--.-', 'R': '.-.',\n",
        "        'S': '...', 'T': '-', 'U': '..-', 'V': '...-', 'W': '.--', 'X': '-..-',\n",
        "        'Y': '-.--', 'Z': '--..'\n",
        "    }\n",
        "\n",
        "input_text = 'Hello World'\n",
        "\n",
        "hw = list(re.findall('[\\w]', input_text))\n",
        "\n",
        "morse_text = ''\n",
        "for i in hw:\n",
        "  i = i.upper()\n",
        "\n",
        "  morse_text += morse_code[i]\n",
        "\n",
        "print(morse_text)"
      ],
      "metadata": {
        "colab": {
          "base_uri": "https://localhost:8080/"
        },
        "id": "sY1eJCDt51Ad",
        "outputId": "05eee462-64a0-4536-a4fb-66d320471f9c"
      },
      "execution_count": 17,
      "outputs": [
        {
          "output_type": "stream",
          "name": "stdout",
          "text": [
            "......-...-..---.-----.-..-..-..\n"
          ]
        }
      ]
    },
    {
      "cell_type": "markdown",
      "source": [
        "Task7_0502. 주어진 비대칭 m×n 매트릭스(2차원 리스트)에서, 모든 대각선 상의 합을 계산하는 함수를 작성하세요. 결과는 각 대각선의 합을 리스트로 반환해야 합니다."
      ],
      "metadata": {
        "id": "Bs1Lbn0Y6irK"
      }
    },
    {
      "cell_type": "code",
      "source": [
        "#[1, 6, 15, 24, 20, 12]\n",
        "\n",
        "# [0][0]\n",
        "# [0][1] [1][0]\n",
        "# [0][2] [1][1] [2][0]\n",
        "# [1][2] [2][1] [3][0]\n",
        "# [2][2] [3][1]\n",
        "# [3][2]\n",
        "\n",
        "# 0-1-2-1-2-3-2-3-4-3-4-5\n",
        "\n",
        "\n",
        "def get_sum_diagonal(arr):\n",
        "  out_arr = [0, 0, 0, 0, 0, 0]\n",
        "\n",
        "  for i1 in range(len(arr)):\n",
        "    for i2 in range(len(arr[i1])):\n",
        "      out_arr[i1+i2] += arr[i1][i2]\n",
        "\n",
        "  return out_arr\n",
        "\n",
        "arr = [\n",
        "    [ 1,  2,  3],\n",
        "    [ 4,  5,  6],\n",
        "    [ 7,  8,  9],\n",
        "    [10, 11, 12]\n",
        "]\n",
        "result = get_sum_diagonal(arr)\n",
        "result"
      ],
      "metadata": {
        "colab": {
          "base_uri": "https://localhost:8080/"
        },
        "id": "vugQGYlY6jCN",
        "outputId": "296c8f4a-8174-4ed8-b297-e482175647c8"
      },
      "execution_count": 38,
      "outputs": [
        {
          "output_type": "execute_result",
          "data": {
            "text/plain": [
              "[1, 6, 15, 24, 20, 12]"
            ]
          },
          "metadata": {},
          "execution_count": 38
        }
      ]
    }
  ]
}