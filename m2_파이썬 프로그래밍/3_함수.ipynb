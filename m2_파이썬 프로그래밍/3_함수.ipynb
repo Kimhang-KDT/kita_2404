{
  "nbformat": 4,
  "nbformat_minor": 0,
  "metadata": {
    "colab": {
      "provenance": []
    },
    "kernelspec": {
      "name": "python3",
      "display_name": "Python 3"
    },
    "language_info": {
      "name": "python"
    }
  },
  "cells": [
    {
      "cell_type": "markdown",
      "source": [
        "[ 파이썬 표준 라이브러리 ]\n",
        "https://docs.python.org/ko/3.10/library/index.html\n",
        "\n",
        "파이썬에서 함수는 크게 내장 함수(Built-in Functions)와 외장 함수(External Functions)로 나뉩니다.\n",
        "\n",
        "1. 내장 함수 (Built-in Functions):\n",
        "- 내장 함수는 파이썬 인터프리터에 포함되어 있어, 별도의 모듈을 임포트(import)하지 않고도 사용 예를 들어, print(), len(), type(), range(), zip() 등이 내장 함수입니다.\n",
        "- 이러한 함수들은 기본적인 작업을 수행하며, 파이썬 프로그래밍의 기본적인 빌딩 블록(building blocks)으로 작동\n",
        "\n",
        "2. 외장 함수 (External Functions):\n",
        "- 표준 라이브러리에 포함된 모듈과 함수를 가리키는 것으로 모듈을 임포트하여 사용\n",
        "- 파이썬 표준 라이브러리의 os, sys, math, random, datetime 등의 모듈에는 다양한 외장 함수가 포함\n",
        "\n",
        "3. 외부 라이브러리나 패키지\n",
        "- 표준 라이브러리에 포함되지 않아 기본 설치에는 포함되지 않는다.\n",
        "- 이를 사용하려면 먼저 해당 라이브러리나 패키지를 설치\n",
        "- 외부 라이브러리는 통상적으로 파이썬의 패키지 관리자인 pip를 사용하여 설치\n",
        "- 설치 후에는 외장 함수와 마찬가지로 필요한 모듈을 임포트하여 사용\n",
        "- 예: numpy, pandas, requests 등의 외부 라이브러리에 포함된 함수들.\n",
        "\n",
        "3. 사용자 정의 함수(User-Defined Functions):\n",
        "- 사용자가 직접 정의하여 사용하는 함수\n",
        "- def 키워드를 사용하여 함수를 정의하며, 필요에 따라 매개변수와 반환 값을 지정\n",
        "\n",
        "4. 람다 함수(Lambda Functions):\n",
        "- 이름 없는 간단한 함수를 정의할 때 사용하는 익명 함수\n",
        "- lambda 키워드를 사용하여 한 줄로 함수를 정의하며, 주로 간단한 연산이 필요할 때 사용"
      ],
      "metadata": {
        "id": "mPzg0UUFD4ZT"
      }
    },
    {
      "cell_type": "code",
      "execution_count": null,
      "metadata": {
        "id": "vDBX68LaD15k"
      },
      "outputs": [],
      "source": [
        "# 내장 함수 예제\n",
        "print('Hello, World!')\n",
        "print(len([1, 2, 3, 4]))\n",
        "print(type(10))"
      ]
    },
    {
      "cell_type": "code",
      "source": [
        "# Q. 내장함수로 다음을 수행하세요.\n",
        "a = [1, 2, 3, 4, 5]\n",
        "print(sum(a))\n",
        "print(max(a))\n",
        "print(min(a))\n",
        "print(sorted(a))\n",
        "print(list(reversed(a)))"
      ],
      "metadata": {
        "colab": {
          "base_uri": "https://localhost:8080/"
        },
        "id": "Rbdl-5HCHKeJ",
        "outputId": "01fde52f-6574-4e96-9f4b-3ce79b37b209"
      },
      "execution_count": null,
      "outputs": [
        {
          "output_type": "stream",
          "name": "stdout",
          "text": [
            "15\n",
            "15\n",
            "15\n"
          ]
        }
      ]
    },
    {
      "cell_type": "code",
      "source": [
        "# 외장 함수 예제\n",
        "import math\n",
        "print(math.sqrt(16)) # 제곱근 계산 함수\n",
        "\n",
        "import random\n",
        "print(random.randint(1,10)) # 랜덤 정수 생성 함수. 양끝 포함\n",
        "\n",
        "import datetime\n",
        "print(datetime.datetime.now())"
      ],
      "metadata": {
        "id": "NqbIef8WIbIN"
      },
      "execution_count": null,
      "outputs": []
    },
    {
      "cell_type": "code",
      "source": [
        "# Q. datetime.datetime.now()에서 연도, 월, 일, 시, 분, 초, 마이크로 초를 각각 출력하세요.\n",
        "\n",
        "import datetime\n",
        "print(datetime.datetime.now())\n",
        "\n",
        "print(datetime.datetime.now().year)\n",
        "print(datetime.datetime.now().month)\n",
        "print(datetime.datetime.now().day)\n",
        "print(datetime.datetime.now().hour)\n",
        "print(datetime.datetime.now().minute)\n",
        "print(datetime.datetime.now().second)\n",
        "print(datetime.datetime.now().microsecond)"
      ],
      "metadata": {
        "colab": {
          "base_uri": "https://localhost:8080/"
        },
        "id": "i9Imc-_8IrtB",
        "outputId": "31b9ac0c-aa49-42e3-fe47-129856ab8df5"
      },
      "execution_count": null,
      "outputs": [
        {
          "output_type": "stream",
          "name": "stdout",
          "text": [
            "2024-05-03 06:29:56.761795\n",
            "2024\n",
            "5\n",
            "3\n",
            "6\n",
            "29\n",
            "56\n",
            "767134\n"
          ]
        }
      ]
    },
    {
      "cell_type": "code",
      "source": [
        "import os\n",
        "print(os.getcwd()) # 현재 위치\n",
        "\n",
        "os.mkdir('new_folder') # 폴더 생성\n",
        "\n",
        "!ls # 현재 위치의 폴더를 알려주는 리눅스 명령어\n",
        "\n",
        "os.removedirs('new_folder') # 폴더 삭제\n",
        "\n",
        "!ls -l # .config파일은 나오지 않는다.\n",
        "!ls -la # 현재 위치에 있는 모든 파일과 폴더를 알려주는 리눅스 명령어\n",
        "\n",
        "print(os.listdir())\n"
      ],
      "metadata": {
        "colab": {
          "base_uri": "https://localhost:8080/"
        },
        "id": "efkMv4Z7KsyH",
        "outputId": "155cab90-16f9-4e97-ae05-15caf5363281"
      },
      "execution_count": null,
      "outputs": [
        {
          "output_type": "stream",
          "name": "stdout",
          "text": [
            "/content\n"
          ]
        }
      ]
    },
    {
      "cell_type": "code",
      "source": [
        "# 외부 라이브러리 예제\n",
        "# 먼저 pip를 사용하여 pandas 라이브러리를 설치합니다.\n",
        "# !pip install pandas\n",
        "# 로컬에서 사용시에는 !없이 pip로 설치\n",
        "\n",
        "import pandas as pd\n",
        "\n",
        "# pandas의 DataFrame 객체 생성\n",
        "data = {'Name': ['Alice', 'Bob', 'Charlie'], 'Age': [25, 30, 35]}\n",
        "df = pd.DataFrame(data) # df는 객체\n",
        "\n",
        "# pandas의 head() 함수 사용하여 DataFrame의 처음 5행 출력(빈칸일경우)\n",
        "print(df.head(2))\n",
        "\n"
      ],
      "metadata": {
        "colab": {
          "base_uri": "https://localhost:8080/"
        },
        "id": "-2cTeyHLL5LY",
        "outputId": "add89ce0-c05e-4bf1-9feb-482fa987f810"
      },
      "execution_count": null,
      "outputs": [
        {
          "output_type": "stream",
          "name": "stdout",
          "text": [
            "    Name  Age\n",
            "0  Alice   25\n",
            "1    Bob   30\n"
          ]
        },
        {
          "output_type": "execute_result",
          "data": {
            "text/plain": [
              "[('Name',), ('Age',)]"
            ]
          },
          "metadata": {},
          "execution_count": 13
        }
      ]
    },
    {
      "cell_type": "code",
      "source": [
        "import numpy as np\n",
        "data = [1, 2, 3, 4]\n",
        "arr = np.array(data)\n",
        "print(arr.type(arr))"
      ],
      "metadata": {
        "id": "b3AtvU4qRXcw"
      },
      "execution_count": null,
      "outputs": []
    },
    {
      "cell_type": "code",
      "source": [
        "# 사용자 함수 예제\n",
        "def greet(name):\n",
        "  return f\"hello, {name}!\"\n",
        "\n",
        "print(greet('홍길동'))"
      ],
      "metadata": {
        "colab": {
          "base_uri": "https://localhost:8080/"
        },
        "id": "SHmkD-cWSMbM",
        "outputId": "42c176d6-b7bc-4912-ddf2-04461d4c333f"
      },
      "execution_count": null,
      "outputs": [
        {
          "output_type": "stream",
          "name": "stdout",
          "text": [
            "hello, 홍길동!\n"
          ]
        }
      ]
    },
    {
      "cell_type": "markdown",
      "source": [
        "## 람다함수"
      ],
      "metadata": {
        "id": "ycViDVetSXHV"
      }
    },
    {
      "cell_type": "code",
      "source": [
        "# 람다 함수는 간단한 한 줄의 함수를 작성할 때 유용\n",
        "multiply = lambda x, y: x * y\n",
        "print(multiply(3, 4))"
      ],
      "metadata": {
        "colab": {
          "base_uri": "https://localhost:8080/"
        },
        "id": "gRmHOH5rSYaA",
        "outputId": "ad6e09d0-144b-43e9-a48a-41cb4559ebf8"
      },
      "execution_count": null,
      "outputs": [
        {
          "output_type": "stream",
          "name": "stdout",
          "text": [
            "12\n"
          ]
        }
      ]
    },
    {
      "cell_type": "code",
      "source": [
        "# 조건 사용:\n",
        "is_even = lambda x: True if x % 2 == 0 else False\n",
        "print(is_even(4))\n",
        "print(is_even(5))\n",
        "\n",
        "\n",
        "while 1:\n",
        "  # lambda 함수로 간단한 함수 예제 작성. 매개 변수가 없어도 가능하다.\n",
        "  cont = lambda : True if input('계속 주문하시겠습니까? (enter:계속 주문 / n:종료) ') == '' else False\n",
        "  if cont():\n",
        "    print('실행')\n",
        "    break\n",
        "  else:\n",
        "    break"
      ],
      "metadata": {
        "colab": {
          "base_uri": "https://localhost:8080/"
        },
        "id": "pVn62m9lSwrV",
        "outputId": "2681b691-7383-40df-e9a7-aad4715f1339"
      },
      "execution_count": null,
      "outputs": [
        {
          "name": "stdout",
          "output_type": "stream",
          "text": [
            "True\n",
            "False\n",
            "계속 주문하시겠습니까? (enter:계속 주문 / n:종료) n\n"
          ]
        }
      ]
    },
    {
      "cell_type": "code",
      "source": [
        "# 내장함수\n",
        "print(dir(__builtins__))\n",
        "print(len(dir(__builtins__)))"
      ],
      "metadata": {
        "colab": {
          "base_uri": "https://localhost:8080/"
        },
        "id": "RTva8YPmAB0N",
        "outputId": "25cf4a05-4a5e-455b-d984-befffe76f910"
      },
      "execution_count": 1,
      "outputs": [
        {
          "output_type": "stream",
          "name": "stdout",
          "text": [
            "['ArithmeticError', 'AssertionError', 'AttributeError', 'BaseException', 'BlockingIOError', 'BrokenPipeError', 'BufferError', 'BytesWarning', 'ChildProcessError', 'ConnectionAbortedError', 'ConnectionError', 'ConnectionRefusedError', 'ConnectionResetError', 'DeprecationWarning', 'EOFError', 'Ellipsis', 'EncodingWarning', 'EnvironmentError', 'Exception', 'False', 'FileExistsError', 'FileNotFoundError', 'FloatingPointError', 'FutureWarning', 'GeneratorExit', 'IOError', 'ImportError', 'ImportWarning', 'IndentationError', 'IndexError', 'InterruptedError', 'IsADirectoryError', 'KeyError', 'KeyboardInterrupt', 'LookupError', 'MemoryError', 'ModuleNotFoundError', 'NameError', 'None', 'NotADirectoryError', 'NotImplemented', 'NotImplementedError', 'OSError', 'OverflowError', 'PendingDeprecationWarning', 'PermissionError', 'ProcessLookupError', 'RecursionError', 'ReferenceError', 'ResourceWarning', 'RuntimeError', 'RuntimeWarning', 'StopAsyncIteration', 'StopIteration', 'SyntaxError', 'SyntaxWarning', 'SystemError', 'SystemExit', 'TabError', 'TimeoutError', 'True', 'TypeError', 'UnboundLocalError', 'UnicodeDecodeError', 'UnicodeEncodeError', 'UnicodeError', 'UnicodeTranslateError', 'UnicodeWarning', 'UserWarning', 'ValueError', 'Warning', 'ZeroDivisionError', '__IPYTHON__', '__build_class__', '__debug__', '__doc__', '__import__', '__loader__', '__name__', '__package__', '__spec__', 'abs', 'aiter', 'all', 'anext', 'any', 'ascii', 'bin', 'bool', 'breakpoint', 'bytearray', 'bytes', 'callable', 'chr', 'classmethod', 'compile', 'complex', 'copyright', 'credits', 'delattr', 'dict', 'dir', 'display', 'divmod', 'enumerate', 'eval', 'exec', 'execfile', 'filter', 'float', 'format', 'frozenset', 'get_ipython', 'getattr', 'globals', 'hasattr', 'hash', 'help', 'hex', 'id', 'input', 'int', 'isinstance', 'issubclass', 'iter', 'len', 'license', 'list', 'locals', 'map', 'max', 'memoryview', 'min', 'next', 'object', 'oct', 'open', 'ord', 'pow', 'print', 'property', 'range', 'repr', 'reversed', 'round', 'runfile', 'set', 'setattr', 'slice', 'sorted', 'staticmethod', 'str', 'sum', 'super', 'tuple', 'type', 'vars', 'zip']\n",
            "158\n"
          ]
        }
      ]
    },
    {
      "cell_type": "code",
      "source": [],
      "metadata": {
        "id": "faQAA5BlBHhH"
      },
      "execution_count": null,
      "outputs": []
    },
    {
      "cell_type": "code",
      "source": [
        "def string_statistics(user_input):\n",
        "  leng = len(user_input)\n",
        "\n",
        "  from collections import Counter\n",
        "  freq = Counter(user_input)\n",
        "  print(dir(freq))\n",
        "  most_com = freq.most_common(2)[0][0]\n",
        "\n",
        "\n",
        "  num_count = sum(c.isdigit() for c in user_input) # 숫자 개수\n",
        "\n",
        "  upper_count = sum(c.isupper() for c in user_input) # 대문자 개수\n",
        "\n",
        "  lower_count = sum(c.islower() for c in user_input) # 소문자 개수\n",
        "\n",
        "  print(most_com)\n",
        "#  print(f'{leng}')\n",
        "#  print(f'{most_com}')\n",
        "#  print(f'{num_count}')\n",
        "#  print(f'{upper_count}')\n",
        "#  print(f'{lower_count}')\n",
        "\n",
        "#user_input = input('문자열을 입력해주세요 : ')\n",
        "user_input='sgsdgsdgsd'\n",
        "string_statistics(user_input)"
      ],
      "metadata": {
        "colab": {
          "base_uri": "https://localhost:8080/"
        },
        "id": "MoewqKPkAU1C",
        "outputId": "37f60c9a-b17f-486a-fdb2-e95023f86582"
      },
      "execution_count": 14,
      "outputs": [
        {
          "output_type": "stream",
          "name": "stdout",
          "text": [
            "['__add__', '__and__', '__class__', '__class_getitem__', '__contains__', '__delattr__', '__delitem__', '__dict__', '__dir__', '__doc__', '__eq__', '__format__', '__ge__', '__getattribute__', '__getitem__', '__gt__', '__hash__', '__iadd__', '__iand__', '__init__', '__init_subclass__', '__ior__', '__isub__', '__iter__', '__le__', '__len__', '__lt__', '__missing__', '__module__', '__ne__', '__neg__', '__new__', '__or__', '__pos__', '__reduce__', '__reduce_ex__', '__repr__', '__reversed__', '__ror__', '__setattr__', '__setitem__', '__sizeof__', '__str__', '__sub__', '__subclasshook__', '__weakref__', '_keep_positive', 'clear', 'copy', 'elements', 'fromkeys', 'get', 'items', 'keys', 'most_common', 'pop', 'popitem', 'setdefault', 'subtract', 'total', 'update', 'values']\n",
            "s\n"
          ]
        }
      ]
    },
    {
      "cell_type": "code",
      "source": [
        "import os\n",
        "import datetime\n",
        "import shutil\n",
        "\n",
        "def daily_scheduler():\n",
        "  today = datetime.datetime.now()\n",
        "  date_string = today.strftime(\"%Y-%m-%d %H:%M:%S\")\n",
        "  print(f\"오늘의 날짜와 시간: {date_string}\")\n",
        "\n",
        "  filename = f\"tasks_{today.strftime('%Y%m%d')}.txt\"\n",
        "\n",
        "  if os.path.exists(filename):\n",
        "    print(f\"'{filename}' 파일이 이미 존재합니다. 백업을 생성합니다.\")\n",
        "\n",
        "    #백업 파일 생성\n",
        "    shutil.copy(filename, filename + \".bak\")\n",
        "  else:\n",
        "    print(f\"'{filename}' 파일이 존재하지 않습니다. 새로운 파일을 생성합니다.\")"
      ],
      "metadata": {
        "id": "O14apzMJFtda"
      },
      "execution_count": null,
      "outputs": []
    },
    {
      "cell_type": "code",
      "source": [
        "numbers = [1, 2, 3, 4, 5]\n",
        "squared_numbers = map(lambda x: x*x, numbers)\n",
        "print(list(squared_numbers))"
      ],
      "metadata": {
        "colab": {
          "base_uri": "https://localhost:8080/"
        },
        "id": "QzpqUQ3jJx1q",
        "outputId": "6ccb7a51-384b-479f-f24a-d9289738dc79"
      },
      "execution_count": 15,
      "outputs": [
        {
          "output_type": "stream",
          "name": "stdout",
          "text": [
            "[1, 4, 9, 16, 25]\n"
          ]
        }
      ]
    },
    {
      "cell_type": "code",
      "source": [
        "# 짝수\n",
        "numbers = [1, 2, 3, 4, 5]\n",
        "filtered_number = filter(lambda x: x % 2 == 0, numbers)\n",
        "print(list(filtered_number))"
      ],
      "metadata": {
        "colab": {
          "base_uri": "https://localhost:8080/"
        },
        "id": "iOXvIFcQJnLt",
        "outputId": "54759b8d-c1cd-4da6-84f4-ab7ae734820e"
      },
      "execution_count": 16,
      "outputs": [
        {
          "output_type": "stream",
          "name": "stdout",
          "text": [
            "[2, 4]\n"
          ]
        }
      ]
    },
    {
      "cell_type": "code",
      "source": [
        "import requests\n",
        "from bs4 import BeautifulSoup\n",
        "\n",
        "def fetch_website_content(url):\n",
        "  res = requests.get(url)\n",
        "  if res.status_code == 200:\n",
        "    soup = BeautifulSoup(res.text, 'html.parser')\n",
        "\n",
        "    print(\"Page Title: \", soup.title.string if soup.title else \"No title found\")\n",
        "  else:\n",
        "    print(\"Failed to retrieve the webpage\")\n",
        "    print(\"Status code: \", res.status_code)\n",
        "\n",
        "if __name__ == '__main__':\n",
        "  url = input('저장하고 싶은 웹사이트의 URL을 입력하세요: ')\n",
        "  fetch_website_content(url)"
      ],
      "metadata": {
        "id": "nIkad6sfcG9N"
      },
      "execution_count": null,
      "outputs": []
    },
    {
      "cell_type": "markdown",
      "source": [
        "#### 파이썬 패키지,  모듈, 함수, 클래스\n",
        "- 코드 작성 시 이미 만들어져 있는 함수들을 활용하면 보다 효율적이고 빠르게 개발 가능\n",
        "- 이미 만들어져 있고 안정성이 검증된 함수들을 성격에 맞게 하나의 파이썬 파일에 묶어 만들어 놓을 것을 모듈이라 함\n",
        "- 외부 모듈에 있는 함수들을 활용하려면 이 모듈을 먼저 가져와서 사용해야 하는데 이것을 모듈을 임포트한다고 한다.\n",
        "- 파이썬 모듈이 하나의 파이썬 파일이라면 패키지는 디렉토리로 볼 수 있다.\n",
        "\n",
        "패키지\n",
        "1. 라이브러리라고도 부름\n",
        "2. 특정 기능과 관련된 여러 모듈을 한 그룹으로 묶은 것\n",
        "3. 패키지 안에 서브패키지가 있을 수도 있다.\n",
        "4. import 패키지/모듈, from 패키지/모듈 import 서브패키지/모듈\n",
        "  \n",
        "   \n",
        "모듈\n",
        "1. 여러 기능들이 뭉쳐진 하나의. py파일\n",
        "2. 함수, 클래스, 변수 등 포함\n",
        "3. import 모듈\n",
        "\n",
        "함수\n",
        "1. 하나의 기능을 가진 코드의 집합\n",
        "2. 함수를 사용한다 = 함수를 호출한다\n",
        "3. 함수 사용 형태: 함수( )\n",
        "   - 필요한 경우 () 안에 매개변수 또는 옵션\n",
        "4. 종류\n",
        "   - 내장 함수(built in function)\n",
        "   - 외장 함수: import 해주어야 함\n",
        "   \n",
        "클래스   \n",
        "- 파이썬은 객체 지향 언어로클래스를 기반으로 객체를 만들어 사용한다.\n",
        "- 한 파이썬 파일(. py) 내에서 \"class class명():\"을 통해 클래스 선언"
      ],
      "metadata": {
        "id": "ssMWLsOWdj7Q"
      }
    },
    {
      "cell_type": "markdown",
      "source": [
        "#### 함수 vs 메소드\n",
        "- 함수 (Function)\n",
        "    - 함수는 특정 작업을 수행하거나 값을 계산하기 위해 정의된 코드의 블록\n",
        "    - 함수는 def 키워드를 사용하여 정의\n",
        "    - 함수는 전역적으로 호출할 수 있거나 다른 함수 내부에서 호출할 수 있다.    \n",
        "- 메소드 (Method)\n",
        "    - 메소드는 객체에 속한 함수, 메소드는 특정 객체의 기능으로 정의\n",
        "    - 메소드는 객체와 연결되어 있으며, . (점) 표기법을 사용하여 해당 객체에 대한 메소드를 호출\n",
        "    - 메소드는 첫 번째 매개변수로 self를 사용하여 객체 자체를 참조 (클래스 내부에서 메소드를 정의할 때)\n",
        "- 주요 차이점\n",
        "    - 정의: 함수는 독립적으로 정의되지만, 메소드는 클래스 내부에서 정의\n",
        "    - 호출: 함수는 이름만으로 호출될 수 있지만, 메소드는 객체를 통해 호출\n",
        "    - 참조: 메소드는 첫 번째 매개변수로 객체 자신을 참조(self), 반면 함수는 이런 자체 참조 매개변수를 갖지 않는다."
      ],
      "metadata": {
        "id": "vnONhhQudvsc"
      }
    },
    {
      "cell_type": "code",
      "source": [
        "def my_func():\n",
        "  print(\"Hello\")\n",
        "\n",
        "my_func()"
      ],
      "metadata": {
        "id": "MlGAMcJfgzeK"
      },
      "execution_count": null,
      "outputs": []
    },
    {
      "cell_type": "code",
      "source": [
        "class MyClass:\n",
        "  def my_method(self):\n",
        "    print(\"Hello\")\n",
        "\n",
        "obj = MyClass()\n",
        "obj.my_method"
      ],
      "metadata": {
        "id": "x6oOiIjSg30o"
      },
      "execution_count": null,
      "outputs": []
    },
    {
      "cell_type": "code",
      "source": [
        "print(any(-3))\n",
        "print(any[1,2,3,0]) # x가 모두 참이면 True, 거짓이 하나라도 있으면 False\n",
        "print(chr(65)) #아스키코드\n",
        "print(float(3))\n",
        "print(int(3.9))\n",
        "print(max(1,10))\n",
        "print(min(1,10))\n",
        "print(pow(10,2)) #거듭제곱\n",
        "print(round(2.675,2))"
      ],
      "metadata": {
        "id": "OwCb1YO3iYPE"
      },
      "execution_count": null,
      "outputs": []
    },
    {
      "cell_type": "code",
      "source": [
        "# 함수가 다른 객체와 마찬가지로 변수에 할당되거나, 다른 함수로 전달되거나, 다른 함수로부터 반환될 수 있음.\n",
        "my_pow = pow\n",
        "res = my_pow(2,3)\n",
        "\n",
        "print(res)\n",
        "# 함수를 인자로 전달\n",
        "def apply_func(func, x, y):\n",
        "  return func(x, y)\n",
        "\n",
        "res = apply_func(pow, 3, 4) #pow(3,4)\n",
        "print(res)"
      ],
      "metadata": {
        "id": "YwbBDBTTkYMm"
      },
      "execution_count": null,
      "outputs": []
    },
    {
      "cell_type": "code",
      "source": [
        "age = 30\n",
        "print(\"I am\"+str(age)+\" years old.\")"
      ],
      "metadata": {
        "id": "ZDWRztZclP8E"
      },
      "execution_count": null,
      "outputs": []
    },
    {
      "cell_type": "markdown",
      "source": [
        "Q. students = [('Alice',90), ('Bob',85), ('Charlie', 88)]"
      ],
      "metadata": {
        "id": "XrBayN7wpaDP"
      }
    },
    {
      "cell_type": "code",
      "source": [
        "students = [('Alice',90), ('Bob',85), ('Charlie', 88)]\n",
        "\n",
        "# key에 lambda를 이용해서 함수를 적용할 수 있다.\n",
        "sorted_list = sorted(students, key= lambda x : x[1], reverse=True)\n",
        "print(sorted_list)\n"
      ],
      "metadata": {
        "colab": {
          "base_uri": "https://localhost:8080/"
        },
        "id": "euTRfMBfpeLK",
        "outputId": "3d486670-4f5b-4ea7-8f54-679502c9cb12"
      },
      "execution_count": 28,
      "outputs": [
        {
          "output_type": "stream",
          "name": "stdout",
          "text": [
            "[('Alice', 90), ('Charlie', 88), ('Bob', 85)]\n"
          ]
        }
      ]
    },
    {
      "cell_type": "code",
      "source": [
        "print(list(range(5)))\n",
        "print(list(range(1, 6)))\n",
        "print(list(range(1, 10 , 2)))\n",
        "print(list(range(0, -10, -1)))"
      ],
      "metadata": {
        "colab": {
          "base_uri": "https://localhost:8080/"
        },
        "id": "Wll5afd3twEG",
        "outputId": "a4d3b01a-7490-47b2-81e3-9e274a2ee883"
      },
      "execution_count": 29,
      "outputs": [
        {
          "output_type": "stream",
          "name": "stdout",
          "text": [
            "[0, 1, 2, 3, 4]\n",
            "[1, 2, 3, 4, 5]\n",
            "[1, 3, 5, 7, 9]\n",
            "[0, -1, -2, -3, -4, -5, -6, -7, -8, -9]\n"
          ]
        }
      ]
    },
    {
      "cell_type": "code",
      "source": [
        "for idx, element in enumerate(['ele1', 'ele2', 'ele3']):\n",
        "  print(idx+1, element)"
      ],
      "metadata": {
        "colab": {
          "base_uri": "https://localhost:8080/"
        },
        "id": "Ce9r5toDxW9P",
        "outputId": "43039ad2-f70c-401a-f1e5-c63d8140f095"
      },
      "execution_count": 35,
      "outputs": [
        {
          "output_type": "stream",
          "name": "stdout",
          "text": [
            "1 ele1\n",
            "2 ele2\n",
            "3 ele3\n"
          ]
        }
      ]
    },
    {
      "cell_type": "code",
      "source": [
        "# Q. enumerate와 f-string을 사용해서 특정 리스트에서 원하는 형태로 출력을 하세요(인덱스와 내용 믹스)\n",
        "\n",
        "fruits = ['사과', '키위', '딸기', '참외', '수박']\n",
        "\n",
        "print('과일의 종류')\n",
        "for i, j in enumerate(fruits):\n",
        "  print(f'{i}. {j}')"
      ],
      "metadata": {
        "colab": {
          "base_uri": "https://localhost:8080/"
        },
        "id": "zC0CAoLoxf66",
        "outputId": "89e0d97a-2418-4193-fa9d-ea61943f815b"
      },
      "execution_count": 36,
      "outputs": [
        {
          "output_type": "stream",
          "name": "stdout",
          "text": [
            "과일의 종류\n",
            "0. 사과\n",
            "1. 키위\n",
            "2. 딸기\n",
            "3. 참외\n",
            "4. 수박\n"
          ]
        }
      ]
    }
  ]
}