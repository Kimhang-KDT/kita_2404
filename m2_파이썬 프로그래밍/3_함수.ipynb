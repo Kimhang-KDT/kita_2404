{
  "nbformat": 4,
  "nbformat_minor": 0,
  "metadata": {
    "colab": {
      "provenance": []
    },
    "kernelspec": {
      "name": "python3",
      "display_name": "Python 3"
    },
    "language_info": {
      "name": "python"
    }
  },
  "cells": [
    {
      "cell_type": "markdown",
      "source": [
        "- 함수의 종류 및 예제\n",
        "- 패키지, 모듈, 함수, 클래스\n",
        "- 함수 vs 메소드 함수: 독립적으로 사용가능, 메소드: 클래스 안에서만 사용가능\n",
        "- 내장함수 연습\n",
        "- 외장함수 연습 : 날짜 함수, os\n",
        "- 외부 라이브러리 연습\n",
        "- 람다함수 연습\n",
        "- 사용자 함수 연습\n",
        "- 함수 유형 : 입력 인자와 리턴값에 따른 4가지 형태\n",
        "- 지역변수와 전역변수\n",
        "- 프로그램 작성"
      ],
      "metadata": {
        "id": "2NJLbVEniaqS"
      }
    },
    {
      "cell_type": "markdown",
      "source": [
        "[ 파이썬 표준 라이브러리 ]\n",
        "https://docs.python.org/ko/3.10/library/index.html\n",
        "\n",
        "파이썬에서 함수는 크게 내장 함수(Built-in Functions)와 외장 함수(External Functions)로 나뉩니다.\n",
        "\n",
        "1. 내장 함수 (Built-in Functions):\n",
        "- 내장 함수는 파이썬 인터프리터에 포함되어 있어, 별도의 모듈을 임포트(import)하지 않고도 사용 예를 들어, print(), len(), type(), range(), zip() 등이 내장 함수입니다.\n",
        "- 이러한 함수들은 기본적인 작업을 수행하며, 파이썬 프로그래밍의 기본적인 빌딩 블록(building blocks)으로 작동\n",
        "\n",
        "2. 외장 함수 (External Functions):\n",
        "- 표준 라이브러리에 포함된 모듈과 함수를 가리키는 것으로 모듈을 임포트하여 사용\n",
        "- 파이썬 표준 라이브러리의 os, sys, math, random, datetime 등의 모듈에는 다양한 외장 함수가 포함\n",
        "\n",
        "3. 외부 라이브러리나 패키지\n",
        "- 표준 라이브러리에 포함되지 않아 기본 설치에는 포함되지 않는다.\n",
        "- 이를 사용하려면 먼저 해당 라이브러리나 패키지를 설치\n",
        "- 외부 라이브러리는 통상적으로 파이썬의 패키지 관리자인 pip를 사용하여 설치\n",
        "- 설치 후에는 외장 함수와 마찬가지로 필요한 모듈을 임포트하여 사용\n",
        "- 예: numpy, pandas, requests 등의 외부 라이브러리에 포함된 함수들.\n",
        "\n",
        "3. 사용자 정의 함수(User-Defined Functions):\n",
        "- 사용자가 직접 정의하여 사용하는 함수\n",
        "- def 키워드를 사용하여 함수를 정의하며, 필요에 따라 매개변수와 반환 값을 지정\n",
        "\n",
        "4. 람다 함수(Lambda Functions):\n",
        "- 이름 없는 간단한 함수를 정의할 때 사용하는 익명 함수\n",
        "- lambda 키워드를 사용하여 한 줄로 함수를 정의하며, 주로 간단한 연산이 필요할 때 사용"
      ],
      "metadata": {
        "id": "mPzg0UUFD4ZT"
      }
    },
    {
      "cell_type": "code",
      "execution_count": null,
      "metadata": {
        "id": "vDBX68LaD15k"
      },
      "outputs": [],
      "source": [
        "# 내장 함수 예제\n",
        "print('Hello, World!')\n",
        "print(len([1, 2, 3, 4]))\n",
        "print(type(10))"
      ]
    },
    {
      "cell_type": "code",
      "source": [
        "# Q. 내장함수로 다음을 수행하세요.\n",
        "a = [1, 2, 3, 4, 5]\n",
        "print(sum(a))\n",
        "print(max(a))\n",
        "print(min(a))\n",
        "print(sorted(a))\n",
        "print(list(reversed(a)))"
      ],
      "metadata": {
        "colab": {
          "base_uri": "https://localhost:8080/"
        },
        "id": "Rbdl-5HCHKeJ",
        "outputId": "01fde52f-6574-4e96-9f4b-3ce79b37b209"
      },
      "execution_count": null,
      "outputs": [
        {
          "output_type": "stream",
          "name": "stdout",
          "text": [
            "15\n",
            "15\n",
            "15\n"
          ]
        }
      ]
    },
    {
      "cell_type": "code",
      "source": [
        "# 외장 함수 예제\n",
        "import math\n",
        "print(math.sqrt(16)) # 제곱근 계산 함수\n",
        "\n",
        "import random\n",
        "print(random.randint(1,10)) # 랜덤 정수 생성 함수. 양끝 포함\n",
        "\n",
        "import datetime\n",
        "print(datetime.datetime.now())"
      ],
      "metadata": {
        "id": "NqbIef8WIbIN"
      },
      "execution_count": null,
      "outputs": []
    },
    {
      "cell_type": "code",
      "source": [
        "# Q. datetime.datetime.now()에서 연도, 월, 일, 시, 분, 초, 마이크로 초를 각각 출력하세요.\n",
        "\n",
        "import datetime\n",
        "print(datetime.datetime.now())\n",
        "\n",
        "print(datetime.datetime.now().year)\n",
        "print(datetime.datetime.now().month)\n",
        "print(datetime.datetime.now().day)\n",
        "print(datetime.datetime.now().hour)\n",
        "print(datetime.datetime.now().minute)\n",
        "print(datetime.datetime.now().second)\n",
        "print(datetime.datetime.now().microsecond)"
      ],
      "metadata": {
        "colab": {
          "base_uri": "https://localhost:8080/"
        },
        "id": "i9Imc-_8IrtB",
        "outputId": "31b9ac0c-aa49-42e3-fe47-129856ab8df5"
      },
      "execution_count": null,
      "outputs": [
        {
          "output_type": "stream",
          "name": "stdout",
          "text": [
            "2024-05-03 06:29:56.761795\n",
            "2024\n",
            "5\n",
            "3\n",
            "6\n",
            "29\n",
            "56\n",
            "767134\n"
          ]
        }
      ]
    },
    {
      "cell_type": "code",
      "source": [
        "import os\n",
        "print(os.getcwd()) # 현재 위치\n",
        "\n",
        "os.mkdir('new_folder') # 폴더 생성\n",
        "\n",
        "!ls # 현재 위치의 폴더를 알려주는 리눅스 명령어\n",
        "\n",
        "os.removedirs('new_folder') # 폴더 삭제\n",
        "\n",
        "!ls -l # .config파일은 나오지 않는다.\n",
        "!ls -la # 현재 위치에 있는 모든 파일과 폴더를 알려주는 리눅스 명령어\n",
        "\n",
        "print(os.listdir())\n"
      ],
      "metadata": {
        "colab": {
          "base_uri": "https://localhost:8080/"
        },
        "id": "efkMv4Z7KsyH",
        "outputId": "155cab90-16f9-4e97-ae05-15caf5363281"
      },
      "execution_count": null,
      "outputs": [
        {
          "output_type": "stream",
          "name": "stdout",
          "text": [
            "/content\n"
          ]
        }
      ]
    },
    {
      "cell_type": "code",
      "source": [
        "# 외부 라이브러리 예제\n",
        "# 먼저 pip를 사용하여 pandas 라이브러리를 설치합니다.\n",
        "# !pip install pandas\n",
        "# 로컬에서 사용시에는 !없이 pip로 설치\n",
        "\n",
        "import pandas as pd\n",
        "\n",
        "# pandas의 DataFrame 객체 생성\n",
        "data = {'Name': ['Alice', 'Bob', 'Charlie'], 'Age': [25, 30, 35]}\n",
        "df = pd.DataFrame(data) # df는 객체\n",
        "\n",
        "# pandas의 head() 함수 사용하여 DataFrame의 처음 5행 출력(빈칸일경우)\n",
        "print(df.head(2))\n",
        "\n"
      ],
      "metadata": {
        "colab": {
          "base_uri": "https://localhost:8080/"
        },
        "id": "-2cTeyHLL5LY",
        "outputId": "add89ce0-c05e-4bf1-9feb-482fa987f810"
      },
      "execution_count": null,
      "outputs": [
        {
          "output_type": "stream",
          "name": "stdout",
          "text": [
            "    Name  Age\n",
            "0  Alice   25\n",
            "1    Bob   30\n"
          ]
        },
        {
          "output_type": "execute_result",
          "data": {
            "text/plain": [
              "[('Name',), ('Age',)]"
            ]
          },
          "metadata": {},
          "execution_count": 13
        }
      ]
    },
    {
      "cell_type": "code",
      "source": [
        "import numpy as np\n",
        "data = [1, 2, 3, 4]\n",
        "arr = np.array(data)\n",
        "print(arr.type(arr))"
      ],
      "metadata": {
        "id": "b3AtvU4qRXcw"
      },
      "execution_count": null,
      "outputs": []
    },
    {
      "cell_type": "code",
      "source": [
        "# 사용자 함수 예제\n",
        "def greet(name):\n",
        "  return f\"hello, {name}!\"\n",
        "\n",
        "print(greet('홍길동'))"
      ],
      "metadata": {
        "colab": {
          "base_uri": "https://localhost:8080/"
        },
        "id": "SHmkD-cWSMbM",
        "outputId": "42c176d6-b7bc-4912-ddf2-04461d4c333f"
      },
      "execution_count": null,
      "outputs": [
        {
          "output_type": "stream",
          "name": "stdout",
          "text": [
            "hello, 홍길동!\n"
          ]
        }
      ]
    },
    {
      "cell_type": "markdown",
      "source": [
        "## 람다함수"
      ],
      "metadata": {
        "id": "ycViDVetSXHV"
      }
    },
    {
      "cell_type": "code",
      "source": [
        "# 람다 함수는 간단한 한 줄의 함수를 작성할 때 유용\n",
        "multiply = lambda x, y: x * y\n",
        "print(multiply(3, 4))"
      ],
      "metadata": {
        "colab": {
          "base_uri": "https://localhost:8080/"
        },
        "id": "gRmHOH5rSYaA",
        "outputId": "ad6e09d0-144b-43e9-a48a-41cb4559ebf8"
      },
      "execution_count": null,
      "outputs": [
        {
          "output_type": "stream",
          "name": "stdout",
          "text": [
            "12\n"
          ]
        }
      ]
    },
    {
      "cell_type": "code",
      "source": [
        "# 조건 사용:\n",
        "is_even = lambda x: True if x % 2 == 0 else False\n",
        "print(is_even(4))\n",
        "print(is_even(5))\n",
        "\n",
        "\n",
        "while 1:\n",
        "  # lambda 함수로 간단한 함수 예제 작성. 매개 변수가 없어도 가능하다.\n",
        "  cont = lambda : True if input('계속 주문하시겠습니까? (enter:계속 주문 / n:종료) ') == '' else False\n",
        "  if cont():\n",
        "    print('실행')\n",
        "    break\n",
        "  else:\n",
        "    break"
      ],
      "metadata": {
        "colab": {
          "base_uri": "https://localhost:8080/"
        },
        "id": "pVn62m9lSwrV",
        "outputId": "2681b691-7383-40df-e9a7-aad4715f1339"
      },
      "execution_count": null,
      "outputs": [
        {
          "name": "stdout",
          "output_type": "stream",
          "text": [
            "True\n",
            "False\n",
            "계속 주문하시겠습니까? (enter:계속 주문 / n:종료) n\n"
          ]
        }
      ]
    },
    {
      "cell_type": "code",
      "source": [
        "# 내장함수\n",
        "print(dir(__builtins__))\n",
        "print(len(dir(__builtins__)))"
      ],
      "metadata": {
        "colab": {
          "base_uri": "https://localhost:8080/"
        },
        "id": "RTva8YPmAB0N",
        "outputId": "25cf4a05-4a5e-455b-d984-befffe76f910"
      },
      "execution_count": null,
      "outputs": [
        {
          "output_type": "stream",
          "name": "stdout",
          "text": [
            "['ArithmeticError', 'AssertionError', 'AttributeError', 'BaseException', 'BlockingIOError', 'BrokenPipeError', 'BufferError', 'BytesWarning', 'ChildProcessError', 'ConnectionAbortedError', 'ConnectionError', 'ConnectionRefusedError', 'ConnectionResetError', 'DeprecationWarning', 'EOFError', 'Ellipsis', 'EncodingWarning', 'EnvironmentError', 'Exception', 'False', 'FileExistsError', 'FileNotFoundError', 'FloatingPointError', 'FutureWarning', 'GeneratorExit', 'IOError', 'ImportError', 'ImportWarning', 'IndentationError', 'IndexError', 'InterruptedError', 'IsADirectoryError', 'KeyError', 'KeyboardInterrupt', 'LookupError', 'MemoryError', 'ModuleNotFoundError', 'NameError', 'None', 'NotADirectoryError', 'NotImplemented', 'NotImplementedError', 'OSError', 'OverflowError', 'PendingDeprecationWarning', 'PermissionError', 'ProcessLookupError', 'RecursionError', 'ReferenceError', 'ResourceWarning', 'RuntimeError', 'RuntimeWarning', 'StopAsyncIteration', 'StopIteration', 'SyntaxError', 'SyntaxWarning', 'SystemError', 'SystemExit', 'TabError', 'TimeoutError', 'True', 'TypeError', 'UnboundLocalError', 'UnicodeDecodeError', 'UnicodeEncodeError', 'UnicodeError', 'UnicodeTranslateError', 'UnicodeWarning', 'UserWarning', 'ValueError', 'Warning', 'ZeroDivisionError', '__IPYTHON__', '__build_class__', '__debug__', '__doc__', '__import__', '__loader__', '__name__', '__package__', '__spec__', 'abs', 'aiter', 'all', 'anext', 'any', 'ascii', 'bin', 'bool', 'breakpoint', 'bytearray', 'bytes', 'callable', 'chr', 'classmethod', 'compile', 'complex', 'copyright', 'credits', 'delattr', 'dict', 'dir', 'display', 'divmod', 'enumerate', 'eval', 'exec', 'execfile', 'filter', 'float', 'format', 'frozenset', 'get_ipython', 'getattr', 'globals', 'hasattr', 'hash', 'help', 'hex', 'id', 'input', 'int', 'isinstance', 'issubclass', 'iter', 'len', 'license', 'list', 'locals', 'map', 'max', 'memoryview', 'min', 'next', 'object', 'oct', 'open', 'ord', 'pow', 'print', 'property', 'range', 'repr', 'reversed', 'round', 'runfile', 'set', 'setattr', 'slice', 'sorted', 'staticmethod', 'str', 'sum', 'super', 'tuple', 'type', 'vars', 'zip']\n",
            "158\n"
          ]
        }
      ]
    },
    {
      "cell_type": "code",
      "source": [],
      "metadata": {
        "id": "faQAA5BlBHhH"
      },
      "execution_count": null,
      "outputs": []
    },
    {
      "cell_type": "code",
      "source": [
        "def string_statistics(user_input):\n",
        "  leng = len(user_input)\n",
        "\n",
        "  from collections import Counter\n",
        "  freq = Counter(user_input)\n",
        "  print(dir(freq))\n",
        "  most_com = freq.most_common(2)[0][0]\n",
        "\n",
        "\n",
        "  num_count = sum(c.isdigit() for c in user_input) # 숫자 개수\n",
        "\n",
        "  upper_count = sum(c.isupper() for c in user_input) # 대문자 개수\n",
        "\n",
        "  lower_count = sum(c.islower() for c in user_input) # 소문자 개수\n",
        "\n",
        "  print(most_com)\n",
        "#  print(f'{leng}')\n",
        "#  print(f'{most_com}')\n",
        "#  print(f'{num_count}')\n",
        "#  print(f'{upper_count}')\n",
        "#  print(f'{lower_count}')\n",
        "\n",
        "#user_input = input('문자열을 입력해주세요 : ')\n",
        "user_input='sgsdgsdgsd'\n",
        "string_statistics(user_input)"
      ],
      "metadata": {
        "colab": {
          "base_uri": "https://localhost:8080/"
        },
        "id": "MoewqKPkAU1C",
        "outputId": "37f60c9a-b17f-486a-fdb2-e95023f86582"
      },
      "execution_count": null,
      "outputs": [
        {
          "output_type": "stream",
          "name": "stdout",
          "text": [
            "['__add__', '__and__', '__class__', '__class_getitem__', '__contains__', '__delattr__', '__delitem__', '__dict__', '__dir__', '__doc__', '__eq__', '__format__', '__ge__', '__getattribute__', '__getitem__', '__gt__', '__hash__', '__iadd__', '__iand__', '__init__', '__init_subclass__', '__ior__', '__isub__', '__iter__', '__le__', '__len__', '__lt__', '__missing__', '__module__', '__ne__', '__neg__', '__new__', '__or__', '__pos__', '__reduce__', '__reduce_ex__', '__repr__', '__reversed__', '__ror__', '__setattr__', '__setitem__', '__sizeof__', '__str__', '__sub__', '__subclasshook__', '__weakref__', '_keep_positive', 'clear', 'copy', 'elements', 'fromkeys', 'get', 'items', 'keys', 'most_common', 'pop', 'popitem', 'setdefault', 'subtract', 'total', 'update', 'values']\n",
            "s\n"
          ]
        }
      ]
    },
    {
      "cell_type": "code",
      "source": [
        "import os\n",
        "import datetime\n",
        "import shutil\n",
        "\n",
        "def daily_scheduler():\n",
        "  today = datetime.datetime.now()\n",
        "  date_string = today.strftime(\"%Y-%m-%d %H:%M:%S\")\n",
        "  print(f\"오늘의 날짜와 시간: {date_string}\")\n",
        "\n",
        "  filename = f\"tasks_{today.strftime('%Y%m%d')}.txt\"\n",
        "\n",
        "  if os.path.exists(filename):\n",
        "    print(f\"'{filename}' 파일이 이미 존재합니다. 백업을 생성합니다.\")\n",
        "\n",
        "    #백업 파일 생성\n",
        "    shutil.copy(filename, filename + \".bak\")\n",
        "  else:\n",
        "    print(f\"'{filename}' 파일이 존재하지 않습니다. 새로운 파일을 생성합니다.\")"
      ],
      "metadata": {
        "id": "O14apzMJFtda"
      },
      "execution_count": null,
      "outputs": []
    },
    {
      "cell_type": "code",
      "source": [
        "numbers = [1, 2, 3, 4, 5]\n",
        "squared_numbers = map(lambda x: x*x, numbers)\n",
        "print(list(squared_numbers))"
      ],
      "metadata": {
        "colab": {
          "base_uri": "https://localhost:8080/"
        },
        "id": "QzpqUQ3jJx1q",
        "outputId": "6ccb7a51-384b-479f-f24a-d9289738dc79"
      },
      "execution_count": null,
      "outputs": [
        {
          "output_type": "stream",
          "name": "stdout",
          "text": [
            "[1, 4, 9, 16, 25]\n"
          ]
        }
      ]
    },
    {
      "cell_type": "code",
      "source": [
        "# 짝수\n",
        "numbers = [1, 2, 3, 4, 5]\n",
        "filtered_number = filter(lambda x: x % 2 == 0, numbers)\n",
        "print(list(filtered_number))"
      ],
      "metadata": {
        "colab": {
          "base_uri": "https://localhost:8080/"
        },
        "id": "iOXvIFcQJnLt",
        "outputId": "54759b8d-c1cd-4da6-84f4-ab7ae734820e"
      },
      "execution_count": null,
      "outputs": [
        {
          "output_type": "stream",
          "name": "stdout",
          "text": [
            "[2, 4]\n"
          ]
        }
      ]
    },
    {
      "cell_type": "code",
      "source": [
        "import requests\n",
        "from bs4 import BeautifulSoup\n",
        "\n",
        "def fetch_website_content(url):\n",
        "  res = requests.get(url)\n",
        "  if res.status_code == 200:\n",
        "    soup = BeautifulSoup(res.text, 'html.parser')\n",
        "\n",
        "    print(\"Page Title: \", soup.title.string if soup.title else \"No title found\")\n",
        "  else:\n",
        "    print(\"Failed to retrieve the webpage\")\n",
        "    print(\"Status code: \", res.status_code)\n",
        "\n",
        "if __name__ == '__main__':\n",
        "  url = input('저장하고 싶은 웹사이트의 URL을 입력하세요: ')\n",
        "  fetch_website_content(url)"
      ],
      "metadata": {
        "id": "nIkad6sfcG9N"
      },
      "execution_count": null,
      "outputs": []
    },
    {
      "cell_type": "markdown",
      "source": [
        "#### 파이썬 패키지,  모듈, 함수, 클래스\n",
        "- 코드 작성 시 이미 만들어져 있는 함수들을 활용하면 보다 효율적이고 빠르게 개발 가능\n",
        "- 이미 만들어져 있고 안정성이 검증된 함수들을 성격에 맞게 하나의 파이썬 파일에 묶어 만들어 놓을 것을 모듈이라 함\n",
        "- 외부 모듈에 있는 함수들을 활용하려면 이 모듈을 먼저 가져와서 사용해야 하는데 이것을 모듈을 임포트한다고 한다.\n",
        "- 파이썬 모듈이 하나의 파이썬 파일이라면 패키지는 디렉토리로 볼 수 있다.\n",
        "\n",
        "패키지\n",
        "1. 라이브러리라고도 부름\n",
        "2. 특정 기능과 관련된 여러 모듈을 한 그룹으로 묶은 것\n",
        "3. 패키지 안에 서브패키지가 있을 수도 있다.\n",
        "4. import 패키지/모듈, from 패키지/모듈 import 서브패키지/모듈\n",
        "  \n",
        "   \n",
        "모듈\n",
        "1. 여러 기능들이 뭉쳐진 하나의. py파일\n",
        "2. 함수, 클래스, 변수 등 포함\n",
        "3. import 모듈\n",
        "\n",
        "함수\n",
        "1. 하나의 기능을 가진 코드의 집합\n",
        "2. 함수를 사용한다 = 함수를 호출한다\n",
        "3. 함수 사용 형태: 함수( )\n",
        "   - 필요한 경우 () 안에 매개변수 또는 옵션\n",
        "4. 종류\n",
        "   - 내장 함수(built in function)\n",
        "   - 외장 함수: import 해주어야 함\n",
        "   \n",
        "클래스   \n",
        "- 파이썬은 객체 지향 언어로클래스를 기반으로 객체를 만들어 사용한다.\n",
        "- 한 파이썬 파일(. py) 내에서 \"class class명():\"을 통해 클래스 선언"
      ],
      "metadata": {
        "id": "ssMWLsOWdj7Q"
      }
    },
    {
      "cell_type": "markdown",
      "source": [
        "#### 함수 vs 메소드\n",
        "- 함수 (Function)\n",
        "    - 함수는 특정 작업을 수행하거나 값을 계산하기 위해 정의된 코드의 블록\n",
        "    - 함수는 def 키워드를 사용하여 정의\n",
        "    - 함수는 전역적으로 호출할 수 있거나 다른 함수 내부에서 호출할 수 있다.    \n",
        "- 메소드 (Method)\n",
        "    - 메소드는 객체에 속한 함수, 메소드는 특정 객체의 기능으로 정의\n",
        "    - 메소드는 객체와 연결되어 있으며, . (점) 표기법을 사용하여 해당 객체에 대한 메소드를 호출\n",
        "    - 메소드는 첫 번째 매개변수로 self를 사용하여 객체 자체를 참조 (클래스 내부에서 메소드를 정의할 때)\n",
        "- 주요 차이점\n",
        "    - 정의: 함수는 독립적으로 정의되지만, 메소드는 클래스 내부에서 정의\n",
        "    - 호출: 함수는 이름만으로 호출될 수 있지만, 메소드는 객체를 통해 호출\n",
        "    - 참조: 메소드는 첫 번째 매개변수로 객체 자신을 참조(self), 반면 함수는 이런 자체 참조 매개변수를 갖지 않는다."
      ],
      "metadata": {
        "id": "vnONhhQudvsc"
      }
    },
    {
      "cell_type": "code",
      "source": [
        "def my_func():\n",
        "  print(\"Hello\")\n",
        "\n",
        "my_func()"
      ],
      "metadata": {
        "id": "MlGAMcJfgzeK"
      },
      "execution_count": null,
      "outputs": []
    },
    {
      "cell_type": "code",
      "source": [
        "class MyClass:\n",
        "  def my_method(self):\n",
        "    print(\"Hello\")\n",
        "\n",
        "obj = MyClass()\n",
        "obj.my_method"
      ],
      "metadata": {
        "id": "x6oOiIjSg30o"
      },
      "execution_count": null,
      "outputs": []
    },
    {
      "cell_type": "code",
      "source": [
        "print(any(-3))\n",
        "print(any[1,2,3,0]) # x가 모두 참이면 True, 거짓이 하나라도 있으면 False\n",
        "print(chr(65)) #아스키코드\n",
        "print(float(3))\n",
        "print(int(3.9))\n",
        "print(max(1,10))\n",
        "print(min(1,10))\n",
        "print(pow(10,2)) #거듭제곱\n",
        "print(round(2.675,2))"
      ],
      "metadata": {
        "id": "OwCb1YO3iYPE"
      },
      "execution_count": null,
      "outputs": []
    },
    {
      "cell_type": "code",
      "source": [
        "# 함수가 다른 객체와 마찬가지로 변수에 할당되거나, 다른 함수로 전달되거나, 다른 함수로부터 반환될 수 있음.\n",
        "my_pow = pow\n",
        "res = my_pow(2,3)\n",
        "\n",
        "print(res)\n",
        "# 함수를 인자로 전달\n",
        "def apply_func(func, x, y):\n",
        "  return func(x, y)\n",
        "\n",
        "res = apply_func(pow, 3, 4) #pow(3,4)\n",
        "print(res)"
      ],
      "metadata": {
        "id": "YwbBDBTTkYMm"
      },
      "execution_count": null,
      "outputs": []
    },
    {
      "cell_type": "code",
      "source": [
        "age = 30\n",
        "print(\"I am\"+str(age)+\" years old.\")"
      ],
      "metadata": {
        "id": "ZDWRztZclP8E"
      },
      "execution_count": null,
      "outputs": []
    },
    {
      "cell_type": "markdown",
      "source": [
        "Q. students = [('Alice',90), ('Bob',85), ('Charlie', 88)]"
      ],
      "metadata": {
        "id": "XrBayN7wpaDP"
      }
    },
    {
      "cell_type": "code",
      "source": [
        "students = [('Alice',90), ('Bob',85), ('Charlie', 88)]\n",
        "\n",
        "# key에 lambda를 이용해서 함수를 적용할 수 있다.\n",
        "sorted_list = sorted(students, key= lambda x : x[1], reverse=True)\n",
        "print(sorted_list)\n"
      ],
      "metadata": {
        "colab": {
          "base_uri": "https://localhost:8080/"
        },
        "id": "euTRfMBfpeLK",
        "outputId": "3d486670-4f5b-4ea7-8f54-679502c9cb12"
      },
      "execution_count": null,
      "outputs": [
        {
          "output_type": "stream",
          "name": "stdout",
          "text": [
            "[('Alice', 90), ('Charlie', 88), ('Bob', 85)]\n"
          ]
        }
      ]
    },
    {
      "cell_type": "code",
      "source": [
        "print(list(range(5)))\n",
        "print(list(range(1, 6)))\n",
        "print(list(range(1, 10 , 2)))\n",
        "print(list(range(0, -10, -1)))"
      ],
      "metadata": {
        "colab": {
          "base_uri": "https://localhost:8080/"
        },
        "id": "Wll5afd3twEG",
        "outputId": "a4d3b01a-7490-47b2-81e3-9e274a2ee883"
      },
      "execution_count": null,
      "outputs": [
        {
          "output_type": "stream",
          "name": "stdout",
          "text": [
            "[0, 1, 2, 3, 4]\n",
            "[1, 2, 3, 4, 5]\n",
            "[1, 3, 5, 7, 9]\n",
            "[0, -1, -2, -3, -4, -5, -6, -7, -8, -9]\n"
          ]
        }
      ]
    },
    {
      "cell_type": "code",
      "source": [
        "for idx, element in enumerate(['ele1', 'ele2', 'ele3']):\n",
        "  print(idx+1, element)"
      ],
      "metadata": {
        "colab": {
          "base_uri": "https://localhost:8080/"
        },
        "id": "Ce9r5toDxW9P",
        "outputId": "43039ad2-f70c-401a-f1e5-c63d8140f095"
      },
      "execution_count": null,
      "outputs": [
        {
          "output_type": "stream",
          "name": "stdout",
          "text": [
            "1 ele1\n",
            "2 ele2\n",
            "3 ele3\n"
          ]
        }
      ]
    },
    {
      "cell_type": "code",
      "source": [
        "# Q. enumerate와 f-string을 사용해서 특정 리스트에서 원하는 형태로 출력을 하세요(인덱스와 내용 믹스)\n",
        "\n",
        "fruits = ['사과', '키위', '딸기', '참외', '수박']\n",
        "\n",
        "print('과일의 종류')\n",
        "for i, j in enumerate(fruits):\n",
        "  print(f'{i}. {j}')"
      ],
      "metadata": {
        "id": "zC0CAoLoxf66"
      },
      "execution_count": null,
      "outputs": []
    },
    {
      "cell_type": "code",
      "source": [
        "# Q. 내장함수를 이용해서 list = [0, 1, 2, 3, 4, 5, 6]에서 모든원소를 삭제 후 출력하세요\n",
        "\n",
        "list1 = [0, 1, 2, 3, 4, 5, 6]\n",
        "\n",
        "list1.clear()\n",
        "\n",
        "print(list1)"
      ],
      "metadata": {
        "id": "VxNH4zQW4zoH"
      },
      "execution_count": null,
      "outputs": []
    },
    {
      "cell_type": "code",
      "source": [
        "# Q. 150분을 시간과 분으로 변환해서 출력하세요.\n",
        "\n",
        "minutes = 150\n",
        "\n",
        "hour, minute = divmod(minutes, 60)\n",
        "print(f'{hour}시간 {minute}분')\n",
        "\n",
        "# 기본적으로 튜플 형태의 반환이나, 각각의 변수에 할당도 가능하다"
      ],
      "metadata": {
        "id": "Y28T6xOT41gJ"
      },
      "execution_count": null,
      "outputs": []
    },
    {
      "cell_type": "code",
      "source": [
        "url = 'http://news.naver.com/main/read.nhn?mode=LSD&mid=shm&sid1=105&oid=028&aid=0002334601'\n",
        "\n",
        "# Q. url에서 쿼리문을 추출하여 출력하세요\n",
        "# ?뒤에 나열된 문자열\n",
        "\n",
        "quaries = url.split('?')[1]\n",
        "lists = quaries.split('&')\n",
        "print(lists)"
      ],
      "metadata": {
        "colab": {
          "base_uri": "https://localhost:8080/"
        },
        "id": "WE40U8w_5Q0N",
        "outputId": "7d9b3858-a03b-4ede-dd95-d248368bccef"
      },
      "execution_count": 17,
      "outputs": [
        {
          "output_type": "stream",
          "name": "stdout",
          "text": [
            "['mode=LSD', 'mid=shm', 'sid1=105', 'oid=028', 'aid=0002334601']\n"
          ]
        }
      ]
    },
    {
      "cell_type": "code",
      "source": [
        "# Q. List안의 단어/알파벳이 있으면 해당 제목을 출력\n",
        "\n",
        "a = 'H'\n",
        "list1 = ['Hello World!', 'Nice Day', 'HappyBin', 'enDing_Story']\n",
        "\n",
        "title = [i for i in list1 if a.lower() in i.lower()]\n",
        "print(title)"
      ],
      "metadata": {
        "colab": {
          "base_uri": "https://localhost:8080/"
        },
        "id": "cpwMFjND9qxE",
        "outputId": "0b21eed3-042c-41c3-efad-0259a6f58fc0"
      },
      "execution_count": 28,
      "outputs": [
        {
          "output_type": "stream",
          "name": "stdout",
          "text": [
            "['Hello World!', 'HappyBin']\n"
          ]
        }
      ]
    },
    {
      "cell_type": "code",
      "source": [
        "# Q. 영어 이름을 적으면 앞에 글자를 대문자로 바꾸어 주는 프로그램\n",
        "# (단 중간에 한칸씩 띄어주어야함 ex) Kim han gyeol)\n",
        "\n",
        "name = 'kim han gyeoL'\n",
        "\n",
        "output = name.title() # 앞글자를 대문자로 바꾸고 나머지는 소문자로 바꿔주는 함수\n",
        "print(output)"
      ],
      "metadata": {
        "colab": {
          "base_uri": "https://localhost:8080/"
        },
        "id": "4WtOmpW0B_Cd",
        "outputId": "957726a5-1443-4211-dcbb-44efc96f2521"
      },
      "execution_count": 32,
      "outputs": [
        {
          "output_type": "stream",
          "name": "stdout",
          "text": [
            "Kim Han Gyeol\n"
          ]
        }
      ]
    },
    {
      "cell_type": "code",
      "source": [
        "# 문자열에서 좌우 공백 제거\n",
        "\n",
        "txt = '   양쪽에 공백이 있는 문자열입니다.   '\n",
        "ret1 = txt.lstrip()\n",
        "ret2 = txt.rstrip()\n",
        "ret3 = txt.strip()"
      ],
      "metadata": {
        "id": "0S-53EpLDMoG"
      },
      "execution_count": null,
      "outputs": []
    },
    {
      "cell_type": "code",
      "source": [
        "# 특정 문자로 결합\n",
        "loglist = ['2016/08/26 10:12:11', '200', 'OK', '이 또한 지나가리라']\n",
        "bond = ':'\n",
        "log = bond.join(loglist)\n",
        "print(log)\n",
        "\n",
        "# join : ''.join()"
      ],
      "metadata": {
        "colab": {
          "base_uri": "https://localhost:8080/"
        },
        "id": "mAdFlZyxD7e5",
        "outputId": "aea43485-3f32-4c71-9c4a-0d8dc0a9a1ad"
      },
      "execution_count": 33,
      "outputs": [
        {
          "output_type": "stream",
          "name": "stdout",
          "text": [
            "2016/08/26 10:12:11:200:OK:이 또한 지나가리라\n"
          ]
        }
      ]
    },
    {
      "cell_type": "code",
      "source": [
        "# 특정 문자열을 다른 문자열로 바꾸기(replace)\n",
        "txt = 'My Password is 1234'\n",
        "\n",
        "re_txt = txt.replace('1', 'python')\n",
        "print(re_txt)\n",
        "\n",
        "txt = '매일 많은 일들이 일어납니다.'\n",
        "ret = txt.replace('많은 일들이', '아침 일찍')\n",
        "print(ret)"
      ],
      "metadata": {
        "colab": {
          "base_uri": "https://localhost:8080/"
        },
        "id": "jWDcFcuvEOtn",
        "outputId": "a4c1beaf-11a3-4ae1-d0cc-b9db1c5a8e11"
      },
      "execution_count": 5,
      "outputs": [
        {
          "output_type": "stream",
          "name": "stdout",
          "text": [
            "My Password is python234\n",
            "매일 아침 일찍 일어납니다.\n"
          ]
        }
      ]
    },
    {
      "cell_type": "code",
      "source": [
        "# Q. 입력된 문장에서 'bad'를 'good'으로 교체해서 출력하세요\n",
        "\n",
        "txt = input('This is a bad example  ')\n",
        "\n",
        "print(txt.replace('bad', 'good'))"
      ],
      "metadata": {
        "colab": {
          "base_uri": "https://localhost:8080/"
        },
        "id": "EU_svn8fGFl2",
        "outputId": "64cd9bc7-78c4-4431-b171-947bca01aa94"
      },
      "execution_count": 7,
      "outputs": [
        {
          "output_type": "stream",
          "name": "stdout",
          "text": [
            "This is a bad example  This is a bad example\n",
            "This is a good example\n"
          ]
        }
      ]
    },
    {
      "cell_type": "code",
      "source": [
        "# 코드 값에 대응하는 문자 얻기\n",
        "\n",
        "val = int(input('문자 코드값(숫자)을 입력하세요: '))\n",
        "ch = chr(val)\n",
        "print('코드값: %d 문자: %s' %(val, ch))"
      ],
      "metadata": {
        "colab": {
          "base_uri": "https://localhost:8080/"
        },
        "id": "ec5xG1tpJbNx",
        "outputId": "f90e6b43-6461-4b3c-b584-29542387848b"
      },
      "execution_count": 8,
      "outputs": [
        {
          "output_type": "stream",
          "name": "stdout",
          "text": [
            "문자 코드값을 입력하세요: 65\n",
            "코드값: 65 문자: A\n"
          ]
        }
      ]
    },
    {
      "cell_type": "code",
      "source": [
        "while True:\n",
        "  val = int(input('문자 코드 값 입력 (0은 종료) : '))\n",
        "  if val == 0:\n",
        "    break\n",
        "  ch = chr(val)\n",
        "  print('코드값: %d 문자: %s' %(val, ch))"
      ],
      "metadata": {
        "colab": {
          "base_uri": "https://localhost:8080/"
        },
        "id": "oyG_XaoAKdmB",
        "outputId": "9b6e87b5-a162-410f-acca-72fc014d7274"
      },
      "execution_count": 11,
      "outputs": [
        {
          "name": "stdout",
          "output_type": "stream",
          "text": [
            "문자 코드 값 입력 (0은 종료) : 1\n",
            "코드값: 1 문자: \u0001\n",
            "문자 코드 값 입력 (0은 종료) : 0\n"
          ]
        }
      ]
    },
    {
      "cell_type": "code",
      "source": [
        "#Q. 문자열이 문자인지 검사\n",
        "\n",
        "txt1 = 'A'\n",
        "txt2 = '안녕'\n",
        "txt3 = 'Warcraft Three'\n",
        "txt4 = '3PO'\n",
        "ret1 = txt1.isalpha()\n",
        "ret2 = txt2.isalpha()\n",
        "ret3 = txt3.isalpha()\n",
        "ret4 = txt4.isalpha()\n",
        "\n",
        "print(ret1)\n",
        "print(ret2)\n",
        "print(ret3)\n",
        "print(ret4)"
      ],
      "metadata": {
        "colab": {
          "base_uri": "https://localhost:8080/"
        },
        "id": "I4dZIbEjLnRu",
        "outputId": "2530159c-10af-4d2a-86dc-1e6b78f5b19c"
      },
      "execution_count": 13,
      "outputs": [
        {
          "output_type": "stream",
          "name": "stdout",
          "text": [
            "True\n",
            "True\n",
            "False\n",
            "False\n"
          ]
        }
      ]
    },
    {
      "cell_type": "code",
      "source": [
        "# 문자열이 숫자인지 검사 isdigit()\n",
        "\n",
        "txt1 = '010-1234-5678'\n",
        "txt2 = 'R202'\n",
        "txt3 = '1212'\n",
        "\n",
        "ret1 = txt1.isdigit() # False\n",
        "ret2 = txt2.isdigit() # False\n",
        "ret3 = txt3.isdigit() # True"
      ],
      "metadata": {
        "colab": {
          "base_uri": "https://localhost:8080/"
        },
        "id": "1fsw647VMrbh",
        "outputId": "2c946e8b-5a46-43ac-dc40-590ccca2185a"
      },
      "execution_count": 15,
      "outputs": [
        {
          "output_type": "stream",
          "name": "stdout",
          "text": [
            "False\n",
            "False\n",
            "True\n"
          ]
        }
      ]
    },
    {
      "cell_type": "code",
      "source": [
        "txt = input('문자열 입력 : ')\n",
        "if txt.isdigit():\n",
        "  res = int(txt)+100\n",
        "  print(res)\n",
        "else:\n",
        "  print('숫자만 입력해주세요')"
      ],
      "metadata": {
        "colab": {
          "base_uri": "https://localhost:8080/"
        },
        "id": "fOz9qTH0NXBd",
        "outputId": "6623d5f7-a04c-44f0-a044-2c900145591a"
      },
      "execution_count": 17,
      "outputs": [
        {
          "name": "stdout",
          "output_type": "stream",
          "text": [
            "문자열 입력 : 32a\n",
            "숫자만 입력해주세요523g\n"
          ]
        }
      ]
    },
    {
      "cell_type": "code",
      "source": [
        "# isalnum() 문자열이 문자 또는 숫자인지 검사 : 문자열이 영어, 한글 혹은 숫자이면 참 리턴, 아니면 거짓 리턴\n",
        "\n",
        "txt1 = '안녕하세요?'\n",
        "\n",
        "res = lambda: True if txt1.isalnum() else False\n",
        "res()"
      ],
      "metadata": {
        "colab": {
          "base_uri": "https://localhost:8080/"
        },
        "id": "a9j9Ab8JNxfc",
        "outputId": "64d08977-1915-4ac6-b3c9-1cde1c4bee1c"
      },
      "execution_count": 19,
      "outputs": [
        {
          "output_type": "execute_result",
          "data": {
            "text/plain": [
              "False"
            ]
          },
          "metadata": {},
          "execution_count": 19
        }
      ]
    },
    {
      "cell_type": "code",
      "source": [
        "txt = 'A lot of Things occur each day.'\n",
        "\n",
        "ret1 = txt.upper()\n",
        "ret1 = txt.lower()\n",
        "ret1 = txt.title()\n",
        "ret4 = txt.capitalize() # 문자열의 첫번째 문자를 대문자, 나머지는 소문자로 변환\n",
        "\n",
        "print(ret1)\n",
        "print(ret2)\n",
        "print(ret3)\n",
        "print(ret4)"
      ],
      "metadata": {
        "colab": {
          "base_uri": "https://localhost:8080/"
        },
        "id": "uUY7QREdQdoj",
        "outputId": "72812e5f-2f1d-4d6c-8bef-894ff74df4cf"
      },
      "execution_count": 21,
      "outputs": [
        {
          "output_type": "stream",
          "name": "stdout",
          "text": [
            "A Lot Of Things Occur Each Day.\n",
            "False\n",
            "True\n",
            "A lot of things occur each day.\n"
          ]
        }
      ]
    },
    {
      "cell_type": "code",
      "source": [
        "# Q. numbers내부에 들어잇는 숫자가 몇번등장하는지 출력하는 코드\n",
        "from collections import Counter\n",
        "\n",
        "numbers = [3,6,3,5,8,2,9,7,4,3,6,3,5,8,2,9,7,4]\n",
        "\n",
        "freq = Counter(numbers)\n",
        "for i in freq.items():\n",
        "  print(f\"{i[0]} : {i[1]}회\")\n",
        "\n",
        "sorted_list = sorted(freq.items(), key=lambda x:(-x[1], x[0]))\n",
        "print(sorted_list)"
      ],
      "metadata": {
        "colab": {
          "base_uri": "https://localhost:8080/"
        },
        "id": "k0hgoTpPRI68",
        "outputId": "a7d10bc2-4f3b-4944-f5db-e3d67ca647f7"
      },
      "execution_count": 31,
      "outputs": [
        {
          "output_type": "stream",
          "name": "stdout",
          "text": [
            "3 : 4회\n",
            "6 : 2회\n",
            "5 : 2회\n",
            "8 : 2회\n",
            "2 : 2회\n",
            "9 : 2회\n",
            "7 : 2회\n",
            "4 : 2회\n",
            "[(3, 4), (2, 2), (4, 2), (5, 2), (6, 2), (7, 2), (8, 2), (9, 2)]\n"
          ]
        }
      ]
    },
    {
      "cell_type": "code",
      "source": [
        "# list a의 모든 원소를 실수형으로 바꾸어 출력하세요\n",
        "# map함수는 리스트 하나하나의 요소에 무언가를 공통적으로 적용할 때 유용하다.\n",
        "\n",
        "a = [1,2,3,4,5]\n",
        "a_float = list(map(float, a)) #float을 적용한 경우이나 다른 함수를 적용하기에도 용이하다.\n"
      ],
      "metadata": {
        "id": "cJjJVxnxlnO8"
      },
      "execution_count": 32,
      "outputs": []
    },
    {
      "cell_type": "code",
      "source": [
        "# Q. 데이터를 입력하지않으면 종료되는 코딩, 박복적으로 작업을 수행할 수 있음\n",
        "\n",
        "while True:\n",
        "  val = input(\"입력 : \")\n",
        "  if not val:\n",
        "    break\n",
        "  else:\n",
        "    print(val)"
      ],
      "metadata": {
        "colab": {
          "base_uri": "https://localhost:8080/"
        },
        "id": "yX6AvyWWl610",
        "outputId": "5aed1159-305f-47de-c149-4ba9e285e94c"
      },
      "execution_count": 35,
      "outputs": [
        {
          "output_type": "stream",
          "name": "stdout",
          "text": [
            "입력 : \n",
            "\n"
          ]
        }
      ]
    },
    {
      "cell_type": "code",
      "source": [
        "# Q. 데이터를 입력하지않으면 종료되는 코딩, 박복적으로 작업을 수행할 수 있음\n",
        "\n",
        "while True:\n",
        "  val = input(\"입력 : \")\n",
        "  if not val: break"
      ],
      "metadata": {
        "colab": {
          "base_uri": "https://localhost:8080/"
        },
        "id": "WgWkhl4GnHii",
        "outputId": "b4a15e9a-b1e5-4100-dc1c-149c3cfda13d"
      },
      "execution_count": 36,
      "outputs": [
        {
          "name": "stdout",
          "output_type": "stream",
          "text": [
            "입력 : \n"
          ]
        }
      ]
    },
    {
      "cell_type": "markdown",
      "source": [
        "[ 날짜 함수 ]\n",
        "\n",
        "날짜와 시간을 처리하기 위한 주요 라이브러리는 datetime입니다. 이 라이브러리는 날짜, 시간, 시간대와 관련된 다양한 클래스와 함수를 제공하며, 날짜와 시간 연산에 매우 유용\n",
        "- datetime.date: 날짜(연, 월, 일)를 표현하는 클래스\n",
        "    - today(): 오늘의 날짜를 반환\n",
        "- datetime.time: 시간(시, 분, 초, 마이크로초)을 표현하는 클래스\n",
        "- datetime.datetime: 날짜와 시간을 모두 포함하는 클래스\n",
        "    - now(): 현재의 날짜와 시간을 반환\n",
        "- datetime.timedelta: 두 날짜/시간 간의 차이를 표현하는 클래스\n",
        "- datetime.tzinfo: 시간대 정보를 위한 기본 클래스\n",
        "\n",
        "datetime 모듈의 날짜와 시간 객체들을 문자열 형식으로 포맷팅하거나 문자열로부터 날짜와 시간 객체를 생성하기 위해 사용하는 주요 메서드는 strftime()와 strptime()\n",
        "- strftime() (String Format Time)\n",
        "    - 날짜와 시간 객체를 문자열로 변환하는 데 사용\n",
        "    - 사용자가 지정한 형식 문자열을 기반으로 날짜와 시간 정보를 문자열로 표현\n",
        "- strptime() (String Parse Time)\n",
        "    - 문자열을 날짜와 시간 객체로 변환하는 데 사용\n",
        "    - 주어진 형식 문자열을 기반으로 문자열에서 날짜와 시간 정보를 파싱"
      ],
      "metadata": {
        "id": "HHYjfuWNnafn"
      }
    },
    {
      "cell_type": "code",
      "source": [
        "import datetime\n",
        "\n",
        "now = datetime.datetime.now()\n",
        "print(now)\n",
        "\n",
        "today = datetime.date.today()\n",
        "print(today)\n",
        "\n",
        "# 특정 날짜 및 시간을 직접 지정\n",
        "d = datetime.datetime(2023, 11, 2, 14, 29, 45)\n",
        "print(d)\n",
        "\n",
        "# 날짜 간 차이 계산\n",
        "delta = datetime.timedelta(days=7) # 7일의 기간\n",
        "new_date = today + delta\n",
        "print(new_date) # 오늘로부터 7일 후의 날짜\n",
        "\n",
        "# 두 날짜 간의 차이 계산\n",
        "date1 = datetime.date(2023, 1, 1)\n",
        "date2 = datetime.date(2023, 12, 31)\n",
        "diff = date2 - date1\n",
        "print(diff.days) # 출력 364"
      ],
      "metadata": {
        "id": "3gYmeam8nkSI"
      },
      "execution_count": null,
      "outputs": []
    },
    {
      "cell_type": "markdown",
      "source": [
        "포맷 코드 표<BR>\n",
        "포맷코드   설명   예<BR>\n",
        "%a   요일 줄임말   Sun, Mon, ... Sat<BR>\n",
        "%A   요일   Sunday, Monday, ..., Saturday<BR>\n",
        "%w   요일을 숫자로 표시, 월요일일요일, 06   0, 1, ..., 6<BR>\n",
        "%d   일   01, 02, ..., 31<BR>\n",
        "%b   월 줄임말   Jan, Feb, ..., Dec<BR>\n",
        "%B   월   January, February, …, December<BR>\n",
        "%m   숫자 월   01, 02, ..., 12<BR>\n",
        "%y   두 자릿수 연도   01, 02, ..., 99<BR>\n",
        "%Y   네 자릿수 연도   0001, 0002, ..., 2017, 2018, 9999<BR>\n",
        "%H   시간(24시간)   00, 01, ..., 23<BR>\n",
        "%I   시간(12시간)   01, 02, ..., 12<BR>\n",
        "%p   AM, PM   AM, PM<BR>\n",
        "%M   분   00, 01, ..., 59<BR>\n",
        "%S   초   00, 01, ..., 59<BR>\n",
        "%Z   시간대   대한민국 표준시<BR>\n",
        "%j   1월 1일부터 경과한 일수   001, 002, ..., 366<BR>\n",
        "%U   1년중 주차, 월요일이 한 주의 시작으로   00, 01, ..., 53<BR>\n",
        "%W   1년중 주차, 월요일이 한 주의 시작으로   00, 01, ..., 53<BR>\n",
        "%c   날짜, 요일, 시간을 출력, 현재 시간대 기준   Sat May 19 11:14:27 2018<BR>\n",
        "%x   날짜를 출력, 현재 시간대 기준   05/19/18<BR>\n",
        "%X   시간을 출력, 현재 시간대 기준   '11:44:22'"
      ],
      "metadata": {
        "id": "_Dmpvfxerk3r"
      }
    },
    {
      "cell_type": "code",
      "source": [
        "import datetime\n",
        "\n",
        "now = datetime.datetime.now()\n",
        "print(now, type(now))\n",
        "formatted1 = now.strftime(\"%Y-%m-%d %H:%M:%S\")\n",
        "print(formatted1, type(formatted1))\n",
        "\n",
        "formatted2 = now.strftime(\"%Y-%m-%d\")\n",
        "print(formatted2, type(formatted2))"
      ],
      "metadata": {
        "colab": {
          "base_uri": "https://localhost:8080/"
        },
        "id": "qfzam7nhrlPN",
        "outputId": "aeffab2a-07b2-40b0-8a8c-3adb907dc88a"
      },
      "execution_count": 39,
      "outputs": [
        {
          "output_type": "stream",
          "name": "stdout",
          "text": [
            "2024-05-08 05:32:40.111614 <class 'datetime.datetime'>\n",
            "2024-05-08 05:32:40 <class 'str'>\n",
            "2024-05-08 <class 'str'>\n"
          ]
        }
      ]
    },
    {
      "cell_type": "code",
      "source": [
        "import datetime\n",
        "\n",
        "date_string = \"2023-11-02 14:45:30\"\n",
        "print(date_string, type(date_string))\n",
        "\n",
        "dt = datetime.datetime.strptime(date_string, \"%Y-%m-%d %H:%M:%S\")\n",
        "print(dt, type(dt))"
      ],
      "metadata": {
        "colab": {
          "base_uri": "https://localhost:8080/"
        },
        "id": "mCTkgG--sscg",
        "outputId": "bf925301-10be-450c-e1df-079da1a8ea67"
      },
      "execution_count": 41,
      "outputs": [
        {
          "output_type": "stream",
          "name": "stdout",
          "text": [
            "2023-11-02 14:45:30 <class 'str'>\n",
            "2023-11-02 14:45:30 <class 'datetime.datetime'>\n"
          ]
        }
      ]
    },
    {
      "cell_type": "markdown",
      "source": [
        "time 모듈\n",
        "- 시스템 시간에 접근하거나 간단한 타이머 기능을 구현\n",
        "- 함수와 같이 프로그램을 일정 시간 동안 중지시키는 데 사용\n",
        "- 시간을 연도, 월, 일, 시, 분, 초 등의 구성 요소로 변환하고 다룰 수 있는 struct_time 객체를 제공\n",
        "- time 모듈은 날짜와 시간을 처리하는 다양한 프로그래밍 요구에 대응할 수 있는 기본적인 기능을 제공하지만, 더 복잡한 날짜 시간 처리나 시간대 변환 등은 datetime 모듈 또는 외부 라이브러리를 사용"
      ],
      "metadata": {
        "id": "VJ33ooFbtw_D"
      }
    },
    {
      "cell_type": "code",
      "source": [
        "# localtime() 함수는 파이썬의 time 모듈에 포함되어 있으며 이 함수는 초로 표시되는 시간을 구조화된 시간 튜플 형태로 제공\n",
        "\n",
        "import time\n",
        "\n",
        "local_time = time.localtime()\n",
        "print(local_time)\n",
        "\n",
        "t = time.time() # 유닉스 시간으로부터 현재까지의 초\n",
        "time.localtime(t) # 초로 표현된 시간을 구조화된 시간 튜플 형태로 변환 time.struct_time( ... )"
      ],
      "metadata": {
        "id": "RVEwNCxwtxkw"
      },
      "execution_count": null,
      "outputs": []
    },
    {
      "cell_type": "code",
      "source": [
        "# strftime 함수는 시간에 관계된 것을 세밀하게 표현할 수 있는 여러가지 포맷 코드 제공\n",
        "# time.localtime() 함수는 초로 표현된 시간을 구조화된 시간 튜플 형태로 변환\n",
        "\n",
        "import time\n",
        "\n",
        "d = time.strftime('%d', time.localtime(time.time())) # day\n",
        "m = time.strftime('%m', time.localtime(time.time())) # month\n",
        "y = time.strftime('%Y', time.localtime(time.time())) # Year\n",
        "a = time.strftime('%A', time.localtime(time.time())) # 요일\n",
        "\n",
        "print(d, m, y, a)"
      ],
      "metadata": {
        "colab": {
          "base_uri": "https://localhost:8080/"
        },
        "id": "WHD6r6sOytba",
        "outputId": "0cbd218f-1ef8-4984-dc6d-1fd97a5563a4"
      },
      "execution_count": 42,
      "outputs": [
        {
          "output_type": "stream",
          "name": "stdout",
          "text": [
            "08 05 2024 Wednesday\n"
          ]
        }
      ]
    },
    {
      "cell_type": "code",
      "source": [
        "# Q. 1609160537.371015을 \"Sat Jun 26 08:35:03 2021\" 포맷으로 출력하세요.\n",
        "\n",
        "import time\n",
        "\n",
        "current_time = time.localtime(1609160537.371015)\n",
        "\n",
        "# struct_time 객체를 인간이 읽을 수 있는 형태로 변환\n",
        "print(time.strftime('%a %b %d %H:%M:%S %Y', current_time))\n",
        "\n",
        "readable_time = time.asctime(current_time)\n",
        "print(readable_time)"
      ],
      "metadata": {
        "colab": {
          "base_uri": "https://localhost:8080/"
        },
        "id": "irCM5FtFzte7",
        "outputId": "f7d1ec4c-f4d1-4940-f8fa-54471ad4c102"
      },
      "execution_count": 55,
      "outputs": [
        {
          "output_type": "stream",
          "name": "stdout",
          "text": [
            "Mon Dec 28 13:02:17 2020\n",
            "Mon Dec 28 13:02:17 2020\n"
          ]
        }
      ]
    },
    {
      "cell_type": "code",
      "source": [
        "# timestamp -> str\n",
        "import time\n",
        "\n",
        "t = time.time() # 실수형\n",
        "print(t, type(t))\n",
        "s = str(t)\n",
        "print(s, type(s))"
      ],
      "metadata": {
        "colab": {
          "base_uri": "https://localhost:8080/"
        },
        "id": "wOq9gn4d22q1",
        "outputId": "62a66c5c-e188-435f-848c-c96b41054c88"
      },
      "execution_count": 56,
      "outputs": [
        {
          "output_type": "stream",
          "name": "stdout",
          "text": [
            "1715149207.5278745 <class 'float'>\n",
            "1715149207.5278745 <class 'str'>\n"
          ]
        }
      ]
    },
    {
      "cell_type": "code",
      "source": [
        "# timestamp -> datetime\n",
        "from datetime import datetime\n",
        "\n",
        "t = time.time()\n",
        "print(t, type(t))\n",
        "d = datetime.fromtimestamp(t)\n",
        "print(d, type(d))"
      ],
      "metadata": {
        "colab": {
          "base_uri": "https://localhost:8080/"
        },
        "id": "WJhxetTo3CJe",
        "outputId": "eedcda21-8818-4896-bedb-7ffddc550f31"
      },
      "execution_count": 58,
      "outputs": [
        {
          "output_type": "stream",
          "name": "stdout",
          "text": [
            "1715149361.6598709 <class 'float'>\n",
            "2024-05-08 06:22:41.659871 <class 'datetime.datetime'>\n"
          ]
        }
      ]
    },
    {
      "cell_type": "code",
      "source": [
        "# timestamp -> datetime -> str\n",
        "\n",
        "from datetime import datetime\n",
        "\n",
        "s = datetime.now()\n",
        "print(s, type(s))\n",
        "\n",
        "s1 = s.strftime('%Y-%m-%d %H:%M:%S')\n",
        "print(s1, type(s1))"
      ],
      "metadata": {
        "colab": {
          "base_uri": "https://localhost:8080/"
        },
        "id": "wjheggUv4LyR",
        "outputId": "b2f6f70e-7fb9-47dc-af79-d47f844419e6"
      },
      "execution_count": 59,
      "outputs": [
        {
          "output_type": "stream",
          "name": "stdout",
          "text": [
            "2024-05-08 06:31:30.285481 <class 'datetime.datetime'>\n",
            "2024-05-08 06:31:30 <class 'str'>\n"
          ]
        }
      ]
    },
    {
      "cell_type": "code",
      "source": [
        "# timestamp -> datetime -> str\n",
        "# Q. 현재 시간을 년-월-일 시:분:초로 출력\n",
        "\n",
        "import time\n",
        "from datetime import datetime\n",
        "\n",
        "t = time.time() # timestamp\n",
        "lt = datetime.fromtimestamp(t) # timestamp -> datetime\n",
        "st = datetime.strftime(lt, '%Y-%m-%d %X') # datetime -> str, %X는 시간을 출력\n",
        "print(st, type(st))"
      ],
      "metadata": {
        "colab": {
          "base_uri": "https://localhost:8080/"
        },
        "id": "4fhGrpzp6Mj6",
        "outputId": "a0186d9b-3fed-4b02-e3c9-35179d0d8212"
      },
      "execution_count": 64,
      "outputs": [
        {
          "output_type": "stream",
          "name": "stdout",
          "text": [
            "2024-05-08 06:38:32 06:38:32 <class 'str'>\n"
          ]
        }
      ]
    },
    {
      "cell_type": "code",
      "source": [
        "# str -> datetime\n",
        "\n",
        "from datetime import datetime\n",
        "\n",
        "s = '2021-07-20 11:13:58'\n",
        "print(s, type(s))\n",
        "d = datetime.strptime(s, '%Y-%m-%d %X')\n",
        "print(d, type(d))"
      ],
      "metadata": {
        "colab": {
          "base_uri": "https://localhost:8080/"
        },
        "id": "cfNbO6Sx7dyT",
        "outputId": "45e2479c-a007-4e7a-b102-e0fbb410d6d7"
      },
      "execution_count": 66,
      "outputs": [
        {
          "output_type": "stream",
          "name": "stdout",
          "text": [
            "2021-07-20 11:13:58 <class 'str'>\n",
            "2021-07-20 11:13:58 <class 'datetime.datetime'>\n"
          ]
        }
      ]
    },
    {
      "cell_type": "code",
      "source": [
        "# str -> datetime -> timestamp\n",
        "from datetime import datetime\n",
        "import time\n",
        "\n",
        "s = '2021-07-20 11:13:58'\n",
        "d = datetime.strptime(s, '%Y-%m-%d %X')\n",
        "t = time.mktime(d.timetuple())\n",
        "print(t, type(t))"
      ],
      "metadata": {
        "colab": {
          "base_uri": "https://localhost:8080/"
        },
        "id": "mtIysBBK75I1",
        "outputId": "bc011f47-15a8-445a-ef6c-1fc5fe812f7e"
      },
      "execution_count": 67,
      "outputs": [
        {
          "output_type": "stream",
          "name": "stdout",
          "text": [
            "1626779638.0 <class 'float'>\n"
          ]
        }
      ]
    }
  ]
}