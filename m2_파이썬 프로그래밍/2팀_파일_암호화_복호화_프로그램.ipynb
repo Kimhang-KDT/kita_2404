{
  "nbformat": 4,
  "nbformat_minor": 0,
  "metadata": {
    "colab": {
      "provenance": []
    },
    "kernelspec": {
      "name": "python3",
      "display_name": "Python 3"
    },
    "language_info": {
      "name": "python"
    }
  },
  "cells": [
    {
      "cell_type": "code",
      "source": [
        "!pip install cryptography"
      ],
      "metadata": {
        "colab": {
          "base_uri": "https://localhost:8080/"
        },
        "id": "PraxZM3yOMCZ",
        "outputId": "63155d5d-ac0a-4a40-d5ae-89494ae352e8"
      },
      "execution_count": 1,
      "outputs": [
        {
          "output_type": "stream",
          "name": "stdout",
          "text": [
            "Requirement already satisfied: cryptography in /usr/local/lib/python3.10/dist-packages (42.0.7)\n",
            "Requirement already satisfied: cffi>=1.12 in /usr/local/lib/python3.10/dist-packages (from cryptography) (1.16.0)\n",
            "Requirement already satisfied: pycparser in /usr/local/lib/python3.10/dist-packages (from cffi>=1.12->cryptography) (2.22)\n"
          ]
        }
      ]
    },
    {
      "cell_type": "code",
      "execution_count": 25,
      "metadata": {
        "id": "ABzkKkq-M0QS"
      },
      "outputs": [],
      "source": [
        "from cryptography.fernet import Fernet\n",
        "import difflib\n",
        "\n",
        "class File:\n",
        "  def __init__(self, filename):\n",
        "    self.filename = filename\n",
        "\n",
        "  def openFile(self):\n",
        "    with open(self.filename, 'rb') as file:\n",
        "      file_data = file.read()\n",
        "\n",
        "      self.file_data = file_data\n",
        "\n",
        "class Key(File):\n",
        "  def __init__(self, filename):\n",
        "    super().__init__(filename)\n",
        "\n",
        "  def makeKey(self):\n",
        "    self.key    = Fernet.generate_key()\n",
        "    self.fernet = Fernet(self.key)\n",
        "\n",
        "  def saveKeyFile(self):\n",
        "    with open('key.txt', 'wb') as file:\n",
        "      file.write(self.key)\n",
        "\n",
        "  def getKeyFernet(self, keyfile):\n",
        "    with open(keyfile, 'rb') as file:\n",
        "      file_data = file.read()\n",
        "\n",
        "      self.key = file_data\n",
        "      self.fernet = Fernet(self.key)\n",
        "\n",
        "class Encrypt(Key):\n",
        "  def __init__(self, filename):\n",
        "    super().__init__(filename)\n",
        "    super().openFile()\n",
        "    super().makeKey()\n",
        "    super().saveKeyFile()\n",
        "\n",
        "  def encryptData(self):\n",
        "    fernet = self.fernet\n",
        "    encrypted_data = fernet.encrypt(self.file_data)\n",
        "    self.encrypted_data = encrypted_data\n",
        "\n",
        "  def saveFileEncrypted(self):\n",
        "    with open('encrypted.txt', 'wb') as file:\n",
        "      file.write(self.encrypted_data)\n",
        "\n",
        "class Decrypt(Key):\n",
        "  def __init__(self, enfile, keyfile):\n",
        "    super().__init__(enfile)\n",
        "    super().openFile()\n",
        "    super().getKeyFernet(keyfile)\n",
        "\n",
        "  def decryptData(self):\n",
        "    fernet = self.fernet\n",
        "    encrypted_data = self.file_data\n",
        "    self.decrypted_data = fernet.decrypt(encrypted_data)\n",
        "\n",
        "  def saveFileDecrypted(self):\n",
        "    with open('decrypted.txt', 'wb') as file:\n",
        "      file.write(self.decrypted_data)\n",
        "\n",
        "of = 'test.txt'\n",
        "ef = 'encrypted.txt'\n",
        "kf = 'key.txt'\n",
        "encryptedFile = Encrypt(of)\n",
        "encryptedFile.encryptData()\n",
        "encryptedFile.saveFileEncrypted()\n",
        "decryptedFile = Decrypt(ef, kf)\n",
        "decryptedFile.decryptData()\n",
        "decryptedFile.saveFileDecrypted()\n"
      ]
    }
  ]
}