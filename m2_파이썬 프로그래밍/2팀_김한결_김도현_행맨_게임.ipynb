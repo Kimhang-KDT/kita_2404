{
  "nbformat": 4,
  "nbformat_minor": 0,
  "metadata": {
    "colab": {
      "provenance": []
    },
    "kernelspec": {
      "name": "python3",
      "display_name": "Python 3"
    },
    "language_info": {
      "name": "python"
    }
  },
  "cells": [
    {
      "cell_type": "code",
      "source": [
        "룰 : 단어 맞히기 게임 중 하나로, 글자 수만큼 빈 칸 또는 밑줄을 그려놓고 26개 글자 중 하나를 대면 해당 단어 안에 그 글자가 있을 경우 있는 칸에 다 적어놓고, 없을 경우 라이프를 하나 깎는다\n",
        "\n",
        "\n",
        "1. 게임 실행시 교수대, '게임을 시작합니다',  출력\n",
        "  - class Gallows\n",
        "  - 처음 보여줄 교수대 미리 만들어놓고 출력 : 초기값 변수로 저장\n",
        "  - 교수대에 출력할 '문자'들 미리 f''로 변수에 담아두기 : 초기값과 다른 변수로 저장\n",
        "  - 정답 class CorrectWord\n",
        "    - from nltk.corpus import words : words = words.words()\n",
        "    - correctWord.word = random.choice(words.get_words()) & correctWord.len = len(correct_word)\n",
        "    - len(correct_word)에 맞는 [_] 생성하여 f''에 저장\n",
        "      - 각 알파벳 개수만큼 리스트화해서 저장 혹은 그때그때 알맞는 자리에 알파벳 추가 예) [a]\n",
        "2. [_][_][_][_][_] 출력, input 입력창을 주고, '제가 생각한 단어는 5글자 입니다.' 출력\n",
        "3. 알파벳이 아니거나 여러개 입력시 '잘못 입력하셨습니다. 다시 입력해주세요' 출력\n",
        "   - 정규표현식 re.match'[a-z|A-Z]' 사용 | list a-z 만들어서 사용\n",
        "4. 알파벳 입력시 정답과 비교. not in correctWord.word 이면 'OuuuuuuNooooo That\\'s Wrong!!' 출력\n",
        "   - 1번에서 만든 교수대 다음 step 출력(pop()), [_][_][_][_][_] 위에 틀린 글자 출력\n",
        "5. if in correctWord.word 이면 'Yeeeeeaaaaahhh That\\'s right!! You Geinius!!!'\n",
        "   - class User에서 알파벳을 받아 check_answer() 실행, user.wrong || user.right 저장\n",
        "6. 다시 input입력창 제공, '알파벳을 입력해주세요' 출력\n",
        "7. 4~6번 반복, 매번 맞춘 글자의 수와 정답의 len을 비교, hangman.life가 0은 아닌지 체크\n",
        "8. 만약 답을 맞추기 전에 hangman.life가 0이 된다면 완성본 교수대, 옆에 ~GameOver~ 출력 후 프로그램 종료\n",
        "9. hangman.life가 0이 되기 전에 정답을 모두 맞추면 ~Congratulations! You Survived!~ 출력 후 프로그램 종료\n",
        "\n",
        "필요한 모듈 : random, wordlist, re,"
      ],
      "metadata": {
        "id": "VBQ1mSr2PZsa"
      },
      "execution_count": null,
      "outputs": []
    },
    {
      "cell_type": "code",
      "execution_count": null,
      "metadata": {
        "id": "NR5N_AilHa-H"
      },
      "outputs": [],
      "source": [
        "print('+------+')\n",
        "print('|      |') # hangman.life가 하나씩 깎일 때마다 여기서부터 하나씩 생겨난다.\n",
        "print('|      |')\n",
        "print('|      O       ~GameOver~') # ~Congratulations! You Survived!~\n",
        "print('|    ＼|／') # 머리 위 선부터 시작해서 마지막 다리까지 생기면 GameOver\n",
        "print('|      |  ')\n",
        "print('|    ／ ＼     i j k l m n o') # 틀린 글자는 이곳에 적힌다.\n",
        "print('|              a b c d e ') # hangman.life = 9\n",
        "print('|       ')\n",
        "print('|          [s] [_] [_] [i] [_]') # 정답 : split\n",
        "print('           [_] [p] [p] [_] [_]') # 정답 : apple  user가 p를 입력시 p가 있는 모든 자리에 p 추가"
      ]
    },
    {
      "cell_type": "code",
      "source": [
        "!pip install nltk"
      ],
      "metadata": {
        "id": "KKuJHJ7bS5p4"
      },
      "execution_count": null,
      "outputs": []
    },
    {
      "cell_type": "code",
      "source": [
        "from nltk.corpus import words\n",
        "import random\n",
        "import re\n",
        "\n",
        "class Gallows(CorrectWord):\n",
        "  def __init__(self):\n",
        "    super().__init__()\n",
        "    self.g1 = f\"+------+\"; self.g2 = f\"|{' ' * 6}|\"; self.g3 = f\"|{' ' * 9}\"; self.g4 = f\"|{' ' * 6}O\"\n",
        "    self.g5 = f\"|{' ' * 5}＼|\"; self.g6 = f\"|{' ' * 4}＼|／\"; self.g7 = f\"|{' ' * 5}／\"; self.g8 = f\"|{' ' * 4}／ ＼\"\n",
        "\n",
        "  def show_gallows(self): # 교수대 초기값\n",
        "    print(self.g1+'\\n'+(self.g3+'\\n') * 4, end='')\n",
        "    #print(self.g1+'\\n'+(self.g3+'\\n') * 4, end='')\n",
        "    print(self.g3+self.box+'\\n'+(self.g3+'\\n') * 2)\n",
        "\n",
        "  def show_box_answer(self):\n",
        "    # _ _ _ _ _ 에 맞는 위치 찾아(이건 process에서 처리) 알파벳 추가 공백은 print(' '.join())로 처리\n",
        "    print(' '.join(self.box))\n",
        "\n",
        "  def show_game_over(self):\n",
        "    print(self.g1)\n",
        "    print((self.g2+'\\n') * 2, end='')\n",
        "    print(self.g4)\n",
        "    print(self.g6)\n",
        "    print(self.g2)\n",
        "    print(self.g8)\n",
        "    print((self.g3+'\\n') * 3)\n",
        "\n",
        "class CorrectWord:\n",
        "  def __init__(self):\n",
        "    self.correct_word = random.choice(list(filter(lambda x: len(x) <= 8, words.words())))\n",
        "    self.len  = len(self.correct_word)\n",
        "    self.box  = '[_]' * self.len\n",
        "    self.pw = ' '.join('[' + i + ']' for i in self.correct_word)\n",
        "\n",
        "class User:\n",
        "  def get_str(self):\n",
        "    while True:\n",
        "      alph = str(input('알파벳을 입력해주세요')).lower()\n",
        "\n",
        "      if not re.fullmatch(r'[a-z]', alph):\n",
        "        print('잘못 입력하셨습니다. 다시 입력해주세요')\n",
        "        continue\n",
        "\n",
        "      return alph\n",
        "\n",
        "class Process(CorrectWord):\n",
        "  def __init__(self):\n",
        "    super().__init__() # self.word\n",
        "    self.life = 9\n",
        "    self.user_answer = list('' for _ in range(self.len))\n",
        "    print(self.correct_word)\n",
        "\n",
        "  def inspect_word(self, alph):\n",
        "    if alph in self.correct_word:\n",
        "      print('Yeeeeeaaaaahhh That\\'s right!! You Geinius!!!')\n",
        "      # user_answer에 맞는 위치값 찾아 알파벳 추가\n",
        "      #user_answer[] = alph\n",
        "      # correct_word를 완성시 return True\n",
        "      return True\n",
        "    else:\n",
        "      self.life -= 1\n",
        "      print('OuuuuuuNooooo That\\'s Wrong!!')\n",
        "\n",
        "def main():\n",
        "  p = Process() # CorrectWord에서 단어 생성\n",
        "  g = Gallows()\n",
        "  u = User() # 유저 객체 생성\n",
        "\n",
        "  g.show_gallows() # 게임 시작 화면 : CorrectWord 정보를 상속받아 출력\n",
        "\n",
        "  for i in range(9):\n",
        "    alph = u.get_str() # user.alph 반환\n",
        "    win = p.inspect_word(alph)\n",
        "    g.show_box_answer()\n",
        "    if win: # alph / word 비교 : life 차감\n",
        "      print('~Congratulations! You Survived!~')\n",
        "      break\n",
        "\n",
        "  else:\n",
        "    print('~Game Over~')\n",
        "\n",
        "if __name__ == '__main__':\n",
        "  main()"
      ],
      "metadata": {
        "colab": {
          "base_uri": "https://localhost:8080/"
        },
        "id": "9g0MlvVanuDm",
        "outputId": "2ac588a8-18f4-4ff5-ecce-7c03ce9d156c"
      },
      "execution_count": 32,
      "outputs": [
        {
          "output_type": "stream",
          "name": "stdout",
          "text": [
            "Serpent\n",
            "+------+\n",
            "|         \n",
            "|         \n",
            "|         \n",
            "|         \n",
            "|         [_][_][_][_][_][_][_][_]\n",
            "|         \n",
            "|         \n",
            "\n",
            "알파벳을 입력해주세요a\n",
            "OuuuuuuNooooo That's Wrong!!\n",
            "[ _ ] [ _ ] [ _ ] [ _ ] [ _ ] [ _ ] [ _ ] [ _ ]\n",
            "알파벳을 입력해주세요e\n",
            "Yeeeeeaaaaahhh That's right!! You Geinius!!!\n",
            "[ _ ] [ _ ] [ _ ] [ _ ] [ _ ] [ _ ] [ _ ] [ _ ]\n",
            "~Congratulations! You Survived!~\n"
          ]
        }
      ]
    }
  ]
}