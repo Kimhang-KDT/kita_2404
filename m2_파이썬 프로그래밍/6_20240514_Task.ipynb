{
  "nbformat": 4,
  "nbformat_minor": 0,
  "metadata": {
    "colab": {
      "provenance": []
    },
    "kernelspec": {
      "name": "python3",
      "display_name": "Python 3"
    },
    "language_info": {
      "name": "python"
    }
  },
  "cells": [
    {
      "cell_type": "markdown",
      "source": [
        "Task1_0514. BC, CC, ABC 모두 C가 출력되는 정규 표현식을 ( )에 작성하세요."
      ],
      "metadata": {
        "id": "qV7ZTEI1EgjR"
      }
    },
    {
      "cell_type": "code",
      "execution_count": 32,
      "metadata": {
        "colab": {
          "base_uri": "https://localhost:8080/"
        },
        "id": "QU2JE3rDEe3e",
        "outputId": "83b80e57-5416-4d84-d405-8425bf70d725"
      },
      "outputs": [
        {
          "output_type": "stream",
          "name": "stdout",
          "text": [
            "C\n",
            "C\n",
            "C\n"
          ]
        }
      ],
      "source": [
        "import re\n",
        "pattern = re.compile('C$')\n",
        "#pattern = re.compile('')\n",
        "text1 = 'BC'\n",
        "text2 = 'CC'\n",
        "text3 = 'ABC'\n",
        "p1 = pattern.search(text1)\n",
        "p2 = pattern.search(text2)\n",
        "p3 = pattern.search(text3)\n",
        "print(p1.group())\n",
        "print(p2.group())\n",
        "print(p3.group())"
      ]
    },
    {
      "cell_type": "markdown",
      "source": [
        "Task2_0514. ' Python3 is very good programming language!'에서  ['Python', 'is', 'very', 'good', 'programming', 'language']를 모두 출력하세요."
      ],
      "metadata": {
        "id": "9R9Bas8ZG-ho"
      }
    },
    {
      "cell_type": "code",
      "source": [
        "text =  'Python3 is very good programming language!'\n",
        "pattern = re.compile('[a-zA-Z]+')\n",
        "pattern.findall(text)"
      ],
      "metadata": {
        "colab": {
          "base_uri": "https://localhost:8080/"
        },
        "id": "6_eg5g70G_Rp",
        "outputId": "f6b9444e-bca1-4dfe-96d9-fda55ca6231f"
      },
      "execution_count": 36,
      "outputs": [
        {
          "output_type": "execute_result",
          "data": {
            "text/plain": [
              "['Python', 'is', 'very', 'good', 'programming', 'language']"
            ]
          },
          "metadata": {},
          "execution_count": 36
        }
      ]
    }
  ]
}