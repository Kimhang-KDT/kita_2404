{
  "nbformat": 4,
  "nbformat_minor": 0,
  "metadata": {
    "colab": {
      "provenance": []
    },
    "kernelspec": {
      "name": "python3",
      "display_name": "Python 3"
    },
    "language_info": {
      "name": "python"
    }
  },
  "cells": [
    {
      "cell_type": "markdown",
      "source": [
        "Task1_0513. 클래스 구성 요소와 관련 아래 사항에 대한 사례를 작성하세요.\n",
        "- 클래스 선언\n",
        "- 생성자\n",
        "- 속성(attributes)\n",
        "- 메서드\n",
        "- 상속\n",
        "- 인스턴스화(객체 만들기)\n",
        "- 클래스 변수\n",
        "- 매직 메서드(특수 메서드)"
      ],
      "metadata": {
        "id": "q7wJrvFTg2eL"
      }
    },
    {
      "cell_type": "code",
      "execution_count": 5,
      "metadata": {
        "colab": {
          "base_uri": "https://localhost:8080/"
        },
        "id": "SU48bgi6gvX6",
        "outputId": "9542ad52-f674-45d9-8981-0e467cf84a3b"
      },
      "outputs": [
        {
          "output_type": "stream",
          "name": "stdout",
          "text": [
            "안녕하세요\n",
            "안녕하세요 발표하겠습니다.\n"
          ]
        }
      ],
      "source": [
        "class MyClass: # 클래스선언\n",
        "  var = '안녕하세요' # 클래스 변수\n",
        "  def __init__(self): # 생성자\n",
        "    pass\n",
        "  def __str__(self): # 매직 메서드\n",
        "    return f'{self.var}'\n",
        "\n",
        "class Speak(MyClass): # 상속\n",
        "  def __init__(self):\n",
        "    super().__str__()\n",
        "    print(self.var)\n",
        "\n",
        "  def __str__(self): # 오버라이딩\n",
        "    print(self.var, '발표하겠습니다.')\n",
        "\n",
        "s = Speak()\n",
        "s.__str__()"
      ]
    },
    {
      "cell_type": "markdown",
      "source": [
        "Task2_0513. 두개의 수를 입력한 후 두개의 수에 대한 사칙연산을 수행하세요.(0을 입력한 경우 다시 입력하도록 조치)"
      ],
      "metadata": {
        "id": "30m28BNQg4Cy"
      }
    },
    {
      "cell_type": "code",
      "source": [
        "class Oper:\n",
        "  def __init__(self, n1, n2):\n",
        "    self.num1 = n1\n",
        "    self.num2 = n2\n",
        "\n",
        "  def sum(self): # +\n",
        "    return self.num1+self.num2\n",
        "\n",
        "  def mul(self): # *\n",
        "    return self.num1*self.num2\n",
        "\n",
        "  def sub(self): # -\n",
        "    return self.num1-self.num2\n",
        "\n",
        "  def div(self): # /\n",
        "    return self.num1/self.num2\n",
        "\n",
        "op = Oper(10, 8)\n",
        "print(op.sum())\n",
        "print(op.mul())\n",
        "print(op.sub())\n",
        "print(op.div())"
      ],
      "metadata": {
        "colab": {
          "base_uri": "https://localhost:8080/"
        },
        "id": "XM-ipiAWg4bR",
        "outputId": "564a7d25-ca48-4448-b676-48d22698055b"
      },
      "execution_count": 8,
      "outputs": [
        {
          "output_type": "stream",
          "name": "stdout",
          "text": [
            "18\n",
            "80\n",
            "2\n",
            "1.25\n"
          ]
        }
      ]
    },
    {
      "cell_type": "markdown",
      "source": [
        "Task3_0513. 파이썬 오버라이딩, 오버로딩, 다형성의 사례를 만들어 보세요."
      ],
      "metadata": {
        "id": "LC-Ehjqtg365"
      }
    },
    {
      "cell_type": "code",
      "source": [
        "class Electronics:\n",
        "  def __init__(self):\n",
        "    self.var = f' : 전자기기입니다.'\n",
        "  def speak(self):\n",
        "    print(self.var)\n",
        "\n",
        "class HandPhone(Electronics):\n",
        "  def __init__(self):\n",
        "    super().__init__()\n",
        "\n",
        "  def speak(self): # 오버라이딩\n",
        "    return f\"핸드폰{self.var}\"\n",
        "\n",
        "class LabTop(Electronics):\n",
        "  def __init__(self):\n",
        "    super().__init__()\n",
        "\n",
        "  def speak(self, *args): # 오버로딩\n",
        "    print(*args, self.var)\n",
        "    return ', '.join(args)+self.var\n",
        "\n",
        "def show_electronics(name, *args):\n",
        "  if args:\n",
        "    return name.speak(*args)\n",
        "  else:\n",
        "    return name.speak()\n",
        "\n",
        "hp = HandPhone()\n",
        "#hp.speak()\n",
        "lt = LabTop()\n",
        "#lt.speak('노트북', '데스크탑', '건조기', '냉장고')\n",
        "\n",
        "print(show_electronics(hp))\n",
        "show_electronics(lt, '노트북', '데스크탑', '건조기', '냉장고')"
      ],
      "metadata": {
        "colab": {
          "base_uri": "https://localhost:8080/",
          "height": 72
        },
        "id": "p1z47EAMg4xL",
        "outputId": "8cf15e0c-4d92-4f6a-e657-4aef7bedf58a"
      },
      "execution_count": 35,
      "outputs": [
        {
          "output_type": "stream",
          "name": "stdout",
          "text": [
            "핸드폰 : 전자기기입니다.\n",
            "노트북 데스크탑 건조기 냉장고  : 전자기기입니다.\n"
          ]
        },
        {
          "output_type": "execute_result",
          "data": {
            "text/plain": [
              "'노트북, 데스크탑, 건조기, 냉장고 : 전자기기입니다.'"
            ],
            "application/vnd.google.colaboratory.intrinsic+json": {
              "type": "string"
            }
          },
          "metadata": {},
          "execution_count": 35
        }
      ]
    }
  ]
}
