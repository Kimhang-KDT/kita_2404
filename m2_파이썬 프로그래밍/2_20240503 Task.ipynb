{
  "nbformat": 4,
  "nbformat_minor": 0,
  "metadata": {
    "colab": {
      "provenance": []
    },
    "kernelspec": {
      "name": "python3",
      "display_name": "Python 3"
    },
    "language_info": {
      "name": "python"
    }
  },
  "cells": [
    {
      "cell_type": "code",
      "source": [
        "class Food:\n",
        "  def __init__(self, food):\n",
        "    self.name = food['name']\n",
        "    self.price = food['price']\n",
        "\n",
        "class Order(Food):\n",
        "  def __init__(self, food, setted):\n",
        "    super().__init__(food)\n",
        "    self.setted = setted\n",
        "\n",
        "  def total_price(self):\n",
        "    self.total_price = self.price + self.setted\n",
        "\n",
        "    return self.total_price\n",
        "\n",
        "def order_menu(foods):\n",
        "  num = int(input('비빔밥 메뉴를 선택해주세요 : 1, 2, 3 '))\n",
        "  st = next((3000 for i in [input('세트 주문을 하시겠습니까? (y, n) : ')] if i == 'y'), 0)\n",
        "\n",
        "  return foods[num], st\n",
        "\n",
        "\n",
        "\n",
        "foods = {1: {'name' : '불고기비빔밥', 'price' : 12000},\n",
        "         2: {'name' : '야채비빔밥', 'price' : 8000},\n",
        "         3: {'name' : '전주비빔밥', 'price': 10000}}\n",
        "\n",
        "food, setted = order_menu(foods)\n",
        "order = Order(food, setted)\n",
        "total_price = order.total_price()\n",
        "\n",
        "print(f'총 가격은 {total_price}원 입니다')\n",
        "\n",
        "while 1:\n",
        "  #cont = next((True for i in [input('계속 주문하시겠습니까? (enter:계속 주문 / n:종료)')] if i == ''), False)\n",
        "\n",
        "  # lambda 함수로 간단한 함수 예제 작성. 매개 변수가 없어도 가능하다.\n",
        "  cont = lambda : True if input('계속 주문하시겠습니까? (enter:계속 주문 / n:종료)') == '' else False\n",
        "  if cont():\n",
        "    food, setted = order_menu(foods)\n",
        "    order = Order(food, setted)\n",
        "    total_price += order.total_price()\n",
        "  else:\n",
        "    print(f'주문완료. 총 가격은 {total_price}원 입니다.')\n",
        "    break"
      ],
      "metadata": {
        "id": "-6U7xrXWYPuD",
        "colab": {
          "base_uri": "https://localhost:8080/"
        },
        "outputId": "61f196dc-207e-4483-f0b1-89ba0ec3fcb7"
      },
      "execution_count": null,
      "outputs": [
        {
          "output_type": "stream",
          "name": "stdout",
          "text": [
            "비빔밥 메뉴를 선택해주세요 : 1, 2, 3 1\n",
            "세트 주문을 하시겠습니까? (y, n) : ㅛ\n",
            "총 가격은 12000원 입니다\n",
            "계속 주문하시겠습니까? (enter:계속 주문 / n:종료)\n",
            "비빔밥 메뉴를 선택해주세요 : 1, 2, 3 2\n",
            "세트 주문을 하시겠습니까? (y, n) : y\n",
            "계속 주문하시겠습니까? (enter:계속 주문 / n:종료)n\n",
            "주문완료. 총 가격은 23000원 입니다.\n"
          ]
        }
      ]
    },
    {
      "cell_type": "markdown",
      "source": [
        "Task1_0503. 여러개의 음식을 동시에 주문할 수 있는 주문 시스템을 작성하세요.(구조 지향)"
      ],
      "metadata": {
        "id": "m8vZuZlUDOzQ"
      }
    },
    {
      "cell_type": "code",
      "execution_count": 2,
      "metadata": {
        "colab": {
          "base_uri": "https://localhost:8080/"
        },
        "id": "oD7zUZERDLjx",
        "outputId": "aee301a2-5cb9-4a8b-ecdf-47a500fa0b36"
      },
      "outputs": [
        {
          "output_type": "stream",
          "name": "stdout",
          "text": [
            "\n",
            "KITA 식당에 오신 것을 환영합니다\n",
            "\n",
            "========================================\n",
            "\n",
            "          - 메  뉴 -\n",
            "    1. 불고기 비빔밥 : 12,000원\n",
            "    2. 야채 비빔밥 : 8,000원\n",
            "    3. 전주 비빔밥 : 10,000원\n",
            "\n",
            "    세트 주문시 : 3,000원 추가\n",
            "    (세트는 밥과 반찬이 추가됩니다.)\n",
            "\n",
            "========================================\n",
            "비빔밥 메뉴를 선택해주세요 : 1, 2, 3 1\n",
            "세트 주문을 하시겠습니까? (Y|N) : Y\n",
            "추가로 주문하시겠습니까? Y|N 입력 : Y\n",
            "비빔밥 메뉴를 선택해주세요 : 1, 2, 3 1\n",
            "세트 주문을 하시겠습니까? (Y|N) : N\n",
            "추가로 주문하시겠습니까? Y|N 입력 : Y\n",
            "비빔밥 메뉴를 선택해주세요 : 1, 2, 3 3\n",
            "세트 주문을 하시겠습니까? (Y|N) : N\n",
            "추가로 주문하시겠습니까? Y|N 입력 : N\n",
            "주문하신 메뉴는 불고기비빔밥(세트), 불고기비빔밥, 전주비빔밥\n",
            "총 가격은 37000원 입니다.\n"
          ]
        }
      ],
      "source": [
        "# 코드를 작은 단위의 함수로 분할하여 구성\n",
        "# 입력과 출력이 명확하게 정의\n",
        "# if 조건문을 활용하여 프로그램 실행 경로 선택\n",
        "# while문 등으로 반복하여 함수 실행\n",
        "\n",
        "def show_menu():\n",
        "  menu = {1: {'name' : '불고기비빔밥', 'price' : 12000},\n",
        "           2: {'name' : '야채비빔밥', 'price' : 8000},\n",
        "           3: {'name' : '전주비빔밥', 'price': 10000}}\n",
        "\n",
        "  print(\"\\nKITA 식당에 오신 것을 환영합니다\")\n",
        "  print(\"\\n\" + \"=\" * 40)\n",
        "  print(\"\\n          - 메  뉴 -\")\n",
        "  print(\"    1. 불고기 비빔밥 : 12,000원\")\n",
        "  print(\"    2. 야채 비빔밥 : 8,000원\")\n",
        "  print(\"    3. 전주 비빔밥 : 10,000원\")\n",
        "  print(\"\\n    세트 주문시 : 3,000원 추가\")\n",
        "  print(\"    (세트는 밥과 반찬이 추가됩니다.)\")\n",
        "  print(\"\\n\" + \"=\" * 40)\n",
        "\n",
        "  return menu\n",
        "\n",
        "def order():\n",
        "  num = int(input('비빔밥 메뉴를 선택해주세요 : 1, 2, 3 '))\n",
        "  st  = next((True for i in [input('세트 주문을 하시겠습니까? (Y|N) : ').upper()] if i == 'Y'), False)\n",
        "\n",
        "  return num, st\n",
        "\n",
        "#def re_order():\n",
        "#  is_re_order = next((True for i in [input('추가로 주문하시겠습니까? Y|N 입력 : ').upper()] if i == 'Y'), False)\n",
        "\n",
        "#  return is_re_order\n",
        "\n",
        "def get_order(menu, mn, st):\n",
        "  order_menu = {**menu.get(mn), 'st':st}\n",
        "\n",
        "  return order_menu\n",
        "\n",
        "def get_order_menus(order_menus):\n",
        "  menus = [0]\n",
        "\n",
        "  for i in order_menus:\n",
        "    menus[0] += i['price']\n",
        "\n",
        "    if i['st']:\n",
        "      menus.append(i['name']+'(세트)')\n",
        "      menus[0] += 3000\n",
        "    else:\n",
        "      menus.append(i['name'])\n",
        "\n",
        "  return menus\n",
        "\n",
        "def main():\n",
        "  order_menus = []\n",
        "  menu = show_menu()\n",
        "\n",
        "  while True:\n",
        "    mn, st = order()\n",
        "    order_menu = get_order(menu, mn, st)\n",
        "    order_menus.append(order_menu)\n",
        "\n",
        "    is_re_order = lambda : True if input('추가로 주문하시겠습니까? Y|N 입력 : ').upper() == 'Y' else False\n",
        "    if not is_re_order():\n",
        "      total = get_order_menus(order_menus)\n",
        "      print(f'주문하신 메뉴는 [{\", \".join(total[1:])}]\\n총 가격은 {total[0]}원 입니다.')\n",
        "      break\n",
        "\n",
        "if __name__ == \"__main__\":\n",
        "  main()"
      ]
    },
    {
      "cell_type": "markdown",
      "source": [
        "Task2_0503. 내장함수 5개를 활용해서 사용자 함수로 간단한 프로그램을 만드세요.\n",
        "\n",
        "[예시] 문서관리 프로그램\n",
        "\n",
        "len() - 문자열의 길이를 계산\n",
        "\n",
        "input() - 사용자로부터 입력을 받습니다.\n",
        "\n",
        "print() - 결과를 출력\n",
        "\n",
        "sum() - 주어진 조건에 따라 특정 개수를 계산\n",
        "\n",
        "Count(from collections) - 문자열의 빈도수 계산"
      ],
      "metadata": {
        "id": "9zJ9uirmT9QC"
      }
    },
    {
      "cell_type": "code",
      "source": [],
      "metadata": {
        "id": "mM-qwxvwT9pb"
      },
      "execution_count": null,
      "outputs": []
    },
    {
      "cell_type": "markdown",
      "source": [
        "Task3_0503. 외장함수 3개 이상 활용해서 간단한 프로그램을 만드세요"
      ],
      "metadata": {
        "id": "i6sv5tzwVD3w"
      }
    },
    {
      "cell_type": "code",
      "source": [],
      "metadata": {
        "id": "u9nYcTynVE-q"
      },
      "execution_count": null,
      "outputs": []
    },
    {
      "cell_type": "markdown",
      "source": [
        "Task4_0503. 리스트를 작성하고 람다 함수를 이용해서 한번에 함수를 적용하여 결과값을 출력하세요."
      ],
      "metadata": {
        "id": "gFiigPZPVFWp"
      }
    },
    {
      "cell_type": "code",
      "source": [
        "numbers = [1, 2, 3, 4, 5]\n",
        "mul = map(lambda x : x * x, numbers)\n",
        "print(list(mul))"
      ],
      "metadata": {
        "colab": {
          "base_uri": "https://localhost:8080/"
        },
        "id": "Xv9Y4i5bVFyb",
        "outputId": "9952fe24-6b13-48ae-927c-c22f7c996a2f"
      },
      "execution_count": null,
      "outputs": [
        {
          "output_type": "stream",
          "name": "stdout",
          "text": [
            "[1, 4, 9, 16, 25]\n"
          ]
        }
      ]
    },
    {
      "cell_type": "markdown",
      "source": [
        "Task5_0503. 외부 라이브러리를 임포트해서 간단한 프로그램을 만드세요."
      ],
      "metadata": {
        "id": "1AeEa4cjVHVE"
      }
    },
    {
      "cell_type": "code",
      "source": [
        "# 예시\n",
        "from bs4 import BeautifulSoup\n",
        "\n",
        "html_doc = \"<html><head><title>Hello World</title></head></html>\"\n",
        "\n",
        "soup = BeautifulSoup(html_doc, 'html.parser')\n",
        "\n",
        "print(soup.title.text)"
      ],
      "metadata": {
        "id": "plIIvWp7VHrv"
      },
      "execution_count": null,
      "outputs": []
    }
  ]
}