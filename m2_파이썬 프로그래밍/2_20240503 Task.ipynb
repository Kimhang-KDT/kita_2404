{
  "nbformat": 4,
  "nbformat_minor": 0,
  "metadata": {
    "colab": {
      "provenance": []
    },
    "kernelspec": {
      "name": "python3",
      "display_name": "Python 3"
    },
    "language_info": {
      "name": "python"
    }
  },
  "cells": [
    {
      "cell_type": "code",
      "source": [
        "class Food:\n",
        "  def __init__(self, food):\n",
        "    self.name = food['name']\n",
        "    self.price = food['price']\n",
        "\n",
        "class Order(Food):\n",
        "  def __init__(self, food, setted):\n",
        "    super().__init__(food)\n",
        "    self.setted = setted\n",
        "\n",
        "  def total_price(self):\n",
        "    self.total_price = self.price + self.setted\n",
        "\n",
        "    return self.total_price\n",
        "\n",
        "def order_menu(foods):\n",
        "  num = int(input('비빔밥 메뉴를 선택해주세요 : 1, 2, 3 '))\n",
        "  st = next((3000 for i in [input('세트 주문을 하시겠습니까? (y, n) : ')] if i == 'y'), 0)\n",
        "\n",
        "  return foods[num], st\n",
        "\n",
        "\n",
        "\n",
        "foods = {1: {'name' : '불고기비빔밥', 'price' : 12000},\n",
        "         2: {'name' : '야채비빔밥', 'price' : 8000},\n",
        "         3: {'name' : '전주비빔밥', 'price': 10000}}\n",
        "\n",
        "food, setted = order_menu(foods)\n",
        "order = Order(food, setted)\n",
        "total_price = order.total_price()\n",
        "\n",
        "print(f'총 가격은 {total_price}원 입니다')\n",
        "\n",
        "while 1:\n",
        "  #cont = next((True for i in [input('계속 주문하시겠습니까? (enter:계속 주문 / n:종료)')] if i == ''), False)\n",
        "\n",
        "  # lambda 함수로 간단한 함수 예제 작성. 매개 변수가 없어도 가능하다.\n",
        "  cont = lambda : True if input('계속 주문하시겠습니까? (enter:계속 주문 / n:종료)') == '' else False\n",
        "  if cont():\n",
        "    food, setted = order_menu(foods)\n",
        "    order = Order(food, setted)\n",
        "    total_price += order.total_price()\n",
        "  else:\n",
        "    print(f'주문완료. 총 가격은 {total_price}원 입니다.')\n",
        "    break"
      ],
      "metadata": {
        "id": "-6U7xrXWYPuD",
        "colab": {
          "base_uri": "https://localhost:8080/"
        },
        "outputId": "61f196dc-207e-4483-f0b1-89ba0ec3fcb7"
      },
      "execution_count": null,
      "outputs": [
        {
          "output_type": "stream",
          "name": "stdout",
          "text": [
            "비빔밥 메뉴를 선택해주세요 : 1, 2, 3 1\n",
            "세트 주문을 하시겠습니까? (y, n) : ㅛ\n",
            "총 가격은 12000원 입니다\n",
            "계속 주문하시겠습니까? (enter:계속 주문 / n:종료)\n",
            "비빔밥 메뉴를 선택해주세요 : 1, 2, 3 2\n",
            "세트 주문을 하시겠습니까? (y, n) : y\n",
            "계속 주문하시겠습니까? (enter:계속 주문 / n:종료)n\n",
            "주문완료. 총 가격은 23000원 입니다.\n"
          ]
        }
      ]
    },
    {
      "cell_type": "markdown",
      "source": [
        "Task1_0503. 여러개의 음식을 동시에 주문할 수 있는 주문 시스템을 작성하세요.(구조 지향)"
      ],
      "metadata": {
        "id": "m8vZuZlUDOzQ"
      }
    },
    {
      "cell_type": "code",
      "execution_count": null,
      "metadata": {
        "colab": {
          "base_uri": "https://localhost:8080/"
        },
        "id": "oD7zUZERDLjx",
        "outputId": "aee301a2-5cb9-4a8b-ecdf-47a500fa0b36"
      },
      "outputs": [
        {
          "output_type": "stream",
          "name": "stdout",
          "text": [
            "\n",
            "KITA 식당에 오신 것을 환영합니다\n",
            "\n",
            "========================================\n",
            "\n",
            "          - 메  뉴 -\n",
            "    1. 불고기 비빔밥 : 12,000원\n",
            "    2. 야채 비빔밥 : 8,000원\n",
            "    3. 전주 비빔밥 : 10,000원\n",
            "\n",
            "    세트 주문시 : 3,000원 추가\n",
            "    (세트는 밥과 반찬이 추가됩니다.)\n",
            "\n",
            "========================================\n",
            "비빔밥 메뉴를 선택해주세요 : 1, 2, 3 1\n",
            "세트 주문을 하시겠습니까? (Y|N) : Y\n",
            "추가로 주문하시겠습니까? Y|N 입력 : Y\n",
            "비빔밥 메뉴를 선택해주세요 : 1, 2, 3 1\n",
            "세트 주문을 하시겠습니까? (Y|N) : N\n",
            "추가로 주문하시겠습니까? Y|N 입력 : Y\n",
            "비빔밥 메뉴를 선택해주세요 : 1, 2, 3 3\n",
            "세트 주문을 하시겠습니까? (Y|N) : N\n",
            "추가로 주문하시겠습니까? Y|N 입력 : N\n",
            "주문하신 메뉴는 불고기비빔밥(세트), 불고기비빔밥, 전주비빔밥\n",
            "총 가격은 37000원 입니다.\n"
          ]
        }
      ],
      "source": [
        "# 코드를 작은 단위의 함수로 분할하여 구성\n",
        "# 입력과 출력이 명확하게 정의\n",
        "# if 조건문을 활용하여 프로그램 실행 경로 선택\n",
        "# while문 등으로 반복하여 함수 실행\n",
        "\n",
        "def show_menu():\n",
        "  menu = {1: {'name' : '불고기비빔밥', 'price' : 12000},\n",
        "           2: {'name' : '야채비빔밥', 'price' : 8000},\n",
        "           3: {'name' : '전주비빔밥', 'price': 10000}}\n",
        "\n",
        "  print(\"\\nKITA 식당에 오신 것을 환영합니다\")\n",
        "  print(\"\\n\" + \"=\" * 40)\n",
        "  print(\"\\n          - 메  뉴 -\")\n",
        "  print(\"    1. 불고기 비빔밥 : 12,000원\")\n",
        "  print(\"    2. 야채 비빔밥 : 8,000원\")\n",
        "  print(\"    3. 전주 비빔밥 : 10,000원\")\n",
        "  print(\"\\n    세트 주문시 : 3,000원 추가\")\n",
        "  print(\"    (세트는 밥과 반찬이 추가됩니다.)\")\n",
        "  print(\"\\n\" + \"=\" * 40)\n",
        "\n",
        "  return menu\n",
        "\n",
        "def order():\n",
        "  num = int(input('비빔밥 메뉴를 선택해주세요 : 1, 2, 3 '))\n",
        "  st  = next((True for i in [input('세트 주문을 하시겠습니까? (Y|N) : ').upper()] if i == 'Y'), False)\n",
        "\n",
        "  return num, st\n",
        "\n",
        "#def re_order():\n",
        "#  is_re_order = next((True for i in [input('추가로 주문하시겠습니까? Y|N 입력 : ').upper()] if i == 'Y'), False)\n",
        "\n",
        "#  return is_re_order\n",
        "\n",
        "def get_order(menu, mn, st):\n",
        "  order_menu = {**menu.get(mn), 'st':st}\n",
        "\n",
        "  return order_menu\n",
        "\n",
        "def get_order_menus(order_menus):\n",
        "  menus = [0]\n",
        "\n",
        "  for i in order_menus:\n",
        "    menus[0] += i['price']\n",
        "\n",
        "    if i['st']:\n",
        "      menus.append(i['name']+'(세트)')\n",
        "      menus[0] += 3000\n",
        "    else:\n",
        "      menus.append(i['name'])\n",
        "\n",
        "  return menus\n",
        "\n",
        "def main():\n",
        "  order_menus = []\n",
        "  menu = show_menu()\n",
        "\n",
        "  while True:\n",
        "    mn, st = order()\n",
        "    order_menu = get_order(menu, mn, st)\n",
        "    order_menus.append(order_menu)\n",
        "\n",
        "    is_re_order = lambda : True if input('추가로 주문하시겠습니까? Y|N 입력 : ').upper() == 'Y' else False\n",
        "    if not is_re_order():\n",
        "      total = get_order_menus(order_menus)\n",
        "      print(f'주문하신 메뉴는 [{\", \".join(total[1:])}]\\n총 가격은 {total[0]}원 입니다.')\n",
        "      break\n",
        "\n",
        "if __name__ == \"__main__\":\n",
        "  main()"
      ]
    },
    {
      "cell_type": "markdown",
      "source": [
        "Task2_0503. 내장함수 5개를 활용해서 사용자 함수로 간단한 프로그램을 만드세요.\n",
        "\n",
        "[예시] 문서관리 프로그램\n",
        "\n",
        "len() - 문자열의 길이를 계산\n",
        "\n",
        "input() - 사용자로부터 입력을 받습니다.\n",
        "\n",
        "print() - 결과를 출력\n",
        "\n",
        "sum() - 주어진 조건에 따라 특정 개수를 계산\n",
        "\n",
        "Count(from collections) - 문자열의 빈도수 계산"
      ],
      "metadata": {
        "id": "9zJ9uirmT9QC"
      }
    },
    {
      "cell_type": "code",
      "source": [
        "# 회문 검사 프로그램\n",
        "\n",
        "string = 'level'\n",
        "#string = 'hello'\n",
        "#string = 'Nurses run'\n",
        "word = string.replace(' ', '').lower()\n",
        "\n",
        "l = len(word) // 2\n",
        "\n",
        "for i in range(l):\n",
        "  if word[i] != word[-1 - i]:\n",
        "    print(f'{string}은 회문이 아닙니다.')\n",
        "    break\n",
        "else:\n",
        "  print(f'{string}은 회문입니다')"
      ],
      "metadata": {
        "id": "mM-qwxvwT9pb",
        "colab": {
          "base_uri": "https://localhost:8080/"
        },
        "outputId": "d3b7b2fb-4086-4f69-fdc9-5546a71baefe"
      },
      "execution_count": null,
      "outputs": [
        {
          "output_type": "stream",
          "name": "stdout",
          "text": [
            "level은 회문입니다\n"
          ]
        }
      ]
    },
    {
      "cell_type": "markdown",
      "source": [
        "Task3_0503. 외장함수 3개 이상 활용해서 간단한 프로그램을 만드세요"
      ],
      "metadata": {
        "id": "i6sv5tzwVD3w"
      }
    },
    {
      "cell_type": "code",
      "source": [
        "#환율 변환 프로그램\n",
        "\n",
        "#필요한 외장 함수: requests, json, datetime\n",
        "#프로그램 설명: 실시간 환율 정보를 가져와서 사용자가 입력한 금액을 다른 통화로 변환해주는 프로그램입니다.\n",
        "\n",
        "import requests\n",
        "from bs4 import BeautifulSoup\n",
        "import re\n",
        "\n",
        "response = requests.get('https://finance.naver.com/marketindex/exchangeList.naver')\n",
        "soup = BeautifulSoup(response.text, 'html.parser')\n",
        "tbody = soup.find_all('tbody')[0]\n",
        "rows = [re.split('[\\n|\\t]', i.text.strip()) for i in tbody if i.text.strip() != '']\n",
        "new_list = [[j for j in i if j != ''] for i in rows]\n",
        "\n",
        "for i in new_list:\n",
        "  print(i[0],i[1])"
      ],
      "metadata": {
        "id": "u9nYcTynVE-q",
        "colab": {
          "base_uri": "https://localhost:8080/"
        },
        "outputId": "7c14860a-85c1-44c7-8d52-3cbf1095a92c"
      },
      "execution_count": 15,
      "outputs": [
        {
          "output_type": "stream",
          "name": "stdout",
          "text": [
            "미국 USD 1,357.00\n",
            "유럽연합 EUR 1,461.08\n",
            "일본 JPY (100엔) 879.94\n",
            "중국 CNY 188.09\n",
            "홍콩 HKD 173.57\n",
            "대만 TWD 42.01\n",
            "영국 GBP 1,704.19\n",
            "오만 OMR 3,524.77\n",
            "캐나다 CAD 992.58\n",
            "스위스 CHF 1,496.97\n",
            "스웨덴 SEK 125.48\n",
            "호주 AUD 898.67\n",
            "뉴질랜드 NZD 815.08\n",
            "체코 CZK 58.45\n",
            "칠레 CLP 1.46\n",
            "튀르키예 TRY 42.04\n",
            "몽골 MNT 0.40\n",
            "이스라엘 ILS 365.77\n",
            "덴마크 DKK 195.90\n",
            "노르웨이 NOK 125.25\n",
            "사우디아라비아 SAR 361.81\n",
            "쿠웨이트 KWD 4,414.16\n",
            "바레인 BHD 3,599.56\n",
            "아랍에미리트 AED 369.45\n",
            "요르단 JOD 1,913.96\n",
            "이집트 EGP 28.30\n",
            "태국 THB 36.92\n",
            "싱가포르 SGD 1,003.92\n",
            "말레이시아 MYR 286.35\n",
            "인도네시아 IDR 100 8.49\n",
            "카타르 QAR 372.19\n",
            "카자흐스탄 KZT 3.08\n",
            "브루나이 BND 1,003.92\n",
            "인도 INR 16.26\n",
            "파키스탄 PKR 4.87\n",
            "방글라데시 BDT 12.36\n",
            "필리핀 PHP 23.72\n",
            "멕시코 MXN 80.38\n",
            "브라질 BRL 267.32\n",
            "베트남 VND 100 5.35\n",
            "남아프리카 공화국 ZAR 73.45\n",
            "러시아 RUB 14.86\n",
            "헝가리 HUF 3.76\n",
            "폴란드 PLN 339.20\n",
            "스리랑카 LKR 4.55\n",
            "알제리 DZD 10.11\n",
            "케냐 KES 10.09\n",
            "콜롬비아 COP 0.35\n",
            "탄자니아 TZS 0.52\n",
            "네팔 NPR 10.16\n",
            "루마니아 RON 293.88\n",
            "리비아 LYD 279.64\n",
            "마카오 MOP 168.42\n",
            "미얀마 MMK 0.65\n",
            "에티오피아 ETB 23.64\n",
            "우즈베키스탄 UZS 0.11\n",
            "캄보디아 KHR 0.33\n",
            "피지 FJD 597.49\n"
          ]
        }
      ]
    },
    {
      "cell_type": "markdown",
      "source": [
        "Task4_0503. 리스트를 작성하고 람다 함수를 이용해서 한번에 함수를 적용하여 결과값을 출력하세요."
      ],
      "metadata": {
        "id": "gFiigPZPVFWp"
      }
    },
    {
      "cell_type": "code",
      "source": [
        "from functools import reduce\n",
        "\n",
        "a = [8, 3, 2, 10, 15, 7, 1, 9, 0, 11]\n",
        "\n",
        "b = list(filter(lambda x : x> 5 and x <10, a))\n",
        "\n",
        "print(b)\n",
        "\n",
        "a = [1, 2, 3, 4, 5]\n",
        "\n",
        "#reduce(함수, 반복가능한 객체)\n",
        "\n",
        "b = reduce(lambda x, y: x+y, a)\n",
        "print(b)"
      ],
      "metadata": {
        "colab": {
          "base_uri": "https://localhost:8080/"
        },
        "id": "Xv9Y4i5bVFyb",
        "outputId": "5197b0fd-96ba-4846-bb2c-669dbd1761e6"
      },
      "execution_count": null,
      "outputs": [
        {
          "output_type": "stream",
          "name": "stdout",
          "text": [
            "[8, 7, 9]\n"
          ]
        }
      ]
    },
    {
      "cell_type": "markdown",
      "source": [
        "Task5_0503. 외부 라이브러리를 임포트해서 간단한 프로그램을 만드세요."
      ],
      "metadata": {
        "id": "1AeEa4cjVHVE"
      }
    },
    {
      "cell_type": "code",
      "source": [
        "!pip install qrcode"
      ],
      "metadata": {
        "id": "N68RpqHOr3a2"
      },
      "execution_count": null,
      "outputs": []
    },
    {
      "cell_type": "code",
      "source": [
        "import qrcode\n",
        "\n",
        "myQR = qrcode.make(\"https://naver.com\")\n",
        "\n",
        "myQR.save(\"temp01.png\")"
      ],
      "metadata": {
        "id": "mthCWgit7PsB"
      },
      "execution_count": null,
      "outputs": []
    },
    {
      "cell_type": "code",
      "source": [
        "!pip install pillow"
      ],
      "metadata": {
        "colab": {
          "base_uri": "https://localhost:8080/"
        },
        "id": "BJsI0KqY7SN6",
        "outputId": "ad333ff0-86c0-4596-9d00-71dd165880c3"
      },
      "execution_count": null,
      "outputs": [
        {
          "output_type": "stream",
          "name": "stdout",
          "text": [
            "Requirement already satisfied: pillow in /usr/local/lib/python3.10/dist-packages (9.4.0)\n"
          ]
        }
      ]
    },
    {
      "cell_type": "code",
      "source": [
        "from PIL import Image\n",
        "\n",
        "img = Image.open('temp01.png')\n",
        "print(img.filename)\n",
        "print(img.format)\n",
        "print(img.size)\n",
        "print(img.mode)\n",
        "img.show() # 안되넹.."
      ],
      "metadata": {
        "colab": {
          "base_uri": "https://localhost:8080/"
        },
        "id": "R4gxiGRO58WN",
        "outputId": "d7d5241c-fc31-4be9-9789-e716ac9004b9"
      },
      "execution_count": null,
      "outputs": [
        {
          "output_type": "stream",
          "name": "stdout",
          "text": [
            "temp01.png\n",
            "PNG\n",
            "(330, 330)\n",
            "1\n"
          ]
        }
      ]
    }
  ]
}