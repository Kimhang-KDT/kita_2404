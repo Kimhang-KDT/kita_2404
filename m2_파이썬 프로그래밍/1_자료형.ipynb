{
  "nbformat": 4,
  "nbformat_minor": 0,
  "metadata": {
    "colab": {
      "provenance": []
    },
    "kernelspec": {
      "name": "python3",
      "display_name": "Python 3"
    },
    "language_info": {
      "name": "python"
    }
  },
  "cells": [
    {
      "cell_type": "code",
      "execution_count": null,
      "metadata": {
        "id": "pBeh8N177hmT",
        "colab": {
          "base_uri": "https://localhost:8080/"
        },
        "outputId": "e5d7c330-e662-4fbc-9048-5100a18b21e5"
      },
      "outputs": [
        {
          "output_type": "stream",
          "name": "stdout",
          "text": [
            "Python 3.10.12\n"
          ]
        }
      ],
      "source": [
        "# !기호는 Colab 셀에서 Unix/Linux 셸 명령어를 실행하는데 사용\n",
        "# Unix/Linux 기반이기 때문에 이에 맞는 명령어를 사용해야한다.\n",
        "!python --version"
      ]
    },
    {
      "cell_type": "code",
      "source": [
        "# % 기호는 IPython 환경(즉, Colab이 포함된 Jupyter 환경)에서 제공하는 매직 명령어를 사용\n",
        "# 라인 매직은 단일 라인에 대해 실행되며 % 하나를 사용하고 셀 매직(=> %%)은 셀 전체에 적용되며 %%를 사용\n",
        "# 현재 작업 폴더 확인\n",
        "%pwd"
      ],
      "metadata": {
        "colab": {
          "base_uri": "https://localhost:8080/",
          "height": 36
        },
        "id": "6PryWeiDBc5c",
        "outputId": "a1b920d6-4a30-4c0c-f22c-506346908708"
      },
      "execution_count": null,
      "outputs": [
        {
          "output_type": "execute_result",
          "data": {
            "text/plain": [
              "'/content'"
            ],
            "application/vnd.google.colaboratory.intrinsic+json": {
              "type": "string"
            }
          },
          "metadata": {},
          "execution_count": 2
        }
      ]
    },
    {
      "cell_type": "code",
      "source": [
        "%%time\n",
        "# 간단한 for 루프를 사용한 계산\n",
        "sum = 0\n",
        "for i in range(100000):\n",
        "  sum += i\n",
        "print(sum)\n",
        "# 셀 전체를 가지고 사용. 이 경우 해당 계산을 하는데 얼마만큼의 시간이 들었는지를 나타내줌"
      ],
      "metadata": {
        "colab": {
          "base_uri": "https://localhost:8080/"
        },
        "id": "IjHsYquGCZlK",
        "outputId": "0736909b-c496-4873-ee79-4e634fc32a8c"
      },
      "execution_count": null,
      "outputs": [
        {
          "output_type": "stream",
          "name": "stdout",
          "text": [
            "4999950000\n",
            "CPU times: user 16.8 ms, sys: 0 ns, total: 16.8 ms\n",
            "Wall time: 16.9 ms\n"
          ]
        }
      ]
    },
    {
      "cell_type": "markdown",
      "source": [
        "#### 파이썬 이란\n",
        "- 1990년 암스테르담의 귀도 반 로섬(Guido Van Rossum)이 개발한 인터프리터 언어\n",
        "- 컴퓨터 프로그래밍 교육을 위해 많이 사용하지만, 기업의 실무를 위해서도 많이 사용하는 언어. 구글에서 만든 소프트웨어의 50%이상이 파이썬으로 작성\n",
        "\n",
        "#### 파이썬의 특징\n",
        "- 파이썬은 인간다운 언어이다\n",
        "- 파이썬은 문법이 쉬워 빠르게 배울 수 있다\n",
        "- 파이썬은 무료이지만 강력하다\n",
        "- 파이썬은 간결하다\n",
        "- 파이썬은 프로그래밍을 즐기게 해준다\n",
        "- 파이썬은 개발 속도가 빠르다\n",
        "\n",
        "#### 파이썬으로 할 수 있는 일\n",
        "- 웹 개발: Django, Flask 등의 프레임워크를 사용하여 웹 애플리케이션을 개발할 수 있습니다.\n",
        "- 데이터 분석: Pandas, NumPy, SciPy와 같은 라이브러리를 사용하여 데이터를 분석하고 처리할 수 있습니다.\n",
        "- 머신 러닝과 인공지능: TensorFlow, PyTorch, Scikit-learn 등의 라이브러리를 활용하여 머신 러닝 모델을 구축하고 훈련시킬 수 있습니다.\n",
        "- 자동화: 파이썬 스크립트를 작성하여 일상적인 작업을 자동화하고, 시스템 관리 작업을 수행할 수 있습니다.\n",
        "- 게임 개발: Pygame과 같은 라이브러리를 사용하여 간단한 게임을 개발할 수 있습니다.\n",
        "- 모바일 애플리케이션 개발: Kivy 또는 BeeWare와 같은 라이브러리를 사용하여 모바일 애플리케이션을 개발할 수 있습니다.\n",
        "- 데스크탑 애플리케이션 개발: PyQt, Tkinter 등의 라이브러리를 활용하여 데스크탑 애플리케이션을 개발할 수 있습니다.\n",
        "- 시스템 스크립팅과 네트워킹: 시스템 유틸리티를 개발하거나 네트워크 프로토콜을 구현할 수 있습니다.\n",
        "- 임베디드 시스템과 하드웨어 제어: 라즈베리 파이와 같은 임베디드 시스템을 제어하고 하드웨어를 프로그래밍할 수 있습니다.\n",
        "- 사이언티픽 컴퓨팅: 과학적 연산과 시뮬레이션을 위해 파이썬을 활용할 수 있습니다.\n",
        "- 교육: 파이썬은 초보자에게 프로그래밍을 가르치는 데 이상적인 언어로 평가받고 있습니다.\n",
        "- 파이썬의 다양한 라이브러리와 프레임워크 덕분에, 이러한 분야에서의 작업이 더욱 쉽고 효율적으로 수행될 수 있습니다.\n"
      ],
      "metadata": {
        "id": "XjekaAqW7jWJ"
      }
    },
    {
      "cell_type": "markdown",
      "source": [
        "#### 용어\n",
        "- 식별자 : 프로그램밍 언어에서 이름을 붙일 때 사용하는 단어. 주로 변수 또는 함수 이름 등으로 사용\n",
        "- 주석 : 프로그램을 설명하기 위해 사용. # 기호로 주석 처리\n",
        "- 연산자 : 스스로 값이 되는 것이 아니고 값과 값 사이에 무언가 기능을 적용할 때 사용\n",
        "- 자료 : 리터럴이라고 하는데 숫자이든 문자이든 어떠한 값 자체를 의미. 1, 10, \"Hello\"\n",
        "- 키워드 : 파이썬이 만들어질 때 이미 사용하겠다고 예약해 놓는 것. False, None, True, ...\n",
        "- 프로그램밍 언어에서 사용자가 이름을 정할 때 키워드는 사용할 수 없음\n",
        "\n",
        "#### 식별자\n",
        "count, user_name, _is_valid, calculate_area, Car, model, year, math 및 m 모두 유효한 식별자. 각각의 식별자는 특정한 데이터 또는 기능에 이름을 부여하여 코드 내에서 해당 데이터나 기능을 참조할 수 있게하며 코드의 가독성과 유지 보수성을 높이는 데 중요한 역할"
      ],
      "metadata": {
        "id": "pUJZOwimDc7D"
      }
    },
    {
      "cell_type": "code",
      "source": [
        "# 변수 식별자\n",
        "count = 10\n",
        "user_name = \"Alice\"\n",
        "_is_valid = True\n",
        "\n",
        "# 함수 식별자\n",
        "def calculate_area(radius):\n",
        "  return 3.14150 * radius * radius\n",
        "\n",
        "# 클래스 식별자\n",
        "class Car:\n",
        "  def __init__(self, model, year):\n",
        "    self.model = model\n",
        "    self.year = year\n",
        "\n",
        "# 모듈 식별자\n",
        "import math as m\n"
      ],
      "metadata": {
        "id": "copN_kKdESpJ"
      },
      "execution_count": null,
      "outputs": []
    },
    {
      "cell_type": "markdown",
      "source": [
        "#### 식별자 기본 규칙\n",
        "- 키워드를 사용하면 안된다.\n",
        "- 특수문자는 언더 바(_) 만 사용\n",
        "- 숫자로 시작하면 안된다.\n",
        "- 공백을 포함할 수 없다."
      ],
      "metadata": {
        "id": "wGQk8wArISOC"
      }
    },
    {
      "cell_type": "code",
      "source": [
        "import keyword\n",
        "print(keyword.kwlist)\n",
        "len(keyword.kwlist)"
      ],
      "metadata": {
        "colab": {
          "base_uri": "https://localhost:8080/"
        },
        "id": "ix-Ga7rvIRDy",
        "outputId": "2f5cc5f5-ded2-4ed4-ba4e-4d23ff6a2da6"
      },
      "execution_count": null,
      "outputs": [
        {
          "output_type": "stream",
          "name": "stdout",
          "text": [
            "['False', 'None', 'True', 'and', 'as', 'assert', 'async', 'await', 'break', 'class', 'continue', 'def', 'del', 'elif', 'else', 'except', 'finally', 'for', 'from', 'global', 'if', 'import', 'in', 'is', 'lambda', 'nonlocal', 'not', 'or', 'pass', 'raise', 'return', 'try', 'while', 'with', 'yield']\n"
          ]
        },
        {
          "output_type": "execute_result",
          "data": {
            "text/plain": [
              "35"
            ]
          },
          "metadata": {},
          "execution_count": 5
        }
      ]
    },
    {
      "cell_type": "code",
      "source": [
        "alpha\n",
        "break #키워드\n",
        "alpha10\n",
        "_alpha\n",
        "273alpha #숫자\n",
        "AlpHa\n",
        "ALPHA\n",
        "has space #공백"
      ],
      "metadata": {
        "id": "3PsFdhT6JhOS"
      },
      "execution_count": null,
      "outputs": []
    },
    {
      "cell_type": "markdown",
      "source": [
        "## Q. 주어진 문자열 리스트에서 유효한 Python 변수 이름만을 추출하여 반환하는 함수를 작성하세요"
      ],
      "metadata": {
        "id": "xZsuTBqYKPj-"
      }
    },
    {
      "cell_type": "code",
      "source": [
        "import keyword\n",
        "import re\n",
        "\n",
        "identifiers = [\"var1\", \"2things\", \"variable_name\", \"time!\", \"__init__\", \"False\"]\n",
        "\n",
        "def collect_name_in_keyword(res_list):\n",
        "\n",
        "  #맨 앞에 숫자가 있느냐, _ 외에 다른 특수문자가 있느냐\n",
        "\n",
        "  valid_variables = [var for var in res_list if re.match(r'^[a-zA-Z_][\\w+]*$', var) and not keyword.iskeyword(var)]\n",
        "\n",
        "  print(valid_variables)\n",
        "\n",
        "collect_name_in_keyword(identifiers)"
      ],
      "metadata": {
        "id": "gHTAogKgKUmy",
        "colab": {
          "base_uri": "https://localhost:8080/"
        },
        "outputId": "2e5281b9-a144-41eb-c8d7-f850ff8d83f8"
      },
      "execution_count": 24,
      "outputs": [
        {
          "output_type": "stream",
          "name": "stdout",
          "text": [
            "['var1', 'variable_name', '__init__']\n"
          ]
        }
      ]
    },
    {
      "cell_type": "code",
      "source": [
        "import keyword\n",
        "def valid_identifiers(identifiers):\n",
        "  valid = []\n",
        "\n",
        "  for identifier in identifiers:\n",
        "    if identifier.isidentifier() and not keyword.iskeyword(identifier):\n",
        "      valid.append(identifier)\n",
        "  return valid\n",
        "\n",
        "# 예제실행\n",
        "identifiers = [\"var1\", \"2things\", \"variable_name\", \"time!\", \"__init__\"]\n",
        "print(valid_identifiers(identifiers))"
      ],
      "metadata": {
        "colab": {
          "base_uri": "https://localhost:8080/"
        },
        "id": "dZHp-yQT3Wk4",
        "outputId": "a7a88bb0-847d-457f-9f41-fd1e0f4bbbaf"
      },
      "execution_count": 13,
      "outputs": [
        {
          "output_type": "stream",
          "name": "stdout",
          "text": [
            "['var1', 'variable_name', '__init__']\n"
          ]
        }
      ]
    },
    {
      "cell_type": "markdown",
      "source": [
        "파이썬은 snake_case와 CamelCase를 모두 사용\n",
        "\n",
        "- itemlist : item_list itemList\n",
        "- loginstatus : login_status loginStatus\n",
        "- 캐멀 케이스(대문자로 시작) 클래스\n",
        "- 스네이크 케이스(소문자로 시작) 뒤에 ()가 있다 - 함수\n",
        "- 스케이크 케이스(소문자로 시작) 뒤에 ()가 없다 - 변수"
      ],
      "metadata": {
        "id": "ftNMarHI7Ofb"
      }
    },
    {
      "cell_type": "code",
      "source": [
        "# 연산자\n",
        "a = 5\n",
        "b = 3\n",
        "c = b % a\n",
        "d = a // b\n",
        "e = b / a\n",
        "\n",
        "print(c)\n",
        "print(d)\n",
        "print(e)"
      ],
      "metadata": {
        "id": "k1TDNlm77heR"
      },
      "execution_count": null,
      "outputs": []
    },
    {
      "cell_type": "code",
      "source": [
        "a = 3\n",
        "b = 5\n",
        "\n",
        "if a > b:\n",
        "  print(a)"
      ],
      "metadata": {
        "id": "MTv5o6pGAJQp"
      },
      "execution_count": 31,
      "outputs": []
    },
    {
      "cell_type": "markdown",
      "source": [
        "#### 자료형\n",
        "- 자료형 또는 데이터 타입이란 숫자, 문자 등과 같이 여러 종류의 데이터를 구분하기 위한 분류\n",
        "- 파이썬의 자료형은 크게 숫자(numbers), 시퀀스(sequence), 매핑(mapping) 등으로 나눌 수 있다.\n",
        "- 파이썬의 기본 자료형\n",
        "  - 수치형\n",
        "    - 정수형 : int는 정수(integer)를 나타낸다. 양의 정수와 음의 정수, 숫자 0\n",
        "    - 실수형 : float는 원래 부동소수점수(floating-point number)를 가리키는데, 지금은 단순히 소수점 이하를 표현할 수 있는 수이다.\n",
        "    - 복소수형 : 복소수를 complex로 나타내고 제곱하면 -1이 되는 수 i를 ‘허수(imaginary number)’라고 하는데 허수 i를 j로 표현\n",
        "  - 시퀀스 : 문자열(str), 리스트(list), 튜플(tuple), 사용자 정의 클래스가 시퀀스에 속한다. for 문에서 사용할 수 있는 것들이 바로 시퀀스\n",
        "    - 문자열 : 문자를 한 줄로 표현하며 문자열 인덱스를 이용해 문자열의 일부를 복사\n",
        "    - 리스트 : 대괄호([ ])로 감싸 주고 각 요솟값은 쉼표(,)로 구분\n",
        "    - 튜플 : 튜플은 ( )으로 둘러싸고 각 요솟값은 쉼표(,)로 구분\n",
        "  - 매핑\n",
        "    - 사전 : 딕셔너리(dict)는 키(key)와 값(value)의 짝으로 이뤄지는데 이런 것을 매핑 [a : b]\n",
        "  - 집합 : 집합을 표현하는 세트(set) {}\n",
        "  - 블린 : 참, 거짓을 표현"
      ],
      "metadata": {
        "id": "4Y7HxyQBA9Tt"
      }
    },
    {
      "cell_type": "code",
      "source": [
        "# 정수형 실수형\n",
        "i1 = 3\n",
        "f1 = 3.5\n",
        "print(i1)\n",
        "print(f1)"
      ],
      "metadata": {
        "colab": {
          "base_uri": "https://localhost:8080/"
        },
        "id": "IXMCfuANCirB",
        "outputId": "6f61850e-8f22-42d7-c888-dc556ea48152"
      },
      "execution_count": 32,
      "outputs": [
        {
          "output_type": "stream",
          "name": "stdout",
          "text": [
            "3\n",
            "3.5\n"
          ]
        }
      ]
    },
    {
      "cell_type": "code",
      "source": [
        "# 정수(int)\n",
        "\n",
        "print(int(True))\n",
        "print(int(False))\n",
        "print(int('100'))\n",
        "print(int(3.14))\n",
        "#print(int(\"A\"))\n",
        "print(chr(100))\n",
        "print(chr(65))\n",
        "print(chr(78))\n",
        "print(chr(79))\n",
        "print(chr(80))\n",
        "print(chr(81))\n",
        "print(chr(97))"
      ],
      "metadata": {
        "colab": {
          "base_uri": "https://localhost:8080/"
        },
        "id": "JYnb7VvzCvm2",
        "outputId": "abac963b-b928-484e-d476-b8ad698e0827"
      },
      "execution_count": 43,
      "outputs": [
        {
          "output_type": "stream",
          "name": "stdout",
          "text": [
            "1\n",
            "0\n",
            "100\n",
            "3\n",
            "d\n",
            "A\n",
            "N\n",
            "O\n",
            "P\n",
            "Q\n",
            "a\n"
          ]
        }
      ]
    },
    {
      "cell_type": "code",
      "source": [
        "# 실수(float)\n",
        "print(float(True))\n",
        "print(float(False))\n",
        "print(float(3.14))\n",
        "print(float(6))\n",
        "print(float('100'))"
      ],
      "metadata": {
        "colab": {
          "base_uri": "https://localhost:8080/"
        },
        "id": "g_FQrE4mDzs1",
        "outputId": "8702d19a-80bc-4739-ce4f-d16492e2b6ef"
      },
      "execution_count": 48,
      "outputs": [
        {
          "output_type": "stream",
          "name": "stdout",
          "text": [
            "1.0\n",
            "0.0\n",
            "3.14\n",
            "6.0\n",
            "100.0\n"
          ]
        }
      ]
    },
    {
      "cell_type": "code",
      "source": [
        "# 사칙연산 : + * / // % **\n",
        "# 정수와 실수의 계산 결과는 무조건 실수로 처리된다. 정수로 바꾸려면 int()를 붙여줘야함\n",
        "# 모든 정수는 실수 안에 포함되기 때문이다.\n",
        "\n",
        "a = 10\n",
        "b = 2.3\n",
        "\n",
        "print(a + b)\n",
        "print(a - b)\n",
        "print(a * b)\n",
        "print(a / b)\n",
        "print(type(a // b))\n",
        "print(a % b)\n",
        "print(a * b)\n",
        "print(type(a ** b))\n"
      ],
      "metadata": {
        "colab": {
          "base_uri": "https://localhost:8080/"
        },
        "id": "X7P4DldzE8t-",
        "outputId": "c5c397ca-d6e9-44f7-ae86-8b01384dc9f9"
      },
      "execution_count": 54,
      "outputs": [
        {
          "output_type": "stream",
          "name": "stdout",
          "text": [
            "12.3\n",
            "7.7\n",
            "23.0\n",
            "4.347826086956522\n",
            "<class 'float'>\n",
            "0.8000000000000007\n",
            "23.0\n",
            "<class 'float'>\n"
          ]
        }
      ]
    },
    {
      "cell_type": "code",
      "source": [
        "# 문자열\n",
        "# 주피터 환경에서 마지막 줄은 print안써도 출력된다.\n",
        "string = '문자열'\n",
        "a = \"100\"\n",
        "\n",
        "a"
      ],
      "metadata": {
        "colab": {
          "base_uri": "https://localhost:8080/",
          "height": 35
        },
        "id": "P9QYH8nYFugU",
        "outputId": "48cfe7ff-019e-4d81-f253-1ed905318b10"
      },
      "execution_count": 55,
      "outputs": [
        {
          "output_type": "execute_result",
          "data": {
            "text/plain": [
              "'100'"
            ],
            "application/vnd.google.colaboratory.intrinsic+json": {
              "type": "string"
            }
          },
          "metadata": {},
          "execution_count": 55
        }
      ]
    },
    {
      "cell_type": "code",
      "source": [
        "a = 100\n",
        "b = float(50)\n",
        "print(a + b)\n",
        "\n",
        "b = '100'\n",
        "c = '50'\n",
        "print(b + c)\n",
        "\n",
        "# print(a + c) int형과 str형을 합하려했기 때문에 에러난다\n",
        "\n",
        "# 문자열인 c를 int형으로 바꿔주거나 int형인 a를 str형으로 바꿔주면 해결\n",
        "print(a + int(c))\n",
        "print(str(a) + c)\n",
        "\n"
      ],
      "metadata": {
        "colab": {
          "base_uri": "https://localhost:8080/"
        },
        "id": "Wu1NIai2GLjy",
        "outputId": "aef5f151-1c25-4596-dcb0-1a57c840a549"
      },
      "execution_count": 61,
      "outputs": [
        {
          "output_type": "stream",
          "name": "stdout",
          "text": [
            "150.0\n",
            "10050\n",
            "150\n",
            "10050\n"
          ]
        }
      ]
    },
    {
      "cell_type": "code",
      "source": [
        "# 사용자 입력\n",
        "#name = input(\"안녕하세요. 이름을 입력 : \")\n",
        "#print(name)\n",
        "\n",
        "a = input(\"a : \")\n",
        "b = input(\"b : \")\n",
        "\n",
        "print(int(a + b)) # 결과값은 53. 계산 후 int형으로 처리하기 때문이다.\n",
        "# input 함수는 입력받은 값을 str형으로 처리한다. 계산하기 전에 int형으로 바꿔줘야한다.\n",
        "\n",
        "a = int(input(\"a : \"))\n",
        "b = int(input(\"b : \"))\n",
        "\n",
        "print(a + b)"
      ],
      "metadata": {
        "colab": {
          "base_uri": "https://localhost:8080/"
        },
        "id": "BZoYsQN7HXn5",
        "outputId": "62512fb0-724b-4519-9525-c0e04ab30d22"
      },
      "execution_count": 64,
      "outputs": [
        {
          "output_type": "stream",
          "name": "stdout",
          "text": [
            "a : 5\n",
            "b : 3\n",
            "53\n",
            "a : 3\n",
            "b : 5\n",
            "8\n"
          ]
        }
      ]
    },
    {
      "cell_type": "code",
      "source": [
        "# 실수 + 실수 -> 실수\n",
        "\n",
        "# Q. 3과 3.3을 입력받고 숫자 연산을 수행하여 6.3을 출력하세요\n",
        "\n",
        "a = float(input(\"3 입력 : \"))\n",
        "b = float(input(\"3.3 입력 : \"))\n",
        "\n",
        "print( a + b )"
      ],
      "metadata": {
        "colab": {
          "base_uri": "https://localhost:8080/"
        },
        "id": "3cDsPqbLJHqL",
        "outputId": "81bc4747-2d5e-4a18-c4d3-b907073b5afd"
      },
      "execution_count": 66,
      "outputs": [
        {
          "output_type": "stream",
          "name": "stdout",
          "text": [
            "3 입력 : 3\n",
            "3.3 입력 : 3.3\n",
            "6.3\n"
          ]
        }
      ]
    },
    {
      "cell_type": "code",
      "source": [
        "# 정수 + 실수 -> 실수\n",
        "# Q. 3과 3.3을 입력받아서 숫자 연산을 수행하여 6.3을 출력하세요\n",
        "\n",
        "a = int(input(\"정수를 입력하세요 : \"))\n",
        "b = float(input(\"실수를 입력하세요  :\"))\n",
        "\n",
        "print(a + b)"
      ],
      "metadata": {
        "colab": {
          "base_uri": "https://localhost:8080/"
        },
        "id": "dgxUg1ISJ20N",
        "outputId": "5d7fb96b-5e63-467d-af9f-343af0f919a9"
      },
      "execution_count": 67,
      "outputs": [
        {
          "output_type": "stream",
          "name": "stdout",
          "text": [
            "정수를 입력하세요 : 3\n",
            "실수를 입력하세요  :3.3\n",
            "6.3\n"
          ]
        }
      ]
    },
    {
      "cell_type": "code",
      "source": [
        "# Q. a = 52와 b = 52.273일 때 a+b는 5252.273으로 출력되도록 a와 b를 문자열 자료형으로 변환하세요.\n",
        "\n",
        "a = 52\n",
        "b = 52.273\n",
        "\n",
        "a = str(a)\n",
        "b = str(b)\n",
        "print(a + b)\n",
        "\n",
        "a = \"52\"\n",
        "b = \"52.273\"\n",
        "print(b + a)"
      ],
      "metadata": {
        "colab": {
          "base_uri": "https://localhost:8080/"
        },
        "id": "68XFae1TNa52",
        "outputId": "0f27ea7a-28d6-483e-bb45-4c6a32de5740"
      },
      "execution_count": 73,
      "outputs": [
        {
          "output_type": "stream",
          "name": "stdout",
          "text": [
            "5252.273\n",
            "52.27352\n"
          ]
        }
      ]
    },
    {
      "cell_type": "code",
      "source": [
        "# 문자열 : \"\", '', ''' ''' , \"\"\" \"\"\"\n",
        "p1 = 'python\\'s value is great'\n",
        "p2 = \"python's value is great\"\n",
        "print(p1)\n",
        "print(p2)"
      ],
      "metadata": {
        "colab": {
          "base_uri": "https://localhost:8080/"
        },
        "id": "aDMbPgucOxAY",
        "outputId": "b4f6d66a-b8d7-452c-c6a9-c8e8ce5fe963"
      },
      "execution_count": 76,
      "outputs": [
        {
          "output_type": "stream",
          "name": "stdout",
          "text": [
            "python's value is great\n",
            "python's value is great\n"
          ]
        }
      ]
    },
    {
      "cell_type": "code",
      "source": [
        "# \\n 행바꿈\n",
        "\n",
        "print(\"once you study data analysis\\nYou need Python\\n\")\n",
        "print(\"once you study data analysis You need Python\")\n",
        "print(\"once you study data analysis\\tYou need Python\")"
      ],
      "metadata": {
        "colab": {
          "base_uri": "https://localhost:8080/"
        },
        "id": "-tp9hy4bPUSP",
        "outputId": "9b77a329-463e-4c74-9b79-6a6e324b5a2c"
      },
      "execution_count": 79,
      "outputs": [
        {
          "output_type": "stream",
          "name": "stdout",
          "text": [
            "once you study data analysis\n",
            "You need Python\n",
            "\n",
            "once you study data analysis You need Python\n",
            "once you study data analysis\tYou need Python\n"
          ]
        }
      ]
    },
    {
      "cell_type": "code",
      "source": [
        "y2 = '''\n",
        "Once you study data analysis\n",
        "You need Python\n",
        "'''\n",
        "\n",
        "y3 = '''Once you study data analysis\n",
        "You need Python'''\n",
        "\n",
        "y4 = \"\"\"\n",
        "Once you study data analysis\n",
        "You need Python\"\"\"\n",
        "\n",
        "print(y2)\n",
        "print(y3)\n",
        "print(y4)"
      ],
      "metadata": {
        "colab": {
          "base_uri": "https://localhost:8080/"
        },
        "id": "Bwvr_QvHSGE3",
        "outputId": "3b5f8fee-868d-42fd-fbd9-c02e07671ed9"
      },
      "execution_count": 87,
      "outputs": [
        {
          "output_type": "stream",
          "name": "stdout",
          "text": [
            "\n",
            "Once you study data analysis\n",
            "You need Python\n",
            "\n",
            "Once you study data analysis\n",
            "You need Python\n",
            "\n",
            "Once you study data analysis\n",
            "You need Python\n"
          ]
        }
      ]
    },
    {
      "cell_type": "code",
      "source": [
        "a1=\"Python\"\n",
        "a2 = \" is easy to learn\"\n",
        "print(a1 + a2)\n",
        "print(\"=\" * 25)"
      ],
      "metadata": {
        "colab": {
          "base_uri": "https://localhost:8080/"
        },
        "id": "2OfudsSDTcTP",
        "outputId": "a9db0514-46e8-49b8-c22d-dd7f9d9ecd0c"
      },
      "execution_count": 90,
      "outputs": [
        {
          "output_type": "stream",
          "name": "stdout",
          "text": [
            "Python is easy to learn\n",
            "=========================\n"
          ]
        }
      ]
    },
    {
      "cell_type": "code",
      "source": [
        "# Q. 아래와 같이 출력할 수 있는 string을 만드세요.\n",
        "\n",
        "#\"What a wonderful world!\"\n",
        "# he said loudly\n",
        "\n",
        "world = '\"What a wonderful world!\"\\nhe said loudly'\n",
        "print(world)\n",
        "\n",
        "world='''\"What a wonderful world!\"\n",
        "hesaid loudly'''\n",
        "print(world)"
      ],
      "metadata": {
        "colab": {
          "base_uri": "https://localhost:8080/"
        },
        "id": "wuQOiUgtUBiy",
        "outputId": "cc6390bf-abe3-4745-a5e3-48977b6446bf"
      },
      "execution_count": 93,
      "outputs": [
        {
          "output_type": "stream",
          "name": "stdout",
          "text": [
            "\"What a wonderful world!\"\n",
            "he said loudly\n",
            "\"What a wonderful world!\"\n",
            "hesaid loudly\n"
          ]
        }
      ]
    },
    {
      "cell_type": "code",
      "source": [
        "# Q. 다른 타입의 숫자 2개를 입력받아 큰 수를 출력하세요\n",
        "\n",
        "num1 = int(input(\"정수를 입력하세요 : \"))\n",
        "num2 = float(input(\"실수를 입력하세요 : \"))\n",
        "\n",
        "if num1 > num2:\n",
        "  print(num1)\n",
        "elif num1 < num2:\n",
        "  print(num2)\n",
        "else:\n",
        "  print(\"두개의 숫자가 같습니다\")"
      ],
      "metadata": {
        "colab": {
          "base_uri": "https://localhost:8080/"
        },
        "id": "M33uhT2aU-DZ",
        "outputId": "b00d0c10-46cf-498c-c917-5825f82ca822"
      },
      "execution_count": 99,
      "outputs": [
        {
          "output_type": "stream",
          "name": "stdout",
          "text": [
            "정수를 입력하세요 : 3\n",
            "실수를 입력하세요 : 3.3\n",
            "3.3\n"
          ]
        }
      ]
    },
    {
      "cell_type": "code",
      "source": [
        "# 자료형 - List\n",
        "# 리스트는 []로 표시하며, []안의 요소를 콤마로 구분하여 순서있게 나열\n",
        "\n",
        "list1 = [1,2,3,4,5]\n",
        "list2 = ['a', 'b', 'c']\n",
        "list3 = [1, 'a', 'abc', [1,2,3,4,5], ['a', 'b', 'c', 'abc']]\n",
        "# 인덱싱\n",
        "print(list1[0:2])\n",
        "# 굳이 for문을 쓰지않아도 이렇게 출력가능\n",
        "print(list1[0:4])\n",
        "#print(list1)\n",
        "#print(list2)\n",
        "#print(list3[3][0])\n",
        "\n",
        "for i in list3:\n",
        "    if isinstance(i, list):\n",
        "      for n in i:\n",
        "        print(f\"이중배열 : {n}\")\n",
        "    else:\n",
        "      print(f\"list3의 값 : {i}\")\n",
        ""
      ],
      "metadata": {
        "colab": {
          "base_uri": "https://localhost:8080/"
        },
        "id": "DJ4xdkEsWAoe",
        "outputId": "959b40b6-dd28-414b-b27c-b616f51cea93"
      },
      "execution_count": 113,
      "outputs": [
        {
          "output_type": "stream",
          "name": "stdout",
          "text": [
            "[1, 2]\n",
            "[1, 2, 3, 4]\n",
            "list3의 값 : 1\n",
            "list3의 값 : a\n",
            "list3의 값 : abc\n",
            "이중배열 : 1\n",
            "이중배열 : 2\n",
            "이중배열 : 3\n",
            "이중배열 : 4\n",
            "이중배열 : 5\n",
            "이중배열 : a\n",
            "이중배열 : b\n",
            "이중배열 : c\n",
            "이중배열 : abc\n"
          ]
        }
      ]
    },
    {
      "cell_type": "code",
      "source": [
        "# 더블 인덱싱\n",
        "\n",
        "list1= [1, 'a', 'abc', [1,2,3,4,5], ['a', 'b', 'c', 'abc']]\n",
        "\n",
        "print(list1[3][2])\n",
        "print(list1[4][0])\n",
        "\n",
        "for i in list1:\n",
        "  if isinstance(i, list):\n",
        "    print(i[0:len(i)])\n",
        "  else:\n",
        "    print(i)\n",
        "\n",
        "del list1[0]\n",
        "\n",
        "print(\"=\"*25)"
      ],
      "metadata": {
        "colab": {
          "base_uri": "https://localhost:8080/"
        },
        "id": "dumguqGJqdxY",
        "outputId": "d63ddd70-8757-4506-8a51-0f51d3a02afe"
      },
      "execution_count": 122,
      "outputs": [
        {
          "output_type": "stream",
          "name": "stdout",
          "text": [
            "3\n",
            "a\n",
            "1\n",
            "a\n",
            "abc\n",
            "[1, 2, 3, 4, 5]\n",
            "['a', 'b', 'c', 'abc']\n",
            "=========================\n",
            "['a', 'abc', [1, 2, 3, 4, 5]]\n",
            "a\n"
          ]
        }
      ]
    },
    {
      "cell_type": "code",
      "source": [
        "# - 인덱싱\n",
        "\n",
        "a = [1,2,3,4,5,6,7,8,9]\n",
        "b = ['a', 'b', 'c', 'd', 'e']\n",
        "\n",
        "print(a[-1])\n",
        "print(a[-2:])\n",
        "print(a[-4:-1])\n",
        "print(a[-3:-5]) # 이건 안된다.\n",
        "\n"
      ],
      "metadata": {
        "colab": {
          "base_uri": "https://localhost:8080/"
        },
        "id": "-JFPViRftKQI",
        "outputId": "f3184c4b-d84f-4aba-ecc7-d7df3cce630b"
      },
      "execution_count": 133,
      "outputs": [
        {
          "output_type": "stream",
          "name": "stdout",
          "text": [
            "9\n",
            "[8, 9]\n",
            "[6, 7, 8]\n",
            "[]\n"
          ]
        }
      ]
    },
    {
      "cell_type": "code",
      "source": [
        "# 리스트 확장\n",
        "h = [1,2,3]\n",
        "h.extend([4,5])\n",
        "print(h)\n",
        "h.append(6)\n",
        "print(h)\n",
        "h.insert(0,5)\n",
        "print(h)\n",
        "# h.insert(7) insert()는 위치와 값을 함께 입력해야한다. 마지막에 추가하는건 append()\n",
        "h.insert(6,9)\n",
        "print(h)\n",
        "h.append(20)\n",
        "print(h)"
      ],
      "metadata": {
        "colab": {
          "base_uri": "https://localhost:8080/"
        },
        "id": "RPiAYrnCt0ZA",
        "outputId": "d611c315-06e6-44d1-aaac-7c8030a0f6dc"
      },
      "execution_count": 140,
      "outputs": [
        {
          "output_type": "stream",
          "name": "stdout",
          "text": [
            "[1, 2, 3, 4, 5]\n",
            "[1, 2, 3, 4, 5, 6]\n",
            "[5, 1, 2, 3, 4, 5, 6]\n",
            "[5, 1, 2, 3, 4, 5, 9, 6]\n",
            "[5, 1, 2, 3, 4, 5, 9, 6, 20]\n"
          ]
        }
      ]
    },
    {
      "cell_type": "code",
      "source": [
        "# isidentifier()\n",
        "b = \"string\"\n",
        "s = \"김한결\"\n",
        "a = 100\n",
        "f = 3.3\n",
        "print(type(b.isidentifier()))\n",
        "print(type(s.isidentifier()))\n",
        "#print(type(a.isidentifier())) 에러\n",
        "#print(type(f.isidentifier())) 에러\n",
        "# class 'bool' 반환"
      ],
      "metadata": {
        "colab": {
          "base_uri": "https://localhost:8080/"
        },
        "id": "-wbuGLL9vJGd",
        "outputId": "9280b050-2400-4130-da96-bd5023cc7a69"
      },
      "execution_count": 144,
      "outputs": [
        {
          "output_type": "stream",
          "name": "stdout",
          "text": [
            "<class 'bool'>\n",
            "<class 'bool'>\n"
          ]
        }
      ]
    },
    {
      "cell_type": "markdown",
      "source": [
        "Q. list1에서 다음을 수행하세요\n",
        "- 33을 출력\n",
        "- 82를 리스트에 추가\n",
        "- 87의 인덱스 구하기 - 도전\n",
        "- 인덱스 3에서 10까지의 값을 출력하고 list2에 저장한 후 내림차순 정렬하기 - 도전\n",
        "- 39를 11로 변경\n",
        "- [69,45,58] 출력\n",
        "- 짝수 인덱스의 값으로 구성된 리스트 출력하기\n",
        "- 인덱스가 가장 큰수를 삭제하기\n",
        "- 인덱스 3, 5인 값으로 4칙 연산하기\n",
        "\n",
        "list1 = [58, 45, 69, 19,  4, 87, 29, 13, 39, 15, 54, [8, 33, 11], 27, 49, 63, 98, 22, 82]"
      ],
      "metadata": {
        "id": "jvBGaW3kvxbi"
      }
    },
    {
      "cell_type": "code",
      "source": [
        "list1 = [58, 45, 69, 19, 4, 87, 29, 13, 39, 15, 54, [8, 33, 11], 27, 49, 63, 98, 22, 82]\n",
        "\n",
        "print('1. ', list1[11][1])\n",
        "\n",
        "list1.append(82)\n",
        "print('2. ', list1)\n",
        "\n",
        "print(\"3. \", list1.index(87))\n",
        "\n",
        "list2 = list1[3:11] # 3에서 11 앞까지 = 3~10인것\n",
        "#print('4. ', sorted(list2, reverse=True))\n",
        "list2.sort(reverse=True)\n",
        "print('4. ', list2)\n",
        "\n",
        "n1 = list1.index(39)\n",
        "list1[n1] = 11\n",
        "print('5. ', list1[n1])\n",
        "\n",
        "# 2부터 끝까지인데 -1은 꺼꾸로라는 뜻\n",
        "# 그래서 :: 두번쓴다. :한번쓰면 끝까지라는 뜻인데 :를 하나 더 붙여서 -1꺼꾸로라는 의미를 부여했다.\n",
        "print('6. ', list1[2::-1])\n",
        "# 0부터 끝까지인데 2스텝으로\n",
        "print('7. ', list1[0::2])\n",
        "\n",
        "del list1[-1]\n",
        "print('8. ', list1)\n",
        "\n",
        "print('9 ', list1[3] + list1[5])\n",
        "\n",
        "# 3번째부터 거꾸로 끝까지 출력\n",
        "print(list1[2::-1])\n",
        "# 3번째부터 한칸씩 띄고 끝까지 출력\n",
        "print(list1[2::2])\n",
        "# 9번째 부터 거꾸로 2칸씩\n",
        "print(list1[8::-2])\n",
        "# 처음부터 끝까지인데 역순\n",
        "print(list1[::-1])\n",
        "# 시작점과 끝점, 역순이면?\n",
        "print(list1[9:4:-1])"
      ],
      "metadata": {
        "colab": {
          "base_uri": "https://localhost:8080/"
        },
        "id": "DBYLMo6MvwFK",
        "outputId": "d92a0c6e-d3b6-40a3-cf24-0f2e0980cc69"
      },
      "execution_count": 178,
      "outputs": [
        {
          "output_type": "stream",
          "name": "stdout",
          "text": [
            "1.  33\n",
            "2.  [58, 45, 69, 19, 4, 87, 29, 13, 39, 15, 54, [8, 33, 11], 27, 49, 63, 98, 22, 82, 82]\n",
            "3.  5\n",
            "4.  [87, 54, 39, 29, 19, 15, 13, 4]\n",
            "5.  11\n",
            "6.  [69, 45, 58]\n",
            "7.  [58, 69, 4, 29, 11, 54, 27, 63, 22, 82]\n",
            "8.  [58, 45, 69, 19, 4, 87, 29, 13, 11, 15, 54, [8, 33, 11], 27, 49, 63, 98, 22, 82]\n",
            "9  106\n",
            "[69, 45, 58]\n",
            "[69, 4, 29, 11, 54, 27, 63, 22]\n",
            "[11, 29, 4, 69, 58]\n",
            "[82, 22, 98, 63, 49, 27, [8, 33, 11], 54, 15, 11, 13, 29, 87, 4, 19, 69, 45, 58]\n",
            "[15, 11, 13, 29, 87]\n"
          ]
        }
      ]
    },
    {
      "cell_type": "markdown",
      "source": [
        "#### sort 와 sorted 차이점\n",
        "\n",
        "1. 메서드 vs 함수:\n",
        "- sort(): 리스트 객체의 내장 메서드입니다. 즉, 리스트에서만 사용할 수 있습니다.\n",
        "- sorted(): 내장 함수로, 어떤 반복 가능한(iterable) 객체에도 사용될 수 있습니다. 예를 들면 리스트, 튜플, 딕셔너리, 문자열 등에 사용할 수 있습니다.\n",
        "\n",
        "2. 반환 값:\n",
        "- sort(): 리스트를 원 위치에서(in-place) 정렬하고 None을 반환합니다. 따라서 원래의 리스트 자체가 변경됩니다.\n",
        "- sorted(): 정렬된 새로운 리스트를 반환합니다. 원래의 객체는 변경되지 않습니다.\n",
        "\n",
        "3. 유용성:\n",
        "- sort(): 리스트에서만 작동하기 때문에 리스트만 정렬할 수 있습니다.\n",
        "- sorted(): 다양한 객체를 정렬할 수 있으며 결과는 항상 리스트로 반환됩니다."
      ],
      "metadata": {
        "id": "WkckvLIW98ks"
      }
    },
    {
      "cell_type": "code",
      "source": [
        "# sort()\n",
        "list1 = [3, 1, 2]\n",
        "list1.sort()\n",
        "print(list1)\n",
        "print(\"=\"*25)\n",
        "\n",
        "# sorted() 무조건 리스트반환\n",
        "tuple1 = (3, 1, 2)\n",
        "print(sorted(tuple1))\n",
        "print(\"=\"*25)\n",
        "t_list = sorted(tuple1)\n",
        "print(t_list, \"\\n\")\n",
        "print(tuple1)\n",
        "\n",
        "tuple2 = (sorted(tuple1))\n",
        "tuple2 = tuple(tuple2) #반환된 리스트를 튜플로 바꿀수는 있음\n",
        "# tuple2.append(2) 튜플은 수정이 안됨\n",
        "# tuple2[0] = 5\n",
        "print(tuple2, \"\\n\")\n",
        "tuple2 = list(tuple2)\n",
        "print(tuple2,'\\n')"
      ],
      "metadata": {
        "id": "YLii9atrAimV"
      },
      "execution_count": null,
      "outputs": []
    },
    {
      "cell_type": "code",
      "source": [
        "list1 = [58, 45, 69, 19, 4, 87, 29, 13, 39, 15, 54, [8, 33, 11], 27, 49, 63, 98, 22, 82]\n",
        "\n",
        "print(list1[3:11], '\\n')\n",
        "my_list = list1[3:11] # (11의 앞인 10까지 나온다)\n",
        "my_list.sort(reverse=True)\n",
        "print(my_list, '\\n')"
      ],
      "metadata": {
        "colab": {
          "base_uri": "https://localhost:8080/"
        },
        "id": "qkIkiiZuFz1I",
        "outputId": "6fa1e582-94d5-4353-a95d-87e721eba6d7"
      },
      "execution_count": 194,
      "outputs": [
        {
          "output_type": "stream",
          "name": "stdout",
          "text": [
            "[19, 4, 87, 29, 13, 39, 15, 54] \n",
            "\n",
            "[87, 54, 39, 29, 19, 15, 13, 4] \n",
            "\n"
          ]
        }
      ]
    },
    {
      "cell_type": "code",
      "source": [
        "list1 = [58, 45, 69, 19, 4, 87, 29, 13, 39, 15, 54, [8, 33, 11], 27, 49, 63, 98, 22, 82]\n",
        "\n",
        "print(list1[3:11], '\\n')\n",
        "my_list = sorted(list1[3:11], reverse=True)\n",
        "print(my_list, '\\n')"
      ],
      "metadata": {
        "colab": {
          "base_uri": "https://localhost:8080/"
        },
        "id": "tzUEh0c0GtxK",
        "outputId": "7e39b021-79ce-42d6-cc9a-81674437286e"
      },
      "execution_count": 195,
      "outputs": [
        {
          "output_type": "stream",
          "name": "stdout",
          "text": [
            "[19, 4, 87, 29, 13, 39, 15, 54] \n",
            "\n",
            "[87, 54, 39, 29, 19, 15, 13, 4] \n",
            "\n"
          ]
        }
      ]
    },
    {
      "cell_type": "markdown",
      "source": [
        "#### Task1_0425. 주어진 숫자 리스트에서 최소값과 최대값을 찾아 출력하세요.\n",
        "\n",
        "numbers = [58, 45, 69, 19, 4, 87, 29, 13, 39, 15]\n",
        "\n",
        "#### Task2_0425. 주어진 숫자 리스트의 모든 요소의 합계와 평균을 계산하고 출력하세요\n",
        "\n",
        "#### Task3_0425. 주어진 리스트에서 특정 요소가 등장하는 모든 인덱스를 리스트로 만들어 출력하세요.\n",
        "\n",
        "target = 'apple'\n",
        "\n",
        "items = ['apple', 'banana', 'cherry', 'apple', 'cherry', 'apple']\n",
        "\n",
        "#### Task4_0425. 주어진 리스트에서 연속해서 반복되는 요소만 제거하고, 결과 리스트를 반환하세요. 단, 처음 등장하는 요소는 유지해야 합니다.\n",
        "##### 예를 들어, ['a', 'a', 'b', 'c', 'c', 'c', 'd', 'e', 'e']가 입력되면, ['a', 'b', 'c', 'd', 'e']를 출력해야 합니다.\n",
        "\n",
        "#### Task5_0425 주어진 정수 리스트와 회전 횟수 k에 대해 리스트를 오른쪽으로 k만큼 회전시킨 결과를 반환하세요. k가 리스트의 길이보다 클 수 있으며, 이 경우 k를 리스트 길이로 나눈 나머지만큼 실제 회전시키면 됩니다.\n",
        "##### 예를 들어, [1, 2, 3, 4, 5]와 k=2가 주어지면, 결과는 [4, 5, 1, 2, 3]이 되어야 합니다."
      ],
      "metadata": {
        "id": "1I0BTikOHYII"
      }
    },
    {
      "cell_type": "code",
      "source": [
        "# Task1_0425. 주어진 숫자 리스트에서 최소값과 최대값을 찾아 출력하세요.\n",
        "numbers = [58, 45, 69, 19, 4, 87, 29, 13, 39, 15]\n",
        "\n",
        "min_num = min(numbers)\n",
        "max_num = max(numbers)\n",
        "\n",
        "print(f\"최소값 : {min_num} / 최대값 : {max_num}\")"
      ],
      "metadata": {
        "colab": {
          "base_uri": "https://localhost:8080/"
        },
        "id": "yKPaKamCHC8g",
        "outputId": "6f4b4a86-35aa-4be4-82ff-799201b6406f"
      },
      "execution_count": 196,
      "outputs": [
        {
          "output_type": "stream",
          "name": "stdout",
          "text": [
            "최소값 : 4 / 최대값 : 87\n"
          ]
        }
      ]
    },
    {
      "cell_type": "code",
      "source": [
        "# Task2_0425. 주어진 숫자 리스트의 모든 요소의 합계와 평균을 계산하고 출력하세요\n",
        "import numpy\n",
        "\n",
        "numbers = [58, 45, 69, 19, 4, 87, 29, 13, 39, 15]\n",
        "\n",
        "sum_num = sum(numbers)\n",
        "avg_num = numpy.mean(numbers)\n",
        "print(f\"합계 : {sum_num} / 평균 : {avg_num}입니다.\")\n",
        "\n",
        "# 풀어서 계산해보자\n",
        "\n",
        "def sum_number(numbers):\n",
        "  sn = 0\n",
        "  for i in numbers:\n",
        "    sn += i\n",
        "  return sn\n",
        "\n",
        "def avg_number(numbers):\n",
        "  sum_res = sum(numbers)\n",
        "  avg_res = sum_res/len(numbers)\n",
        "\n",
        "  return avg_res\n",
        "\n",
        "print(\"합계는 : \", sum_number(numbers))\n",
        "print(\"평균은 : \", avg_number(numbers))"
      ],
      "metadata": {
        "colab": {
          "base_uri": "https://localhost:8080/"
        },
        "id": "RUn0i4RtIOZR",
        "outputId": "9513a7e2-9c8a-4cbf-fe39-209ddfb7dcac"
      },
      "execution_count": 205,
      "outputs": [
        {
          "output_type": "stream",
          "name": "stdout",
          "text": [
            "합계 : 378 / 평균 : 37.8입니다.\n",
            "합계는 :  378\n",
            "평균은 :  37.8\n"
          ]
        }
      ]
    },
    {
      "cell_type": "code",
      "source": [
        "#Task3_0425. 주어진 리스트에서 특정 요소가 등장하는 모든 인덱스를 리스트로 만들어 출력하세요.\n",
        "\n",
        "target = 'apple'\n",
        "items = ['apple', 'banana', 'cherry', 'apple', 'cherry', 'apple']\n",
        "\n",
        "apples = []\n",
        "\n",
        "#for i in range(len(items)):\n",
        "#  if items[i] == target:\n",
        "#    apples.append(i)\n",
        "\n",
        "#print(apples)\n",
        "\n",
        "# 왜 동작하냐면 if items[i] == target이면 'i' 값이 리스트에 담기기 때문이다. 이때 i는 '인덱스값'이다.\n",
        "apples = [i for i in range(len(items)) if items[i] == target]\n",
        "\n",
        "print(apples)"
      ],
      "metadata": {
        "colab": {
          "base_uri": "https://localhost:8080/"
        },
        "id": "LUGBtgWrK2cN",
        "outputId": "383e8b86-09f2-46af-b571-dba25949c8eb"
      },
      "execution_count": 218,
      "outputs": [
        {
          "output_type": "stream",
          "name": "stdout",
          "text": [
            "[0, 3, 5]\n"
          ]
        }
      ]
    },
    {
      "cell_type": "code",
      "source": [
        "# Task4_0425. 주어진 리스트에서 연속해서 반복되는 요소만 제거하고, 결과 리스트를 반환하세요.\n",
        "# 단, 처음 등장하는 요소는 유지해야 합니다.\n",
        "# 예를 들어, ['a', 'a', 'b', 'c', 'c', 'c', 'd', 'e', 'e']가 입력되면, ['a', 'b', 'c', 'd', 'e']를 출력해야 합니다.\n",
        "\n",
        "list1 = ['a', 'a', 'b', 'c', 'c', 'c', 'd', 'e', 'e']\n",
        "\n",
        "list2 = []\n",
        "\n",
        "for i in list1:\n",
        "  if i not in list2:\n",
        "    list2.append(i)\n",
        "\n",
        "print(list2)"
      ],
      "metadata": {
        "colab": {
          "base_uri": "https://localhost:8080/"
        },
        "id": "Fvr_1d2ZNmGa",
        "outputId": "fb2ede1b-5aa5-4b49-d94b-e54b447a5552"
      },
      "execution_count": 227,
      "outputs": [
        {
          "output_type": "stream",
          "name": "stdout",
          "text": [
            "['a', 'b', 'c', 'd', 'e']\n"
          ]
        }
      ]
    },
    {
      "cell_type": "code",
      "source": [
        "# Task5_0425 주어진 정수 리스트와 회전 횟수 k에 대해 리스트를 오른쪽으로 k만큼 회전시킨 결과를 반환하세요.\n",
        "# k가 리스트의 길이보다 클 수 있으며, 이 경우 k를 리스트 길이로 나눈 나머지만큼 실제 회전시키면 됩니다.\n",
        "# 예를 들어, [1, 2, 3, 4, 5]와 k=2가 주어지면, 결과는 [4, 5, 1, 2, 3]이 되어야 합니다.\n",
        "# 1 2 3 4 5\n",
        "#1번 51234\n",
        "#2번 45123\n",
        "#3번 34512\n",
        "#4번 23451\n",
        "#5번 12345\n",
        "#6번 51234\n",
        "#7번 45123\n",
        "\n",
        "int_list = list(input(\"리스트를 입력해주세요 : \"))\n",
        "k = int(input(\"회전시킬 값을 입력해주세요 : \"))\n",
        "\n",
        "rot_list = int_list[:rn]\n",
        "leng = len(int_list)\n",
        "rn = leng - k\n",
        "\n",
        "res_list = int_list[rn:]\n",
        "res_list = res_list + int_list[:rn]\n",
        "\n",
        "print(f\"회전 후의 리스트는 {res_list}(이)가 됩니다.\")"
      ],
      "metadata": {
        "colab": {
          "base_uri": "https://localhost:8080/"
        },
        "id": "o8SWqC06O0VL",
        "outputId": "b72398b8-bc80-4fe1-d0bc-40f6669bae62"
      },
      "execution_count": 278,
      "outputs": [
        {
          "output_type": "stream",
          "name": "stdout",
          "text": [
            "리스트를 입력해주세요 : 12345\n",
            "회전시킬 값을 입력해주세요 : 4\n",
            "k가 4이면 오른쪽으로 4번 밀린다.\n",
            "결국 회전 후의 리스트는 ['2', '3', '4', '5', '1'](이)가 됩니다.\n"
          ]
        }
      ]
    },
    {
      "cell_type": "code",
      "source": [],
      "metadata": {
        "id": "mZK40wNnX5lb"
      },
      "execution_count": null,
      "outputs": []
    }
  ]
}